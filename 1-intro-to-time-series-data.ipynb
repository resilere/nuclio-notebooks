{
 "cells": [
  {
   "cell_type": "markdown",
   "metadata": {},
   "source": [
    "<center><span style=\"background-color: rgb(251, 160, 38); font-size: 32px;\">  <b>NUCLIO DIGITAL SCHOOL -</b> MASTER EN DATA SCIENCE  </span></center>\n",
    "    \n",
    "<br>\n",
    "    \n",
    "<center><a href = https://nuclio.school/wp-content/uploads/2019/10/nucleoDS-newBlack.png > <img src=\"https://nuclio.school/wp-content/uploads/2019/10/nucleoDS-newBlack.png\" width=400 height=100><a/></center>"
   ]
  },
  {
   "cell_type": "markdown",
   "metadata": {},
   "source": [
    "<hr style=\"height:5px;border-width:0;color:orange;background-color:orange\">\n",
    "<center> <span style=\"font-size: 20px;\">  Introduction to Time Series Data </span> </center>\n",
    "\n",
    "<span style=\"font-size: 16px;\">\n",
    "\n",
    "+ Session: **Introduction to Time Series Data**\n",
    "+ Module: **Time Series Forecasting**\n",
    "+ Course: **Data Science Master 0921**\n",
    "+ Professor: **Christa Santos**\n",
    "\n",
    "</span>\n",
    "\n",
    "<br>\n",
    "\n",
    "<hr style=\"height:5px;border-width:0;color:orange;background-color:orange\">"
   ]
  },
  {
   "cell_type": "markdown",
   "metadata": {},
   "source": [
    "### Working with Pandas Datetime"
   ]
  },
  {
   "cell_type": "code",
   "execution_count": null,
   "metadata": {},
   "outputs": [],
   "source": [
    "# For reference, please see https://pandas.pydata.org/pandas-docs/stable/user_guide/timeseries.html\n",
    "\n",
    "import numpy as np\n",
    "import pandas as pd\n",
    "import datetime"
   ]
  },
  {
   "cell_type": "markdown",
   "metadata": {},
   "source": [
    "### Basic Date Time Operations"
   ]
  },
  {
   "cell_type": "code",
   "execution_count": null,
   "metadata": {},
   "outputs": [],
   "source": [
    "# Parsing time series information from various sources and formats\n",
    "\n",
    "date_var = pd.to_datetime(['10/15/2019', np.datetime64('2019-10-15'),\n",
    "                           datetime.datetime(2019, 10, 15)])\n",
    "date_var"
   ]
  },
  {
   "cell_type": "code",
   "execution_count": null,
   "metadata": {},
   "outputs": [],
   "source": [
    "# Generate sequences of fixed-frequency dates and time spans\n",
    "# Frequency is set to daily\n",
    "\n",
    "date_var = pd.date_range('2019-10-15', periods=5, freq='D')\n",
    "date_var"
   ]
  },
  {
   "cell_type": "code",
   "execution_count": null,
   "metadata": {},
   "outputs": [],
   "source": [
    "# Manipulating and converting date times with time zone information\n",
    "# UTC means Universal Time Coordinated, world clock time\n",
    "\n",
    "date_var = date_var.tz_localize('UTC')\n",
    "date_var"
   ]
  },
  {
   "cell_type": "code",
   "execution_count": null,
   "metadata": {},
   "outputs": [],
   "source": [
    "# Convert to Eastern Time zone\n",
    "\n",
    "date_var.tz_convert('US/Eastern')"
   ]
  },
  {
   "cell_type": "code",
   "execution_count": null,
   "metadata": {},
   "outputs": [],
   "source": [
    "# Resampling or converting a time series to a particular frequency\n",
    "\n",
    "# can change to 'S'  for seconds or 'H' hourly\n",
    "idx = pd.date_range('2019-10-01', periods=7, freq='D')\n",
    "ts = pd.Series(range(len(idx)), index=idx)\n",
    "ts"
   ]
  },
  {
   "cell_type": "code",
   "execution_count": null,
   "metadata": {},
   "outputs": [],
   "source": [
    "# Resampling or converting a time series to a particular frequency, another example\n",
    "\n",
    "idx = pd.date_range('2019-10-01', periods=10, freq='M')\n",
    "\n",
    "ts = pd.Series(range(len(idx)), index=idx)\n",
    "ts"
   ]
  },
  {
   "cell_type": "markdown",
   "metadata": {},
   "source": [
    "### Working with Timestamped Data"
   ]
  },
  {
   "cell_type": "code",
   "execution_count": null,
   "metadata": {},
   "outputs": [],
   "source": [
    "# For pandas objects, time means using the points in time.\n",
    "pd.Timestamp(datetime.datetime(2019, 7, 15))"
   ]
  },
  {
   "cell_type": "code",
   "execution_count": null,
   "metadata": {},
   "outputs": [],
   "source": [
    "# When you create a timestamp, notice that hours, minutes, and seconds are included, even when not specified.\n",
    "pd.Timestamp('2007-07-07')"
   ]
  },
  {
   "cell_type": "code",
   "execution_count": null,
   "metadata": {},
   "outputs": [],
   "source": [
    "# Time in terms of a span or period.\n",
    "# The span represented by Period can be specified explicitly, or inferred from datetime string format.\n",
    "pd.Period('2019-10')"
   ]
  },
  {
   "cell_type": "code",
   "execution_count": null,
   "metadata": {},
   "outputs": [],
   "source": [
    "pd.Period('2019-10', freq='D')\n"
   ]
  },
  {
   "cell_type": "code",
   "execution_count": null,
   "metadata": {},
   "outputs": [],
   "source": [
    "# Create a list of timestamps\n",
    "\n",
    "dates = [pd.Timestamp('2015-05-01'),\n",
    "         pd.Timestamp('2015-05-02'),\n",
    "         pd.Timestamp('2015-05-03')]\n",
    "dates"
   ]
  },
  {
   "cell_type": "code",
   "execution_count": null,
   "metadata": {},
   "outputs": [],
   "source": [
    "# Create a pandas series that use the dates\n",
    "# Random numbers from standard normal distribution\n",
    "\n",
    "ts = pd.Series(np.random.randn(3), dates)\n",
    "ts"
   ]
  },
  {
   "cell_type": "code",
   "execution_count": null,
   "metadata": {},
   "outputs": [],
   "source": [
    "# Verify type of index\n",
    "\n",
    "type(ts.index)"
   ]
  },
  {
   "cell_type": "code",
   "execution_count": null,
   "metadata": {},
   "outputs": [],
   "source": [
    "# Create periods that are monthly\n",
    "\n",
    "periods = [pd.Period('2017-07'), pd.Period('2017-08'), pd.Period('2017-09')]\n",
    "periods"
   ]
  },
  {
   "cell_type": "code",
   "execution_count": null,
   "metadata": {},
   "outputs": [],
   "source": [
    "# Create a pandas series, using the periods as index variable\n",
    "\n",
    "ts = pd.Series(np.random.randn(3), periods)\n",
    "ts"
   ]
  },
  {
   "cell_type": "code",
   "execution_count": null,
   "metadata": {},
   "outputs": [],
   "source": [
    "# Create a date range with 10 periods\n",
    "# Date is given as YYYYMMDD\n",
    "\n",
    "dates = pd.date_range('20191001', periods=10)\n",
    "dates\n"
   ]
  },
  {
   "cell_type": "markdown",
   "metadata": {},
   "source": [
    "### Converting to Datetime"
   ]
  },
  {
   "cell_type": "code",
   "execution_count": null,
   "metadata": {},
   "outputs": [],
   "source": [
    "# To convert a Series or list-like object of date-like objects e.g. strings, epochs, or a mixture,\n",
    "# you can use the to_datetime function.\n",
    "\n",
    "pd.to_datetime(pd.Series(['Jul 09, 2019', '2019-07-10', None]))\n"
   ]
  },
  {
   "cell_type": "code",
   "execution_count": null,
   "metadata": {},
   "outputs": [],
   "source": [
    "# Convert dates to datetime\n",
    "\n",
    "pd.to_datetime(['2005/12/25', '2005.12.31'])\n"
   ]
  },
  {
   "cell_type": "code",
   "execution_count": null,
   "metadata": {},
   "outputs": [],
   "source": [
    "# If you use dates which start with the day first (i.e. European style), you can pass the dayfirst flag\n",
    "\n",
    "pd.to_datetime(['09-01-2019 10:00'], dayfirst=True)"
   ]
  },
  {
   "cell_type": "code",
   "execution_count": null,
   "metadata": {},
   "outputs": [],
   "source": [
    "pd.to_datetime(['02-01-2017', '01-03-2018'], dayfirst=True)\n"
   ]
  },
  {
   "cell_type": "code",
   "execution_count": null,
   "metadata": {},
   "outputs": [],
   "source": [
    "# you pass a single string to to_datetime, it returns a single Timestamp. Timestamp can also accept string input,\n",
    "# but it doesn’t accept string parsing options like dayfirst or format, so use to_datetime if these are required\n",
    "\n",
    "pd.to_datetime('2019/10/01')\n"
   ]
  },
  {
   "cell_type": "code",
   "execution_count": null,
   "metadata": {},
   "outputs": [],
   "source": [
    "# You can also use the DatetimeIndex constructor directly\n",
    "\n",
    "pd.DatetimeIndex(['2019-01-01', '2019-01-03', '2019-01-05'])\n"
   ]
  },
  {
   "cell_type": "code",
   "execution_count": null,
   "metadata": {},
   "outputs": [],
   "source": [
    "# The string ‘infer’ can be passed in order to set the frequency of the index as the inferred frequency upon creation\n",
    "\n",
    "pd.DatetimeIndex(['2014-01-17', '2014-01-18', '2014-01-19'], freq='infer')\n"
   ]
  },
  {
   "cell_type": "code",
   "execution_count": null,
   "metadata": {},
   "outputs": [],
   "source": [
    "# Providing a format argument\n",
    "\n",
    "pd.to_datetime('2019/10/11', format='%Y/%m/%d')\n"
   ]
  },
  {
   "cell_type": "code",
   "execution_count": null,
   "metadata": {},
   "outputs": [],
   "source": [
    "# You can also pass a DataFrame of integer or string columns to assemble into a Series of Timestamps\n",
    "\n",
    "df = pd.DataFrame({'year': [2017, 2018, 2019],\n",
    "                   'month': [3, 4, 5],\n",
    "                   'day': [15, 16, 17],\n",
    "                   'hour': [8, 9, 10]})\n",
    "\n",
    "pd.to_datetime(df)\n",
    "# Notice the year, month, day, hour\n"
   ]
  },
  {
   "cell_type": "code",
   "execution_count": null,
   "metadata": {},
   "outputs": [],
   "source": [
    "# You can pass only the columns that you need\n",
    "pd.to_datetime(df[['year', 'month', 'day']])\n"
   ]
  },
  {
   "cell_type": "code",
   "execution_count": null,
   "metadata": {},
   "outputs": [],
   "source": [
    "# Pull out hour data only\n",
    "\n",
    "df.hour\n"
   ]
  },
  {
   "cell_type": "code",
   "execution_count": null,
   "metadata": {},
   "outputs": [],
   "source": [
    "# Pull out month data only\n",
    "\n",
    "df.month\n"
   ]
  },
  {
   "cell_type": "markdown",
   "metadata": {},
   "source": [
    "### Getting Data Using Pandas Datareader"
   ]
  },
  {
   "cell_type": "code",
   "execution_count": null,
   "metadata": {},
   "outputs": [],
   "source": [
    "# Be sure to have installed pandas_datareader in bash shell\n",
    "\n",
    "# If you receive error message, ModuleNotFoundError: No module named 'pandas_datareader',\n",
    "# then you need to pip install pandas_datareader"
   ]
  },
  {
   "cell_type": "code",
   "execution_count": null,
   "metadata": {},
   "outputs": [],
   "source": [
    "import pandas_datareader\n",
    "from pandas_datareader import data\n",
    "import matplotlib.pyplot as plot\n",
    "import pandas as pd\n"
   ]
  },
  {
   "cell_type": "code",
   "execution_count": null,
   "metadata": {},
   "outputs": [],
   "source": [
    "# Only get the adjusted close.\n",
    "netflix = data.DataReader(\"NFLX\",\n",
    "                          start='2009-1-1',\n",
    "                          end='2019-11-08',\n",
    "                          data_source='yahoo')['Adj Close']\n",
    "\n",
    "nf = pd.DataFrame(netflix)\n",
    "# nf.info()\n",
    "nf.to_csv('netflix.csv')\n"
   ]
  },
  {
   "cell_type": "code",
   "execution_count": null,
   "metadata": {},
   "outputs": [],
   "source": [
    "# Read in saved data, this will be in pandas dataframe format\n",
    "netflix = pd.read_csv('netflix.csv')\n",
    "netflix.head()\n"
   ]
  },
  {
   "cell_type": "code",
   "execution_count": null,
   "metadata": {},
   "outputs": [],
   "source": [
    "# Set datetime\n",
    "from datetime import datetime\n",
    "\n",
    "netflix['Date'] = pd.to_datetime(netflix['Date'])\n"
   ]
  },
  {
   "cell_type": "code",
   "execution_count": null,
   "metadata": {},
   "outputs": [],
   "source": [
    "# Set index\n",
    "netflix.set_index('Date', inplace=True)\n",
    "netflix.head()\n"
   ]
  },
  {
   "cell_type": "code",
   "execution_count": null,
   "metadata": {},
   "outputs": [],
   "source": [
    "# Take a look at various fonts, lines, styles\n",
    "print(plot.style.available)\n"
   ]
  },
  {
   "cell_type": "code",
   "execution_count": null,
   "metadata": {},
   "outputs": [],
   "source": [
    "plot.style.use('fivethirtyeight')\n",
    "netflix.plot(title='Netflix Adj. Closing Price', figsize=(10, 5), color='red')\n",
    "plot.show()\n"
   ]
  },
  {
   "cell_type": "code",
   "execution_count": null,
   "metadata": {},
   "outputs": [],
   "source": [
    "# Plot the returns, which is the percentage change in adjusted closing price\n",
    "\n",
    "plot.style.use('seaborn-darkgrid')\n",
    "netflix.pct_change().plot(figsize=(10, 5), color='green')\n"
   ]
  },
  {
   "cell_type": "markdown",
   "metadata": {},
   "source": [
    "### Getting data from a local file"
   ]
  },
  {
   "cell_type": "code",
   "execution_count": null,
   "metadata": {},
   "outputs": [],
   "source": [
    "# Read in file\n",
    "\n",
    "sports = pd.read_csv(\"sports.csv\", skiprows=2)\n"
   ]
  },
  {
   "cell_type": "code",
   "execution_count": null,
   "metadata": {},
   "outputs": [],
   "source": [
    "sports.head()\n"
   ]
  },
  {
   "cell_type": "code",
   "execution_count": null,
   "metadata": {},
   "outputs": [],
   "source": [
    "# Reset column names\n",
    "col_names = ['Month', 'Golf', 'Soccer', 'Tennis', 'Hockey', 'Baseball']\n",
    "\n",
    "sports.columns = col_names\n"
   ]
  },
  {
   "cell_type": "code",
   "execution_count": null,
   "metadata": {},
   "outputs": [],
   "source": [
    "# verify column names have changed\n",
    "sports.tail()\n"
   ]
  },
  {
   "cell_type": "code",
   "execution_count": null,
   "metadata": {},
   "outputs": [],
   "source": [
    "# check for missing values\n",
    "sports.isna().sum()\n"
   ]
  },
  {
   "cell_type": "code",
   "execution_count": null,
   "metadata": {},
   "outputs": [],
   "source": [
    "# Set index\n",
    "sports.set_index('Month', inplace=True)\n"
   ]
  },
  {
   "cell_type": "code",
   "execution_count": null,
   "metadata": {},
   "outputs": [],
   "source": [
    "# Obtain the descriptive statistics\n",
    "sports.describe()\n"
   ]
  },
  {
   "cell_type": "code",
   "execution_count": null,
   "metadata": {},
   "outputs": [],
   "source": [
    "# Plot the multi-time series\n",
    "plot.style.use('seaborn-darkgrid')\n",
    "sports.plot(figsize=(12, 6), fontsize=10, linewidth=4)\n",
    "plot.show()\n"
   ]
  }
 ],
 "metadata": {
  "interpreter": {
   "hash": "806d0bd8a3daab10f37375710f3c2a5f128ac04fbb781fc63ec085ca330a45fd"
  },
  "kernelspec": {
   "display_name": "Python 3.7.3 64-bit ('base': conda)",
   "language": "python",
   "name": "python3"
  },
  "language_info": {
   "codemirror_mode": {
    "name": "ipython",
    "version": 3
   },
   "file_extension": ".py",
   "mimetype": "text/x-python",
   "name": "python",
   "nbconvert_exporter": "python",
   "pygments_lexer": "ipython3",
   "version": "3.8.12"
  },
  "orig_nbformat": 4
 },
 "nbformat": 4,
 "nbformat_minor": 2
}
