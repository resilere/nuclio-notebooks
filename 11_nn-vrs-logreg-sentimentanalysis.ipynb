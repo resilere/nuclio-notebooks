{
 "cells": [
  {
   "cell_type": "markdown",
   "metadata": {
    "id": "Cj-g6G-5CtGc"
   },
   "source": [
    "![Nuclio logo](https://nuclio.school/wp-content/uploads/2018/12/nucleoDS-newBlack.png)"
   ]
  },
  {
   "cell_type": "markdown",
   "metadata": {
    "id": "Wmjb9FYgCtGr"
   },
   "source": [
    "\n",
    "## Sentiment analysis of IMDB reviews - LogRes versus NN"
   ]
  },
  {
   "cell_type": "markdown",
   "metadata": {
    "id": "4UjqbX3ACtGs"
   },
   "source": [
    "## 1. First block - Let's load the reviews to apply Bag of Words\n",
    "\n",
    "We will need pandas and sklearn's CountVectorizer to apply bag of words on top of the phrases."
   ]
  },
  {
   "cell_type": "code",
   "execution_count": 1,
   "metadata": {
    "id": "NZPQ_Dv3CtGt"
   },
   "outputs": [],
   "source": [
    "import pandas as pd\n",
    "from sklearn.feature_extraction.text import CountVectorizer\n",
    "from sklearn.model_selection import train_test_split\n",
    "from sklearn.model_selection import GridSearchCV\n",
    "import numpy as np\n",
    "import time\n",
    "import datetime"
   ]
  },
  {
   "cell_type": "markdown",
   "metadata": {
    "id": "Xjm4QgqSCtGu"
   },
   "source": [
    "To load data from the file imdb_labelled.txt and show its first value"
   ]
  },
  {
   "cell_type": "code",
   "execution_count": 2,
   "metadata": {
    "colab": {
     "base_uri": "https://localhost:8080/"
    },
    "id": "fnFsGosPCtGu",
    "outputId": "3ac11083-77f1-4604-d4cf-b5dcce6d2c62"
   },
   "outputs": [
    {
     "name": "stdout",
     "output_type": "stream",
     "text": [
      "sentence    A very, very, very slow-moving, aimless movie ...\n",
      "label                                                       0\n",
      "Name: 0, dtype: object\n"
     ]
    }
   ],
   "source": [
    "df = pd.read_csv('imdb_labelled.txt', names=['sentence','label'], sep='\\t')\n",
    "print(df.iloc[0])"
   ]
  },
  {
   "cell_type": "markdown",
   "metadata": {
    "id": "hXngJF1CCtGx"
   },
   "source": [
    "A quite negative assessment ... as you can see the label 0 is \"negative\", so 1 will be \"positive\" (analyzing the sentiment of the phrase)\n",
    "\n",
    "Let's prepare the data, to have a test and a train"
   ]
  },
  {
   "cell_type": "code",
   "execution_count": 3,
   "metadata": {
    "id": "PMrDzBpiCtGy"
   },
   "outputs": [],
   "source": [
    "sentences = df['sentence'].values\n",
    "y = df['label'].values"
   ]
  },
  {
   "cell_type": "code",
   "execution_count": 4,
   "metadata": {
    "id": "dN4sv3XiCtGz"
   },
   "outputs": [],
   "source": [
    "sentences_train, sentences_test, y_train, y_test = train_test_split(sentences, y, test_size=0.25, random_state=1000)"
   ]
  },
  {
   "cell_type": "markdown",
   "metadata": {
    "id": "_snzD_qUCtGz"
   },
   "source": [
    "Now comes the time to create our bag of words, for that we will use the CountVectorizer from sklearn, which we will train with the words / phrases of the train and then we will apply to each set of phrases train and test"
   ]
  },
  {
   "cell_type": "code",
   "execution_count": 5,
   "metadata": {
    "colab": {
     "base_uri": "https://localhost:8080/"
    },
    "id": "pD6QqeRzCtG0",
    "outputId": "67a84faa-5566-45f2-d1e3-7e989da3e56a"
   },
   "outputs": [
    {
     "data": {
      "text/plain": [
       "<561x2505 sparse matrix of type '<class 'numpy.int64'>'\n",
       "\twith 8413 stored elements in Compressed Sparse Row format>"
      ]
     },
     "execution_count": 5,
     "metadata": {},
     "output_type": "execute_result"
    }
   ],
   "source": [
    "vectorizador = CountVectorizer()\n",
    "vectorizador.fit(sentences_train)\n",
    "\n",
    "x_train = vectorizador.transform(sentences_train)\n",
    "x_test = vectorizador.transform(sentences_test)\n",
    "\n",
    "x_train"
   ]
  },
  {
   "cell_type": "code",
   "execution_count": 6,
   "metadata": {
    "colab": {
     "base_uri": "https://localhost:8080/"
    },
    "id": "MbN2LNvLCtG1",
    "outputId": "731b7585-6f37-4227-d30f-e781d9c20e3b"
   },
   "outputs": [
    {
     "name": "stdout",
     "output_type": "stream",
     "text": [
      "  (0, 360)\t1\n",
      "  (0, 532)\t1\n",
      "  (0, 1532)\t1\n",
      "  (0, 2471)\t1\n"
     ]
    }
   ],
   "source": [
    "print(x_train[0,:])"
   ]
  },
  {
   "cell_type": "markdown",
   "metadata": {
    "id": "xiBonFeECtG1"
   },
   "source": [
    "## 2. First block - Regression Logistics with Bag Of Words\n",
    "\n",
    "To start, let's load those libraries that we need"
   ]
  },
  {
   "cell_type": "markdown",
   "metadata": {
    "id": "KoV2DbHSCtG2"
   },
   "source": [
    "### 2.1 We load the libraries for the Logistic Regression and train it with cross validation looking for the best C parameter of the logistic regression"
   ]
  },
  {
   "cell_type": "code",
   "execution_count": 9,
   "metadata": {
    "colab": {
     "base_uri": "https://localhost:8080/"
    },
    "id": "0Miz00EfCtG2",
    "outputId": "67c6f1e5-87ee-4e71-92ae-d1ab40fe50b2"
   },
   "outputs": [
    {
     "name": "stdout",
     "output_type": "stream",
     "text": [
      "Best cross-validation score: 0.74\n",
      "Best parameters:  {'C': 1}\n",
      "Best estimator:  LogisticRegression(C=1, class_weight=None, dual=False, fit_intercept=True,\n",
      "                   intercept_scaling=1, l1_ratio=None, max_iter=100,\n",
      "                   multi_class='auto', n_jobs=None, penalty='l2',\n",
      "                   random_state=None, solver='lbfgs', tol=0.0001, verbose=0,\n",
      "                   warm_start=False)\n"
     ]
    }
   ],
   "source": [
    "from sklearn.linear_model import LogisticRegression\n",
    "\n",
    "param_grid = {'C': [0.001, 0.01, 0.1, 1, 10]}\n",
    "grid = GridSearchCV(LogisticRegression(), param_grid, cv=5)\n",
    "grid.fit(x_train, y_train)\n",
    "\n",
    "print(\"Best cross-validation score: {:.2f}\".format(grid.best_score_))\n",
    "print(\"Best parameters: \", grid.best_params_)\n",
    "print(\"Best estimator: \", grid.best_estimator_)\n"
   ]
  },
  {
   "cell_type": "code",
   "execution_count": 10,
   "metadata": {
    "colab": {
     "base_uri": "https://localhost:8080/"
    },
    "id": "ywrntU-DCtG2",
    "outputId": "90d65df5-c2db-4628-87c7-fcea8ed7e294"
   },
   "outputs": [
    {
     "name": "stdout",
     "output_type": "stream",
     "text": [
      "Accuracy for IMDB data in test data: 0.7487\n"
     ]
    }
   ],
   "source": [
    "lr = grid.best_estimator_\n",
    "lr.fit(x_train, y_train)\n",
    "lr.predict(x_test)\n",
    "\n",
    "score_test = lr.score(x_test, y_test)\n",
    "\n",
    "print('Accuracy for IMDB data in test data: {:.4f}'.format(score_test))\n"
   ]
  },
  {
   "cell_type": "markdown",
   "metadata": {
    "id": "ATOc96V7CtG3"
   },
   "source": [
    "## 3.Second block - Let's go for a neural network\n",
    "\n",
    "A simple network, for now no RNN\n",
    "\n",
    "Let's go for the libraries we need"
   ]
  },
  {
   "cell_type": "code",
   "execution_count": 11,
   "metadata": {
    "id": "VjaohrgACtG3"
   },
   "outputs": [],
   "source": [
    "from tensorflow import keras as ks\n",
    "from matplotlib import pyplot as plt"
   ]
  },
  {
   "cell_type": "markdown",
   "metadata": {
    "id": "0uE9UTJWCtG3"
   },
   "source": [
    "Let's see how many dimensions I have for the input of the first layer of the neural network"
   ]
  },
  {
   "cell_type": "code",
   "execution_count": 12,
   "metadata": {
    "colab": {
     "base_uri": "https://localhost:8080/"
    },
    "id": "r7I7-Ns1CtG4",
    "outputId": "2fb44825-2d3a-46f1-d4cf-6d915b889c54"
   },
   "outputs": [
    {
     "name": "stdout",
     "output_type": "stream",
     "text": [
      "Number dimensions: 2505\n"
     ]
    }
   ],
   "source": [
    "input_dim = x_train.shape[1]\n",
    "print('Number dimensions:', input_dim)"
   ]
  },
  {
   "cell_type": "markdown",
   "metadata": {
    "id": "SF6-UPJ6CtG4"
   },
   "source": [
    "Let's define the neural network"
   ]
  },
  {
   "cell_type": "code",
   "execution_count": 13,
   "metadata": {
    "id": "bmr_99EWCtG4"
   },
   "outputs": [],
   "source": [
    "model = ks.Sequential()\n",
    "model.add(ks.layers.Dense(512, input_dim=input_dim, activation='relu'))\n",
    "model.add(ks.layers.Dropout(0.5))\n",
    "model.add(ks.layers.Dense(256, activation='relu'))\n",
    "model.add(ks.layers.Dropout(0.5))\n",
    "model.add(ks.layers.Dense(50, activation='relu'))\n",
    "model.add(ks.layers.Dropout(0.5))\n",
    "model.add(ks.layers.Dense(1, activation='sigmoid'))"
   ]
  },
  {
   "cell_type": "code",
   "execution_count": 14,
   "metadata": {
    "colab": {
     "base_uri": "https://localhost:8080/"
    },
    "id": "8kQ6oqKrCtG4",
    "outputId": "e498b378-1441-4586-f137-b627c2951b36"
   },
   "outputs": [
    {
     "name": "stdout",
     "output_type": "stream",
     "text": [
      "Model: \"sequential\"\n",
      "_________________________________________________________________\n",
      "Layer (type)                 Output Shape              Param #   \n",
      "=================================================================\n",
      "dense (Dense)                (None, 512)               1283072   \n",
      "_________________________________________________________________\n",
      "dropout (Dropout)            (None, 512)               0         \n",
      "_________________________________________________________________\n",
      "dense_1 (Dense)              (None, 256)               131328    \n",
      "_________________________________________________________________\n",
      "dropout_1 (Dropout)          (None, 256)               0         \n",
      "_________________________________________________________________\n",
      "dense_2 (Dense)              (None, 50)                12850     \n",
      "_________________________________________________________________\n",
      "dropout_2 (Dropout)          (None, 50)                0         \n",
      "_________________________________________________________________\n",
      "dense_3 (Dense)              (None, 1)                 51        \n",
      "=================================================================\n",
      "Total params: 1,427,301\n",
      "Trainable params: 1,427,301\n",
      "Non-trainable params: 0\n",
      "_________________________________________________________________\n"
     ]
    }
   ],
   "source": [
    "model.summary()"
   ]
  },
  {
   "cell_type": "code",
   "execution_count": 16,
   "metadata": {
    "id": "XDix1UKQCtG5"
   },
   "outputs": [],
   "source": [
    "\n",
    "model.compile(loss='binary_crossentropy', \\\n",
    "              optimizer='adam', \\\n",
    "               metrics=['accuracy'])"
   ]
  },
  {
   "cell_type": "markdown",
   "metadata": {
    "id": "4-Vpd548CtG5"
   },
   "source": [
    "Training the model"
   ]
  },
  {
   "cell_type": "code",
   "execution_count": 17,
   "metadata": {
    "colab": {
     "base_uri": "https://localhost:8080/"
    },
    "id": "p3rdaXBqCtG5",
    "outputId": "0f1ebab1-d583-4649-96d9-cb2014ee6349"
   },
   "outputs": [
    {
     "name": "stdout",
     "output_type": "stream",
     "text": [
      "Epoch 1/10\n",
      "6/6 [==============================] - 1s 109ms/step - loss: 0.6969 - accuracy: 0.5046 - val_loss: 0.7185 - val_accuracy: 0.4866\n",
      "Epoch 2/10\n",
      "6/6 [==============================] - 0s 13ms/step - loss: 0.6912 - accuracy: 0.5423 - val_loss: 0.6913 - val_accuracy: 0.6310\n",
      "Epoch 3/10\n",
      "6/6 [==============================] - 0s 12ms/step - loss: 0.6644 - accuracy: 0.5873 - val_loss: 0.6738 - val_accuracy: 0.6578\n",
      "Epoch 4/10\n",
      "6/6 [==============================] - 0s 13ms/step - loss: 0.6415 - accuracy: 0.6523 - val_loss: 0.6637 - val_accuracy: 0.6845\n",
      "Epoch 5/10\n",
      "6/6 [==============================] - 0s 12ms/step - loss: 0.5989 - accuracy: 0.7407 - val_loss: 0.6525 - val_accuracy: 0.6952\n",
      "Epoch 6/10\n",
      "6/6 [==============================] - 0s 12ms/step - loss: 0.5421 - accuracy: 0.8210 - val_loss: 0.6080 - val_accuracy: 0.7433\n",
      "Epoch 7/10\n",
      "6/6 [==============================] - 0s 12ms/step - loss: 0.4264 - accuracy: 0.8638 - val_loss: 0.5515 - val_accuracy: 0.7487\n",
      "Epoch 8/10\n",
      "6/6 [==============================] - 0s 12ms/step - loss: 0.3523 - accuracy: 0.9052 - val_loss: 0.8139 - val_accuracy: 0.7326\n",
      "Epoch 9/10\n",
      "6/6 [==============================] - 0s 12ms/step - loss: 0.2203 - accuracy: 0.9317 - val_loss: 0.9612 - val_accuracy: 0.7326\n",
      "Epoch 10/10\n",
      "6/6 [==============================] - 0s 12ms/step - loss: 0.1393 - accuracy: 0.9736 - val_loss: 0.9269 - val_accuracy: 0.7540\n"
     ]
    }
   ],
   "source": [
    "history = model.fit(x_train, y_train, epochs=10, validation_data=(x_test, y_test), batch_size=96)"
   ]
  },
  {
   "cell_type": "code",
   "execution_count": 18,
   "metadata": {
    "colab": {
     "base_uri": "https://localhost:8080/",
     "height": 545
    },
    "id": "0InwhMENCtG6",
    "outputId": "3edc7540-84c6-4766-ebd3-a7889a2f6b15"
   },
   "outputs": [
    {
     "data": {
      "image/png": "[encoded data removed]",
      "text/plain": [
       "<Figure size 432x288 with 1 Axes>"
      ]
     },
     "metadata": {
      "needs_background": "light"
     },
     "output_type": "display_data"
    },
    {
     "data": {
      "image/png": "[encoded data removed]",
      "text/plain": [
       "<Figure size 432x288 with 1 Axes>"
      ]
     },
     "metadata": {
      "needs_background": "light"
     },
     "output_type": "display_data"
    }
   ],
   "source": [
    "plt.title('Cross Entropy Loss')\n",
    "plt.plot(history.history['loss'], color='blue', label='train')\n",
    "plt.plot(history.history['val_loss'], color='orange', label='test')\n",
    "plt.show()\n",
    "\n",
    "plt.title('Classification Accuracy')\n",
    "plt.plot(history.history['accuracy'], color='blue', label='train')\n",
    "plt.plot(history.history['val_accuracy'], color='orange', label='test')\n",
    "plt.show()"
   ]
  },
  {
   "cell_type": "markdown",
   "metadata": {
    "id": "HTxvDi2MCtG6"
   },
   "source": [
    "We can see that the neural network sucks quite a bit, plus it easily goes into overfitting ... so logistic regression, with less effort, works just as badly."
   ]
  },
  {
   "cell_type": "code",
   "execution_count": 19,
   "metadata": {
    "colab": {
     "base_uri": "https://localhost:8080/"
    },
    "id": "ydKH9hbyCtG6",
    "outputId": "823500c9-de54-48e8-9027-733111c73327"
   },
   "outputs": [
    {
     "name": "stdout",
     "output_type": "stream",
     "text": [
      "6/6 [==============================] - 0s 2ms/step - loss: 0.9269 - accuracy: 0.7540\n",
      "Accuracy for IMDB data in test data with NN: 0.7540\n"
     ]
    }
   ],
   "source": [
    "_,score_test = model.evaluate(x_test, y_test)\n",
    "\n",
    "print('Accuracy for IMDB data in test data with NN: {:.4f}'.format(score_test))"
   ]
  },
  {
   "cell_type": "code",
   "execution_count": null,
   "metadata": {
    "id": "JhyRF5w5CtG7"
   },
   "outputs": [],
   "source": []
  },
  {
   "cell_type": "code",
   "execution_count": null,
   "metadata": {
    "id": "5nE-bUwcCtG7"
   },
   "outputs": [],
   "source": []
  }
 ],
 "metadata": {
  "accelerator": "GPU",
  "colab": {
   "name": "nn-vrs-logreg-sentimentanalysis-v2.ipynb",
   "provenance": []
  },
  "kernelspec": {
   "display_name": "ml_env",
   "language": "python",
   "name": "ml_env"
  },
  "language_info": {
   "codemirror_mode": {
    "name": "ipython",
    "version": 3
   },
   "file_extension": ".py",
   "mimetype": "text/x-python",
   "name": "python",
   "nbconvert_exporter": "python",
   "pygments_lexer": "ipython3",
   "version": "3.7.4"
  }
 },
 "nbformat": 4,
 "nbformat_minor": 4
}
