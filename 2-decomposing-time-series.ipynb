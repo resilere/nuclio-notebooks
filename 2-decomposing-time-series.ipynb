{
 "cells": [
  {
   "cell_type": "markdown",
   "metadata": {},
   "source": [
    "<center><span style=\"background-color: rgb(251, 160, 38); font-size: 32px;\">  <b>NUCLIO DIGITAL SCHOOL -</b> MASTER EN DATA SCIENCE  </span></center>\n",
    "    \n",
    "<br>\n",
    "    \n",
    "<center><a href = https://nuclio.school/wp-content/uploads/2019/10/nucleoDS-newBlack.png > <img src=\"https://nuclio.school/wp-content/uploads/2019/10/nucleoDS-newBlack.png\" width=400 height=100><a/></center>"
   ]
  },
  {
   "cell_type": "markdown",
   "metadata": {},
   "source": [
    "<hr style=\"height:5px;border-width:0;color:orange;background-color:orange\">\n",
    "<center> <span style=\"font-size: 20px;\">  Decomposing Time Series Components </span> </center>\n",
    "\n",
    "<span style=\"font-size: 16px;\">\n",
    "\n",
    "+ Session: **Decomposing Time Series**\n",
    "+ Module: **Time Series Forecasting**\n",
    "+ Course: **Data Science Master 0921**\n",
    "+ Professor: **Christa Santos**\n",
    "\n",
    "</span>\n",
    "\n",
    "<br>\n",
    "\n",
    "<hr style=\"height:5px;border-width:0;color:orange;background-color:orange\">"
   ]
  },
  {
   "cell_type": "markdown",
   "metadata": {},
   "source": [
    "### Components of a Time Series\n",
    "\n",
    "A time series is composed of mainly trend, seasonality, and noise. We will take a look at the component parts of a time series, focusing on automated decomposition methods. This will give you some intuition about the components of time series.\n",
    "\n",
    "#### Trend\n",
    "When we talk about trend, we are talking about how the series data increases or decreases over time.  Is it moving higher or lower over  the time frame? The series is either uptrend or downtrend, both of which are non-stationary.\n",
    "\n",
    "#### Seasonality\n",
    "Seasonality refers to a repeating periodic or cyclical pattern with regular intervals within a series.  The pattern is within a fixed time period and it repeats itself at regular intervals. There can be upward or downward swings but it continues to repeat over a fixed period of time as in a cycle.  Cyclicality could repeat but it has no fixed period.\n",
    "\n",
    "#### Noise\n",
    "In general, noise captures the irregularities or random variation in the series.  It can have erratic events or simply random variation.  It has a short duration.  It is hard to predict due to its erratic occurrence."
   ]
  },
  {
   "cell_type": "code",
   "execution_count": null,
   "metadata": {},
   "outputs": [],
   "source": [
    "import pandas as pd\n",
    "import matplotlib\n",
    "from matplotlib import pyplot as plot"
   ]
  },
  {
   "cell_type": "markdown",
   "metadata": {},
   "source": [
    "### Example 1: Google Trend of the Search Term \"vacation\""
   ]
  },
  {
   "cell_type": "code",
   "execution_count": null,
   "metadata": {},
   "outputs": [],
   "source": [
    "# Read in data that was saved in previous section\n",
    "# Google Trends, term search for \"vacation\"\n",
    "df_vacation = pd.read_csv(\"df_vacation.csv\", parse_dates=['Month'], index_col=0)\n",
    "df_vacation.head()\n"
   ]
  },
  {
   "cell_type": "code",
   "execution_count": null,
   "metadata": {},
   "outputs": [],
   "source": [
    "# Plot the time series of google searches of the word \"vacation\"\n",
    "plot.style.use('seaborn-darkgrid')\n",
    "ax = df_vacation.plot(color='red', grid=True, figsize=(8, 5))\n",
    "ax.set_xlabel('Year')\n",
    "ax.set_ylabel('Number of Searches')\n",
    "ax.set_title('Google Trend of Vacation in 2018')\n"
   ]
  },
  {
   "cell_type": "markdown",
   "metadata": {},
   "source": [
    "Notice that this series has a downward trend. It has a predictable and repeated pattern due to seasonality."
   ]
  },
  {
   "cell_type": "markdown",
   "metadata": {},
   "source": [
    "### Example 2: Furniture and Home Furnishings Sales in Millions of Dollars"
   ]
  },
  {
   "cell_type": "code",
   "execution_count": null,
   "metadata": {},
   "outputs": [],
   "source": [
    "df_furniture = pd.read_csv(\"df_furniture.csv\", parse_dates=['Month'], index_col=0)\n",
    "df_furniture.head()\n"
   ]
  },
  {
   "cell_type": "code",
   "execution_count": null,
   "metadata": {},
   "outputs": [],
   "source": [
    "# Plot the time series\n",
    "plot.style.use('seaborn-deep')\n",
    "ax = df_furniture.plot(color='green', grid=True, figsize=(8, 5))\n",
    "ax.set_xlabel('Year')\n",
    "ax.set_ylabel('Millions of Dollars')\n",
    "ax.set_title('Retail Sales of Furniture and Home Furnishings Stores')"
   ]
  },
  {
   "cell_type": "markdown",
   "metadata": {},
   "source": [
    "Notice this series has generally an upward trend.  It also has seasonality."
   ]
  },
  {
   "cell_type": "markdown",
   "metadata": {},
   "source": [
    "### Example 3: Adjusted Close Stock price for Bank of America\n"
   ]
  },
  {
   "cell_type": "code",
   "execution_count": null,
   "metadata": {},
   "outputs": [],
   "source": [
    "df_bac = pd.read_csv(\"df_bankofamerica.csv\",\n",
    "                     parse_dates=['Date'], index_col=0)\n",
    "df_bac.head()\n"
   ]
  },
  {
   "cell_type": "code",
   "execution_count": null,
   "metadata": {},
   "outputs": [],
   "source": [
    "# Plot the time series\n",
    "plot.style.use('seaborn-bright')\n",
    "ax = df_bac.plot(color='brown', grid=True, figsize=(8, 5))\n",
    "ax.set_xlabel('Year')\n",
    "ax.set_ylabel('Price in US Dollars')\n",
    "ax.set_title('Adjusted Closing Price for Bank of America')\n"
   ]
  },
  {
   "cell_type": "markdown",
   "metadata": {},
   "source": [
    "### Example 4: Adjusted Close Stock price for J.P. Morgan"
   ]
  },
  {
   "cell_type": "code",
   "execution_count": null,
   "metadata": {},
   "outputs": [],
   "source": [
    "df_jpm = pd.read_csv(\"df_jpmorgan.csv\", parse_dates=['Date'], index_col=0)\n",
    "df_jpm.head()\n"
   ]
  },
  {
   "cell_type": "code",
   "execution_count": null,
   "metadata": {},
   "outputs": [],
   "source": [
    "# Plot the time series\n",
    "plot.style.use('tableau-colorblind10')\n",
    "ax = df_jpm.plot(color='purple', grid=True, figsize=(8, 5))\n",
    "ax.set_xlabel('Year')\n",
    "ax.set_ylabel('Price in US Dollars')\n",
    "ax.set_title('Adjusted Closing Price for J.P. Morgan')\n"
   ]
  },
  {
   "cell_type": "markdown",
   "metadata": {},
   "source": [
    "### Example 5: Monthly Average Temperature of St. Louis"
   ]
  },
  {
   "cell_type": "code",
   "execution_count": null,
   "metadata": {},
   "outputs": [],
   "source": [
    "df_temp = pd.read_csv(\"df_temp.csv\", parse_dates=['Date'], index_col=0)\n",
    "df_temp.head()\n"
   ]
  },
  {
   "cell_type": "code",
   "execution_count": null,
   "metadata": {},
   "outputs": [],
   "source": [
    "# Plot the time series\n",
    "plot.style.use('fast')\n",
    "ax = df_temp.plot(color='orange', grid=True, figsize=(8, 5))\n",
    "ax.set_xlabel('Year')\n",
    "ax.set_ylabel('Fahrenheit')\n",
    "ax.set_title('Average Temperature of St. Louis')"
   ]
  },
  {
   "cell_type": "markdown",
   "metadata": {},
   "source": [
    "### Modeling Time Series\n",
    "\n",
    "#### Additive Model\n",
    "An additive model is linear.  y(t) = Level + Trend + Seasonality + Noise\n",
    "\n",
    "It is useful when the variations around the trend does not vary with the level of the time series. Components are added together.\n",
    "\n",
    "#### Multiplicative Model\n",
    "A multiplicative model is non-linear:   y(t) = Level * Trend * Seasonality * Noise \n",
    "\n",
    "A non-linear seasonality has an increasing or decreasing frequency and/or amplitude over time.\n",
    "It is useful when the trend is proportional to the level of the time series.  Components are multiplied together."
   ]
  },
  {
   "cell_type": "markdown",
   "metadata": {},
   "source": [
    "### Decomposing Time Series - Additive Model"
   ]
  },
  {
   "cell_type": "code",
   "execution_count": null,
   "metadata": {},
   "outputs": [],
   "source": [
    "# Example 1:  Google Trends, number of searches of the word \"vacation\", time series shows seasonality\n",
    "import numpy as np\n",
    "from statsmodels.tsa.seasonal import seasonal_decompose\n",
    "\n",
    "ts1 = df_vacation['Num_Search_Vacation']\n",
    "# freq is the number of data points in a repeated cycle\n",
    "result = seasonal_decompose(ts1, model = 'additive', period = 12)\n",
    "print(result.trend)\n",
    "print(result.seasonal)\n",
    "print(result.resid)\n",
    "print(result.observed)\n"
   ]
  },
  {
   "cell_type": "code",
   "execution_count": null,
   "metadata": {},
   "outputs": [],
   "source": [
    "# Example 1:  Google Trends, number of searches of the word \"vacation\", time series shows seasonality\n",
    "from statsmodels.tsa.seasonal import seasonal_decompose\n",
    "from pylab import rcParams\n",
    "\n",
    "rcParams['figure.figsize'] = 15, 8\n",
    "plot.style.use('seaborn-darkgrid')\n",
    "\n",
    "ts1 = df_vacation['Num_Search_Vacation']\n",
    "# freq is the number of data points in a repeated cycle\n",
    "result = seasonal_decompose(ts1, model='additive', period=12)\n",
    "result.plot()\n",
    "plot.show()\n"
   ]
  },
  {
   "cell_type": "code",
   "execution_count": null,
   "metadata": {},
   "outputs": [],
   "source": [
    "# Example 2:  Furniture sales in Millions of Dollars (adjusted to July 2019 prices)\n",
    "from statsmodels.tsa.seasonal import seasonal_decompose\n",
    "from pylab import rcParams\n",
    "rcParams['figure.figsize'] = 15, 8\n",
    "plot.style.use('seaborn-darkgrid')\n",
    "\n",
    "ts2 = df_furniture['furniture_price_adjusted']\n",
    "# freq is the number of data points in a repeated cycle\n",
    "result = seasonal_decompose(ts2, model='additive', period=12)\n",
    "result.plot()\n",
    "plot.show()\n"
   ]
  },
  {
   "cell_type": "code",
   "execution_count": null,
   "metadata": {},
   "outputs": [],
   "source": [
    "# Example 3: Adjusted Close Price for Bank of America\n",
    "from statsmodels.tsa.seasonal import seasonal_decompose\n",
    "from pylab import rcParams\n",
    "rcParams['figure.figsize'] = 15, 8\n",
    "plot.style.use('seaborn-darkgrid')\n",
    "\n",
    "ts3 = df_bac['Adj Close Price']\n",
    "# freq is the number of data points in a repeated cycle\n",
    "result = seasonal_decompose(ts3, model='additive', period=365)\n",
    "result.plot()\n",
    "plot.show()\n"
   ]
  },
  {
   "cell_type": "code",
   "execution_count": null,
   "metadata": {},
   "outputs": [],
   "source": [
    "# Example 4: Adjusted Close Price for J.P. Morgan\n",
    "from statsmodels.tsa.seasonal import seasonal_decompose\n",
    "from matplotlib import pyplot\n",
    "from pylab import rcParams\n",
    "rcParams['figure.figsize'] = 15, 8\n",
    "plot.style.use('seaborn-darkgrid')\n",
    "\n",
    "ts4 = df_jpm['Adj Close Price']\n",
    "# freq is the number of data points in a repeated cycle\n",
    "result = seasonal_decompose(ts4, model='additive', period=365)\n",
    "result.plot()\n",
    "plot.show()\n"
   ]
  },
  {
   "cell_type": "code",
   "execution_count": null,
   "metadata": {},
   "outputs": [],
   "source": [
    "# Example 5: Average Temperature of St. Louis\n",
    "from statsmodels.tsa.seasonal import seasonal_decompose\n",
    "from matplotlib import pyplot\n",
    "from pylab import rcParams\n",
    "rcParams['figure.figsize'] = 15, 8\n",
    "plot.style.use('seaborn-darkgrid')\n",
    "\n",
    "ts5 = df_temp['Value']\n",
    "# freq is the number of data points in a repeated cycle\n",
    "result = seasonal_decompose(ts5, model='additive', period=12)\n",
    "result.plot()\n",
    "plot.show()\n"
   ]
  },
  {
   "cell_type": "markdown",
   "metadata": {},
   "source": [
    "### Decomposing Time Series - Multiplicative Model"
   ]
  },
  {
   "cell_type": "code",
   "execution_count": null,
   "metadata": {},
   "outputs": [],
   "source": [
    "# Example 1:  Google Trends, number of searches of the word \"vacation\", time series shows seasonality\n",
    "from statsmodels.tsa.seasonal import seasonal_decompose\n",
    "from matplotlib import pyplot\n",
    "from pylab import rcParams\n",
    "rcParams['figure.figsize'] = 15, 8\n",
    "plot.style.use('seaborn-darkgrid')\n",
    "\n",
    "ts1 = df_vacation['Num_Search_Vacation']\n",
    "# freq is the number of data points in a repeated cycle\n",
    "result = seasonal_decompose(ts1, model='multiplicative', period=12)\n",
    "result.plot()\n",
    "plot.show()\n"
   ]
  },
  {
   "cell_type": "code",
   "execution_count": null,
   "metadata": {},
   "outputs": [],
   "source": [
    "# Example 2:  Furniture sales in Millions of Dollars (adjusted to July 2019 prices)\n",
    "from statsmodels.tsa.seasonal import seasonal_decompose\n",
    "from matplotlib import pyplot\n",
    "from pylab import rcParams\n",
    "rcParams['figure.figsize'] = 15, 8\n",
    "plot.style.use('seaborn-darkgrid')\n",
    "\n",
    "ts2 = df_furniture['furniture_price_adjusted']\n",
    "# freq is the number of data points in a repeated cycle\n",
    "result = seasonal_decompose(ts2, model='multiplicative', period=12)\n",
    "result.plot()\n",
    "plot.show()\n"
   ]
  },
  {
   "cell_type": "code",
   "execution_count": null,
   "metadata": {},
   "outputs": [],
   "source": [
    "# Example 3: Adjusted Close Price for Bank of America\n",
    "from statsmodels.tsa.seasonal import seasonal_decompose\n",
    "from matplotlib import pyplot\n",
    "from pylab import rcParams\n",
    "rcParams['figure.figsize'] = 15, 8\n",
    "plot.style.use('seaborn-darkgrid')\n",
    "\n",
    "ts3 = df_bac['Adj Close Price']\n",
    "# freq is the number of data points in a repeated cycle\n",
    "result = seasonal_decompose(ts3, model='multiplicative', period=365)\n",
    "result.plot()\n",
    "plot.show()\n"
   ]
  },
  {
   "cell_type": "code",
   "execution_count": null,
   "metadata": {},
   "outputs": [],
   "source": [
    "# Example 4: Adjusted Close Price for J.P. Morgan\n",
    "from statsmodels.tsa.seasonal import seasonal_decompose\n",
    "from matplotlib import pyplot\n",
    "from pylab import rcParams\n",
    "rcParams['figure.figsize'] = 15, 8\n",
    "plot.style.use('seaborn-darkgrid')\n",
    "\n",
    "ts4 = df_jpm['Adj Close Price']\n",
    "# freq is the number of data points in a repeated cycle\n",
    "result = seasonal_decompose(ts4, model='multiplicative', period=365)\n",
    "result.plot()\n",
    "plot.show()\n"
   ]
  },
  {
   "cell_type": "code",
   "execution_count": null,
   "metadata": {},
   "outputs": [],
   "source": [
    "# Example 5: Average Temperature of St. Louis\n",
    "from statsmodels.tsa.seasonal import seasonal_decompose\n",
    "from matplotlib import pyplot\n",
    "from pylab import rcParams\n",
    "rcParams['figure.figsize'] = 15, 8\n",
    "plot.style.use('seaborn-darkgrid')\n",
    "\n",
    "ts5 = df_temp['Value']\n",
    "# freq is the number of data points in a repeated cycle\n",
    "result = seasonal_decompose(ts5, model='multiplicative', period=12)\n",
    "result.plot()\n",
    "plot.show()\n"
   ]
  },
  {
   "cell_type": "markdown",
   "metadata": {},
   "source": [
    "## Autocorrelation\n",
    "\n",
    "Much like correlation, autocorrelation gives a measure of the strength and direction of a relationship between two time series.  Autocorrelation is done with a variable and its lag. It's a correlation with itself, hence autocorrelation.  Basically, you are using the same time series and creating a second series, which is shifted by a time step. It is common to use the autocorrelation (ACF) plot to visualize the autocorrelation of a time-series.Let's start by taking a look at white noise. \n",
    "\n",
    "### White Noise\n",
    "If your time series is statististically uncorrelated (independent) with zero mean and constant variance, then you have a particular type of noise called white noise. "
   ]
  },
  {
   "cell_type": "code",
   "execution_count": null,
   "metadata": {},
   "outputs": [],
   "source": [
    "import pandas as pd\n",
    "from pandas import read_csv\n",
    "from matplotlib import pyplot as plot\n",
    "import numpy as np\n"
   ]
  },
  {
   "cell_type": "code",
   "execution_count": null,
   "metadata": {},
   "outputs": [],
   "source": [
    "## Change the style and figure size for all figures\n",
    "plot.style.use('seaborn-darkgrid')\n",
    "plot.rc(\"figure\", figsize=(15, 8))\n"
   ]
  },
  {
   "cell_type": "code",
   "execution_count": null,
   "metadata": {},
   "outputs": [],
   "source": [
    "# Example of white noise\n",
    "import numpy as np\n",
    "# loc is mean, scale is standard deviation\n",
    "white_noise = np.random.normal(loc=0, scale=2, size=1000)\n",
    "\n",
    "# plot white noise\n",
    "plot.plot(white_noise)\n"
   ]
  },
  {
   "cell_type": "code",
   "execution_count": null,
   "metadata": {},
   "outputs": [],
   "source": [
    "white_noise.mean()\n"
   ]
  },
  {
   "cell_type": "code",
   "execution_count": null,
   "metadata": {},
   "outputs": [],
   "source": [
    "white_noise.std()\n"
   ]
  },
  {
   "cell_type": "code",
   "execution_count": null,
   "metadata": {},
   "outputs": [],
   "source": [
    "# Plot Autocorrelation\n",
    "from statsmodels.graphics.tsaplots import plot_acf\n",
    "# Example of white noise autocorrelation (serial correlation)\n",
    "plot_acf(white_noise, lags=100);\n"
   ]
  },
  {
   "cell_type": "markdown",
   "metadata": {},
   "source": [
    "Be aware that all the lags have close to zero autocorrelation so this means that lagged values cannot be used in prediction.  All the lagged variables are random and are not useful for prediction."
   ]
  },
  {
   "cell_type": "markdown",
   "metadata": {},
   "source": [
    "### Example 1: Vacation Data\n"
   ]
  },
  {
   "cell_type": "code",
   "execution_count": null,
   "metadata": {},
   "outputs": [],
   "source": [
    "df_vacation.head()"
   ]
  },
  {
   "cell_type": "code",
   "execution_count": null,
   "metadata": {},
   "outputs": [],
   "source": [
    "# Lag Plot\n",
    "from pandas.plotting import lag_plot\n",
    "\n",
    "lag_plot(df_vacation)\n",
    "plot.show()\n"
   ]
  },
  {
   "cell_type": "markdown",
   "metadata": {},
   "source": [
    "The plot above shows the vacation data on the y(t) against its previous time step, prior month, the the y(t+1). You can think of the data shifted by a month and then plotted, removing the first data point. Clearly, we see a positive relationship, though it is has a broader range of scatter."
   ]
  },
  {
   "cell_type": "code",
   "execution_count": null,
   "metadata": {},
   "outputs": [],
   "source": [
    "# Autocorrelation\n",
    "autocorrelation = df_vacation['Num_Search_Vacation'].autocorr()\n",
    "print(\"The autocorrelation is: %4.2f\" % (autocorrelation))\n"
   ]
  },
  {
   "cell_type": "markdown",
   "metadata": {},
   "source": [
    "The correlation between the vacation data and its lag variable by a time step shows generally medium to high correlation at 0.80.  This indicates that there is a substantial, positive relationship."
   ]
  },
  {
   "cell_type": "code",
   "execution_count": null,
   "metadata": {},
   "outputs": [],
   "source": [
    "# Plot ACF to visualize the autocorrelation\n",
    "from statsmodels.graphics.tsaplots import plot_acf\n",
    "plot_acf(df_vacation['Num_Search_Vacation'], lags=12);\n"
   ]
  },
  {
   "cell_type": "markdown",
   "metadata": {},
   "source": [
    "The partial autocorrelation function (PACF) gives the partial correlation of a time series with its own lagged values. It controls for other lags. The idea for the PACF is that we perform correlation between a variable and itself lagged and then we subtract that effect from the variable and then find out what residual correlation is left over from that variable and further lags. For example, a PACF of order 3 returns the correlation between our time series (t1, t2, t3, ...) and its own values lagged by 3 time points (t4, t5, t6, ...), but only after removing all effects attributable to lags 1 and 2."
   ]
  },
  {
   "cell_type": "code",
   "execution_count": null,
   "metadata": {},
   "outputs": [],
   "source": [
    "# Plot Partial autocorrelation function (PACF)\n",
    "from statsmodels.graphics.tsaplots import plot_pacf\n",
    "plot_pacf(df_vacation['Num_Search_Vacation'], lags=12); \n"
   ]
  },
  {
   "cell_type": "markdown",
   "metadata": {},
   "source": [
    "If partial autocorrelation values are close to 0, then values between observations and lagged observations are not correlated with one another. Inversely, partial autocorrelations with values close to 1 or -1 indicate that there exists strong positive or negative correlations between the lagged observations of the time series.\n",
    "\n",
    "The .plot_pacf() function also returns confidence intervals, which are represented as blue shaded regions. If partial autocorrelation values are beyond this confidence interval regions, then you can assume that the observed partial autocorrelation values are statistically significant."
   ]
  },
  {
   "cell_type": "markdown",
   "metadata": {},
   "source": [
    "### Example 2: Furniture Data"
   ]
  },
  {
   "cell_type": "code",
   "execution_count": null,
   "metadata": {},
   "outputs": [],
   "source": [
    "df_furniture.head()"
   ]
  },
  {
   "cell_type": "code",
   "execution_count": null,
   "metadata": {},
   "outputs": [],
   "source": [
    "# Lag Plot\n",
    "from pandas.plotting import lag_plot\n",
    "\n",
    "lag_plot(df_furniture)\n",
    "plot.show()\n"
   ]
  },
  {
   "cell_type": "markdown",
   "metadata": {},
   "source": [
    "The plot above shows the furniture data against its previous time step, prior month. You can think of the data shifted by a month and then plotted, removing the first data point. Clearly, we see a positive relationship."
   ]
  },
  {
   "cell_type": "code",
   "execution_count": null,
   "metadata": {},
   "outputs": [],
   "source": [
    "# Autocorrelation\n",
    "autocorrelation = df_furniture['furniture_price_adjusted'].autocorr()\n",
    "print(\"The autocorrelation is: %4.2f\" % (autocorrelation))\n"
   ]
  },
  {
   "cell_type": "code",
   "execution_count": null,
   "metadata": {},
   "outputs": [],
   "source": [
    "# Plot ACF\n",
    "from statsmodels.graphics.tsaplots import plot_acf\n",
    "plot_acf(df_furniture['furniture_price_adjusted'], lags=24);"
   ]
  },
  {
   "cell_type": "markdown",
   "metadata": {},
   "source": [
    "The x-axis shows the number of lags where the y-axis shows the correlation value. Note that correlation measure runs from -1 to 1.  The results show positive correlation. The scores all extend beyond the blue shaded region, which denotes statistical significance. For each time period, the measure is of its current time value's with its prior time value. It shows strong positive, autocorrelation up to 24 lags.\n",
    "\n",
    "The partial autocorrelation function (PACF) gives the partial correlation of a time series with its own lagged values. It controls for other lags. The idea for the PACF is that we perform correlation between a variable and itself lagged and then we subtract that effect from the variable and then find out what residual correlation is left over from that variable and further lags. "
   ]
  },
  {
   "cell_type": "code",
   "execution_count": null,
   "metadata": {},
   "outputs": [],
   "source": [
    "# Partial Autocorrelation Function\n",
    "from statsmodels.graphics.tsaplots import plot_pacf\n",
    "plot_pacf(df_furniture['furniture_price_adjusted'], lags=24);"
   ]
  },
  {
   "cell_type": "markdown",
   "metadata": {},
   "source": [
    "Strong partial autocorrelation at the first two lags.  The candlesticks extend beyond the margin of uncertainty for lags 3 and 4 as well as 11 and 12, going in the positive direction.  In terms of negative correlation, lag 10, 13, and 18 show statistical significance in terms of negative correlation. "
   ]
  },
  {
   "cell_type": "markdown",
   "metadata": {},
   "source": [
    "### Example 3: Adjusted Close Stock price for Bank of America"
   ]
  },
  {
   "cell_type": "code",
   "execution_count": null,
   "metadata": {},
   "outputs": [],
   "source": [
    "df_bac.head()"
   ]
  },
  {
   "cell_type": "code",
   "execution_count": null,
   "metadata": {},
   "outputs": [],
   "source": [
    "# Lag Plot\n",
    "from pandas.plotting import lag_plot\n",
    "\n",
    "lag_plot(df_bac)\n",
    "plot.show()\n"
   ]
  },
  {
   "cell_type": "code",
   "execution_count": null,
   "metadata": {},
   "outputs": [],
   "source": [
    "# Autocorrelation\n",
    "autocorrelation = df_bac['Adj Close Price'].autocorr()\n",
    "print(\"The autocorrelation is: %4.2f\" % (autocorrelation))\n"
   ]
  },
  {
   "cell_type": "code",
   "execution_count": null,
   "metadata": {},
   "outputs": [],
   "source": [
    "# Plot ACF\n",
    "from statsmodels.graphics.tsaplots import plot_acf\n",
    "plot_acf(df_bac['Adj Close Price'], lags=24);\n"
   ]
  },
  {
   "cell_type": "code",
   "execution_count": null,
   "metadata": {},
   "outputs": [],
   "source": [
    "# Partial Autocorrelation\n",
    "from statsmodels.graphics.tsaplots import plot_pacf\n",
    "plot_pacf(df_bac['Adj Close Price'], lags=24);"
   ]
  },
  {
   "cell_type": "markdown",
   "metadata": {},
   "source": [
    "### Example 4: Adjusted Close Stock price for J.P. Morgan"
   ]
  },
  {
   "cell_type": "code",
   "execution_count": null,
   "metadata": {},
   "outputs": [],
   "source": [
    "df_jpm.head()"
   ]
  },
  {
   "cell_type": "code",
   "execution_count": null,
   "metadata": {},
   "outputs": [],
   "source": [
    "# Lag Plot\n",
    "from pandas.plotting import lag_plot\n",
    "\n",
    "lag_plot(df_jpm)\n",
    "plot.show()\n"
   ]
  },
  {
   "cell_type": "code",
   "execution_count": null,
   "metadata": {},
   "outputs": [],
   "source": [
    "# Autocorrelation\n",
    "autocorrelation = df_jpm['Adj Close Price'].autocorr()\n",
    "print(\"The autocorrelation is: %4.2f\" % (autocorrelation))\n"
   ]
  },
  {
   "cell_type": "code",
   "execution_count": null,
   "metadata": {},
   "outputs": [],
   "source": [
    "# Plot ACF\n",
    "from statsmodels.graphics.tsaplots import plot_acf\n",
    "plot_acf(df_jpm['Adj Close Price'], lags=24);"
   ]
  },
  {
   "cell_type": "code",
   "execution_count": null,
   "metadata": {},
   "outputs": [],
   "source": [
    "# Partial Autocorrelation\n",
    "from statsmodels.graphics.tsaplots import plot_pacf\n",
    "plot_pacf(df_jpm['Adj Close Price'], lags=24);"
   ]
  },
  {
   "cell_type": "markdown",
   "metadata": {},
   "source": [
    "### Example 5: Monthly Average Temperature of St. Louis"
   ]
  },
  {
   "cell_type": "code",
   "execution_count": null,
   "metadata": {},
   "outputs": [],
   "source": [
    "df_temp.head()"
   ]
  },
  {
   "cell_type": "code",
   "execution_count": null,
   "metadata": {},
   "outputs": [],
   "source": [
    "# Lag Plot\n",
    "from pandas.plotting import lag_plot\n",
    "\n",
    "lag_plot(df_temp)\n",
    "plot.show()\n"
   ]
  },
  {
   "cell_type": "code",
   "execution_count": null,
   "metadata": {},
   "outputs": [],
   "source": [
    "# Autocorrelation\n",
    "autocorrelation = df_temp['Value'].autocorr()\n",
    "print(\"The autocorrelation is: %4.2f\" % (autocorrelation))\n"
   ]
  },
  {
   "cell_type": "code",
   "execution_count": null,
   "metadata": {},
   "outputs": [],
   "source": [
    "# Plot ACF\n",
    "from statsmodels.graphics.tsaplots import plot_acf\n",
    "plot_acf(df_temp['Value'], lags=24);"
   ]
  },
  {
   "cell_type": "code",
   "execution_count": null,
   "metadata": {},
   "outputs": [],
   "source": [
    "# Partial Autocorrelation\n",
    "from statsmodels.graphics.tsaplots import plot_pacf\n",
    "plot_pacf(df_temp['Value'], lags=24);"
   ]
  }
 ],
 "metadata": {
  "interpreter": {
   "hash": "806d0bd8a3daab10f37375710f3c2a5f128ac04fbb781fc63ec085ca330a45fd"
  },
  "kernelspec": {
   "display_name": "Python 3.7.3 64-bit ('base': conda)",
   "language": "python",
   "name": "python3"
  },
  "language_info": {
   "codemirror_mode": {
    "name": "ipython",
    "version": 3
   },
   "file_extension": ".py",
   "mimetype": "text/x-python",
   "name": "python",
   "nbconvert_exporter": "python",
   "pygments_lexer": "ipython3",
   "version": "3.8.12"
  },
  "orig_nbformat": 4
 },
 "nbformat": 4,
 "nbformat_minor": 2
}
