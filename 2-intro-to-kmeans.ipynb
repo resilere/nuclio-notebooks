{
 "cells": [
  {
   "cell_type": "markdown",
   "metadata": {},
   "source": [
    "<center><span style=\"background-color: rgb(251, 160, 38); font-size: 32px;\">  <b>NUCLIO DIGITAL SCHOOL -</b> MASTER EN DATA SCIENCE  </span></center>\n",
    "    \n",
    "<br>\n",
    "    \n",
    "<center><a href = https://nuclio.school/wp-content/uploads/2019/10/nucleoDS-newBlack.png > <img src=\"https://nuclio.school/wp-content/uploads/2019/10/nucleoDS-newBlack.png\" width=400 height=100><a/></center>"
   ]
  },
  {
   "cell_type": "markdown",
   "metadata": {},
   "source": [
    "<hr style=\"height:5px;border-width:0;color:orange;background-color:orange\">\n",
    "    <center> <span style=\"font-size: 26px;\"> Intro to K-Means </span> </center>\n",
    "\n",
    "+ Session: **Intro to K-Means**\n",
    "+ Module: **Unsupervised Learning**\n",
    "+ Course: **Data Science Master 0921**\n",
    "+ Professor: **Christa Santos**\n",
    "\n",
    "<br>\n",
    "\n",
    "<hr style=\"height:5px;border-width:0;color:orange;background-color:orange\">"
   ]
  },
  {
   "cell_type": "markdown",
   "metadata": {},
   "source": [
    "## K-Means"
   ]
  },
  {
   "cell_type": "code",
   "execution_count": null,
   "metadata": {},
   "outputs": [],
   "source": [
    "from sklearn.datasets import make_blobs\n",
    "import matplotlib.pyplot as plt\n",
    "import plotly.express as px\n",
    "import pandas as pd\n",
    "data = make_blobs(\n",
    "    n_samples=1000, \n",
    "    n_features=2, \n",
    "    centers=5, \n",
    "    cluster_std=1.75, \n",
    "    random_state=11\n",
    ")\n",
    "\n",
    "df = pd.DataFrame(data[0])"
   ]
  },
  {
   "cell_type": "markdown",
   "metadata": {},
   "source": [
    "### Data Understanding"
   ]
  },
  {
   "cell_type": "code",
   "execution_count": null,
   "metadata": {},
   "outputs": [],
   "source": [
    "link_iris = 'https://gist.githubusercontent.com/netj/8836201/raw/6f9306ad21398ea43cba4f7d537619d0e07d5ae3/iris.csv'\n",
    "df_iris = pd.read_csv(link_iris)"
   ]
  },
  {
   "cell_type": "code",
   "execution_count": null,
   "metadata": {},
   "outputs": [],
   "source": [
    "df_iris.describe()"
   ]
  },
  {
   "cell_type": "markdown",
   "metadata": {},
   "source": [
    "### Select The Most Important Variables\n",
    "\n",
    "In this case to visualize, we are going to select two variables related to the length."
   ]
  },
  {
   "cell_type": "code",
   "execution_count": null,
   "metadata": {},
   "outputs": [],
   "source": [
    "df_iris_km = df_iris[['sepal.length', 'petal.length']]"
   ]
  },
  {
   "cell_type": "code",
   "execution_count": null,
   "metadata": {},
   "outputs": [],
   "source": [
    "fig = px.scatter(x = df_iris['sepal.length'], y = df_iris['petal.length'], title = 'Original Variables' )\n",
    "fig.update_traces(marker=dict(size=12, line=dict(width=2, color='DarkSlateGrey')), selector=dict(mode='markers'))\n",
    "fig.update_layout(\n",
    "    autosize=False,\n",
    "    width=800,\n",
    "    height=800)"
   ]
  },
  {
   "cell_type": "markdown",
   "metadata": {},
   "source": [
    "### Standardize Variables"
   ]
  },
  {
   "cell_type": "code",
   "execution_count": null,
   "metadata": {},
   "outputs": [],
   "source": [
    "from sklearn.preprocessing import MinMaxScaler,RobustScaler,StandardScaler"
   ]
  },
  {
   "cell_type": "code",
   "execution_count": null,
   "metadata": {},
   "outputs": [],
   "source": [
    "\n",
    "scaler = StandardScaler()\n",
    "scaled_data = scaler.fit_transform(df_iris_km.to_numpy()) "
   ]
  },
  {
   "cell_type": "code",
   "execution_count": null,
   "metadata": {},
   "outputs": [],
   "source": [
    "scaled_data[0:4]"
   ]
  },
  {
   "cell_type": "code",
   "execution_count": null,
   "metadata": {},
   "outputs": [],
   "source": [
    "fig = px.scatter(x = scaled_data[:,0], y = scaled_data[:,1], title = 'Standarised Variables' )\n",
    "fig.update_traces(marker=dict(size=12, line=dict(width=2, color='DarkSlateGrey')), selector=dict(mode='markers'))\n",
    "fig.update_layout(\n",
    "    autosize=False,\n",
    "    width=800,\n",
    "    height=800,)"
   ]
  },
  {
   "cell_type": "markdown",
   "metadata": {},
   "source": [
    "### Determine the number of Clusters"
   ]
  },
  {
   "cell_type": "code",
   "execution_count": null,
   "metadata": {},
   "outputs": [],
   "source": [
    "clusters = 3"
   ]
  },
  {
   "cell_type": "markdown",
   "metadata": {},
   "source": [
    "### Apply the K-Means Algorithm"
   ]
  },
  {
   "cell_type": "markdown",
   "metadata": {},
   "source": [
    "![k-Means](https://upload.wikimedia.org/wikipedia/commons/e/ea/K-means_convergence.gif?raw=true)"
   ]
  },
  {
   "cell_type": "code",
   "execution_count": null,
   "metadata": {},
   "outputs": [],
   "source": [
    "from sklearn.cluster import KMeans\n",
    "kmeans = KMeans(n_clusters=clusters)"
   ]
  },
  {
   "cell_type": "code",
   "execution_count": null,
   "metadata": {},
   "outputs": [],
   "source": [
    "kmeans.fit(scaled_data)"
   ]
  },
  {
   "cell_type": "code",
   "execution_count": null,
   "metadata": {},
   "outputs": [],
   "source": [
    "prediction = kmeans.predict(scaled_data)"
   ]
  },
  {
   "cell_type": "markdown",
   "metadata": {},
   "source": [
    "### Check and Plot the result"
   ]
  },
  {
   "cell_type": "code",
   "execution_count": null,
   "metadata": {},
   "outputs": [],
   "source": [
    "prediction"
   ]
  },
  {
   "cell_type": "code",
   "execution_count": null,
   "metadata": {},
   "outputs": [],
   "source": [
    "fig = px.scatter(x = scaled_data[:,0], y = scaled_data[:,1], color = prediction, title = 'Scaled Variables' )\n",
    "fig.update_traces(marker=dict(size=12, line=dict(width=2, color='DarkSlateGrey')), selector=dict(mode='markers'))\n",
    "fig.update_layout(\n",
    "    autosize=False,\n",
    "    width=800,\n",
    "    height=800,)"
   ]
  },
  {
   "cell_type": "code",
   "execution_count": null,
   "metadata": {},
   "outputs": [],
   "source": [
    "fig = px.scatter(x =  df_iris['sepal.length'], y =  df_iris['petal.length'], color = prediction, title = 'Original Variables' )\n",
    "fig.update_traces(marker=dict(size=12, line=dict(width=2, color='DarkSlateGrey')), selector=dict(mode='markers'))\n",
    "fig.update_layout(\n",
    "    autosize=False,\n",
    "    width=800,\n",
    "    height=800,)"
   ]
  },
  {
   "cell_type": "code",
   "execution_count": null,
   "metadata": {},
   "outputs": [],
   "source": [
    "fig2 = px.scatter(pd.DataFrame(scaler.inverse_transform(kmeans.cluster_centers_)), x=0, y=1, title='Cluster Centers')\n",
    "fig2.update_layout(\n",
    "    autosize=False,\n",
    "    width=800,\n",
    "    height=800,)"
   ]
  },
  {
   "cell_type": "markdown",
   "metadata": {},
   "source": [
    "### Interpret the result\n"
   ]
  },
  {
   "cell_type": "code",
   "execution_count": null,
   "metadata": {},
   "outputs": [],
   "source": [
    "kmeans.cluster_centers_"
   ]
  },
  {
   "cell_type": "code",
   "execution_count": null,
   "metadata": {},
   "outputs": [],
   "source": [
    "inversed = scaler.inverse_transform(kmeans.cluster_centers_)\n",
    "inversed"
   ]
  },
  {
   "cell_type": "code",
   "execution_count": null,
   "metadata": {},
   "outputs": [],
   "source": [
    "fig = px.scatter(x = scaled_data[:,0], y = scaled_data[:,1], color = prediction )\n",
    "fig.update_traces(marker=dict(size=12, line=dict(width=2, color='DarkSlateGrey')), selector=dict(mode='markers'))\n",
    "fig2 = px.scatter(pd.DataFrame(kmeans.cluster_centers_), x=0, y=1)\n",
    "fig2.update_traces(marker=dict(size=20, color='pink', line=dict(width=2, color='white')), selector=dict(mode='markers'), marker_symbol = 'x')\n",
    "\n",
    "fig.add_trace(fig2.data[0])\n",
    "fig.update_layout(\n",
    "    autosize=False,\n",
    "    width=800,\n",
    "    height=800,)\n",
    "fig"
   ]
  },
  {
   "cell_type": "code",
   "execution_count": null,
   "metadata": {},
   "outputs": [],
   "source": [
    "fig = px.scatter(x =  df_iris['sepal.length'], y =  df_iris['petal.length'], color = prediction )\n",
    "fig.update_traces(marker=dict(size=12, line=dict(width=2, color='DarkSlateGrey')), selector=dict(mode='markers'))\n",
    "fig2 = px.scatter(pd.DataFrame(scaler.inverse_transform(kmeans.cluster_centers_)), x=0, y=1)\n",
    "fig2.update_traces(marker=dict(size=20, color='pink', line=dict(width=2, color='white')), selector=dict(mode='markers'), marker_symbol = 'x')\n",
    "\n",
    "fig.add_trace(fig2.data[0])\n",
    "fig.update_layout(\n",
    "    autosize=False,\n",
    "    width=800,\n",
    "    height=800,)\n",
    "fig"
   ]
  },
  {
   "cell_type": "markdown",
   "metadata": {},
   "source": [
    "### Apply to new data"
   ]
  },
  {
   "cell_type": "code",
   "execution_count": null,
   "metadata": {},
   "outputs": [],
   "source": [
    "kmeans.predict([[2,3]])"
   ]
  },
  {
   "cell_type": "code",
   "execution_count": null,
   "metadata": {},
   "outputs": [],
   "source": [
    "x1 = 7.1\n",
    "y1 = 7.1\n",
    "kmeans.predict(scaler.transform([[x1,y1]])) "
   ]
  },
  {
   "cell_type": "code",
   "execution_count": null,
   "metadata": {},
   "outputs": [],
   "source": [
    "fig = px.scatter(x =  df_iris['sepal.length'], y =  df_iris['petal.length'], color = prediction )\n",
    "fig.update_traces(marker=dict(size=12, line=dict(width=2, color='DarkSlateGrey')), selector=dict(mode='markers'))\n",
    "fig2 = px.scatter(pd.DataFrame(scaler.inverse_transform(kmeans.cluster_centers_)), x=0, y=1)\n",
    "fig2.update_traces(marker=dict(size=20, color='pink', line=dict(width=2, color='white')), selector=dict(mode='markers'), marker_symbol = 'x')\n",
    "fig.add_shape(type=\"circle\", xref=\"x\", yref=\"y\", x0=x1+0.1, y0=y1+0.15, x1=x1, y1=y1, line_color=\"green\",fillcolor = 'green')\n",
    "\n",
    "\n",
    "fig.add_trace(fig2.data[0])\n",
    "fig.update_layout(template = 'plotly_white')\n",
    "fig.update_layout(\n",
    "    autosize=False,\n",
    "    width=800,\n",
    "    height=800,)\n",
    "fig"
   ]
  },
  {
   "cell_type": "markdown",
   "metadata": {},
   "source": [
    "### Evaluation"
   ]
  },
  {
   "cell_type": "code",
   "execution_count": null,
   "metadata": {},
   "outputs": [],
   "source": [
    "fig = px.scatter(x =  df_iris['sepal.length'], y =  df_iris['petal.length'], color = prediction, symbol = df_iris['variety'] )\n",
    "fig.update_traces(marker=dict(size=12, line=dict(width=2, color='DarkSlateGrey')), selector=dict(mode='markers'))\n",
    "fig2 = px.scatter(pd.DataFrame(scaler.inverse_transform(kmeans.cluster_centers_)), x=0, y=1)\n",
    "fig2.update_traces(marker=dict(size=20, color='pink', line=dict(width=2, color='white')), selector=dict(mode='markers'), marker_symbol = 'x')\n",
    "fig.add_shape(type=\"circle\", xref=\"x\", yref=\"y\", x0=x1+0.1, y0=y1+0.15, x1=x1, y1=y1, line_color=\"green\",fillcolor = 'green')\n",
    "fig.update_layout(legend_orientation=\"h\")\n",
    "\n",
    "\n",
    "fig.add_trace(fig2.data[0])\n",
    "fig.update_layout(template = 'plotly_white')\n",
    "fig.update_layout(\n",
    "    autosize=False,\n",
    "    width=800,\n",
    "    height=800,)\n",
    "fig"
   ]
  },
  {
   "cell_type": "markdown",
   "metadata": {},
   "source": [
    "<hr style=\"height:5px;border-width:0;color:orange;background-color:orange\">"
   ]
  },
  {
   "cell_type": "markdown",
   "metadata": {},
   "source": [
    "### Optimal Number of Clusters\n",
    "Once we know the main procedure, we are going to calculate the number of clusters."
   ]
  },
  {
   "cell_type": "markdown",
   "metadata": {},
   "source": [
    "#### Example for the Number of Clusters"
   ]
  },
  {
   "cell_type": "code",
   "execution_count": null,
   "metadata": {},
   "outputs": [],
   "source": [
    "import pandas as pd\n",
    "import plotly.express as px\n",
    "import plotly.express as px\n",
    "import sklearn.cluster as cluster\n",
    "import sklearn.metrics as metrics"
   ]
  },
  {
   "cell_type": "code",
   "execution_count": null,
   "metadata": {},
   "outputs": [],
   "source": [
    "data = pd.read_csv('https://drive.google.com/u/0/uc?id=1ZzEouo7lRJvajxK6jLM2K_p9xAwGw1tS&export=download')"
   ]
  },
  {
   "cell_type": "code",
   "execution_count": null,
   "metadata": {},
   "outputs": [],
   "source": [
    "data.head(10)"
   ]
  },
  {
   "cell_type": "code",
   "execution_count": null,
   "metadata": {},
   "outputs": [],
   "source": [
    "X = 'ApplicantIncome'\n",
    "Y = 'LoanAmount'"
   ]
  },
  {
   "cell_type": "code",
   "execution_count": null,
   "metadata": {},
   "outputs": [],
   "source": [
    "\n",
    "selected_data = data[[X, Y]].copy()\n",
    "fig = px.scatter_matrix(selected_data)\n",
    "fig.update_layout(width=775, height=775)\n",
    "fig.show() "
   ]
  },
  {
   "cell_type": "markdown",
   "metadata": {},
   "source": [
    "### Elbow method\n",
    "The basic idea of clustering algorithms is the minimization of the intra-cluster variance and the maximization of the inter-cluster variance. That is, we want each observation to be very close to those of its same group and the groups as far away as possible from each other.\n",
    "\n",
    "The elbow method uses the mean distance of the observations from their centroid. That is, it looks at intra-cluster distances. The larger the number of clusters k, the intra-cluster variance tends to decrease. The smaller the intra-cluster distance, the better, since it means that the clusters are more compact. The elbow method searches for the value k that satisfies that an increase in k does not substantially improve the mean intra-cluster distance."
   ]
  },
  {
   "cell_type": "code",
   "execution_count": null,
   "metadata": {},
   "outputs": [],
   "source": [
    "distortions = []\n",
    "K = range(1,12)\n",
    "\n",
    "for cluster_size in K:\n",
    "    kmeans = cluster.KMeans(n_clusters=cluster_size, init='k-means++')\n",
    "    kmeans = kmeans.fit(selected_data)\n",
    "    distortions.append(kmeans.inertia_)\n",
    "    \n",
    "df = pd.DataFrame({'Clusters': K, 'Distortions': distortions})\n",
    "fig = (px.line(df, x='Clusters', y='Distortions', template='seaborn')).update_traces(mode='lines+markers')\n",
    "fig.show()\n"
   ]
  },
  {
   "cell_type": "markdown",
   "metadata": {},
   "source": [
    "### Silhouette Analysis\n",
    "\n",
    "Silhouette analysis measures the quality of clustering. Measures the separation distance between the clusters. It tells us how close each point of a cluster is to points of neighboring clusters. This distance measure is in the range [-1, 1]. A high value indicates good clustering.\n",
    "\n",
    "Silhouette coefficients close to +1 indicate that the observation is far from neighboring clusters. A coefficient value of 0 indicates that the observation is very close to or at the decision boundary between two clusters. Negative values ​​indicate that those samples might be assigned to the wrong cluster.\n",
    "\n",
    "The silhouette method calculates the mean of the silhouette coefficients of all observations for different values ​​of k. The optimal number of clusters k is the one that maximizes the mean of the silhouette coefficients for a range of k values.\n",
    "\n",
    "The silhouette coefficient is calculated as:\n",
    "\n",
    "S = b − amax(a, b)\n",
    "where a is the mean intra-cluster distance and b is the mean distance to the closest cluster observations."
   ]
  },
  {
   "cell_type": "code",
   "execution_count": null,
   "metadata": {},
   "outputs": [],
   "source": [
    "\n",
    "silhouette_scores = []\n",
    "K = range(2,12)\n",
    "\n",
    "for cluster_size in K:\n",
    "    kmeans = cluster.KMeans(n_clusters=cluster_size, init='k-means++', random_state=200)\n",
    "    labels = kmeans.fit(selected_data).labels_\n",
    "    silhouette_score = metrics.silhouette_score(selected_data, \n",
    "                                                labels, \n",
    "                                                metric='euclidean', \n",
    "                                                sample_size=1000, \n",
    "                                                random_state=200)\n",
    "    \n",
    "    silhouette_scores.append(silhouette_score)\n",
    "\n",
    "df = pd.DataFrame({'Clusters': K, 'Silhouette Score': silhouette_scores})\n",
    "fig = (px.line(df, x='Clusters', y='Silhouette Score', template='seaborn')).update_traces(mode='lines+markers')\n",
    "fig.show()"
   ]
  },
  {
   "cell_type": "markdown",
   "metadata": {},
   "source": [
    "### Apply the algorithm"
   ]
  },
  {
   "cell_type": "code",
   "execution_count": null,
   "metadata": {},
   "outputs": [],
   "source": [
    "\n",
    "kmeans = cluster.KMeans(n_clusters=2, init='k-means++')\n",
    "kmeans = kmeans.fit(selected_data)\n",
    "data['cluster_group'] = kmeans.labels_\n",
    "\n",
    "fig = px.scatter(data, x=X, y=Y, color='cluster_group', hover_data=[X, Y], template='ggplot2')\n",
    "fig.update_layout(width=775, height=775)\n",
    "fig.show()"
   ]
  },
  {
   "cell_type": "code",
   "execution_count": null,
   "metadata": {},
   "outputs": [],
   "source": [
    "display(kmeans.cluster_centers_)\n",
    "display(kmeans.labels_)\n",
    "display(kmeans.inertia_)\n",
    "display(kmeans.n_iter_)"
   ]
  },
  {
   "cell_type": "code",
   "execution_count": null,
   "metadata": {},
   "outputs": [],
   "source": [
    "import pandas as pd\n",
    "#import plotly_express as px\n",
    "selected_data['cluster'] = kmeans.labels_\n",
    "selected_data['cluster'] = selected_data['cluster'].astype('str')\n",
    "iris = px.data.iris()\n",
    "fig = px.scatter(selected_data, x=X, y=Y, color='cluster')\n",
    "df = pd.DataFrame({\n",
    "    'x':[1,2,3,4],\n",
    "    'y':[5,6,7,8],})\n",
    "fig2 = px.scatter(pd.DataFrame(kmeans.cluster_centers_), x=0, y=1)\n",
    "fig2.update_traces(marker=dict(size=12,  color='black',\n",
    "                              line=dict(width=2,\n",
    "                                        color='yellow')), selector=dict(mode='markers'), marker_symbol = 'x')\n",
    "\n",
    "fig.add_trace(fig2.data[0])\n",
    "fig.update_layout(width=775, height=775)\n",
    "fig.show()"
   ]
  },
  {
   "cell_type": "markdown",
   "metadata": {},
   "source": [
    "<hr style=\"height:5px;border-width:0;color:orange;background-color:orange\">"
   ]
  },
  {
   "cell_type": "markdown",
   "metadata": {},
   "source": [
    "## Your Turn\n",
    "\n",
    "Now it's your turn, apply the k means algorithm to the following dataset"
   ]
  },
  {
   "cell_type": "code",
   "execution_count": null,
   "metadata": {},
   "outputs": [],
   "source": [
    "link_penguins = 'https://raw.githubusercontent.com/mwaskom/seaborn-data/master/penguins.csv'\n",
    "df_penguins = pd.read_csv(link_penguins)"
   ]
  }
 ],
 "metadata": {
  "interpreter": {
   "hash": "0820050dde91fc2897eae9036e8ba4d22e350a3297f4d4b49abc97f4c24f3b88"
  },
  "kernelspec": {
   "display_name": "Python_3.7",
   "language": "python",
   "name": "python3"
  },
  "language_info": {
   "codemirror_mode": {
    "name": "ipython",
    "version": 3
   },
   "file_extension": ".py",
   "mimetype": "text/x-python",
   "name": "python",
   "nbconvert_exporter": "python",
   "pygments_lexer": "ipython3",
   "version": "3.8.12"
  }
 },
 "nbformat": 4,
 "nbformat_minor": 4
}
