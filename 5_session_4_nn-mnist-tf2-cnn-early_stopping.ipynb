{
 "cells": [
  {
   "cell_type": "markdown",
   "metadata": {},
   "source": [
    "![Nuclio logo](https://nuclio.school/wp-content/uploads/2018/12/nucleoDS-newBlack.png)"
   ]
  },
  {
   "cell_type": "markdown",
   "metadata": {},
   "source": [
    "## First example of Neural Network for the Master of Data Science at Nuclio School\n"
   ]
  },
  {
   "cell_type": "markdown",
   "metadata": {},
   "source": [
    "Let's remember the steps to follow in creating code to train a neural network:\n",
    "<ol>\n",
    "    <li> Import libraries: Keras, PyPlot and Numpy (I add time and datetime to control training times) </li>\n",
    "    <li> Let's define an initial network (stacking blocks) </li>\n",
    "    <li> We define (or create) our optimizer, adding our error function </li>\n",
    "    <li> We prepare the data (in this case we load it) </li>\n",
    "    <li> We start with the training </li>\n",
    "    <li> We look at the results and iterate </li>\n",
    "</ol>"
   ]
  },
  {
   "cell_type": "markdown",
   "metadata": {},
   "source": [
    "## 1. Libraries\n",
    "\n",
    "To start, let's load those libraries that we need"
   ]
  },
  {
   "cell_type": "code",
   "execution_count": 1,
   "metadata": {},
   "outputs": [],
   "source": [
    "from tensorflow import keras as ks\n",
    "from matplotlib import pyplot as plt\n",
    "import numpy as np\n",
    "import time\n",
    "import datetime"
   ]
  },
  {
   "cell_type": "markdown",
   "metadata": {},
   "source": [
    "## 2. Architecture of the network\n",
    "\n",
    "We build a simple neural network model for the MNIST data, which in summary are:\n",
    "- Input data: 28x28 pixel images with a gray channel (values ​​from 1 to 256, integers)\n",
    "- Output data (labels): we give each image a value from 0 to 9, a total of 10 classes\n",
    "\n",
    "<img src=\"https://3qeqpr26caki16dnhd19sv6by6v-wpengine.netdna-ssl.com/wp-content/uploads/2016/05/Examples-from-the-MNIST-dataset.png\">\n",
    "\n",
    "To assemble the architecture of the neural network, the method **.Sequential()** of Keras (from input to output) is followed:\n",
    "\n",
    "- **Input** - A conversion of a 28x28 pixel 2D matrix to a vector - Flatten method\n",
    "- **Hidden** - A dense layer (fully connected) with 16 neurons and linear activation\n",
    "- **Output** - A dense layer (fully connected) with 10 neurons (**the 10 output classes**) and linear activation\n",
    "\n",
    "<img src=\"https://upload.wikimedia.org/wikipedia/commons/thumb/4/46/Colored_neural_network.svg/399px-Colored_neural_network.svg.png\" alt=\"\" decoding=\"async\" width=\"300\" height=\"361\" class=\"thumbimage\">"
   ]
  },
  {
   "cell_type": "code",
   "execution_count": 2,
   "metadata": {},
   "outputs": [],
   "source": [
    "model = ks.Sequential()\n",
    "\n",
    "model.add(ks.layers.Conv2D(filters=16,\n",
    "                           kernel_size=(3,3),\n",
    "                           strides=1,\n",
    "                           activation='relu',\n",
    "                           input_shape=(28,28,1))) # Shape of the image plus color channels\n",
    "model.add(ks.layers.Conv2D(filters=16,\n",
    "                           kernel_size=(3,3),\n",
    "                           strides=1,\n",
    "                           activation='relu'))\n",
    "model.add(ks.layers.MaxPooling2D((2,2)))\n",
    "model.add(ks.layers.Dropout(0.3))\n",
    "model.add(ks.layers.Flatten())\n",
    "model.add(ks.layers.Dense(64, activation='relu'))\n",
    "model.add(ks.layers.Dropout(0.3))\n",
    "model.add(ks.layers.Dense(10, activation='softmax')) # Output layer with 10 neurons\n"
   ]
  },
  {
   "cell_type": "markdown",
   "metadata": {},
   "source": [
    "To review a model, we just have to call the **.Summary()** method of the model"
   ]
  },
  {
   "cell_type": "markdown",
   "metadata": {},
   "source": [
    "Very relevant information is extracted from the **.Summary()**: the number of parameters per layer and the total to be trained.\n",
    "\n",
    "Notice that 28x28 are 784 values, so that's what we have from the start. Those 784 neurons are linked with 16 (16 * 784 weights + 16 bias = 12560) and those 16 with the 10 output (16 * 10 weights + 10 bias). A total of 12,730 parameters to learn"
   ]
  },
  {
   "cell_type": "markdown",
   "metadata": {},
   "source": [
    "## 3. Optimizer, error function\n",
    "\n",
    "We define the parameters of the model for its training:\n",
    "* **Loss** - Error function (cost function) - We opted for the Sparse Categorical Crosstentropy because we are classifying images\n",
    "* **Optimizer** - which cost function optimizer we will use, in this example Adam\n",
    "* **Metrics** - which metric we will use to evaluate the model ... in this case the Accuracy is used\n"
   ]
  },
  {
   "cell_type": "code",
   "execution_count": 3,
   "metadata": {},
   "outputs": [],
   "source": [
    "model.compile(optimizer='Adam',\n",
    "              loss='sparse_categorical_crossentropy',\n",
    "              metrics=['accuracy'], )"
   ]
  },
  {
   "cell_type": "markdown",
   "metadata": {},
   "source": [
    "## 4. We prepare the data\n",
    "\n",
    "We load the MNIST data from the datasets directly from the Keras libraries. These are already ready in train and test\n",
    "\n",
    "**Important detail:**\n",
    "> The neural network requires that the inputs be real numbers, and we will do it by forcing the division of the values ​​within the 28x28 matrices (which have values ​​from 0 to 255) by 255.0 (a real)"
   ]
  },
  {
   "cell_type": "code",
   "execution_count": 4,
   "metadata": {},
   "outputs": [],
   "source": [
    "mnist = ks.datasets.mnist\n",
    "\n",
    "(x_train, y_train), (x_test, y_test) = mnist.load_data()\n",
    "\n",
    "x_train, x_test = x_train / 255.0, x_test / 255.0"
   ]
  },
  {
   "cell_type": "markdown",
   "metadata": {},
   "source": [
    "Let's paint a sample of the MNIST dataset images, to see if it looks anything like what we expect.\n",
    "First, we see what types of data I have, then we map those arrays in a grayscale using the **.get_cmap()** method of PlotLy with the first nine numbers of the dataset."
   ]
  },
  {
   "cell_type": "code",
   "execution_count": 5,
   "metadata": {},
   "outputs": [
    {
     "name": "stdout",
     "output_type": "stream",
     "text": [
      "Train: X=(60000, 28, 28), y=(60000,)\n",
      "Test: X=(10000, 28, 28), y=(10000,)\n"
     ]
    },
    {
     "data": {
      "image/png": "[encoded data removed]",
      "text/plain": [
       "<Figure size 432x288 with 9 Axes>"
      ]
     },
     "metadata": {
      "needs_background": "light"
     },
     "output_type": "display_data"
    }
   ],
   "source": [
    "print('Train: X=%s, y=%s' % (x_train.shape, y_train.shape))\n",
    "print('Test: X=%s, y=%s' % (x_test.shape, y_test.shape))\n",
    "\n",
    "for i in range(9):\n",
    "    plt.subplot(330 + 1 + i)\n",
    "    plt.imshow(x_train[i], cmap=plt.get_cmap('gray'))\n",
    "\n",
    "plt.subplots_adjust(hspace = 0.5)\n",
    "plt.show()"
   ]
  },
  {
   "cell_type": "markdown",
   "metadata": {},
   "source": [
    "How are we going to want to validate while we train (very practical)"
   ]
  },
  {
   "cell_type": "code",
   "execution_count": 6,
   "metadata": {},
   "outputs": [],
   "source": [
    "x_val = x_train[-10000:]\n",
    "y_val = y_train[-10000:]\n",
    "\n",
    "x_train = x_train[:-10000]\n",
    "y_train = y_train[:-10000]\n"
   ]
  },
  {
   "cell_type": "code",
   "execution_count": 7,
   "metadata": {},
   "outputs": [
    {
     "name": "stdout",
     "output_type": "stream",
     "text": [
      "Train CNN: X=(50000, 28, 28, 1), y=(50000,)\n",
      "Test CNN: X=(10000, 28, 28, 1), y=(10000,)\n",
      "Validation CNN: X=(10000, 28, 28, 1), y=(10000,)\n"
     ]
    }
   ],
   "source": [
    "x_train_cnn = x_train.reshape(50000, 28, 28, 1)\n",
    "x_test_cnn = x_test.reshape(10000, 28, 28, 1)\n",
    "x_val_cnn = x_val.reshape(10000, 28, 28, 1)\n",
    "\n",
    "print('Train CNN: X=%s, y=%s' % (x_train_cnn.shape, y_train.shape))\n",
    "print('Test CNN: X=%s, y=%s' % (x_test_cnn.shape, y_test.shape))\n",
    "print('Validation CNN: X=%s, y=%s' % (x_val_cnn.shape, y_val.shape))"
   ]
  },
  {
   "cell_type": "markdown",
   "metadata": {},
   "source": [
    "## 5. Training\n",
    "\n",
    "We can start training the model!\n",
    "\n",
    "We will start with 30 epochs, that is, 30 complete passes of the dataset (which in turn will be with mini-batches internally), by default in Keras, **the batch_size is 32**.\n",
    "\n",
    "The .fit() method also allows us to define if we have several CPUs, GPUs, and if we want to validate data at each end of epoch.\n",
    "\n",
    "**Note: This fit, on my laptop does not take more than 2 minutes.** (That is why it is worth capturing the times, so you can validate the capabilities of your team and evaluate Google Colab)."
   ]
  },
  {
   "cell_type": "markdown",
   "metadata": {},
   "source": [
    "### 5.1 Define the Early Stopping"
   ]
  },
  {
   "cell_type": "code",
   "execution_count": 8,
   "metadata": {},
   "outputs": [],
   "source": [
    "from tensorflow.keras.callbacks import EarlyStopping"
   ]
  },
  {
   "cell_type": "code",
   "execution_count": 9,
   "metadata": {},
   "outputs": [],
   "source": [
    "callback_loss = EarlyStopping(monitor='val_loss', patience=25)\n",
    "callback_accuracy = EarlyStopping(monitor='val_accuracy', patience=20)"
   ]
  },
  {
   "cell_type": "markdown",
   "metadata": {},
   "source": [
    "### 5.2 Train"
   ]
  },
  {
   "cell_type": "code",
   "execution_count": 10,
   "metadata": {},
   "outputs": [],
   "source": [
    "t = time.perf_counter()"
   ]
  },
  {
   "cell_type": "code",
   "execution_count": 11,
   "metadata": {},
   "outputs": [
    {
     "name": "stdout",
     "output_type": "stream",
     "text": [
      "Epoch 1/30\n",
      "391/391 [==============================] - 15s 37ms/step - loss: 0.7837 - accuracy: 0.7451 - val_loss: 0.1224 - val_accuracy: 0.9646\n",
      "Epoch 2/30\n",
      "391/391 [==============================] - 15s 37ms/step - loss: 0.1815 - accuracy: 0.9449 - val_loss: 0.0725 - val_accuracy: 0.9805\n",
      "Epoch 3/30\n",
      "391/391 [==============================] - 16s 40ms/step - loss: 0.1198 - accuracy: 0.9656 - val_loss: 0.0620 - val_accuracy: 0.9829\n",
      "Epoch 4/30\n",
      "391/391 [==============================] - 16s 41ms/step - loss: 0.0985 - accuracy: 0.9701 - val_loss: 0.0561 - val_accuracy: 0.9851\n",
      "Epoch 5/30\n",
      "391/391 [==============================] - 18s 45ms/step - loss: 0.0806 - accuracy: 0.9741 - val_loss: 0.0499 - val_accuracy: 0.9867\n",
      "Epoch 6/30\n",
      "391/391 [==============================] - 18s 46ms/step - loss: 0.0686 - accuracy: 0.9792 - val_loss: 0.0500 - val_accuracy: 0.9864\n",
      "Epoch 7/30\n",
      "391/391 [==============================] - 21s 54ms/step - loss: 0.0640 - accuracy: 0.9805 - val_loss: 0.0481 - val_accuracy: 0.9871\n",
      "Epoch 8/30\n",
      "391/391 [==============================] - 20s 51ms/step - loss: 0.0618 - accuracy: 0.9805 - val_loss: 0.0485 - val_accuracy: 0.9875\n",
      "Epoch 9/30\n",
      "391/391 [==============================] - 18s 47ms/step - loss: 0.0540 - accuracy: 0.9834 - val_loss: 0.0453 - val_accuracy: 0.9880\n",
      "Epoch 10/30\n",
      "391/391 [==============================] - 19s 48ms/step - loss: 0.0445 - accuracy: 0.9854 - val_loss: 0.0460 - val_accuracy: 0.9888\n",
      "Epoch 11/30\n",
      "391/391 [==============================] - 19s 48ms/step - loss: 0.0446 - accuracy: 0.9859 - val_loss: 0.0404 - val_accuracy: 0.9883\n",
      "Epoch 12/30\n",
      "391/391 [==============================] - 19s 48ms/step - loss: 0.0417 - accuracy: 0.9863 - val_loss: 0.0454 - val_accuracy: 0.9889\n",
      "Epoch 13/30\n",
      "391/391 [==============================] - 18s 47ms/step - loss: 0.0393 - accuracy: 0.9879 - val_loss: 0.0426 - val_accuracy: 0.9889\n",
      "Epoch 14/30\n",
      "391/391 [==============================] - 18s 46ms/step - loss: 0.0385 - accuracy: 0.9871 - val_loss: 0.0423 - val_accuracy: 0.9891\n",
      "Epoch 15/30\n",
      "391/391 [==============================] - 18s 47ms/step - loss: 0.0384 - accuracy: 0.9874 - val_loss: 0.0429 - val_accuracy: 0.9892\n",
      "Epoch 16/30\n",
      "391/391 [==============================] - 18s 47ms/step - loss: 0.0351 - accuracy: 0.9886 - val_loss: 0.0472 - val_accuracy: 0.9861\n",
      "Epoch 17/30\n",
      "391/391 [==============================] - 18s 47ms/step - loss: 0.0337 - accuracy: 0.9889 - val_loss: 0.0407 - val_accuracy: 0.9902\n",
      "Epoch 18/30\n",
      "391/391 [==============================] - 19s 49ms/step - loss: 0.0354 - accuracy: 0.9882 - val_loss: 0.0409 - val_accuracy: 0.9893\n",
      "Epoch 19/30\n",
      "391/391 [==============================] - 19s 48ms/step - loss: 0.0315 - accuracy: 0.9902 - val_loss: 0.0402 - val_accuracy: 0.9906\n",
      "Epoch 20/30\n",
      "391/391 [==============================] - 19s 48ms/step - loss: 0.0279 - accuracy: 0.9910 - val_loss: 0.0413 - val_accuracy: 0.9897\n",
      "Epoch 21/30\n",
      "391/391 [==============================] - 18s 47ms/step - loss: 0.0291 - accuracy: 0.9906 - val_loss: 0.0378 - val_accuracy: 0.9909\n",
      "Epoch 22/30\n",
      "391/391 [==============================] - 19s 48ms/step - loss: 0.0273 - accuracy: 0.9914 - val_loss: 0.0421 - val_accuracy: 0.9901\n",
      "Epoch 23/30\n",
      "391/391 [==============================] - 21s 54ms/step - loss: 0.0288 - accuracy: 0.9898 - val_loss: 0.0360 - val_accuracy: 0.9904\n",
      "Epoch 24/30\n",
      "391/391 [==============================] - 17s 43ms/step - loss: 0.0281 - accuracy: 0.9899 - val_loss: 0.0415 - val_accuracy: 0.9896\n",
      "Epoch 25/30\n",
      "391/391 [==============================] - 16s 40ms/step - loss: 0.0255 - accuracy: 0.9914 - val_loss: 0.0405 - val_accuracy: 0.9911\n",
      "Epoch 26/30\n",
      "391/391 [==============================] - 16s 40ms/step - loss: 0.0258 - accuracy: 0.9913 - val_loss: 0.0409 - val_accuracy: 0.9905\n",
      "Epoch 27/30\n",
      "391/391 [==============================] - 15s 39ms/step - loss: 0.0254 - accuracy: 0.9916 - val_loss: 0.0369 - val_accuracy: 0.9913\n",
      "Epoch 28/30\n",
      "391/391 [==============================] - 16s 40ms/step - loss: 0.0215 - accuracy: 0.9926 - val_loss: 0.0400 - val_accuracy: 0.9905\n",
      "Epoch 29/30\n",
      "391/391 [==============================] - 16s 40ms/step - loss: 0.0257 - accuracy: 0.9915 - val_loss: 0.0390 - val_accuracy: 0.9910\n",
      "Epoch 30/30\n",
      "391/391 [==============================] - 16s 40ms/step - loss: 0.0223 - accuracy: 0.9922 - val_loss: 0.0378 - val_accuracy: 0.9911\n"
     ]
    }
   ],
   "source": [
    "history = model.fit(x_train_cnn, y_train, epochs=30, \n",
    "                    use_multiprocessing=False, \n",
    "                    batch_size= 128,\n",
    "                    validation_data=(x_val_cnn, y_val),\n",
    "                    callbacks=[callback_accuracy, callback_loss])"
   ]
  },
  {
   "cell_type": "code",
   "execution_count": 12,
   "metadata": {},
   "outputs": [
    {
     "name": "stdout",
     "output_type": "stream",
     "text": [
      "Training time: 0:08:48.128752\n"
     ]
    }
   ],
   "source": [
    "elapsed_time = datetime.timedelta(seconds=(time.perf_counter() - t))\n",
    "\n",
    "print('Training time:', elapsed_time)"
   ]
  },
  {
   "cell_type": "markdown",
   "metadata": {},
   "source": [
    "## 6. We evaluate the results\n",
    "\n",
    "Let's obtain a graph of how the error and the accuracy evolve in each epoch in the training data and in the validation"
   ]
  },
  {
   "cell_type": "code",
   "execution_count": 13,
   "metadata": {},
   "outputs": [
    {
     "data": {
      "image/png": "[encoded data removed]",
      "text/plain": [
       "<Figure size 432x288 with 1 Axes>"
      ]
     },
     "metadata": {
      "needs_background": "light"
     },
     "output_type": "display_data"
    },
    {
     "data": {
      "image/png": "[encoded data removed]",
      "text/plain": [
       "<Figure size 432x288 with 1 Axes>"
      ]
     },
     "metadata": {
      "needs_background": "light"
     },
     "output_type": "display_data"
    }
   ],
   "source": [
    "plt.title('Cross Entropy Loss')\n",
    "plt.plot(history.history['loss'], color='blue', label='train')\n",
    "plt.plot(history.history['val_loss'], color='orange', label='validation')\n",
    "plt.legend()\n",
    "plt.show()\n",
    "\n",
    "plt.title('Classification Accuracy')\n",
    "plt.plot(history.history['accuracy'], color='blue', label='train')\n",
    "plt.plot(history.history['val_accuracy'], color='orange', label='validation')\n",
    "plt.legend()\n",
    "plt.show()"
   ]
  },
  {
   "cell_type": "markdown",
   "metadata": {},
   "source": [
    "Let's evaluate the model against the test values"
   ]
  },
  {
   "cell_type": "code",
   "execution_count": 14,
   "metadata": {},
   "outputs": [
    {
     "name": "stdout",
     "output_type": "stream",
     "text": [
      "313/313 - 2s - loss: 0.0294 - accuracy: 0.9923\n"
     ]
    },
    {
     "data": {
      "text/plain": [
       "[0.02940095216035843, 0.9922999739646912]"
      ]
     },
     "execution_count": 14,
     "metadata": {},
     "output_type": "execute_result"
    }
   ],
   "source": [
    "model.evaluate(x_test_cnn,  y_test, verbose=2)"
   ]
  },
  {
   "cell_type": "markdown",
   "metadata": {},
   "source": [
    "The cost we can see that it is stable. Also, accuracy dances a lot. It cannot be said that it is a very good model.\n",
    "\n",
    "Let's see what kind of predictions I'm getting about the test set (let's paint the images and their classifications)"
   ]
  },
  {
   "cell_type": "code",
   "execution_count": 15,
   "metadata": {},
   "outputs": [],
   "source": [
    "predictions = model.predict(x_test_cnn)"
   ]
  },
  {
   "cell_type": "markdown",
   "metadata": {},
   "source": [
    "One of the advantages of Python is that there are loads of functions and code made by third parties. Here I have shot some nice functions (which I have adapted a bit to my needs) to be able to paint the images, their label (ground truth) and the classifications that we have made."
   ]
  },
  {
   "cell_type": "code",
   "execution_count": 16,
   "metadata": {},
   "outputs": [],
   "source": [
    "def plot_image(i, predictions_array, true_label, img):\n",
    "    predictions_array, true_label, img = predictions_array, true_label[i], img[i]\n",
    "    plt.grid(False)\n",
    "    plt.xticks([])\n",
    "    plt.yticks([])\n",
    "\n",
    "    plt.imshow(img, cmap=plt.cm.binary)\n",
    "\n",
    "    predicted_label = np.argmax(predictions_array)\n",
    "    if predicted_label == true_label:\n",
    "        color = 'blue'\n",
    "    else:\n",
    "        color = 'red'\n",
    "\n",
    "    plt.xlabel(\"{} {:2.0f}% ({})\".format(predicted_label,\n",
    "                                100*np.max(predictions_array),\n",
    "                                true_label),\n",
    "                                color=color)\n",
    "\n",
    "def plot_value_array(i, predictions_array, true_label):\n",
    "    predictions_array, true_label = predictions_array, true_label[i]\n",
    "    plt.grid(False)\n",
    "    plt.xticks(range(10))\n",
    "    plt.yticks([])\n",
    "    thisplot = plt.bar(range(10), predictions_array, color=\"#777777\")\n",
    "    plt.ylim([0, 1])\n",
    "    predicted_label = np.argmax(predictions_array)\n",
    "\n",
    "    thisplot[predicted_label].set_color('red')\n",
    "    thisplot[true_label].set_color('blue')"
   ]
  },
  {
   "cell_type": "markdown",
   "metadata": {},
   "source": [
    "We draw the first digits, with the predictions and their real values ​​(a total of 20 images, so as not to abuse your laptops)\n",
    "\n",
    "We color the correct predictions in blue and the failures in red"
   ]
  },
  {
   "cell_type": "code",
   "execution_count": 17,
   "metadata": {},
   "outputs": [
    {
     "data": {
      "image/png": "[encoded data removed]",
      "text/plain": [
       "<Figure size 1152x720 with 40 Axes>"
      ]
     },
     "metadata": {
      "needs_background": "light"
     },
     "output_type": "display_data"
    }
   ],
   "source": [
    "num_rows = 5\n",
    "num_cols = 4\n",
    "start = 650\n",
    "num_images = num_rows*num_cols\n",
    "plt.figure(figsize=(2*2*num_cols, 2*num_rows))\n",
    "for i in range(num_images):\n",
    "    plt.subplot(num_rows, 2*num_cols, 2*i+1)\n",
    "    plot_image(i+start, predictions[i+start], y_test, x_test)\n",
    "    plt.subplot(num_rows, 2*num_cols, 2*i+2)\n",
    "    plot_value_array(i+start, predictions[i+start], y_test)\n",
    "plt.tight_layout()\n",
    "plt.show()"
   ]
  },
  {
   "cell_type": "code",
   "execution_count": 18,
   "metadata": {},
   "outputs": [],
   "source": [
    "from tensorflow.keras.models import load_model\n",
    "\n",
    "model.save('mnist_model.h5')"
   ]
  },
  {
   "cell_type": "code",
   "execution_count": null,
   "metadata": {},
   "outputs": [],
   "source": []
  }
 ],
 "metadata": {
  "kernelspec": {
   "display_name": "Python 3 (ipykernel)",
   "language": "python",
   "name": "python3"
  },
  "language_info": {
   "codemirror_mode": {
    "name": "ipython",
    "version": 3
   },
   "file_extension": ".py",
   "mimetype": "text/x-python",
   "name": "python",
   "nbconvert_exporter": "python",
   "pygments_lexer": "ipython3",
   "version": "3.8.12"
  }
 },
 "nbformat": 4,
 "nbformat_minor": 4
}
