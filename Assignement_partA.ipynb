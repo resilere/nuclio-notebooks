{
 "cells": [
  {
   "cell_type": "markdown",
   "metadata": {},
   "source": [
    "![Nuclio logo](.\\img\\nucleoDS-newBlack.png)"
   ]
  },
  {
   "cell_type": "markdown",
   "metadata": {},
   "source": [
    "# Project Pre-Processing\n",
    "## Group Components:\n",
    "<span style=\"color:Yellow\"><font size=\"3\">__Eser Isler__<br></span></font>\n",
    "<span style=\"color:Yellow\"><font size=\"3\">__Joao Canvezes__</span></font>"
   ]
  },
  {
   "cell_type": "markdown",
   "metadata": {},
   "source": [
    " ## __*SYNOPSIS*__\n",
    " \n",
    "### Part *A* - Preprocessing\n",
    "<font size=\"3\"> You are given a data set that contains details of a bank's customers. The task here is to use the pre-processing techniques shown in the class to clean and transform this data set. </font>\n",
    "\n",
    " ### __*INPUTS*__\n",
    " <font size=\"3\"> The dataset in use is -> __\"./chrun_data_before_processing.csv\"__ </font>\n",
    "\n",
    " ### __*Outputs*__\n",
    " <font size=\"3\"> Same Dataset Pre-Processed </font>\n"
   ]
  },
  {
   "cell_type": "markdown",
   "metadata": {},
   "source": [
    "## __*Libraries used on this project*__\n",
    "| Libraries     | Alias         | Description  |\n",
    "| ------------- |:-------------:|:-------------|\n",
    "|Pandas         | pd | Main library used for data manipulation and analysis manipulation tool |\n",
    "|Numpy          | np | Library to operate multi-dimensional Arrays, collections and matrices |\n",
    "|Matplotlib     | plt | Library used to visualize the dataframe|\n",
    "|Sklearn.preprocessing |   | import LabelEncoder, OneHotEncoder, MultiLabelBinarizer, MinMaxScaler, StandardScaler, Normalizer|"
   ]
  },
  {
   "cell_type": "markdown",
   "metadata": {},
   "source": [
    "## __Part-1 Exploratory Dataset Analisys__\n",
    "### First, we need to import the librariess to be used during this code. "
   ]
  },
  {
   "cell_type": "code",
   "execution_count": 3589,
   "metadata": {},
   "outputs": [],
   "source": [
    "import pandas as pd\n",
    "import numpy as np\n",
    "import matplotlib as plt\n",
    "from sklearn.preprocessing import LabelEncoder, OneHotEncoder, MultiLabelBinarizer, MinMaxScaler, StandardScaler, Normalizer\n"
   ]
  },
  {
   "cell_type": "markdown",
   "metadata": {},
   "source": [
    "### After importing the library, we need to import our target Dataset used on this project. We will use the command -> ```pd.read_csv()```\n"
   ]
  },
  {
   "cell_type": "code",
   "execution_count": 3590,
   "metadata": {},
   "outputs": [
    {
     "name": "stdout",
     "output_type": "stream",
     "text": [
      "   RowNumber  CustomerId   Surname  CreditScore Geography  Gender   Age  \\\n",
      "0          1    15634602  Hargrave        619.0    France  Female  42.0   \n",
      "1          2    15647311      Hill        608.0     Spain  Female  41.0   \n",
      "2          3    15619304      Onio        502.0    France  Female  42.0   \n",
      "3          4    15701354      Boni        699.0    France  Female  39.0   \n",
      "4          5    15737888  Mitchell        850.0     Spain  Female  43.0   \n",
      "5          6    15574012       Chu        645.0     Spain    Male  44.0   \n",
      "6          7    15592531  Bartlett        822.0    France    Male  50.0   \n",
      "7          8    15656148    Obinna        376.0   Germany  Female  29.0   \n",
      "8          9    15792365        He        501.0    France    Male  44.0   \n",
      "9         10    15592389       NaN        684.0    France    Male  27.0   \n",
      "\n",
      "   Tenure    Balance  NumOfProducts  HasCrCard  IsActiveMember  \\\n",
      "0     2.0       0.00            1.0        1.0             1.0   \n",
      "1     1.0   83807.86            1.0        0.0             1.0   \n",
      "2     8.0  159660.80            3.0        1.0             0.0   \n",
      "3     1.0       0.00            2.0        0.0             NaN   \n",
      "4     2.0  125510.82            1.0        1.0             1.0   \n",
      "5     8.0  113755.78            2.0        1.0             0.0   \n",
      "6     7.0       0.00            2.0        1.0             1.0   \n",
      "7     4.0  115046.74            4.0        1.0             0.0   \n",
      "8     4.0  142051.07            2.0        0.0             1.0   \n",
      "9     2.0  134603.88            1.0        1.0             1.0   \n",
      "\n",
      "   EstimatedSalary  Exited  \n",
      "0        101348.88       1  \n",
      "1        112542.58       0  \n",
      "2        113931.57       1  \n",
      "3         93826.63       0  \n",
      "4         79084.10       0  \n",
      "5        149756.71       1  \n",
      "6         10062.80       0  \n",
      "7        119346.88       1  \n",
      "8         74940.50       0  \n",
      "9         71725.73       0  \n"
     ]
    }
   ],
   "source": [
    "# Using pd.read:csv() to load dataframe using \",\" as separator and force new index starting from \"Zero\"\n",
    "df_churn_data = pd.read_csv(\"churn_data_before_processing.csv\", sep=',',index_col=0)\n",
    "\n",
    "# We can check that the Dataframe table is correctly loaded printing the 10 first rows\n",
    "print(df_churn_data.head(10), sep='\\n')"
   ]
  },
  {
   "cell_type": "markdown",
   "metadata": {},
   "source": [
    "### The first row [RowNumber] is possibly just left over from data export, and, therefore, we can drop it."
   ]
  },
  {
   "cell_type": "code",
   "execution_count": 3591,
   "metadata": {},
   "outputs": [
    {
     "name": "stdout",
     "output_type": "stream",
     "text": [
      "   CustomerId   Surname  CreditScore Geography  Gender   Age  Tenure  \\\n",
      "0    15634602  Hargrave        619.0    France  Female  42.0     2.0   \n",
      "1    15647311      Hill        608.0     Spain  Female  41.0     1.0   \n",
      "2    15619304      Onio        502.0    France  Female  42.0     8.0   \n",
      "3    15701354      Boni        699.0    France  Female  39.0     1.0   \n",
      "4    15737888  Mitchell        850.0     Spain  Female  43.0     2.0   \n",
      "5    15574012       Chu        645.0     Spain    Male  44.0     8.0   \n",
      "6    15592531  Bartlett        822.0    France    Male  50.0     7.0   \n",
      "7    15656148    Obinna        376.0   Germany  Female  29.0     4.0   \n",
      "8    15792365        He        501.0    France    Male  44.0     4.0   \n",
      "9    15592389       NaN        684.0    France    Male  27.0     2.0   \n",
      "\n",
      "     Balance  NumOfProducts  HasCrCard  IsActiveMember  EstimatedSalary  \\\n",
      "0       0.00            1.0        1.0             1.0        101348.88   \n",
      "1   83807.86            1.0        0.0             1.0        112542.58   \n",
      "2  159660.80            3.0        1.0             0.0        113931.57   \n",
      "3       0.00            2.0        0.0             NaN         93826.63   \n",
      "4  125510.82            1.0        1.0             1.0         79084.10   \n",
      "5  113755.78            2.0        1.0             0.0        149756.71   \n",
      "6       0.00            2.0        1.0             1.0         10062.80   \n",
      "7  115046.74            4.0        1.0             0.0        119346.88   \n",
      "8  142051.07            2.0        0.0             1.0         74940.50   \n",
      "9  134603.88            1.0        1.0             1.0         71725.73   \n",
      "\n",
      "   Exited  \n",
      "0       1  \n",
      "1       0  \n",
      "2       1  \n",
      "3       0  \n",
      "4       0  \n",
      "5       1  \n",
      "6       0  \n",
      "7       1  \n",
      "8       0  \n",
      "9       0  \n",
      "      CustomerId   Surname  CreditScore Geography  Gender   Age  Tenure  \\\n",
      "0       15634602  Hargrave        619.0    France  Female  42.0     2.0   \n",
      "1       15647311      Hill        608.0     Spain  Female  41.0     1.0   \n",
      "2       15619304      Onio        502.0    France  Female  42.0     8.0   \n",
      "3       15701354      Boni        699.0    France  Female  39.0     1.0   \n",
      "4       15737888  Mitchell        850.0     Spain  Female  43.0     2.0   \n",
      "...          ...       ...          ...       ...     ...   ...     ...   \n",
      "3612    15792151  Hamilton        635.0     Spain  Female  37.0     3.0   \n",
      "4437    15779522    Efimov        736.0    France  Female  24.0     0.0   \n",
      "6549    15792029       Lee        620.0    France    Male  32.0     6.0   \n",
      "4590    15680167   Thomson        635.0    France  Female  78.0     6.0   \n",
      "8       15792365        He        501.0    France    Male  44.0     4.0   \n",
      "\n",
      "        Balance  NumOfProducts  HasCrCard  IsActiveMember  EstimatedSalary  \\\n",
      "0          0.00            1.0        1.0             1.0        101348.88   \n",
      "1      83807.86            1.0        0.0             1.0        112542.58   \n",
      "2     159660.80            3.0        1.0             0.0        113931.57   \n",
      "3          0.00            2.0        0.0             NaN         93826.63   \n",
      "4     125510.82            1.0        1.0             1.0         79084.10   \n",
      "...         ...            ...        ...             ...              ...   \n",
      "3612       0.00            2.0        1.0             0.0         91086.73   \n",
      "4437       0.00            2.0        1.0             0.0        109355.73   \n",
      "6549       0.00            2.0        1.0             0.0         56139.09   \n",
      "4590   47536.40            1.0        NaN             1.0        119400.08   \n",
      "8     142051.07            2.0        0.0             1.0         74940.50   \n",
      "\n",
      "      Exited  \n",
      "0          1  \n",
      "1          0  \n",
      "2          1  \n",
      "3          0  \n",
      "4          0  \n",
      "...      ...  \n",
      "3612       0  \n",
      "4437       1  \n",
      "6549       0  \n",
      "4590       0  \n",
      "8          0  \n",
      "\n",
      "[10150 rows x 13 columns]\n"
     ]
    }
   ],
   "source": [
    "# Drop entire [RowNumber] column inplace\n",
    "df_churn_data.drop('RowNumber', axis=1, inplace=True)\n",
    "\n",
    "# Checking the Dataframe\n",
    "print(df_churn_data.head(10), df_churn_data, sep='\\n')"
   ]
  },
  {
   "cell_type": "markdown",
   "metadata": {},
   "source": [
    "### As [RowNumber], [CustomerId] and [Surname] does not offer us extra value on the prediction, so to save memorying and processing, we are also dropping it."
   ]
  },
  {
   "cell_type": "code",
   "execution_count": 3592,
   "metadata": {},
   "outputs": [
    {
     "name": "stdout",
     "output_type": "stream",
     "text": [
      "   CreditScore Geography  Gender   Age  Tenure    Balance  NumOfProducts  \\\n",
      "0        619.0    France  Female  42.0     2.0       0.00            1.0   \n",
      "1        608.0     Spain  Female  41.0     1.0   83807.86            1.0   \n",
      "2        502.0    France  Female  42.0     8.0  159660.80            3.0   \n",
      "3        699.0    France  Female  39.0     1.0       0.00            2.0   \n",
      "4        850.0     Spain  Female  43.0     2.0  125510.82            1.0   \n",
      "5        645.0     Spain    Male  44.0     8.0  113755.78            2.0   \n",
      "6        822.0    France    Male  50.0     7.0       0.00            2.0   \n",
      "7        376.0   Germany  Female  29.0     4.0  115046.74            4.0   \n",
      "8        501.0    France    Male  44.0     4.0  142051.07            2.0   \n",
      "9        684.0    France    Male  27.0     2.0  134603.88            1.0   \n",
      "\n",
      "   HasCrCard  IsActiveMember  EstimatedSalary  Exited  \n",
      "0        1.0             1.0        101348.88       1  \n",
      "1        0.0             1.0        112542.58       0  \n",
      "2        1.0             0.0        113931.57       1  \n",
      "3        0.0             NaN         93826.63       0  \n",
      "4        1.0             1.0         79084.10       0  \n",
      "5        1.0             0.0        149756.71       1  \n",
      "6        1.0             1.0         10062.80       0  \n",
      "7        1.0             0.0        119346.88       1  \n",
      "8        0.0             1.0         74940.50       0  \n",
      "9        1.0             1.0         71725.73       0  \n",
      "      CreditScore Geography  Gender   Age  Tenure    Balance  NumOfProducts  \\\n",
      "0           619.0    France  Female  42.0     2.0       0.00            1.0   \n",
      "1           608.0     Spain  Female  41.0     1.0   83807.86            1.0   \n",
      "2           502.0    France  Female  42.0     8.0  159660.80            3.0   \n",
      "3           699.0    France  Female  39.0     1.0       0.00            2.0   \n",
      "4           850.0     Spain  Female  43.0     2.0  125510.82            1.0   \n",
      "...           ...       ...     ...   ...     ...        ...            ...   \n",
      "3612        635.0     Spain  Female  37.0     3.0       0.00            2.0   \n",
      "4437        736.0    France  Female  24.0     0.0       0.00            2.0   \n",
      "6549        620.0    France    Male  32.0     6.0       0.00            2.0   \n",
      "4590        635.0    France  Female  78.0     6.0   47536.40            1.0   \n",
      "8           501.0    France    Male  44.0     4.0  142051.07            2.0   \n",
      "\n",
      "      HasCrCard  IsActiveMember  EstimatedSalary  Exited  \n",
      "0           1.0             1.0        101348.88       1  \n",
      "1           0.0             1.0        112542.58       0  \n",
      "2           1.0             0.0        113931.57       1  \n",
      "3           0.0             NaN         93826.63       0  \n",
      "4           1.0             1.0         79084.10       0  \n",
      "...         ...             ...              ...     ...  \n",
      "3612        1.0             0.0         91086.73       0  \n",
      "4437        1.0             0.0        109355.73       1  \n",
      "6549        1.0             0.0         56139.09       0  \n",
      "4590        NaN             1.0        119400.08       0  \n",
      "8           0.0             1.0         74940.50       0  \n",
      "\n",
      "[10150 rows x 11 columns]\n"
     ]
    }
   ],
   "source": [
    "# Drop entire [Surname] column inplace\n",
    "df_churn_data.drop('Surname', axis=1, inplace=True)\n",
    "\n",
    "# Drop entire [CustomerId] column inplace\n",
    "df_churn_data.drop('CustomerId', axis=1, inplace=True)\n",
    "\n",
    "# Checking the Dataframe\n",
    "print(df_churn_data.head(10), df_churn_data, sep='\\n')"
   ]
  },
  {
   "cell_type": "code",
   "execution_count": 3593,
   "metadata": {},
   "outputs": [
    {
     "name": "stdout",
     "output_type": "stream",
     "text": [
      "All Duplicate Rows based on all columns are : \n",
      "\n",
      "\n",
      "      CreditScore Geography  Gender   Age  Tenure    Balance  NumOfProducts  \\\n",
      "8           501.0    France    Male  44.0     4.0  142051.07            2.0   \n",
      "151         535.0    France  Female  48.0     9.0       0.00            1.0   \n",
      "227         547.0   Germany  Female  39.0     6.0   74596.15            3.0   \n",
      "326         594.0    France    Male  35.0     2.0       0.00            2.0   \n",
      "410         709.0     Spain    Male  23.0    10.0       0.00            2.0   \n",
      "...           ...       ...     ...   ...     ...        ...            ...   \n",
      "6523        671.0     Spain  Female  31.0     4.0       0.00            2.0   \n",
      "3612        635.0     Spain  Female  37.0     3.0       0.00            2.0   \n",
      "4437        736.0    France  Female  24.0     0.0       0.00            2.0   \n",
      "6549        620.0    France    Male  32.0     6.0       0.00            2.0   \n",
      "8           501.0    France    Male  44.0     4.0  142051.07            2.0   \n",
      "\n",
      "      HasCrCard  IsActiveMember  EstimatedSalary  Exited  \n",
      "8           0.0             1.0         74940.50       0  \n",
      "151         1.0             0.0        149892.79       1  \n",
      "227         1.0             1.0         85746.52       1  \n",
      "326         1.0             0.0        103480.69       0  \n",
      "410         0.0             0.0        129590.18       0  \n",
      "...         ...             ...              ...     ...  \n",
      "6523        0.0             1.0         79270.02       0  \n",
      "3612        1.0             0.0         91086.73       0  \n",
      "4437        1.0             0.0        109355.73       1  \n",
      "6549        1.0             0.0         56139.09       0  \n",
      "8           0.0             1.0         74940.50       0  \n",
      "\n",
      "[208 rows x 11 columns]\n"
     ]
    }
   ],
   "source": [
    "# First, lets look for duplicates. Send results to another Dataframe and print to check the Duplicates\n",
    "df_churn_data_duplicates = df_churn_data[df_churn_data.duplicated(keep=False)]\n",
    "\n",
    "# Now printing the resultant Dataset with the duplicated values just to check how many duplicate values exists\n",
    "print(\"All Duplicate Rows based on all columns are : \", '\\n', df_churn_data_duplicates,sep='\\n')"
   ]
  },
  {
   "cell_type": "markdown",
   "metadata": {},
   "source": [
    "### Now we know that this dataset has a total of 208 duplicated rows. The next step is to exclude the duplicated Rows."
   ]
  },
  {
   "cell_type": "code",
   "execution_count": 3594,
   "metadata": {},
   "outputs": [
    {
     "name": "stdout",
     "output_type": "stream",
     "text": [
      "Dataframe whituout duplicated rows: \n",
      "       CreditScore Geography  Gender   Age  Tenure    Balance  NumOfProducts  \\\n",
      "0           619.0    France  Female  42.0     2.0       0.00            1.0   \n",
      "1           608.0     Spain  Female  41.0     1.0   83807.86            1.0   \n",
      "2           502.0    France  Female  42.0     8.0  159660.80            3.0   \n",
      "3           699.0    France  Female  39.0     1.0       0.00            2.0   \n",
      "4           850.0     Spain  Female  43.0     2.0  125510.82            1.0   \n",
      "...           ...       ...     ...   ...     ...        ...            ...   \n",
      "7511        757.0    France    Male   NaN     0.0       0.00            1.0   \n",
      "8610        730.0    France    Male  23.0     8.0       0.00            2.0   \n",
      "2997        655.0    France  Female  26.0     NaN  106198.50            1.0   \n",
      "3856        679.0   Germany  Female  32.0     0.0   88335.05            NaN   \n",
      "4590        635.0    France  Female  78.0     6.0   47536.40            1.0   \n",
      "\n",
      "      HasCrCard  IsActiveMember  EstimatedSalary  Exited  \n",
      "0           1.0             1.0        101348.88       1  \n",
      "1           0.0             1.0        112542.58       0  \n",
      "2           1.0             0.0        113931.57       1  \n",
      "3           0.0             NaN         93826.63       0  \n",
      "4           1.0             1.0         79084.10       0  \n",
      "...         ...             ...              ...     ...  \n",
      "7511        1.0             0.0         83263.06       0  \n",
      "8610        1.0             0.0        183284.53       0  \n",
      "2997        0.0             1.0         32020.42       0  \n",
      "3856        0.0             0.0        159584.81       0  \n",
      "4590        NaN             1.0        119400.08       0  \n",
      "\n",
      "[10046 rows x 11 columns]\n"
     ]
    }
   ],
   "source": [
    "#Now we drop the duplicates with the argument \"inplace\"\n",
    "df_churn_data.drop_duplicates(inplace=True)\n",
    "\n",
    "#Now print dataframe without the Duplicates\n",
    "print(\"Dataframe whituout duplicated rows:\", \"\\n\", pd.DataFrame(df_churn_data))"
   ]
  },
  {
   "cell_type": "code",
   "execution_count": 3595,
   "metadata": {},
   "outputs": [
    {
     "name": "stdout",
     "output_type": "stream",
     "text": [
      "Sum of duplicated value:  0\n"
     ]
    }
   ],
   "source": [
    "# We can confirm that the duplicates are removed counting the duplicates on our DataFrame\n",
    "print(\"Sum of duplicated value: \", df_churn_data.duplicated().sum())"
   ]
  },
  {
   "cell_type": "markdown",
   "metadata": {},
   "source": [
    "### After successfully removing the duplicated values, let's proceed to extract more Dataset Infos before proceeding to check for missing data."
   ]
  },
  {
   "cell_type": "code",
   "execution_count": 3596,
   "metadata": {},
   "outputs": [
    {
     "name": "stdout",
     "output_type": "stream",
     "text": [
      "Showing DataFrame Info:\n",
      "<class 'pandas.core.frame.DataFrame'>\n",
      "Int64Index: 10046 entries, 0 to 4590\n",
      "Data columns (total 11 columns):\n",
      " #   Column           Non-Null Count  Dtype  \n",
      "---  ------           --------------  -----  \n",
      " 0   CreditScore      10028 non-null  float64\n",
      " 1   Geography        9850 non-null   object \n",
      " 2   Gender           9763 non-null   object \n",
      " 3   Age              9775 non-null   float64\n",
      " 4   Tenure           9966 non-null   float64\n",
      " 5   Balance          9890 non-null   float64\n",
      " 6   NumOfProducts    9758 non-null   float64\n",
      " 7   HasCrCard        9963 non-null   float64\n",
      " 8   IsActiveMember   9959 non-null   float64\n",
      " 9   EstimatedSalary  10002 non-null  float64\n",
      " 10  Exited           10046 non-null  int64  \n",
      "dtypes: float64(8), int64(1), object(2)\n",
      "memory usage: 941.8+ KB\n",
      "None\n"
     ]
    }
   ],
   "source": [
    "#We can also query the info to know how our Dataframe visualizes all the columns type.\n",
    "print(\"Showing DataFrame Info:\")\n",
    "print(df_churn_data.info())"
   ]
  },
  {
   "cell_type": "markdown",
   "metadata": {},
   "source": [
    "### We have a total of __12 Columns__, only 3 of then are not a numeric type. this dataset is formed by Informations about the customer with a column with the feature that we want be able to predict: ```Exited```"
   ]
  },
  {
   "cell_type": "code",
   "execution_count": 3597,
   "metadata": {},
   "outputs": [
    {
     "name": "stdout",
     "output_type": "stream",
     "text": [
      "Printing dataframe shape:  (10046, 11)\n"
     ]
    }
   ],
   "source": [
    "#What is the Shape of the dataset? To answer we will print the dataframe using the method .shape\n",
    "print(\"Printing dataframe shape: \", df_churn_data.shape)"
   ]
  },
  {
   "cell_type": "code",
   "execution_count": 3598,
   "metadata": {},
   "outputs": [
    {
     "name": "stdout",
     "output_type": "stream",
     "text": [
      "Description of the DataFrame:  \n",
      "         CreditScore          Age       Tenure       Balance  NumOfProducts  \\\n",
      "count  10028.000000  9775.000000  9966.000000  9.890000e+03    9758.000000   \n",
      "mean     650.895046    38.945269     5.016768  7.675722e+04       1.528098   \n",
      "std      100.319047    10.568860     2.926688  6.370337e+04       0.593187   \n",
      "min      350.000000   -49.000000    -5.000000  0.000000e+00      -2.000000   \n",
      "25%      584.000000    32.000000     3.000000  0.000000e+00       1.000000   \n",
      "50%      652.000000    37.000000     5.000000  9.726268e+04       1.000000   \n",
      "75%      718.000000    44.000000     7.000000  1.276520e+05       2.000000   \n",
      "max     2924.008649    92.000000    40.066513  1.036826e+06      11.177460   \n",
      "\n",
      "         HasCrCard  IsActiveMember  EstimatedSalary        Exited  \n",
      "count  9963.000000     9959.000000     10002.000000  10046.000000  \n",
      "mean      0.705510        0.514710    100079.821011      0.203564  \n",
      "std       0.455836        0.499809     57489.484584      0.402668  \n",
      "min       0.000000        0.000000        11.580000      0.000000  \n",
      "25%       0.000000        0.000000     50983.750000      0.000000  \n",
      "50%       1.000000        1.000000    100168.240000      0.000000  \n",
      "75%       1.000000        1.000000    149370.550000      0.000000  \n",
      "max       1.000000        1.000000    199992.480000      1.000000  \n"
     ]
    }
   ],
   "source": [
    "#Start by take the Qunatiles into account\n",
    "print(\"Description of the DataFrame: \", \"\\n\", df_churn_data.describe())"
   ]
  },
  {
   "cell_type": "markdown",
   "metadata": {},
   "source": [
    "### From the Describe information, we can already detect that some Data in Some rows are missing because we have [RowNumber]=10150, but some of the other columns have less information i.E [AGE]=9879.\n",
    "### Lets start to look for __missing values__"
   ]
  },
  {
   "cell_type": "code",
   "execution_count": 3599,
   "metadata": {},
   "outputs": [
    {
     "name": "stdout",
     "output_type": "stream",
     "text": [
      "Boolean -> Is there any missing values:  \n",
      " CreditScore         True\n",
      "Geography           True\n",
      "Gender              True\n",
      "Age                 True\n",
      "Tenure              True\n",
      "Balance             True\n",
      "NumOfProducts       True\n",
      "HasCrCard           True\n",
      "IsActiveMember      True\n",
      "EstimatedSalary     True\n",
      "Exited             False\n",
      "dtype: bool\n"
     ]
    }
   ],
   "source": [
    "#Is there any \"null\"?\n",
    "print(\"Boolean -> Is there any missing values: \", \"\\n\", df_churn_data.isnull().any())"
   ]
  },
  {
   "cell_type": "markdown",
   "metadata": {},
   "source": [
    "### with the exception of the [CustomerId] and [Exited] columns, all columns have missing values.\n",
    "### The next question is, how many values are missing on each column."
   ]
  },
  {
   "cell_type": "code",
   "execution_count": 3600,
   "metadata": {},
   "outputs": [
    {
     "name": "stdout",
     "output_type": "stream",
     "text": [
      "Missing Data per column:  \n",
      " CreditScore         18\n",
      "Geography          196\n",
      "Gender             283\n",
      "Age                271\n",
      "Tenure              80\n",
      "Balance            156\n",
      "NumOfProducts      288\n",
      "HasCrCard           83\n",
      "IsActiveMember      87\n",
      "EstimatedSalary     44\n",
      "Exited               0\n",
      "dtype: int64\n"
     ]
    }
   ],
   "source": [
    "#Sum missing Data per colmun\n",
    "print(\"Missing Data per column: \", \"\\n\", df_churn_data.isnull().sum())"
   ]
  },
  {
   "cell_type": "markdown",
   "metadata": {},
   "source": [
    "## __Part-2 Uni-variate Analisys__\n",
    "### Now we analyse every column in our DataFrame to understand tendencies, datect outliers and treating missing values."
   ]
  },
  {
   "cell_type": "markdown",
   "metadata": {},
   "source": [
    "### First step is to analyze the columns that might contain helpful information that can be used to predict Churn."
   ]
  },
  {
   "cell_type": "code",
   "execution_count": 3601,
   "metadata": {},
   "outputs": [],
   "source": [
    "# Because we have to do the same steps repeatedly, we made this function to retrieve the information for each Column.\n",
    "# Usage: analysis df.column\n",
    "\n",
    "def analysis(x):\n",
    "    if x.dtype == float or int:\n",
    "        if x.value_counts().sum() > 3:\n",
    "            print(x.name, \"column description: \", \"\\n\", x.describe(), \"\\n\")\n",
    "            print(\"Missing Data count for the column\", x.name, \"=\", x.isna().sum())\n",
    "    else:\n",
    "        print(x.value_counts(dropna=False))"
   ]
  },
  {
   "cell_type": "code",
   "execution_count": 3602,
   "metadata": {},
   "outputs": [
    {
     "name": "stdout",
     "output_type": "stream",
     "text": [
      "CreditScore column description:  \n",
      " count    10028.000000\n",
      "mean       650.895046\n",
      "std        100.319047\n",
      "min        350.000000\n",
      "25%        584.000000\n",
      "50%        652.000000\n",
      "75%        718.000000\n",
      "max       2924.008649\n",
      "Name: CreditScore, dtype: float64 \n",
      "\n",
      "Missing Data count for the column CreditScore = 18\n",
      "Geography column description:  \n",
      " count       9850\n",
      "unique         3\n",
      "top       France\n",
      "freq        4941\n",
      "Name: Geography, dtype: object \n",
      "\n",
      "Missing Data count for the column Geography = 196\n",
      "Gender column description:  \n",
      " count     9763\n",
      "unique       2\n",
      "top       Male\n",
      "freq      5323\n",
      "Name: Gender, dtype: object \n",
      "\n",
      "Missing Data count for the column Gender = 283\n",
      "Age column description:  \n",
      " count    9775.000000\n",
      "mean       38.945269\n",
      "std        10.568860\n",
      "min       -49.000000\n",
      "25%        32.000000\n",
      "50%        37.000000\n",
      "75%        44.000000\n",
      "max        92.000000\n",
      "Name: Age, dtype: float64 \n",
      "\n",
      "Missing Data count for the column Age = 271\n",
      "Tenure column description:  \n",
      " count    9966.000000\n",
      "mean        5.016768\n",
      "std         2.926688\n",
      "min        -5.000000\n",
      "25%         3.000000\n",
      "50%         5.000000\n",
      "75%         7.000000\n",
      "max        40.066513\n",
      "Name: Tenure, dtype: float64 \n",
      "\n",
      "Missing Data count for the column Tenure = 80\n",
      "Balance column description:  \n",
      " count    9.890000e+03\n",
      "mean     7.675722e+04\n",
      "std      6.370337e+04\n",
      "min      0.000000e+00\n",
      "25%      0.000000e+00\n",
      "50%      9.726268e+04\n",
      "75%      1.276520e+05\n",
      "max      1.036826e+06\n",
      "Name: Balance, dtype: float64 \n",
      "\n",
      "Missing Data count for the column Balance = 156\n",
      "NumOfProducts column description:  \n",
      " count    9758.000000\n",
      "mean        1.528098\n",
      "std         0.593187\n",
      "min        -2.000000\n",
      "25%         1.000000\n",
      "50%         1.000000\n",
      "75%         2.000000\n",
      "max        11.177460\n",
      "Name: NumOfProducts, dtype: float64 \n",
      "\n",
      "Missing Data count for the column NumOfProducts = 288\n",
      "HasCrCard column description:  \n",
      " count    9963.000000\n",
      "mean        0.705510\n",
      "std         0.455836\n",
      "min         0.000000\n",
      "25%         0.000000\n",
      "50%         1.000000\n",
      "75%         1.000000\n",
      "max         1.000000\n",
      "Name: HasCrCard, dtype: float64 \n",
      "\n",
      "Missing Data count for the column HasCrCard = 83\n",
      "IsActiveMember column description:  \n",
      " count    9959.000000\n",
      "mean        0.514710\n",
      "std         0.499809\n",
      "min         0.000000\n",
      "25%         0.000000\n",
      "50%         1.000000\n",
      "75%         1.000000\n",
      "max         1.000000\n",
      "Name: IsActiveMember, dtype: float64 \n",
      "\n",
      "Missing Data count for the column IsActiveMember = 87\n",
      "EstimatedSalary column description:  \n",
      " count     10002.000000\n",
      "mean     100079.821011\n",
      "std       57489.484584\n",
      "min          11.580000\n",
      "25%       50983.750000\n",
      "50%      100168.240000\n",
      "75%      149370.550000\n",
      "max      199992.480000\n",
      "Name: EstimatedSalary, dtype: float64 \n",
      "\n",
      "Missing Data count for the column EstimatedSalary = 44\n",
      "Exited column description:  \n",
      " count    10046.000000\n",
      "mean         0.203564\n",
      "std          0.402668\n",
      "min          0.000000\n",
      "25%          0.000000\n",
      "50%          0.000000\n",
      "75%          0.000000\n",
      "max          1.000000\n",
      "Name: Exited, dtype: float64 \n",
      "\n",
      "Missing Data count for the column Exited = 0\n"
     ]
    }
   ],
   "source": [
    "# Now Recursevely, we will cast this function over all over our Dataset.\n",
    "for column in df_churn_data.columns:\n",
    "    analysis(df_churn_data[column])"
   ]
  },
  {
   "cell_type": "markdown",
   "metadata": {},
   "source": [
    "### Now, let's go ahead and finalize our Uni-Variante Analysis is checking quantiles for continuous and Histogram or frequency tables for categorical features.\n",
    "### After preliminary analysis, here is the separation between the variables:\n",
    "| ColumnName     | dtype        | Variable_Classification |\n",
    "| ---------------|:------------:|:------------------------|\n",
    "|CustomerId      | int64        | Categorical             |\n",
    "|Surname         | object       | Categorical             |\n",
    "|CreditScore     | float64      | Continuous              |\n",
    "|Geography       | object       | Categorical             |\n",
    "|Gender          | object       | Categorical             |\n",
    "|Age             | float64      | Discrete                |\n",
    "|Tenure          | float64      | Continuous              |\n",
    "|Balance         | float64      | Continuous              |\n",
    "|NumOfProducts   | float64      | Discrete                |\n",
    "|HasCrCard       | float64      | Categorical             |\n",
    "|IsActiveMember  | float64      | Categorical             |\n",
    "|EstimatedSalary | float64      | Continuous              |\n",
    "|Exited          | int64        | Categorical             |"
   ]
  },
  {
   "cell_type": "markdown",
   "metadata": {},
   "source": [
    "### Now processing with analysis based on Variable classification."
   ]
  },
  {
   "cell_type": "markdown",
   "metadata": {},
   "source": [
    "## __Part-3 Data Cleaning__\n",
    "### Now we remove NaN's and outliers that are not necessary from our Dataset"
   ]
  },
  {
   "cell_type": "markdown",
   "metadata": {},
   "source": [
    "## __CreditScore__"
   ]
  },
  {
   "cell_type": "code",
   "execution_count": 3603,
   "metadata": {},
   "outputs": [
    {
     "name": "stdout",
     "output_type": "stream",
     "text": [
      "CreditScore Plot:  \n",
      " AxesSubplot(0.125,0.125;0.775x0.755)\n"
     ]
    },
    {
     "data": {
      "image/png": "[encoded data removed]",
      "text/plain": [
       "<Figure size 432x288 with 1 Axes>"
      ]
     },
     "metadata": {
      "needs_background": "light"
     },
     "output_type": "display_data"
    }
   ],
   "source": [
    "# Printing plot to check data distribuition\n",
    "print(\"CreditScore Plot: \", \"\\n\", df_churn_data.CreditScore.plot(title='CreditScore', ylabel='Score', kind='box'))"
   ]
  },
  {
   "cell_type": "markdown",
   "metadata": {},
   "source": [
    "### The data is not normally distributed that's why it is necessary to take the median instead of mean"
   ]
  },
  {
   "cell_type": "code",
   "execution_count": 3604,
   "metadata": {},
   "outputs": [
    {
     "name": "stdout",
     "output_type": "stream",
     "text": [
      "value_CreditScore_median = 652.0\n"
     ]
    }
   ],
   "source": [
    "# Saving in a variable to use later\n",
    "value_CreditScore_median = df_churn_data.CreditScore.median()\n",
    "print(\"value_CreditScore_median =\", value_CreditScore_median)"
   ]
  },
  {
   "cell_type": "code",
   "execution_count": 3605,
   "metadata": {},
   "outputs": [
    {
     "name": "stdout",
     "output_type": "stream",
     "text": [
      "CreditScore column description:  \n",
      " count    10046.000000\n",
      "mean       650.897026\n",
      "std        100.229135\n",
      "min        350.000000\n",
      "25%        584.000000\n",
      "50%        652.000000\n",
      "75%        717.000000\n",
      "max       2924.008649\n",
      "Name: CreditScore, dtype: float64 \n",
      "\n",
      "Missing Data count for the column CreditScore = 0\n",
      "None\n"
     ]
    }
   ],
   "source": [
    "# Now filling all 'na' values with the median value\n",
    "df_churn_data.CreditScore = df_churn_data.CreditScore.fillna(value_CreditScore_median)\n",
    "\n",
    "# Using our function to check if there are still any missing values\n",
    "print(analysis(df_churn_data.CreditScore))"
   ]
  },
  {
   "cell_type": "code",
   "execution_count": 3606,
   "metadata": {},
   "outputs": [
    {
     "name": "stdout",
     "output_type": "stream",
     "text": [
      "      CreditScore Geography  Gender   Age  Tenure    Balance  NumOfProducts  \\\n",
      "2258  2158.510025    France  Female  36.0     5.0  119540.15            1.0   \n",
      "8493  2924.008649   Germany  Female  46.0     9.0  113909.69            3.0   \n",
      "\n",
      "      HasCrCard  IsActiveMember  EstimatedSalary  Exited  \n",
      "2258        0.0             1.0         80603.99       0  \n",
      "8493        1.0             0.0         92320.37       1  \n"
     ]
    }
   ],
   "source": [
    "# Because there are only 2 Customers with CreditScore of this magnitude, we can remove them as outliers.\n",
    "print(df_churn_data.loc[(df_churn_data['CreditScore'] >= 1000)])"
   ]
  },
  {
   "cell_type": "code",
   "execution_count": 3607,
   "metadata": {},
   "outputs": [
    {
     "name": "stdout",
     "output_type": "stream",
     "text": [
      "CreditScore Plot:  \n",
      " AxesSubplot(0.125,0.125;0.775x0.755)\n"
     ]
    },
    {
     "data": {
      "image/png": "[encoded data removed]",
      "text/plain": [
       "<Figure size 432x288 with 1 Axes>"
      ]
     },
     "metadata": {
      "needs_background": "light"
     },
     "output_type": "display_data"
    }
   ],
   "source": [
    "# To finish with this Variable, let us eliminate the outliers once we determine that they are not contribuiting to the prediction.\n",
    "# Eliminate everything over 1000\n",
    "f = lambda x : value_CreditScore_median if x > 1000 else x \n",
    "df_churn_data.CreditScore = df_churn_data.CreditScore.map(f)\n",
    "\n",
    "# Making Box plot again to check if there are no more outliers\n",
    "print(\"CreditScore Plot: \", \"\\n\", df_churn_data.CreditScore.plot(title='CreditScore', ylabel='Score', kind='box'))"
   ]
  },
  {
   "cell_type": "markdown",
   "metadata": {},
   "source": [
    "### CreditScore cleanning is Complete, now doing the same to all other columns."
   ]
  },
  {
   "cell_type": "markdown",
   "metadata": {},
   "source": [
    "## __Geography__"
   ]
  },
  {
   "cell_type": "code",
   "execution_count": 3608,
   "metadata": {},
   "outputs": [
    {
     "name": "stdout",
     "output_type": "stream",
     "text": [
      "Geography column details:  \n",
      " France     4941\n",
      "Germany    2463\n",
      "Spain      2446\n",
      "NaN         196\n",
      "Name: Geography, dtype: int64\n"
     ]
    }
   ],
   "source": [
    "#Checking the frequency of different variables\n",
    "print(\"Geography column details: \", \"\\n\", df_churn_data.Geography.value_counts(dropna=False))"
   ]
  },
  {
   "cell_type": "markdown",
   "metadata": {},
   "source": [
    "### Because there are no Invalid Values, we can live as it is. We will just replace \"NaN\" values to \"No information available\" so we can filter it later."
   ]
  },
  {
   "cell_type": "code",
   "execution_count": 3609,
   "metadata": {},
   "outputs": [
    {
     "name": "stdout",
     "output_type": "stream",
     "text": [
      "Geography column details after replace:  \n",
      " France                      4941\n",
      "Germany                     2463\n",
      "Spain                       2446\n",
      "No information available     196\n",
      "Name: Geography, dtype: int64\n"
     ]
    }
   ],
   "source": [
    "# Replace \"NaN\" values\n",
    "df_churn_data.loc[df_churn_data.Geography.isna(), \"Geography\"] = \"No information available\"\n",
    "\n",
    "# Check the new variables distribuition\n",
    "print(\"Geography column details after replace: \", \"\\n\", df_churn_data.Geography.value_counts(dropna=False))"
   ]
  },
  {
   "cell_type": "code",
   "execution_count": 3610,
   "metadata": {},
   "outputs": [
    {
     "name": "stdout",
     "output_type": "stream",
     "text": [
      "Geography column description:  \n",
      " count      10046\n",
      "unique         4\n",
      "top       France\n",
      "freq        4941\n",
      "Name: Geography, dtype: object \n",
      "\n",
      "Missing Data count for the column Geography = 0\n",
      "None\n"
     ]
    }
   ],
   "source": [
    "# Using our function to check if there are still any missing values\n",
    "print(analysis(df_churn_data.Geography))"
   ]
  },
  {
   "cell_type": "markdown",
   "metadata": {},
   "source": [
    "## __Gender__"
   ]
  },
  {
   "cell_type": "code",
   "execution_count": 3611,
   "metadata": {},
   "outputs": [
    {
     "name": "stdout",
     "output_type": "stream",
     "text": [
      "Gender column details:  \n",
      " Male      5323\n",
      "Female    4440\n",
      "NaN        283\n",
      "Name: Gender, dtype: int64\n"
     ]
    }
   ],
   "source": [
    "#Checking the frequency of different variables\n",
    "print(\"Gender column details: \", \"\\n\", df_churn_data.Gender.value_counts(dropna=False))"
   ]
  },
  {
   "cell_type": "markdown",
   "metadata": {},
   "source": [
    "### Because there are no Invalid Values, we can live as it is. We will just replace \"NaN\" values to \"No information available\" so we can filter it later."
   ]
  },
  {
   "cell_type": "code",
   "execution_count": 3612,
   "metadata": {},
   "outputs": [
    {
     "name": "stdout",
     "output_type": "stream",
     "text": [
      "Gender column details after replace:  \n",
      " Male                        5323\n",
      "Female                      4440\n",
      "No information available     283\n",
      "Name: Gender, dtype: int64\n"
     ]
    }
   ],
   "source": [
    "# Replace \"NaN\" values\n",
    "df_churn_data.loc[df_churn_data.Gender.isna(), \"Gender\"] = \"No information available\"\n",
    "\n",
    "# Check the new variables distribuition\n",
    "print(\"Gender column details after replace: \", \"\\n\", df_churn_data.Gender.value_counts(dropna=False))"
   ]
  },
  {
   "cell_type": "code",
   "execution_count": 3613,
   "metadata": {},
   "outputs": [
    {
     "name": "stdout",
     "output_type": "stream",
     "text": [
      "Gender column description:  \n",
      " count     10046\n",
      "unique        3\n",
      "top        Male\n",
      "freq       5323\n",
      "Name: Gender, dtype: object \n",
      "\n",
      "Missing Data count for the column Gender = 0\n",
      "None\n"
     ]
    }
   ],
   "source": [
    "# Using our function to check if there are still any missing values\n",
    "print(analysis(df_churn_data.Gender))"
   ]
  },
  {
   "cell_type": "markdown",
   "metadata": {},
   "source": [
    "## __AGE__"
   ]
  },
  {
   "cell_type": "code",
   "execution_count": 3614,
   "metadata": {},
   "outputs": [
    {
     "name": "stdout",
     "output_type": "stream",
     "text": [
      "Age Plot:  \n",
      " AxesSubplot(0.125,0.125;0.775x0.755)\n"
     ]
    },
    {
     "data": {
      "image/png": "[encoded data removed]",
      "text/plain": [
       "<Figure size 432x288 with 1 Axes>"
      ]
     },
     "metadata": {
      "needs_background": "light"
     },
     "output_type": "display_data"
    }
   ],
   "source": [
    "# Printing plot to check data distribuition\n",
    "print(\"Age Plot: \", \"\\n\", df_churn_data.Age.plot(title='AGE', ylabel='Years', kind='box'))\n"
   ]
  },
  {
   "cell_type": "markdown",
   "metadata": {},
   "source": [
    "### Because it is impossible to have negative age, and we cannot confirm it is a typo, we will drop the outliers altogether."
   ]
  },
  {
   "cell_type": "code",
   "execution_count": 3615,
   "metadata": {},
   "outputs": [
    {
     "name": "stdout",
     "output_type": "stream",
     "text": [
      "      CreditScore Geography  Gender   Age  Tenure    Balance  NumOfProducts  \\\n",
      "1383        571.0    France  Female -23.0    10.0  151097.28            1.0   \n",
      "9783        601.0   Germany  Female -49.0     4.0   96252.98            2.0   \n",
      "\n",
      "      HasCrCard  IsActiveMember  EstimatedSalary  Exited  \n",
      "1383        0.0             1.0         17163.75       0  \n",
      "9783        1.0             NaN        104263.82       0  \n"
     ]
    }
   ],
   "source": [
    "# Checking frequency of the outliers\n",
    "print(df_churn_data.loc[(df_churn_data['Age'] < 0)])"
   ]
  },
  {
   "cell_type": "markdown",
   "metadata": {},
   "source": [
    "### Because there are only 2 Customers with Negative Age, we can remove them as outliers."
   ]
  },
  {
   "cell_type": "code",
   "execution_count": 3616,
   "metadata": {},
   "outputs": [
    {
     "name": "stdout",
     "output_type": "stream",
     "text": [
      "Age Plot:  \n",
      " AxesSubplot(0.125,0.125;0.775x0.755)\n"
     ]
    },
    {
     "data": {
      "image/png": "[encoded data removed]",
      "text/plain": [
       "<Figure size 432x288 with 1 Axes>"
      ]
     },
     "metadata": {
      "needs_background": "light"
     },
     "output_type": "display_data"
    }
   ],
   "source": [
    "# Eliminate everything under 0\n",
    "df_churn_data = df_churn_data[df_churn_data['Age'] > 0 ]\n",
    "\n",
    "# Printing plot to check data distribuition\n",
    "print(\"Age Plot: \", \"\\n\", df_churn_data.Age.plot(title='AGE', ylabel='Years', kind='box'))"
   ]
  },
  {
   "cell_type": "code",
   "execution_count": 3617,
   "metadata": {},
   "outputs": [
    {
     "name": "stdout",
     "output_type": "stream",
     "text": [
      "value_age_median = 37.0\n"
     ]
    }
   ],
   "source": [
    "# Checking the mean value again to check if it is still stable and save in a variable to use later\n",
    "value_age_median = df_churn_data.Age.median()\n",
    "print(\"value_age_median =\", value_age_median)"
   ]
  },
  {
   "cell_type": "code",
   "execution_count": 3618,
   "metadata": {},
   "outputs": [
    {
     "name": "stdout",
     "output_type": "stream",
     "text": [
      "Age column description:  \n",
      " count    9773.000000\n",
      "mean       38.960606\n",
      "std        10.513766\n",
      "min        18.000000\n",
      "25%        32.000000\n",
      "50%        37.000000\n",
      "75%        44.000000\n",
      "max        92.000000\n",
      "Name: Age, dtype: float64 \n",
      "\n",
      "Missing Data count for the column Age = 0\n",
      "None\n"
     ]
    }
   ],
   "source": [
    "# Now filling all 'na' values with the median value\n",
    "df_churn_data.Age = df_churn_data.Age.fillna(value_age_median)\n",
    "\n",
    "# Using our function to check if there are still any missing values\n",
    "print(analysis(df_churn_data.Age))"
   ]
  },
  {
   "cell_type": "markdown",
   "metadata": {},
   "source": [
    "## __Tenure__"
   ]
  },
  {
   "cell_type": "code",
   "execution_count": 3619,
   "metadata": {},
   "outputs": [
    {
     "name": "stdout",
     "output_type": "stream",
     "text": [
      "Tenure Plot:  \n",
      " AxesSubplot(0.125,0.125;0.775x0.755)\n"
     ]
    },
    {
     "data": {
      "image/png": "[encoded data removed]",
      "text/plain": [
       "<Figure size 432x288 with 1 Axes>"
      ]
     },
     "metadata": {
      "needs_background": "light"
     },
     "output_type": "display_data"
    }
   ],
   "source": [
    "# Printing plot to check data distribuition\n",
    "print(\"Tenure Plot: \", \"\\n\", df_churn_data.Tenure.plot(title='Tenure', ylabel='Years', kind='box'))"
   ]
  },
  {
   "cell_type": "markdown",
   "metadata": {},
   "source": [
    "### It should not be possible to have Tenure less than Zero"
   ]
  },
  {
   "cell_type": "code",
   "execution_count": 3620,
   "metadata": {},
   "outputs": [
    {
     "name": "stdout",
     "output_type": "stream",
     "text": [
      "      CreditScore Geography Gender   Age  Tenure    Balance  NumOfProducts  \\\n",
      "6893        578.0    France   Male  50.0    -5.0  151215.34            2.0   \n",
      "\n",
      "      HasCrCard  IsActiveMember  EstimatedSalary  Exited  \n",
      "6893        1.0             0.0         169804.4       0  \n"
     ]
    }
   ],
   "source": [
    "# Checking frequency of the outliers - Invalid\n",
    "print(df_churn_data.loc[(df_churn_data['Tenure'] < 0)])"
   ]
  },
  {
   "cell_type": "markdown",
   "metadata": {},
   "source": [
    "### Because there are only 1 Customers with Negative Tenure, we can remove them as outliers."
   ]
  },
  {
   "cell_type": "code",
   "execution_count": 3621,
   "metadata": {},
   "outputs": [
    {
     "name": "stdout",
     "output_type": "stream",
     "text": [
      "      CreditScore Geography  Gender   Age     Tenure    Balance  \\\n",
      "5204        430.0    France  Female  33.0  32.044103       0.00   \n",
      "5039        660.0    France  Female  38.0  40.066513  110570.78   \n",
      "\n",
      "      NumOfProducts  HasCrCard  IsActiveMember  EstimatedSalary  Exited  \n",
      "5204            1.0        1.0             1.0         69759.91       0  \n",
      "5039            2.0        1.0             0.0        195906.59       0  \n"
     ]
    }
   ],
   "source": [
    "# Checking frequency of the outliers - High Values (>75%)\n",
    "print(df_churn_data.loc[(df_churn_data['Tenure'] > 30)])"
   ]
  },
  {
   "cell_type": "markdown",
   "metadata": {},
   "source": [
    "### Those outliers can confuse our model because of the High value and small frequency. High Values (>75%)"
   ]
  },
  {
   "cell_type": "code",
   "execution_count": 3622,
   "metadata": {},
   "outputs": [
    {
     "name": "stdout",
     "output_type": "stream",
     "text": [
      "Tenure Plot:  \n",
      " AxesSubplot(0.125,0.125;0.775x0.755)\n"
     ]
    },
    {
     "data": {
      "image/png": "[encoded data removed]",
      "text/plain": [
       "<Figure size 432x288 with 1 Axes>"
      ]
     },
     "metadata": {
      "needs_background": "light"
     },
     "output_type": "display_data"
    }
   ],
   "source": [
    "# Eliminate everything under 0 and over 30\n",
    "df_churn_data = df_churn_data[(df_churn_data['Tenure'] > 0) & (df_churn_data['Tenure'] < 30 )]\n",
    "\n",
    "# Printing plot to check data distribuition\n",
    "print(\"Tenure Plot: \", \"\\n\", df_churn_data.Tenure.plot(title='Tenure', ylabel='Years', kind='box'))"
   ]
  },
  {
   "cell_type": "code",
   "execution_count": 3623,
   "metadata": {},
   "outputs": [
    {
     "name": "stdout",
     "output_type": "stream",
     "text": [
      "Tenure column description:  \n",
      " count    9289.000000\n",
      "mean        5.226827\n",
      "std         2.753259\n",
      "min         1.000000\n",
      "25%         3.000000\n",
      "50%         5.000000\n",
      "75%         8.000000\n",
      "max        10.000000\n",
      "Name: Tenure, dtype: float64 \n",
      "\n",
      "Missing Data count for the column Tenure = 0\n",
      "None\n"
     ]
    }
   ],
   "source": [
    "# Using our function to check if there are still any missing values\n",
    "print(analysis(df_churn_data.Tenure))"
   ]
  },
  {
   "cell_type": "markdown",
   "metadata": {},
   "source": [
    "### Because there are no Missing Values, we will proceed wihtout have to fill \"NaN\" values."
   ]
  },
  {
   "cell_type": "markdown",
   "metadata": {},
   "source": [
    "## __Balance__"
   ]
  },
  {
   "cell_type": "code",
   "execution_count": 3624,
   "metadata": {},
   "outputs": [
    {
     "name": "stdout",
     "output_type": "stream",
     "text": [
      "Balance Plot:  \n",
      " AxesSubplot(0.125,0.125;0.775x0.755)\n"
     ]
    },
    {
     "data": {
      "image/png": "[encoded data removed]",
      "text/plain": [
       "<Figure size 432x288 with 1 Axes>"
      ]
     },
     "metadata": {
      "needs_background": "light"
     },
     "output_type": "display_data"
    }
   ],
   "source": [
    "# Printing plot to check data distribuition\n",
    "print(\"Balance Plot: \", \"\\n\", df_churn_data.Balance.plot(title='Balance', ylabel='$', kind='box'))"
   ]
  },
  {
   "cell_type": "code",
   "execution_count": 3625,
   "metadata": {},
   "outputs": [
    {
     "name": "stdout",
     "output_type": "stream",
     "text": [
      "      CreditScore Geography  Gender   Age  Tenure       Balance  \\\n",
      "2135        736.0   Germany    Male  57.0     9.0  9.697802e+05   \n",
      "5464        556.0    France  Female  36.0     2.0  1.036826e+06   \n",
      "\n",
      "      NumOfProducts  HasCrCard  IsActiveMember  EstimatedSalary  Exited  \n",
      "2135            1.0        1.0             0.0         28434.44       1  \n",
      "5464            1.0        0.0             1.0        177670.57       0  \n"
     ]
    }
   ],
   "source": [
    "# Checking frequency of the outliers.\n",
    "print(df_churn_data.loc[(df_churn_data['Balance'] > 0.8e6)])"
   ]
  },
  {
   "cell_type": "markdown",
   "metadata": {},
   "source": [
    "### Because there are only 1 Customers with extreme high Balance, but they are not invalid like Age and Tenure. That is why we will transform it"
   ]
  },
  {
   "cell_type": "code",
   "execution_count": 3626,
   "metadata": {},
   "outputs": [
    {
     "name": "stdout",
     "output_type": "stream",
     "text": [
      "value_balance_median = 96986.03\n"
     ]
    }
   ],
   "source": [
    "# Checking the mean value again to check if it is still stable and save in a variable to use later\n",
    "value_balance_median = df_churn_data.Balance.median()\n",
    "print(\"value_balance_median =\", value_balance_median)"
   ]
  },
  {
   "cell_type": "code",
   "execution_count": 3627,
   "metadata": {},
   "outputs": [],
   "source": [
    "# Now filling all 'NaN' values with the median value\n",
    "df_churn_data.Balance = df_churn_data.Balance.fillna(value_balance_median)"
   ]
  },
  {
   "cell_type": "code",
   "execution_count": 3628,
   "metadata": {},
   "outputs": [
    {
     "name": "stdout",
     "output_type": "stream",
     "text": [
      "Balance Plot:  \n",
      " AxesSubplot(0.125,0.125;0.775x0.755)\n"
     ]
    },
    {
     "data": {
      "image/png": "[encoded data removed]",
      "text/plain": [
       "<Figure size 432x288 with 1 Axes>"
      ]
     },
     "metadata": {
      "needs_background": "light"
     },
     "output_type": "display_data"
    }
   ],
   "source": [
    "# Lets replace the Outlier with th median because its look like it is not an error, but a genuine outlier.\n",
    "df_churn_data.loc[df_churn_data.Balance > 0.8e6, 'Balance'] = value_balance_median\n",
    "\n",
    "# Printing plot to check data distribuition\n",
    "print(\"Balance Plot: \", \"\\n\", df_churn_data.Balance.plot(title='Balance', ylabel='$', kind='box'))"
   ]
  },
  {
   "cell_type": "code",
   "execution_count": 3629,
   "metadata": {},
   "outputs": [
    {
     "name": "stdout",
     "output_type": "stream",
     "text": [
      "Balance column description:  \n",
      " count      9289.000000\n",
      "mean      76701.522216\n",
      "std       61890.370569\n",
      "min           0.000000\n",
      "25%           0.000000\n",
      "50%       96986.030000\n",
      "75%      127211.450000\n",
      "max      238387.560000\n",
      "Name: Balance, dtype: float64 \n",
      "\n",
      "Missing Data count for the column Balance = 0\n",
      "None\n"
     ]
    }
   ],
   "source": [
    "# Using our function to check if there are still any missing values\n",
    "print(analysis(df_churn_data.Balance))"
   ]
  },
  {
   "cell_type": "markdown",
   "metadata": {},
   "source": [
    "## __NumOfProducts__"
   ]
  },
  {
   "cell_type": "code",
   "execution_count": 3630,
   "metadata": {},
   "outputs": [
    {
     "name": "stdout",
     "output_type": "stream",
     "text": [
      "NumOfProducts Plot:  \n",
      " AxesSubplot(0.125,0.125;0.775x0.755)\n"
     ]
    },
    {
     "data": {
      "image/png": "[encoded data removed]",
      "text/plain": [
       "<Figure size 432x288 with 1 Axes>"
      ]
     },
     "metadata": {
      "needs_background": "light"
     },
     "output_type": "display_data"
    }
   ],
   "source": [
    "# Printing plot to check data distribuition\n",
    "print(\"NumOfProducts Plot: \", \"\\n\", df_churn_data.NumOfProducts.plot(title='NumOfProducts', ylabel='Number of Products', kind='box'))"
   ]
  },
  {
   "cell_type": "markdown",
   "metadata": {},
   "source": [
    "### Have negative products should not be possible. Because we can not confirm or Deny if it is a typo, we need to remove them from the DataSet"
   ]
  },
  {
   "cell_type": "code",
   "execution_count": 3631,
   "metadata": {},
   "outputs": [
    {
     "name": "stdout",
     "output_type": "stream",
     "text": [
      "      CreditScore Geography  Gender   Age  Tenure    Balance  NumOfProducts  \\\n",
      "1389        627.0    France  Female  55.0     2.0  159441.27           -1.0   \n",
      "4251        601.0    France    Male  35.0     2.0       0.00           -2.0   \n",
      "4613        745.0    France  Female  46.0     7.0       0.00           -2.0   \n",
      "7409        807.0   Germany  Female  42.0     9.0  105356.09           -2.0   \n",
      "8105        659.0     Spain    Male  60.0     2.0       0.00           -1.0   \n",
      "\n",
      "      HasCrCard  IsActiveMember  EstimatedSalary  Exited  \n",
      "1389        1.0             0.0        100686.11       1  \n",
      "4251        1.0             1.0        118983.18       0  \n",
      "4613        1.0             NaN         67769.94       0  \n",
      "7409        1.0             1.0        130489.37       0  \n",
      "8105        1.0             0.0        177480.45       1  \n"
     ]
    }
   ],
   "source": [
    "# Checking frequency of the outliers\n",
    "print(df_churn_data.loc[(df_churn_data['NumOfProducts'] < 0)])"
   ]
  },
  {
   "cell_type": "markdown",
   "metadata": {},
   "source": [
    "### Because there are only 4 Customers with Negative Products, we can remove them as invalid outliers."
   ]
  },
  {
   "cell_type": "code",
   "execution_count": 3632,
   "metadata": {},
   "outputs": [
    {
     "name": "stdout",
     "output_type": "stream",
     "text": [
      "      CreditScore Geography Gender   Age  Tenure  Balance  NumOfProducts  \\\n",
      "6909        666.0     Spain   Male  43.0     5.0      0.0       11.17746   \n",
      "\n",
      "      HasCrCard  IsActiveMember  EstimatedSalary  Exited  \n",
      "6909        1.0             0.0          29346.1       0  \n"
     ]
    }
   ],
   "source": [
    "# Checking frequency of the outliers - Higher than 75%\n",
    "print(df_churn_data.loc[(df_churn_data['NumOfProducts'] > 4)])"
   ]
  },
  {
   "cell_type": "markdown",
   "metadata": {},
   "source": [
    "### Those outliers can confuse our model because of the High value and small frequency. High Values (>75%)"
   ]
  },
  {
   "cell_type": "code",
   "execution_count": 3633,
   "metadata": {},
   "outputs": [
    {
     "name": "stdout",
     "output_type": "stream",
     "text": [
      "NumOfProducts Plot:  \n",
      " AxesSubplot(0.125,0.125;0.775x0.755)\n"
     ]
    },
    {
     "data": {
      "image/png": "[encoded data removed]",
      "text/plain": [
       "<Figure size 432x288 with 1 Axes>"
      ]
     },
     "metadata": {
      "needs_background": "light"
     },
     "output_type": "display_data"
    }
   ],
   "source": [
    "# Eliminate everything under 0\n",
    "df_churn_data = df_churn_data[(df_churn_data['NumOfProducts'] >= 0 ) & (df_churn_data['NumOfProducts'] < 4)]\n",
    "\n",
    "# Printing plot to check data distribuition\n",
    "print(\"NumOfProducts Plot: \", \"\\n\", df_churn_data.NumOfProducts.plot(title='NumOfProducts', ylabel='Number Products', kind='box'))"
   ]
  },
  {
   "cell_type": "code",
   "execution_count": 3634,
   "metadata": {},
   "outputs": [
    {
     "name": "stdout",
     "output_type": "stream",
     "text": [
      "NumOfProducts column description:  \n",
      " count    8962.000000\n",
      "mean        1.516403\n",
      "std         0.551356\n",
      "min         1.000000\n",
      "25%         1.000000\n",
      "50%         1.000000\n",
      "75%         2.000000\n",
      "max         3.000000\n",
      "Name: NumOfProducts, dtype: float64 \n",
      "\n",
      "Missing Data count for the column NumOfProducts = 0\n",
      "None\n"
     ]
    }
   ],
   "source": [
    "# Using our function to check if there are still any missing values\n",
    "print(analysis(df_churn_data.NumOfProducts))"
   ]
  },
  {
   "cell_type": "markdown",
   "metadata": {},
   "source": [
    "## __HasCrCard__"
   ]
  },
  {
   "cell_type": "code",
   "execution_count": 3635,
   "metadata": {},
   "outputs": [
    {
     "name": "stdout",
     "output_type": "stream",
     "text": [
      "HasCrCard column details:  \n",
      " 1.0    6285\n",
      "0.0    2604\n",
      "NaN      73\n",
      "Name: HasCrCard, dtype: int64\n"
     ]
    }
   ],
   "source": [
    "#Checking the frequency of different variables\n",
    "print(\"HasCrCard column details: \", \"\\n\", df_churn_data.HasCrCard.value_counts(dropna=False))"
   ]
  },
  {
   "cell_type": "markdown",
   "metadata": {},
   "source": [
    "### Because there are no Invalid Values, we can live as it is. We will just replace \"NaN\" values to \"No information available\" so we can filter it later."
   ]
  },
  {
   "cell_type": "code",
   "execution_count": 3636,
   "metadata": {},
   "outputs": [
    {
     "name": "stdout",
     "output_type": "stream",
     "text": [
      "HasCrCard column details after replace:  \n",
      " 1.0                         6285\n",
      "0.0                         2604\n",
      "No information available      73\n",
      "Name: HasCrCard, dtype: int64\n"
     ]
    }
   ],
   "source": [
    "# Replace \"NaN\" values\n",
    "df_churn_data.loc[df_churn_data.HasCrCard.isna(), \"HasCrCard\"] = \"No information available\"\n",
    "\n",
    "# Check the new variables distribuition\n",
    "print(\"HasCrCard column details after replace: \", \"\\n\", df_churn_data.HasCrCard.value_counts(dropna=False))"
   ]
  },
  {
   "cell_type": "code",
   "execution_count": 3637,
   "metadata": {},
   "outputs": [
    {
     "name": "stdout",
     "output_type": "stream",
     "text": [
      "HasCrCard column description:  \n",
      " count     8962.0\n",
      "unique       3.0\n",
      "top          1.0\n",
      "freq      6285.0\n",
      "Name: HasCrCard, dtype: float64 \n",
      "\n",
      "Missing Data count for the column HasCrCard = 0\n",
      "None\n"
     ]
    }
   ],
   "source": [
    "# Using our function to check if there are still any missing values\n",
    "print(analysis(df_churn_data.HasCrCard))"
   ]
  },
  {
   "cell_type": "markdown",
   "metadata": {},
   "source": [
    "## __IsActiveMember__"
   ]
  },
  {
   "cell_type": "code",
   "execution_count": 3638,
   "metadata": {},
   "outputs": [
    {
     "name": "stdout",
     "output_type": "stream",
     "text": [
      "IsActiveMember column details:  \n",
      " 1.0    4587\n",
      "0.0    4303\n",
      "NaN      72\n",
      "Name: IsActiveMember, dtype: int64\n"
     ]
    }
   ],
   "source": [
    "#Checking the frequency of different variables\n",
    "print(\"IsActiveMember column details: \", \"\\n\", df_churn_data.IsActiveMember.value_counts(dropna=False))"
   ]
  },
  {
   "cell_type": "markdown",
   "metadata": {},
   "source": [
    "### Because there are no Invalid Values, we can live as it is. We will just replace \"NaN\" values to \"No information available\" so we can filter it later."
   ]
  },
  {
   "cell_type": "code",
   "execution_count": 3639,
   "metadata": {},
   "outputs": [
    {
     "name": "stdout",
     "output_type": "stream",
     "text": [
      "IsActiveMember column details after replace:  \n",
      " 1.0                         4587\n",
      "0.0                         4303\n",
      "No information available      72\n",
      "Name: IsActiveMember, dtype: int64\n"
     ]
    }
   ],
   "source": [
    "# Replace \"NaN\" values\n",
    "df_churn_data.loc[df_churn_data.IsActiveMember.isna(), \"IsActiveMember\"] = \"No information available\"\n",
    "\n",
    "# Check the new variables distribuition\n",
    "print(\"IsActiveMember column details after replace: \", \"\\n\", df_churn_data.IsActiveMember.value_counts(dropna=False))"
   ]
  },
  {
   "cell_type": "code",
   "execution_count": 3640,
   "metadata": {},
   "outputs": [
    {
     "name": "stdout",
     "output_type": "stream",
     "text": [
      "IsActiveMember column description:  \n",
      " count     8962.0\n",
      "unique       3.0\n",
      "top          1.0\n",
      "freq      4587.0\n",
      "Name: IsActiveMember, dtype: float64 \n",
      "\n",
      "Missing Data count for the column IsActiveMember = 0\n",
      "None\n"
     ]
    }
   ],
   "source": [
    "# Using our function to check if there are still any missing values\n",
    "print(analysis(df_churn_data.IsActiveMember))"
   ]
  },
  {
   "cell_type": "markdown",
   "metadata": {},
   "source": [
    "## __EstimatedSalary__"
   ]
  },
  {
   "cell_type": "code",
   "execution_count": 3641,
   "metadata": {},
   "outputs": [
    {
     "name": "stdout",
     "output_type": "stream",
     "text": [
      "EstimatedSalary Plot:  \n",
      " AxesSubplot(0.125,0.125;0.775x0.755)\n"
     ]
    },
    {
     "data": {
      "image/png": "[encoded data removed]",
      "text/plain": [
       "<Figure size 432x288 with 1 Axes>"
      ]
     },
     "metadata": {
      "needs_background": "light"
     },
     "output_type": "display_data"
    }
   ],
   "source": [
    "# Printing plot to check data distribuition\n",
    "print(\"EstimatedSalary Plot: \", \"\\n\", df_churn_data.EstimatedSalary.plot(title='EstimatedSalary', ylabel='$', kind='box'))"
   ]
  },
  {
   "cell_type": "markdown",
   "metadata": {},
   "source": [
    "### This Column looks balanced, we will take the __Mean__ values to fill __\"NaN\"__"
   ]
  },
  {
   "cell_type": "code",
   "execution_count": 3642,
   "metadata": {},
   "outputs": [
    {
     "name": "stdout",
     "output_type": "stream",
     "text": [
      "value_EstimatedSalary_mean = 99643.36228587433\n"
     ]
    }
   ],
   "source": [
    "# Checking the mean value again to check if it is still stable and save in a variable to use later\n",
    "value_EstimatedSalary_mean = df_churn_data.EstimatedSalary.mean()\n",
    "print(\"value_EstimatedSalary_mean =\", value_EstimatedSalary_mean)"
   ]
  },
  {
   "cell_type": "code",
   "execution_count": 3643,
   "metadata": {},
   "outputs": [],
   "source": [
    "# Now filling all 'NaN' values with the median value\n",
    "df_churn_data.EstimatedSalary = df_churn_data.EstimatedSalary.fillna(value_EstimatedSalary_mean)"
   ]
  },
  {
   "cell_type": "code",
   "execution_count": 3644,
   "metadata": {},
   "outputs": [
    {
     "name": "stdout",
     "output_type": "stream",
     "text": [
      "EstimatedSalary column description:  \n",
      " count      8962.000000\n",
      "mean      99643.362286\n",
      "std       57454.770485\n",
      "min          11.580000\n",
      "25%       50783.295000\n",
      "50%       99643.362286\n",
      "75%      148672.705000\n",
      "max      199992.480000\n",
      "Name: EstimatedSalary, dtype: float64 \n",
      "\n",
      "Missing Data count for the column EstimatedSalary = 0\n",
      "None\n"
     ]
    }
   ],
   "source": [
    "# Using our function to check if there are still any missing values\n",
    "print(analysis(df_churn_data.EstimatedSalary))"
   ]
  },
  {
   "cell_type": "markdown",
   "metadata": {},
   "source": [
    "## __Exited__"
   ]
  },
  {
   "cell_type": "code",
   "execution_count": 3645,
   "metadata": {},
   "outputs": [
    {
     "name": "stdout",
     "output_type": "stream",
     "text": [
      "Exited column details:  \n",
      " 0    7203\n",
      "1    1759\n",
      "Name: Exited, dtype: int64\n"
     ]
    }
   ],
   "source": [
    "#Checking the frequency of different variables\n",
    "print(\"Exited column details: \", \"\\n\", df_churn_data.Exited.value_counts(dropna=False))"
   ]
  },
  {
   "cell_type": "markdown",
   "metadata": {},
   "source": [
    "### Because no Data is missing, no further cleaning is necessary."
   ]
  },
  {
   "cell_type": "markdown",
   "metadata": {},
   "source": [
    "### Now that Dataset is clean Let's save a clean version and continue with processing"
   ]
  },
  {
   "cell_type": "code",
   "execution_count": 3646,
   "metadata": {},
   "outputs": [],
   "source": [
    "# Save the result DataSet into a new CSV File\n",
    "df_churn_data.to_csv(\"churn_data_clean.csv\", sep=',', index=False)\n"
   ]
  },
  {
   "cell_type": "markdown",
   "metadata": {},
   "source": [
    "## __Part-4 Data Transformation__\n",
    "### Transforming categorical and Scaling Continuous variables"
   ]
  },
  {
   "cell_type": "code",
   "execution_count": 3647,
   "metadata": {},
   "outputs": [
    {
     "name": "stdout",
     "output_type": "stream",
     "text": [
      "   CreditScore Geography  Gender   Age  Tenure    Balance  NumOfProducts  \\\n",
      "0        619.0    France  Female  42.0     2.0       0.00            1.0   \n",
      "1        608.0     Spain  Female  41.0     1.0   83807.86            1.0   \n",
      "2        502.0    France  Female  42.0     8.0  159660.80            3.0   \n",
      "3        699.0    France  Female  39.0     1.0       0.00            2.0   \n",
      "4        850.0     Spain  Female  43.0     2.0  125510.82            1.0   \n",
      "5        645.0     Spain    Male  44.0     8.0  113755.78            2.0   \n",
      "6        822.0    France    Male  50.0     7.0       0.00            2.0   \n",
      "7        501.0    France    Male  44.0     4.0  142051.07            2.0   \n",
      "8        684.0    France    Male  27.0     2.0  134603.88            1.0   \n",
      "9        528.0    France    Male  31.0     6.0  102016.72            2.0   \n",
      "\n",
      "  HasCrCard            IsActiveMember  EstimatedSalary  Exited  \n",
      "0       1.0                       1.0        101348.88       1  \n",
      "1       0.0                       1.0        112542.58       0  \n",
      "2       1.0                       0.0        113931.57       1  \n",
      "3       0.0  No information available         93826.63       0  \n",
      "4       1.0                       1.0         79084.10       0  \n",
      "5       1.0                       0.0        149756.71       1  \n",
      "6       1.0                       1.0         10062.80       0  \n",
      "7       0.0                       1.0         74940.50       0  \n",
      "8       1.0                       1.0         71725.73       0  \n",
      "9       0.0                       0.0         80181.12       0  \n"
     ]
    }
   ],
   "source": [
    "# Using pd.read:csv() to load dataframe using \",\" as separator and force new index starting from \"Zero\"\n",
    "df_churn_data_clean = pd.read_csv(\"churn_data_clean.csv\", sep=',')\n",
    "\n",
    "# Printing the table to check if everything looks clean\n",
    "print(df_churn_data_clean.head(10))"
   ]
  },
  {
   "cell_type": "markdown",
   "metadata": {},
   "source": [
    "### After Load the Dataset, we will check if the data is consistent and without null values"
   ]
  },
  {
   "cell_type": "code",
   "execution_count": 3648,
   "metadata": {},
   "outputs": [
    {
     "name": "stdout",
     "output_type": "stream",
     "text": [
      "<class 'pandas.core.frame.DataFrame'>\n",
      "RangeIndex: 8962 entries, 0 to 8961\n",
      "Data columns (total 11 columns):\n",
      " #   Column           Non-Null Count  Dtype  \n",
      "---  ------           --------------  -----  \n",
      " 0   CreditScore      8962 non-null   float64\n",
      " 1   Geography        8962 non-null   object \n",
      " 2   Gender           8962 non-null   object \n",
      " 3   Age              8962 non-null   float64\n",
      " 4   Tenure           8962 non-null   float64\n",
      " 5   Balance          8962 non-null   float64\n",
      " 6   NumOfProducts    8962 non-null   float64\n",
      " 7   HasCrCard        8962 non-null   object \n",
      " 8   IsActiveMember   8962 non-null   object \n",
      " 9   EstimatedSalary  8962 non-null   float64\n",
      " 10  Exited           8962 non-null   int64  \n",
      "dtypes: float64(6), int64(1), object(4)\n",
      "memory usage: 770.3+ KB\n",
      "None\n"
     ]
    }
   ],
   "source": [
    "# Checking data Info\n",
    "print(df_churn_data_clean.info())"
   ]
  },
  {
   "cell_type": "code",
   "execution_count": 3649,
   "metadata": {},
   "outputs": [
    {
     "name": "stdout",
     "output_type": "stream",
     "text": [
      "CreditScore        False\n",
      "Geography          False\n",
      "Gender             False\n",
      "Age                False\n",
      "Tenure             False\n",
      "Balance            False\n",
      "NumOfProducts      False\n",
      "HasCrCard          False\n",
      "IsActiveMember     False\n",
      "EstimatedSalary    False\n",
      "Exited             False\n",
      "dtype: bool\n"
     ]
    }
   ],
   "source": [
    "# Checking missing values\n",
    "print(df_churn_data_clean.isna().any())"
   ]
  },
  {
   "cell_type": "markdown",
   "metadata": {},
   "source": [
    "### With the check of the way lets start with Processing"
   ]
  },
  {
   "cell_type": "markdown",
   "metadata": {},
   "source": [
    "## __Geography:__ Processing"
   ]
  },
  {
   "cell_type": "markdown",
   "metadata": {},
   "source": [
    "### Because it is a categorical value, we will divide encode with One Hot Encoder and eliminate only the [No information available] Column."
   ]
  },
  {
   "cell_type": "code",
   "execution_count": 3650,
   "metadata": {},
   "outputs": [
    {
     "name": "stdout",
     "output_type": "stream",
     "text": [
      "[[1. 0. 0. 0.]\n",
      " [0. 0. 0. 1.]\n",
      " [1. 0. 0. 0.]\n",
      " ...\n",
      " [0. 0. 0. 1.]\n",
      " [1. 0. 0. 0.]\n",
      " [1. 0. 0. 0.]]\n"
     ]
    }
   ],
   "source": [
    "# Initialize OneHotEncoder\n",
    "one_encoder = OneHotEncoder(sparse=False)\n",
    "\n",
    "# Reshape the columns to prepare to Encode\n",
    "reshaped_column_geography = np.array(df_churn_data_clean.Geography).reshape(len(df_churn_data_clean.Geography),1)\n",
    "\n",
    "# Apply the encoded categorical value\n",
    "encoded_geography = one_encoder.fit_transform(reshaped_column_geography)\n",
    "\n",
    "#Check the encoded result\n",
    "print(encoded_geography)\n",
    "\n"
   ]
  },
  {
   "cell_type": "code",
   "execution_count": 3651,
   "metadata": {},
   "outputs": [
    {
     "name": "stdout",
     "output_type": "stream",
     "text": [
      "   France  Germany  No information available  Spain\n",
      "0     1.0      0.0                       0.0    0.0\n",
      "1     0.0      0.0                       0.0    1.0\n",
      "2     1.0      0.0                       0.0    0.0\n",
      "3     1.0      0.0                       0.0    0.0\n",
      "4     0.0      0.0                       0.0    1.0\n",
      "5     0.0      0.0                       0.0    1.0\n",
      "6     1.0      0.0                       0.0    0.0\n",
      "7     1.0      0.0                       0.0    0.0\n",
      "8     1.0      0.0                       0.0    0.0\n",
      "9     1.0      0.0                       0.0    0.0\n"
     ]
    }
   ],
   "source": [
    "#Create new Dataframe Based on the eoncoded value\n",
    "df_encoded_geography = pd.DataFrame(encoded_geography,columns=one_encoder.categories_)\n",
    "\n",
    "# Change Multi-Index\n",
    "df_encoded_geography.columns = [multi_col[0] for multi_col in df_encoded_geography.columns]\n",
    "\n",
    "# Check the encoded Dataframe\n",
    "print(df_encoded_geography.head(10))\n"
   ]
  },
  {
   "cell_type": "markdown",
   "metadata": {},
   "source": [
    "### Now that the encoded version is ready, lets join to the main Dataset again"
   ]
  },
  {
   "cell_type": "code",
   "execution_count": 3652,
   "metadata": {},
   "outputs": [
    {
     "name": "stdout",
     "output_type": "stream",
     "text": [
      "   CreditScore Geography  Gender   Age  Tenure    Balance  NumOfProducts  \\\n",
      "0        619.0    France  Female  42.0     2.0       0.00            1.0   \n",
      "1        608.0     Spain  Female  41.0     1.0   83807.86            1.0   \n",
      "2        502.0    France  Female  42.0     8.0  159660.80            3.0   \n",
      "3        699.0    France  Female  39.0     1.0       0.00            2.0   \n",
      "4        850.0     Spain  Female  43.0     2.0  125510.82            1.0   \n",
      "5        645.0     Spain    Male  44.0     8.0  113755.78            2.0   \n",
      "6        822.0    France    Male  50.0     7.0       0.00            2.0   \n",
      "7        501.0    France    Male  44.0     4.0  142051.07            2.0   \n",
      "8        684.0    France    Male  27.0     2.0  134603.88            1.0   \n",
      "9        528.0    France    Male  31.0     6.0  102016.72            2.0   \n",
      "\n",
      "  HasCrCard            IsActiveMember  EstimatedSalary  Exited  France  \\\n",
      "0       1.0                       1.0        101348.88       1     1.0   \n",
      "1       0.0                       1.0        112542.58       0     0.0   \n",
      "2       1.0                       0.0        113931.57       1     1.0   \n",
      "3       0.0  No information available         93826.63       0     1.0   \n",
      "4       1.0                       1.0         79084.10       0     0.0   \n",
      "5       1.0                       0.0        149756.71       1     0.0   \n",
      "6       1.0                       1.0         10062.80       0     1.0   \n",
      "7       0.0                       1.0         74940.50       0     1.0   \n",
      "8       1.0                       1.0         71725.73       0     1.0   \n",
      "9       0.0                       0.0         80181.12       0     1.0   \n",
      "\n",
      "   Germany  No information available  Spain  \n",
      "0      0.0                       0.0    0.0  \n",
      "1      0.0                       0.0    1.0  \n",
      "2      0.0                       0.0    0.0  \n",
      "3      0.0                       0.0    0.0  \n",
      "4      0.0                       0.0    1.0  \n",
      "5      0.0                       0.0    1.0  \n",
      "6      0.0                       0.0    0.0  \n",
      "7      0.0                       0.0    0.0  \n",
      "8      0.0                       0.0    0.0  \n",
      "9      0.0                       0.0    0.0  \n"
     ]
    }
   ],
   "source": [
    "# Join DataFrames\n",
    "df_churn_data_clean = df_churn_data_clean.join(df_encoded_geography)\n",
    "\n",
    "# Check the result\n",
    "print(df_churn_data_clean.head(10))"
   ]
  },
  {
   "cell_type": "markdown",
   "metadata": {},
   "source": [
    "### Because we do not neet informatio from [No INformation available], lets drop it."
   ]
  },
  {
   "cell_type": "code",
   "execution_count": 3653,
   "metadata": {},
   "outputs": [
    {
     "name": "stdout",
     "output_type": "stream",
     "text": [
      "   CreditScore  Gender   Age  Tenure    Balance  NumOfProducts HasCrCard  \\\n",
      "0        619.0  Female  42.0     2.0       0.00            1.0       1.0   \n",
      "1        608.0  Female  41.0     1.0   83807.86            1.0       0.0   \n",
      "2        502.0  Female  42.0     8.0  159660.80            3.0       1.0   \n",
      "3        699.0  Female  39.0     1.0       0.00            2.0       0.0   \n",
      "4        850.0  Female  43.0     2.0  125510.82            1.0       1.0   \n",
      "5        645.0    Male  44.0     8.0  113755.78            2.0       1.0   \n",
      "6        822.0    Male  50.0     7.0       0.00            2.0       1.0   \n",
      "7        501.0    Male  44.0     4.0  142051.07            2.0       0.0   \n",
      "8        684.0    Male  27.0     2.0  134603.88            1.0       1.0   \n",
      "9        528.0    Male  31.0     6.0  102016.72            2.0       0.0   \n",
      "\n",
      "             IsActiveMember  EstimatedSalary  Exited  France  Germany  Spain  \n",
      "0                       1.0        101348.88       1     1.0      0.0    0.0  \n",
      "1                       1.0        112542.58       0     0.0      0.0    1.0  \n",
      "2                       0.0        113931.57       1     1.0      0.0    0.0  \n",
      "3  No information available         93826.63       0     1.0      0.0    0.0  \n",
      "4                       1.0         79084.10       0     0.0      0.0    1.0  \n",
      "5                       0.0        149756.71       1     0.0      0.0    1.0  \n",
      "6                       1.0         10062.80       0     1.0      0.0    0.0  \n",
      "7                       1.0         74940.50       0     1.0      0.0    0.0  \n",
      "8                       1.0         71725.73       0     1.0      0.0    0.0  \n",
      "9                       0.0         80181.12       0     1.0      0.0    0.0  \n"
     ]
    }
   ],
   "source": [
    "# Drop not usable Values\n",
    "df_churn_data_clean.drop('No information available', axis=1, inplace=True)\n",
    "df_churn_data_clean.drop('Geography', axis=1, inplace=True)\n",
    "\n",
    "# Check the final Result\n",
    "print(df_churn_data_clean.head(10))"
   ]
  },
  {
   "cell_type": "markdown",
   "metadata": {},
   "source": [
    "## __Gender:__ Processing"
   ]
  },
  {
   "cell_type": "markdown",
   "metadata": {},
   "source": [
    "### Because it is a categorical value, we will divide encode with One Hot Encoder and eliminate only the [No information available] Column."
   ]
  },
  {
   "cell_type": "code",
   "execution_count": 3654,
   "metadata": {},
   "outputs": [
    {
     "name": "stdout",
     "output_type": "stream",
     "text": [
      "[[1. 0. 0.]\n",
      " [1. 0. 0.]\n",
      " [1. 0. 0.]\n",
      " ...\n",
      " [0. 0. 1.]\n",
      " [0. 1. 0.]\n",
      " [1. 0. 0.]]\n"
     ]
    }
   ],
   "source": [
    "# Initialize OneHotEncoder\n",
    "one_encoder = OneHotEncoder(sparse=False)\n",
    "\n",
    "# Reshape the columns to prepare to Encode\n",
    "reshaped_column_gender = np.array(df_churn_data_clean.Gender).reshape(len(df_churn_data_clean.Gender),1)\n",
    "\n",
    "# Apply the encoded categorical value\n",
    "encoded_gender = one_encoder.fit_transform(reshaped_column_gender)\n",
    "\n",
    "#Check the encoded result\n",
    "print(encoded_gender)"
   ]
  },
  {
   "cell_type": "code",
   "execution_count": 3655,
   "metadata": {},
   "outputs": [
    {
     "name": "stdout",
     "output_type": "stream",
     "text": [
      "   Female  Male  No information available\n",
      "0     1.0   0.0                       0.0\n",
      "1     1.0   0.0                       0.0\n",
      "2     1.0   0.0                       0.0\n",
      "3     1.0   0.0                       0.0\n",
      "4     1.0   0.0                       0.0\n",
      "5     0.0   1.0                       0.0\n",
      "6     0.0   1.0                       0.0\n",
      "7     0.0   1.0                       0.0\n",
      "8     0.0   1.0                       0.0\n",
      "9     0.0   1.0                       0.0\n"
     ]
    }
   ],
   "source": [
    "#Create new Dataframe Based on the eoncoded value\n",
    "df_encoded_gender = pd.DataFrame(encoded_gender,columns=one_encoder.categories_)\n",
    "\n",
    "# Change Multi-Index\n",
    "df_encoded_gender.columns = [multi_col[0] for multi_col in df_encoded_gender.columns]\n",
    "\n",
    "# Check the encoded Dataframe\n",
    "print(df_encoded_gender.head(10))"
   ]
  },
  {
   "cell_type": "markdown",
   "metadata": {},
   "source": [
    "### Now that the encoded version is ready, lets join to the main Dataset again"
   ]
  },
  {
   "cell_type": "code",
   "execution_count": 3656,
   "metadata": {},
   "outputs": [
    {
     "name": "stdout",
     "output_type": "stream",
     "text": [
      "   CreditScore  Gender   Age  Tenure    Balance  NumOfProducts HasCrCard  \\\n",
      "0        619.0  Female  42.0     2.0       0.00            1.0       1.0   \n",
      "1        608.0  Female  41.0     1.0   83807.86            1.0       0.0   \n",
      "2        502.0  Female  42.0     8.0  159660.80            3.0       1.0   \n",
      "3        699.0  Female  39.0     1.0       0.00            2.0       0.0   \n",
      "4        850.0  Female  43.0     2.0  125510.82            1.0       1.0   \n",
      "5        645.0    Male  44.0     8.0  113755.78            2.0       1.0   \n",
      "6        822.0    Male  50.0     7.0       0.00            2.0       1.0   \n",
      "7        501.0    Male  44.0     4.0  142051.07            2.0       0.0   \n",
      "8        684.0    Male  27.0     2.0  134603.88            1.0       1.0   \n",
      "9        528.0    Male  31.0     6.0  102016.72            2.0       0.0   \n",
      "\n",
      "             IsActiveMember  EstimatedSalary  Exited  France  Germany  Spain  \\\n",
      "0                       1.0        101348.88       1     1.0      0.0    0.0   \n",
      "1                       1.0        112542.58       0     0.0      0.0    1.0   \n",
      "2                       0.0        113931.57       1     1.0      0.0    0.0   \n",
      "3  No information available         93826.63       0     1.0      0.0    0.0   \n",
      "4                       1.0         79084.10       0     0.0      0.0    1.0   \n",
      "5                       0.0        149756.71       1     0.0      0.0    1.0   \n",
      "6                       1.0         10062.80       0     1.0      0.0    0.0   \n",
      "7                       1.0         74940.50       0     1.0      0.0    0.0   \n",
      "8                       1.0         71725.73       0     1.0      0.0    0.0   \n",
      "9                       0.0         80181.12       0     1.0      0.0    0.0   \n",
      "\n",
      "   Female  Male  No information available  \n",
      "0     1.0   0.0                       0.0  \n",
      "1     1.0   0.0                       0.0  \n",
      "2     1.0   0.0                       0.0  \n",
      "3     1.0   0.0                       0.0  \n",
      "4     1.0   0.0                       0.0  \n",
      "5     0.0   1.0                       0.0  \n",
      "6     0.0   1.0                       0.0  \n",
      "7     0.0   1.0                       0.0  \n",
      "8     0.0   1.0                       0.0  \n",
      "9     0.0   1.0                       0.0  \n"
     ]
    }
   ],
   "source": [
    "# Join DataFrames\n",
    "df_churn_data_clean = df_churn_data_clean.join(df_encoded_gender)\n",
    "\n",
    "# Check the result\n",
    "print(df_churn_data_clean.head(10))"
   ]
  },
  {
   "cell_type": "markdown",
   "metadata": {},
   "source": [
    "### Because we do not neet informatio from [No INformation available], lets drop it."
   ]
  },
  {
   "cell_type": "code",
   "execution_count": 3657,
   "metadata": {},
   "outputs": [
    {
     "name": "stdout",
     "output_type": "stream",
     "text": [
      "   CreditScore   Age  Tenure    Balance  NumOfProducts HasCrCard  \\\n",
      "0        619.0  42.0     2.0       0.00            1.0       1.0   \n",
      "1        608.0  41.0     1.0   83807.86            1.0       0.0   \n",
      "2        502.0  42.0     8.0  159660.80            3.0       1.0   \n",
      "3        699.0  39.0     1.0       0.00            2.0       0.0   \n",
      "4        850.0  43.0     2.0  125510.82            1.0       1.0   \n",
      "5        645.0  44.0     8.0  113755.78            2.0       1.0   \n",
      "6        822.0  50.0     7.0       0.00            2.0       1.0   \n",
      "7        501.0  44.0     4.0  142051.07            2.0       0.0   \n",
      "8        684.0  27.0     2.0  134603.88            1.0       1.0   \n",
      "9        528.0  31.0     6.0  102016.72            2.0       0.0   \n",
      "\n",
      "             IsActiveMember  EstimatedSalary  Exited  France  Germany  Spain  \\\n",
      "0                       1.0        101348.88       1     1.0      0.0    0.0   \n",
      "1                       1.0        112542.58       0     0.0      0.0    1.0   \n",
      "2                       0.0        113931.57       1     1.0      0.0    0.0   \n",
      "3  No information available         93826.63       0     1.0      0.0    0.0   \n",
      "4                       1.0         79084.10       0     0.0      0.0    1.0   \n",
      "5                       0.0        149756.71       1     0.0      0.0    1.0   \n",
      "6                       1.0         10062.80       0     1.0      0.0    0.0   \n",
      "7                       1.0         74940.50       0     1.0      0.0    0.0   \n",
      "8                       1.0         71725.73       0     1.0      0.0    0.0   \n",
      "9                       0.0         80181.12       0     1.0      0.0    0.0   \n",
      "\n",
      "   Female  Male  \n",
      "0     1.0   0.0  \n",
      "1     1.0   0.0  \n",
      "2     1.0   0.0  \n",
      "3     1.0   0.0  \n",
      "4     1.0   0.0  \n",
      "5     0.0   1.0  \n",
      "6     0.0   1.0  \n",
      "7     0.0   1.0  \n",
      "8     0.0   1.0  \n",
      "9     0.0   1.0  \n"
     ]
    }
   ],
   "source": [
    "# Drop not usable values\n",
    "df_churn_data_clean.drop('No information available', axis=1, inplace=True)\n",
    "df_churn_data_clean.drop('Gender', axis=1, inplace=True)\n",
    "\n",
    "# Check the final Result\n",
    "print(df_churn_data_clean.head(10))"
   ]
  },
  {
   "cell_type": "markdown",
   "metadata": {},
   "source": [
    "## __HasCrCard:__ Processing"
   ]
  },
  {
   "cell_type": "markdown",
   "metadata": {},
   "source": [
    "### Because it is a categorical value, we will divide encode with One Hot Encoder and eliminate only the [No information available] Column."
   ]
  },
  {
   "cell_type": "code",
   "execution_count": 3658,
   "metadata": {},
   "outputs": [
    {
     "name": "stdout",
     "output_type": "stream",
     "text": [
      "[[0. 1. 0.]\n",
      " [1. 0. 0.]\n",
      " [0. 1. 0.]\n",
      " ...\n",
      " [1. 0. 0.]\n",
      " [0. 1. 0.]\n",
      " [0. 0. 1.]]\n"
     ]
    }
   ],
   "source": [
    "# Initialize OneHotEncoder\n",
    "one_encoder = OneHotEncoder(sparse=False)\n",
    "\n",
    "# Reshape the columns to prepare to Encode\n",
    "reshaped_column_HasCrCard = np.array(df_churn_data_clean.HasCrCard).reshape(len(df_churn_data_clean.HasCrCard),1)\n",
    "\n",
    "# Apply the encoded categorical value\n",
    "encoded_HasCrCard = one_encoder.fit_transform(reshaped_column_HasCrCard)\n",
    "\n",
    "#Check the encoded result\n",
    "print(encoded_HasCrCard)"
   ]
  },
  {
   "cell_type": "code",
   "execution_count": 3659,
   "metadata": {},
   "outputs": [
    {
     "name": "stdout",
     "output_type": "stream",
     "text": [
      "   0.0  1.0  No information available\n",
      "0  0.0  1.0                       0.0\n",
      "1  1.0  0.0                       0.0\n",
      "2  0.0  1.0                       0.0\n",
      "3  1.0  0.0                       0.0\n",
      "4  0.0  1.0                       0.0\n",
      "5  0.0  1.0                       0.0\n",
      "6  0.0  1.0                       0.0\n",
      "7  1.0  0.0                       0.0\n",
      "8  0.0  1.0                       0.0\n",
      "9  1.0  0.0                       0.0\n"
     ]
    }
   ],
   "source": [
    "#Create new Dataframe Based on the eoncoded value\n",
    "df_encoded_HasCrCard = pd.DataFrame(encoded_HasCrCard,columns=one_encoder.categories_)\n",
    "\n",
    "# Change Multi-Index\n",
    "df_encoded_HasCrCard.columns = [multi_col[0] for multi_col in df_encoded_HasCrCard.columns]\n",
    "\n",
    "# Check the encoded Dataframe\n",
    "print(df_encoded_HasCrCard.head(10))"
   ]
  },
  {
   "cell_type": "markdown",
   "metadata": {},
   "source": [
    "### Now that the encoded version is ready, lets join into the main Dataset again"
   ]
  },
  {
   "cell_type": "code",
   "execution_count": 3660,
   "metadata": {},
   "outputs": [
    {
     "name": "stdout",
     "output_type": "stream",
     "text": [
      "   CreditScore   Age  Tenure    Balance  NumOfProducts HasCrCard  \\\n",
      "0        619.0  42.0     2.0       0.00            1.0       1.0   \n",
      "1        608.0  41.0     1.0   83807.86            1.0       0.0   \n",
      "2        502.0  42.0     8.0  159660.80            3.0       1.0   \n",
      "3        699.0  39.0     1.0       0.00            2.0       0.0   \n",
      "4        850.0  43.0     2.0  125510.82            1.0       1.0   \n",
      "5        645.0  44.0     8.0  113755.78            2.0       1.0   \n",
      "6        822.0  50.0     7.0       0.00            2.0       1.0   \n",
      "7        501.0  44.0     4.0  142051.07            2.0       0.0   \n",
      "8        684.0  27.0     2.0  134603.88            1.0       1.0   \n",
      "9        528.0  31.0     6.0  102016.72            2.0       0.0   \n",
      "\n",
      "             IsActiveMember  EstimatedSalary  Exited  France  Germany  Spain  \\\n",
      "0                       1.0        101348.88       1     1.0      0.0    0.0   \n",
      "1                       1.0        112542.58       0     0.0      0.0    1.0   \n",
      "2                       0.0        113931.57       1     1.0      0.0    0.0   \n",
      "3  No information available         93826.63       0     1.0      0.0    0.0   \n",
      "4                       1.0         79084.10       0     0.0      0.0    1.0   \n",
      "5                       0.0        149756.71       1     0.0      0.0    1.0   \n",
      "6                       1.0         10062.80       0     1.0      0.0    0.0   \n",
      "7                       1.0         74940.50       0     1.0      0.0    0.0   \n",
      "8                       1.0         71725.73       0     1.0      0.0    0.0   \n",
      "9                       0.0         80181.12       0     1.0      0.0    0.0   \n",
      "\n",
      "   Female  Male  0.0  1.0  No information available  \n",
      "0     1.0   0.0  0.0  1.0                       0.0  \n",
      "1     1.0   0.0  1.0  0.0                       0.0  \n",
      "2     1.0   0.0  0.0  1.0                       0.0  \n",
      "3     1.0   0.0  1.0  0.0                       0.0  \n",
      "4     1.0   0.0  0.0  1.0                       0.0  \n",
      "5     0.0   1.0  0.0  1.0                       0.0  \n",
      "6     0.0   1.0  0.0  1.0                       0.0  \n",
      "7     0.0   1.0  1.0  0.0                       0.0  \n",
      "8     0.0   1.0  0.0  1.0                       0.0  \n",
      "9     0.0   1.0  1.0  0.0                       0.0  \n"
     ]
    }
   ],
   "source": [
    "# Join DataFrames\n",
    "df_churn_data_clean = df_churn_data_clean.join(df_encoded_HasCrCard)\n",
    "\n",
    "# Check the result\n",
    "print(df_churn_data_clean.head(10))"
   ]
  },
  {
   "cell_type": "markdown",
   "metadata": {},
   "source": [
    "### Because we do not need informatio from [No Information available], lets drop it."
   ]
  },
  {
   "cell_type": "code",
   "execution_count": 3661,
   "metadata": {},
   "outputs": [
    {
     "name": "stdout",
     "output_type": "stream",
     "text": [
      "   CreditScore   Age  Tenure    Balance  NumOfProducts  \\\n",
      "0        619.0  42.0     2.0       0.00            1.0   \n",
      "1        608.0  41.0     1.0   83807.86            1.0   \n",
      "2        502.0  42.0     8.0  159660.80            3.0   \n",
      "3        699.0  39.0     1.0       0.00            2.0   \n",
      "4        850.0  43.0     2.0  125510.82            1.0   \n",
      "5        645.0  44.0     8.0  113755.78            2.0   \n",
      "6        822.0  50.0     7.0       0.00            2.0   \n",
      "7        501.0  44.0     4.0  142051.07            2.0   \n",
      "8        684.0  27.0     2.0  134603.88            1.0   \n",
      "9        528.0  31.0     6.0  102016.72            2.0   \n",
      "\n",
      "             IsActiveMember  EstimatedSalary  Exited  France  Germany  Spain  \\\n",
      "0                       1.0        101348.88       1     1.0      0.0    0.0   \n",
      "1                       1.0        112542.58       0     0.0      0.0    1.0   \n",
      "2                       0.0        113931.57       1     1.0      0.0    0.0   \n",
      "3  No information available         93826.63       0     1.0      0.0    0.0   \n",
      "4                       1.0         79084.10       0     0.0      0.0    1.0   \n",
      "5                       0.0        149756.71       1     0.0      0.0    1.0   \n",
      "6                       1.0         10062.80       0     1.0      0.0    0.0   \n",
      "7                       1.0         74940.50       0     1.0      0.0    0.0   \n",
      "8                       1.0         71725.73       0     1.0      0.0    0.0   \n",
      "9                       0.0         80181.12       0     1.0      0.0    0.0   \n",
      "\n",
      "   Female  Male  No_Card  Yes_Card  \n",
      "0     1.0   0.0      0.0       1.0  \n",
      "1     1.0   0.0      1.0       0.0  \n",
      "2     1.0   0.0      0.0       1.0  \n",
      "3     1.0   0.0      1.0       0.0  \n",
      "4     1.0   0.0      0.0       1.0  \n",
      "5     0.0   1.0      0.0       1.0  \n",
      "6     0.0   1.0      0.0       1.0  \n",
      "7     0.0   1.0      1.0       0.0  \n",
      "8     0.0   1.0      0.0       1.0  \n",
      "9     0.0   1.0      1.0       0.0  \n"
     ]
    }
   ],
   "source": [
    "# Drop not usable values\n",
    "df_churn_data_clean.drop('No information available', axis=1, inplace=True)\n",
    "df_churn_data_clean.drop('HasCrCard', axis=1, inplace=True)\n",
    "\n",
    "# Because otherwise the columun name will not make much sense\n",
    "df_churn_data_clean.rename(columns={\"0.0\" : \"No_Card\", \"1.0\" : \"Yes_Card\"}, inplace=True)\n",
    "\n",
    "# Check the final Result\n",
    "print(df_churn_data_clean.head(10))"
   ]
  },
  {
   "cell_type": "markdown",
   "metadata": {},
   "source": [
    "## __IsActiveMember:__ Processing"
   ]
  },
  {
   "cell_type": "markdown",
   "metadata": {},
   "source": [
    "### Because it is a categorical value, we will divide encode with One Hot Encoder and eliminate only the [No information available] Column."
   ]
  },
  {
   "cell_type": "code",
   "execution_count": 3662,
   "metadata": {},
   "outputs": [
    {
     "name": "stdout",
     "output_type": "stream",
     "text": [
      "[[0. 1. 0.]\n",
      " [0. 1. 0.]\n",
      " [1. 0. 0.]\n",
      " ...\n",
      " [0. 1. 0.]\n",
      " [1. 0. 0.]\n",
      " [0. 1. 0.]]\n"
     ]
    }
   ],
   "source": [
    "# Initialize OneHotEncoder\n",
    "one_encoder = OneHotEncoder(sparse=False)\n",
    "\n",
    "# Reshape the columns to prepare to Encode\n",
    "reshaped_column_IsActiveMember = np.array(df_churn_data_clean.IsActiveMember).reshape(len(df_churn_data_clean.IsActiveMember),1)\n",
    "\n",
    "# Apply the encoded categorical value\n",
    "encoded_IsActiveMember = one_encoder.fit_transform(reshaped_column_IsActiveMember)\n",
    "\n",
    "#Check the encoded result\n",
    "print(encoded_IsActiveMember)"
   ]
  },
  {
   "cell_type": "code",
   "execution_count": 3663,
   "metadata": {},
   "outputs": [
    {
     "name": "stdout",
     "output_type": "stream",
     "text": [
      "   0.0  1.0  No information available\n",
      "0  0.0  1.0                       0.0\n",
      "1  1.0  0.0                       0.0\n",
      "2  0.0  1.0                       0.0\n",
      "3  1.0  0.0                       0.0\n",
      "4  0.0  1.0                       0.0\n",
      "5  0.0  1.0                       0.0\n",
      "6  0.0  1.0                       0.0\n",
      "7  1.0  0.0                       0.0\n",
      "8  0.0  1.0                       0.0\n",
      "9  1.0  0.0                       0.0\n"
     ]
    }
   ],
   "source": [
    "#Create new Dataframe Based on the eoncoded value\n",
    "df_encoded_IsActiveMember = pd.DataFrame(encoded_HasCrCard,columns=one_encoder.categories_)\n",
    "\n",
    "# Change Multi-Index\n",
    "df_encoded_IsActiveMember.columns = [multi_col[0] for multi_col in df_encoded_IsActiveMember.columns]\n",
    "\n",
    "# Check the encoded Dataframe\n",
    "print(df_encoded_IsActiveMember.head(10))"
   ]
  },
  {
   "cell_type": "markdown",
   "metadata": {},
   "source": [
    "### Now that the encoded version is ready, lets join into the main Dataset again"
   ]
  },
  {
   "cell_type": "code",
   "execution_count": 3664,
   "metadata": {},
   "outputs": [
    {
     "name": "stdout",
     "output_type": "stream",
     "text": [
      "   CreditScore   Age  Tenure    Balance  NumOfProducts  \\\n",
      "0        619.0  42.0     2.0       0.00            1.0   \n",
      "1        608.0  41.0     1.0   83807.86            1.0   \n",
      "2        502.0  42.0     8.0  159660.80            3.0   \n",
      "3        699.0  39.0     1.0       0.00            2.0   \n",
      "4        850.0  43.0     2.0  125510.82            1.0   \n",
      "5        645.0  44.0     8.0  113755.78            2.0   \n",
      "6        822.0  50.0     7.0       0.00            2.0   \n",
      "7        501.0  44.0     4.0  142051.07            2.0   \n",
      "8        684.0  27.0     2.0  134603.88            1.0   \n",
      "9        528.0  31.0     6.0  102016.72            2.0   \n",
      "\n",
      "             IsActiveMember  EstimatedSalary  Exited  France  Germany  Spain  \\\n",
      "0                       1.0        101348.88       1     1.0      0.0    0.0   \n",
      "1                       1.0        112542.58       0     0.0      0.0    1.0   \n",
      "2                       0.0        113931.57       1     1.0      0.0    0.0   \n",
      "3  No information available         93826.63       0     1.0      0.0    0.0   \n",
      "4                       1.0         79084.10       0     0.0      0.0    1.0   \n",
      "5                       0.0        149756.71       1     0.0      0.0    1.0   \n",
      "6                       1.0         10062.80       0     1.0      0.0    0.0   \n",
      "7                       1.0         74940.50       0     1.0      0.0    0.0   \n",
      "8                       1.0         71725.73       0     1.0      0.0    0.0   \n",
      "9                       0.0         80181.12       0     1.0      0.0    0.0   \n",
      "\n",
      "   Female  Male  No_Card  Yes_Card  0.0  1.0  No information available  \n",
      "0     1.0   0.0      0.0       1.0  0.0  1.0                       0.0  \n",
      "1     1.0   0.0      1.0       0.0  1.0  0.0                       0.0  \n",
      "2     1.0   0.0      0.0       1.0  0.0  1.0                       0.0  \n",
      "3     1.0   0.0      1.0       0.0  1.0  0.0                       0.0  \n",
      "4     1.0   0.0      0.0       1.0  0.0  1.0                       0.0  \n",
      "5     0.0   1.0      0.0       1.0  0.0  1.0                       0.0  \n",
      "6     0.0   1.0      0.0       1.0  0.0  1.0                       0.0  \n",
      "7     0.0   1.0      1.0       0.0  1.0  0.0                       0.0  \n",
      "8     0.0   1.0      0.0       1.0  0.0  1.0                       0.0  \n",
      "9     0.0   1.0      1.0       0.0  1.0  0.0                       0.0  \n"
     ]
    }
   ],
   "source": [
    "# Join DataFrames\n",
    "df_churn_data_clean = df_churn_data_clean.join(df_encoded_IsActiveMember)\n",
    "\n",
    "# Check the result\n",
    "print(df_churn_data_clean.head(10))"
   ]
  },
  {
   "cell_type": "markdown",
   "metadata": {},
   "source": [
    "### Because we do not need informatio from [No Information available], lets drop it."
   ]
  },
  {
   "cell_type": "code",
   "execution_count": 3665,
   "metadata": {},
   "outputs": [
    {
     "name": "stdout",
     "output_type": "stream",
     "text": [
      "   CreditScore   Age  Tenure    Balance  NumOfProducts  EstimatedSalary  \\\n",
      "0        619.0  42.0     2.0       0.00            1.0        101348.88   \n",
      "1        608.0  41.0     1.0   83807.86            1.0        112542.58   \n",
      "2        502.0  42.0     8.0  159660.80            3.0        113931.57   \n",
      "3        699.0  39.0     1.0       0.00            2.0         93826.63   \n",
      "4        850.0  43.0     2.0  125510.82            1.0         79084.10   \n",
      "5        645.0  44.0     8.0  113755.78            2.0        149756.71   \n",
      "6        822.0  50.0     7.0       0.00            2.0         10062.80   \n",
      "7        501.0  44.0     4.0  142051.07            2.0         74940.50   \n",
      "8        684.0  27.0     2.0  134603.88            1.0         71725.73   \n",
      "9        528.0  31.0     6.0  102016.72            2.0         80181.12   \n",
      "\n",
      "   Exited  France  Germany  Spain  Female  Male  No_Card  Yes_Card  \\\n",
      "0       1     1.0      0.0    0.0     1.0   0.0      0.0       1.0   \n",
      "1       0     0.0      0.0    1.0     1.0   0.0      1.0       0.0   \n",
      "2       1     1.0      0.0    0.0     1.0   0.0      0.0       1.0   \n",
      "3       0     1.0      0.0    0.0     1.0   0.0      1.0       0.0   \n",
      "4       0     0.0      0.0    1.0     1.0   0.0      0.0       1.0   \n",
      "5       1     0.0      0.0    1.0     0.0   1.0      0.0       1.0   \n",
      "6       0     1.0      0.0    0.0     0.0   1.0      0.0       1.0   \n",
      "7       0     1.0      0.0    0.0     0.0   1.0      1.0       0.0   \n",
      "8       0     1.0      0.0    0.0     0.0   1.0      0.0       1.0   \n",
      "9       0     1.0      0.0    0.0     0.0   1.0      1.0       0.0   \n",
      "\n",
      "   Not_Member  Member  \n",
      "0         0.0     1.0  \n",
      "1         1.0     0.0  \n",
      "2         0.0     1.0  \n",
      "3         1.0     0.0  \n",
      "4         0.0     1.0  \n",
      "5         0.0     1.0  \n",
      "6         0.0     1.0  \n",
      "7         1.0     0.0  \n",
      "8         0.0     1.0  \n",
      "9         1.0     0.0  \n"
     ]
    }
   ],
   "source": [
    "# Drop not usable values\n",
    "df_churn_data_clean.drop('No information available', axis=1, inplace=True)\n",
    "df_churn_data_clean.drop('IsActiveMember', axis=1, inplace=True)\n",
    "\n",
    "# Because otherwise the columun name will not make much sense\n",
    "df_churn_data_clean.rename(columns={\"0.0\" : \"Not_Member\", \"1.0\" : \"Member\"}, inplace=True)\n",
    "\n",
    "# Check the final Result\n",
    "print(df_churn_data_clean.head(10))"
   ]
  },
  {
   "cell_type": "markdown",
   "metadata": {},
   "source": [
    "### Now that all categorical variables are taken care, we will scale our data set and save the output."
   ]
  },
  {
   "cell_type": "code",
   "execution_count": 3666,
   "metadata": {},
   "outputs": [
    {
     "name": "stdout",
     "output_type": "stream",
     "text": [
      "   CreditScore       Age    Tenure   Balance  NumOfProducts  EstimatedSalary  \\\n",
      "0    -0.322164  0.293151 -1.175646 -1.242592      -0.936656         0.029686   \n",
      "1    -0.436107  0.198120 -1.539450  0.112782      -0.936656         0.224523   \n",
      "2    -1.534103  0.293151  1.007180  1.339507       2.690964         0.248700   \n",
      "3     0.506512  0.008059 -1.539450 -1.242592       0.877154        -0.101246   \n",
      "4     2.070639  0.388182 -1.175646  0.787220      -0.936656        -0.357854   \n",
      "5    -0.052844  0.483212  1.007180  0.597112       0.877154         0.872271   \n",
      "6     1.780602  1.053397  0.643376 -1.242592       0.877154        -1.559236   \n",
      "7    -1.544461  0.483212 -0.448037  1.054715       0.877154        -0.429977   \n",
      "8     0.351136 -1.132310 -1.175646  0.934276      -0.936656        -0.485933   \n",
      "9    -1.264783 -0.752187  0.279572  0.407264       0.877154        -0.338759   \n",
      "\n",
      "   Exited  France  Germany  Spain  Female  Male  No_Card  Yes_Card  \\\n",
      "0       1     1.0      0.0    0.0     1.0   0.0      0.0       1.0   \n",
      "1       0     0.0      0.0    1.0     1.0   0.0      1.0       0.0   \n",
      "2       1     1.0      0.0    0.0     1.0   0.0      0.0       1.0   \n",
      "3       0     1.0      0.0    0.0     1.0   0.0      1.0       0.0   \n",
      "4       0     0.0      0.0    1.0     1.0   0.0      0.0       1.0   \n",
      "5       1     0.0      0.0    1.0     0.0   1.0      0.0       1.0   \n",
      "6       0     1.0      0.0    0.0     0.0   1.0      0.0       1.0   \n",
      "7       0     1.0      0.0    0.0     0.0   1.0      1.0       0.0   \n",
      "8       0     1.0      0.0    0.0     0.0   1.0      0.0       1.0   \n",
      "9       0     1.0      0.0    0.0     0.0   1.0      1.0       0.0   \n",
      "\n",
      "   Not_Member  Member  \n",
      "0         0.0     1.0  \n",
      "1         1.0     0.0  \n",
      "2         0.0     1.0  \n",
      "3         1.0     0.0  \n",
      "4         0.0     1.0  \n",
      "5         0.0     1.0  \n",
      "6         0.0     1.0  \n",
      "7         1.0     0.0  \n",
      "8         0.0     1.0  \n",
      "9         1.0     0.0  \n"
     ]
    }
   ],
   "source": [
    "# Initializer scaler\n",
    "scaler = StandardScaler()\n",
    "df_churn_data_clean[[\"CreditScore\", \"Age\", \"Tenure\", \"Balance\", \"NumOfProducts\", \"EstimatedSalary\"]] = scaler.fit_transform(df_churn_data_clean[[\"CreditScore\", \"Age\", \"Tenure\", \"Balance\", \"NumOfProducts\", \"EstimatedSalary\"]])\n",
    "df_churn_data_processed = pd.DataFrame(df_churn_data_clean, columns=df_churn_data_clean.columns)\n",
    "\n",
    "print(df_churn_data_processed.head(10))"
   ]
  },
  {
   "cell_type": "markdown",
   "metadata": {},
   "source": [
    "### Now that everything is done, we will save one last version of the processed DataSet"
   ]
  },
  {
   "cell_type": "code",
   "execution_count": 3667,
   "metadata": {},
   "outputs": [
    {
     "name": "stdout",
     "output_type": "stream",
     "text": [
      "Printing DataFrame on Jupyter \n",
      "\n"
     ]
    },
    {
     "data": {
      "text/html": [
       "<div>\n",
       "<style scoped>\n",
       "    .dataframe tbody tr th:only-of-type {\n",
       "        vertical-align: middle;\n",
       "    }\n",
       "\n",
       "    .dataframe tbody tr th {\n",
       "        vertical-align: top;\n",
       "    }\n",
       "\n",
       "    .dataframe thead th {\n",
       "        text-align: right;\n",
       "    }\n",
       "</style>\n",
       "<table border=\"1\" class=\"dataframe\">\n",
       "  <thead>\n",
       "    <tr style=\"text-align: right;\">\n",
       "      <th></th>\n",
       "      <th>CreditScore</th>\n",
       "      <th>Age</th>\n",
       "      <th>Tenure</th>\n",
       "      <th>Balance</th>\n",
       "      <th>NumOfProducts</th>\n",
       "      <th>EstimatedSalary</th>\n",
       "      <th>Exited</th>\n",
       "      <th>France</th>\n",
       "      <th>Germany</th>\n",
       "      <th>Spain</th>\n",
       "      <th>Female</th>\n",
       "      <th>Male</th>\n",
       "      <th>No_Card</th>\n",
       "      <th>Yes_Card</th>\n",
       "      <th>Not_Member</th>\n",
       "      <th>Member</th>\n",
       "    </tr>\n",
       "  </thead>\n",
       "  <tbody>\n",
       "    <tr>\n",
       "      <th>0</th>\n",
       "      <td>-0.322164</td>\n",
       "      <td>0.293151</td>\n",
       "      <td>-1.175646</td>\n",
       "      <td>-1.242592</td>\n",
       "      <td>-0.936656</td>\n",
       "      <td>2.968618e-02</td>\n",
       "      <td>1</td>\n",
       "      <td>1.0</td>\n",
       "      <td>0.0</td>\n",
       "      <td>0.0</td>\n",
       "      <td>1.0</td>\n",
       "      <td>0.0</td>\n",
       "      <td>0.0</td>\n",
       "      <td>1.0</td>\n",
       "      <td>0.0</td>\n",
       "      <td>1.0</td>\n",
       "    </tr>\n",
       "    <tr>\n",
       "      <th>1</th>\n",
       "      <td>-0.436107</td>\n",
       "      <td>0.198120</td>\n",
       "      <td>-1.539450</td>\n",
       "      <td>0.112782</td>\n",
       "      <td>-0.936656</td>\n",
       "      <td>2.245233e-01</td>\n",
       "      <td>0</td>\n",
       "      <td>0.0</td>\n",
       "      <td>0.0</td>\n",
       "      <td>1.0</td>\n",
       "      <td>1.0</td>\n",
       "      <td>0.0</td>\n",
       "      <td>1.0</td>\n",
       "      <td>0.0</td>\n",
       "      <td>1.0</td>\n",
       "      <td>0.0</td>\n",
       "    </tr>\n",
       "    <tr>\n",
       "      <th>2</th>\n",
       "      <td>-1.534103</td>\n",
       "      <td>0.293151</td>\n",
       "      <td>1.007180</td>\n",
       "      <td>1.339507</td>\n",
       "      <td>2.690964</td>\n",
       "      <td>2.487001e-01</td>\n",
       "      <td>1</td>\n",
       "      <td>1.0</td>\n",
       "      <td>0.0</td>\n",
       "      <td>0.0</td>\n",
       "      <td>1.0</td>\n",
       "      <td>0.0</td>\n",
       "      <td>0.0</td>\n",
       "      <td>1.0</td>\n",
       "      <td>0.0</td>\n",
       "      <td>1.0</td>\n",
       "    </tr>\n",
       "    <tr>\n",
       "      <th>3</th>\n",
       "      <td>0.506512</td>\n",
       "      <td>0.008059</td>\n",
       "      <td>-1.539450</td>\n",
       "      <td>-1.242592</td>\n",
       "      <td>0.877154</td>\n",
       "      <td>-1.012458e-01</td>\n",
       "      <td>0</td>\n",
       "      <td>1.0</td>\n",
       "      <td>0.0</td>\n",
       "      <td>0.0</td>\n",
       "      <td>1.0</td>\n",
       "      <td>0.0</td>\n",
       "      <td>1.0</td>\n",
       "      <td>0.0</td>\n",
       "      <td>1.0</td>\n",
       "      <td>0.0</td>\n",
       "    </tr>\n",
       "    <tr>\n",
       "      <th>4</th>\n",
       "      <td>2.070639</td>\n",
       "      <td>0.388182</td>\n",
       "      <td>-1.175646</td>\n",
       "      <td>0.787220</td>\n",
       "      <td>-0.936656</td>\n",
       "      <td>-3.578538e-01</td>\n",
       "      <td>0</td>\n",
       "      <td>0.0</td>\n",
       "      <td>0.0</td>\n",
       "      <td>1.0</td>\n",
       "      <td>1.0</td>\n",
       "      <td>0.0</td>\n",
       "      <td>0.0</td>\n",
       "      <td>1.0</td>\n",
       "      <td>0.0</td>\n",
       "      <td>1.0</td>\n",
       "    </tr>\n",
       "    <tr>\n",
       "      <th>...</th>\n",
       "      <td>...</td>\n",
       "      <td>...</td>\n",
       "      <td>...</td>\n",
       "      <td>...</td>\n",
       "      <td>...</td>\n",
       "      <td>...</td>\n",
       "      <td>...</td>\n",
       "      <td>...</td>\n",
       "      <td>...</td>\n",
       "      <td>...</td>\n",
       "      <td>...</td>\n",
       "      <td>...</td>\n",
       "      <td>...</td>\n",
       "      <td>...</td>\n",
       "      <td>...</td>\n",
       "      <td>...</td>\n",
       "    </tr>\n",
       "    <tr>\n",
       "      <th>8957</th>\n",
       "      <td>1.096944</td>\n",
       "      <td>-0.277033</td>\n",
       "      <td>-1.175646</td>\n",
       "      <td>0.970046</td>\n",
       "      <td>-0.936656</td>\n",
       "      <td>1.225355e+00</td>\n",
       "      <td>0</td>\n",
       "      <td>0.0</td>\n",
       "      <td>1.0</td>\n",
       "      <td>0.0</td>\n",
       "      <td>0.0</td>\n",
       "      <td>1.0</td>\n",
       "      <td>0.0</td>\n",
       "      <td>1.0</td>\n",
       "      <td>0.0</td>\n",
       "      <td>1.0</td>\n",
       "    </tr>\n",
       "    <tr>\n",
       "      <th>8958</th>\n",
       "      <td>-0.032127</td>\n",
       "      <td>-0.657156</td>\n",
       "      <td>1.370984</td>\n",
       "      <td>0.066699</td>\n",
       "      <td>-0.936656</td>\n",
       "      <td>-2.279611e-15</td>\n",
       "      <td>0</td>\n",
       "      <td>0.0</td>\n",
       "      <td>0.0</td>\n",
       "      <td>1.0</td>\n",
       "      <td>0.0</td>\n",
       "      <td>1.0</td>\n",
       "      <td>0.0</td>\n",
       "      <td>1.0</td>\n",
       "      <td>0.0</td>\n",
       "      <td>1.0</td>\n",
       "    </tr>\n",
       "    <tr>\n",
       "      <th>8959</th>\n",
       "      <td>0.175042</td>\n",
       "      <td>1.623581</td>\n",
       "      <td>-1.175646</td>\n",
       "      <td>0.325905</td>\n",
       "      <td>-0.936656</td>\n",
       "      <td>-1.405455e+00</td>\n",
       "      <td>0</td>\n",
       "      <td>0.0</td>\n",
       "      <td>0.0</td>\n",
       "      <td>1.0</td>\n",
       "      <td>0.0</td>\n",
       "      <td>0.0</td>\n",
       "      <td>1.0</td>\n",
       "      <td>0.0</td>\n",
       "      <td>1.0</td>\n",
       "      <td>0.0</td>\n",
       "    </tr>\n",
       "    <tr>\n",
       "      <th>8960</th>\n",
       "      <td>0.827624</td>\n",
       "      <td>-1.512433</td>\n",
       "      <td>1.007180</td>\n",
       "      <td>-1.242592</td>\n",
       "      <td>0.877154</td>\n",
       "      <td>1.455855e+00</td>\n",
       "      <td>0</td>\n",
       "      <td>1.0</td>\n",
       "      <td>0.0</td>\n",
       "      <td>0.0</td>\n",
       "      <td>0.0</td>\n",
       "      <td>1.0</td>\n",
       "      <td>0.0</td>\n",
       "      <td>1.0</td>\n",
       "      <td>0.0</td>\n",
       "      <td>1.0</td>\n",
       "    </tr>\n",
       "    <tr>\n",
       "      <th>8961</th>\n",
       "      <td>-0.156429</td>\n",
       "      <td>3.714257</td>\n",
       "      <td>0.279572</td>\n",
       "      <td>-0.473814</td>\n",
       "      <td>-0.936656</td>\n",
       "      <td>3.438848e-01</td>\n",
       "      <td>0</td>\n",
       "      <td>1.0</td>\n",
       "      <td>0.0</td>\n",
       "      <td>0.0</td>\n",
       "      <td>1.0</td>\n",
       "      <td>0.0</td>\n",
       "      <td>0.0</td>\n",
       "      <td>0.0</td>\n",
       "      <td>0.0</td>\n",
       "      <td>0.0</td>\n",
       "    </tr>\n",
       "  </tbody>\n",
       "</table>\n",
       "<p>8962 rows × 16 columns</p>\n",
       "</div>"
      ],
      "text/plain": [
       "      CreditScore       Age    Tenure   Balance  NumOfProducts  \\\n",
       "0       -0.322164  0.293151 -1.175646 -1.242592      -0.936656   \n",
       "1       -0.436107  0.198120 -1.539450  0.112782      -0.936656   \n",
       "2       -1.534103  0.293151  1.007180  1.339507       2.690964   \n",
       "3        0.506512  0.008059 -1.539450 -1.242592       0.877154   \n",
       "4        2.070639  0.388182 -1.175646  0.787220      -0.936656   \n",
       "...           ...       ...       ...       ...            ...   \n",
       "8957     1.096944 -0.277033 -1.175646  0.970046      -0.936656   \n",
       "8958    -0.032127 -0.657156  1.370984  0.066699      -0.936656   \n",
       "8959     0.175042  1.623581 -1.175646  0.325905      -0.936656   \n",
       "8960     0.827624 -1.512433  1.007180 -1.242592       0.877154   \n",
       "8961    -0.156429  3.714257  0.279572 -0.473814      -0.936656   \n",
       "\n",
       "      EstimatedSalary  Exited  France  Germany  Spain  Female  Male  No_Card  \\\n",
       "0        2.968618e-02       1     1.0      0.0    0.0     1.0   0.0      0.0   \n",
       "1        2.245233e-01       0     0.0      0.0    1.0     1.0   0.0      1.0   \n",
       "2        2.487001e-01       1     1.0      0.0    0.0     1.0   0.0      0.0   \n",
       "3       -1.012458e-01       0     1.0      0.0    0.0     1.0   0.0      1.0   \n",
       "4       -3.578538e-01       0     0.0      0.0    1.0     1.0   0.0      0.0   \n",
       "...               ...     ...     ...      ...    ...     ...   ...      ...   \n",
       "8957     1.225355e+00       0     0.0      1.0    0.0     0.0   1.0      0.0   \n",
       "8958    -2.279611e-15       0     0.0      0.0    1.0     0.0   1.0      0.0   \n",
       "8959    -1.405455e+00       0     0.0      0.0    1.0     0.0   0.0      1.0   \n",
       "8960     1.455855e+00       0     1.0      0.0    0.0     0.0   1.0      0.0   \n",
       "8961     3.438848e-01       0     1.0      0.0    0.0     1.0   0.0      0.0   \n",
       "\n",
       "      Yes_Card  Not_Member  Member  \n",
       "0          1.0         0.0     1.0  \n",
       "1          0.0         1.0     0.0  \n",
       "2          1.0         0.0     1.0  \n",
       "3          0.0         1.0     0.0  \n",
       "4          1.0         0.0     1.0  \n",
       "...        ...         ...     ...  \n",
       "8957       1.0         0.0     1.0  \n",
       "8958       1.0         0.0     1.0  \n",
       "8959       0.0         1.0     0.0  \n",
       "8960       1.0         0.0     1.0  \n",
       "8961       0.0         0.0     0.0  \n",
       "\n",
       "[8962 rows x 16 columns]"
      ]
     },
     "execution_count": 3667,
     "metadata": {},
     "output_type": "execute_result"
    }
   ],
   "source": [
    "# Save the result DataSet into a new CSV File\n",
    "df_churn_data_processed.to_csv(\"churn_data_processed.csv\", sep=',', index=False)\n",
    "\n",
    "# Using pd.read:csv() to load dataframe using \",\" as separator and force new index starting from \"Zero\"\n",
    "df_churn_data_processed = pd.read_csv(\"churn_data_processed.csv\", sep=',')\n",
    "\n",
    "# Printing the table to check if everything looks clean, we print one last time\n",
    "print(\"Printing DataFrame on Jupyter\", \"\\n\")\n",
    "\n",
    "df_churn_data_processed"
   ]
  }
 ],
 "metadata": {
  "interpreter": {
   "hash": "b3ba2566441a7c06988d0923437866b63cedc61552a5af99d1f4fb67d367b25f"
  },
  "kernelspec": {
   "display_name": "Python 3 (ipykernel)",
   "language": "python",
   "name": "python3"
  },
  "language_info": {
   "codemirror_mode": {
    "name": "ipython",
    "version": 3
   },
   "file_extension": ".py",
   "mimetype": "text/x-python",
   "name": "python",
   "nbconvert_exporter": "python",
   "pygments_lexer": "ipython3",
   "version": "3.8.12"
  }
 },
 "nbformat": 4,
 "nbformat_minor": 2
}
