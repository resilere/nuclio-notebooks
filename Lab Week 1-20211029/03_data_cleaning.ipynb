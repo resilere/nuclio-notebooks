{
 "cells": [
  {
   "cell_type": "markdown",
   "metadata": {},
   "source": [
    "![Nuclio logo](https://nuclio.school/wp-content/uploads/2018/12/nucleoDS-newBlack.png)\n",
    "\n",
    "# Data Exploration\n"
   ]
  },
  {
   "cell_type": "markdown",
   "metadata": {},
   "source": [
    "## Load Data"
   ]
  },
  {
   "cell_type": "code",
   "execution_count": 325,
   "metadata": {},
   "outputs": [],
   "source": [
    "import pandas as pd\n",
    "import numpy as np\n",
    "\n",
    "df_imdb = pd.read_csv(\"03_imdb.csv\", sep=\",\", index_col=0)"
   ]
  },
  {
   "cell_type": "markdown",
   "metadata": {},
   "source": [
    "## Quick cap"
   ]
  },
  {
   "cell_type": "code",
   "execution_count": 326,
   "metadata": {},
   "outputs": [
    {
     "data": {
      "text/plain": [
       "Index(['color', 'director_name', 'duration', 'gross', 'genres', 'movie_title',\n",
       "       'title_year', 'language', 'country', 'budget', 'imdb_score', 'actors',\n",
       "       'movie_facebook_likes'],\n",
       "      dtype='object')"
      ]
     },
     "execution_count": 326,
     "metadata": {},
     "output_type": "execute_result"
    }
   ],
   "source": [
    "df_imdb.columns"
   ]
  },
  {
   "cell_type": "code",
   "execution_count": 327,
   "metadata": {},
   "outputs": [],
   "source": [
    "# drop language since it is all 'English'\n",
    "df_imdb.drop(columns='language', inplace=True)"
   ]
  },
  {
   "cell_type": "code",
   "execution_count": 328,
   "metadata": {},
   "outputs": [
    {
     "data": {
      "text/plain": [
       "(94, 12)"
      ]
     },
     "execution_count": 328,
     "metadata": {},
     "output_type": "execute_result"
    }
   ],
   "source": [
    "df_imdb.shape"
   ]
  },
  {
   "cell_type": "code",
   "execution_count": 329,
   "metadata": {},
   "outputs": [
    {
     "name": "stdout",
     "output_type": "stream",
     "text": [
      "<class 'pandas.core.frame.DataFrame'>\n",
      "Int64Index: 94 entries, 0 to 98\n",
      "Data columns (total 12 columns):\n",
      " #   Column                Non-Null Count  Dtype  \n",
      "---  ------                --------------  -----  \n",
      " 0   color                 83 non-null     object \n",
      " 1   director_name         83 non-null     object \n",
      " 2   duration              94 non-null     int64  \n",
      " 3   gross                 88 non-null     float64\n",
      " 4   genres                93 non-null     object \n",
      " 5   movie_title           94 non-null     object \n",
      " 6   title_year            94 non-null     int64  \n",
      " 7   country               94 non-null     object \n",
      " 8   budget                90 non-null     float64\n",
      " 9   imdb_score            94 non-null     float64\n",
      " 10  actors                94 non-null     object \n",
      " 11  movie_facebook_likes  94 non-null     int64  \n",
      "dtypes: float64(3), int64(3), object(6)\n",
      "memory usage: 9.5+ KB\n"
     ]
    }
   ],
   "source": [
    "df_imdb.info()"
   ]
  },
  {
   "cell_type": "markdown",
   "metadata": {},
   "source": [
    "## Missing Value\n",
    "\n",
    "- `color`\n",
    "- `director_name`\n",
    "- `gross`\n",
    "- `genres`\n",
    "- `budget`\n",
    "\n",
    "## Outliers\n",
    "- `gross`\n",
    "- `duration`\n",
    "- `movie_title`\n",
    "- `title_year`\n",
    "- `movie_twitter_likes`\n",
    "- `imdb_score`\n",
    "- `country`\n",
    "- `language`\n",
    "- `actors`\n",
    "- `movie_facebook_likes`"
   ]
  },
  {
   "cell_type": "markdown",
   "metadata": {},
   "source": [
    "### Column `color`"
   ]
  },
  {
   "cell_type": "code",
   "execution_count": 330,
   "metadata": {},
   "outputs": [
    {
     "data": {
      "text/plain": [
       "Color               81\n",
       "NaN                 11\n",
       "color                1\n",
       " Black and White     1\n",
       "Name: color, dtype: int64"
      ]
     },
     "execution_count": 330,
     "metadata": {},
     "output_type": "execute_result"
    }
   ],
   "source": [
    "df_imdb.color.value_counts(dropna=False)"
   ]
  },
  {
   "cell_type": "code",
   "execution_count": 331,
   "metadata": {},
   "outputs": [
    {
     "data": {
      "text/html": [
       "<div>\n",
       "<style scoped>\n",
       "    .dataframe tbody tr th:only-of-type {\n",
       "        vertical-align: middle;\n",
       "    }\n",
       "\n",
       "    .dataframe tbody tr th {\n",
       "        vertical-align: top;\n",
       "    }\n",
       "\n",
       "    .dataframe thead th {\n",
       "        text-align: right;\n",
       "    }\n",
       "</style>\n",
       "<table border=\"1\" class=\"dataframe\">\n",
       "  <thead>\n",
       "    <tr style=\"text-align: right;\">\n",
       "      <th></th>\n",
       "      <th>color</th>\n",
       "      <th>director_name</th>\n",
       "      <th>duration</th>\n",
       "      <th>gross</th>\n",
       "      <th>genres</th>\n",
       "      <th>movie_title</th>\n",
       "      <th>title_year</th>\n",
       "      <th>country</th>\n",
       "      <th>budget</th>\n",
       "      <th>imdb_score</th>\n",
       "      <th>actors</th>\n",
       "      <th>movie_facebook_likes</th>\n",
       "    </tr>\n",
       "  </thead>\n",
       "  <tbody>\n",
       "    <tr>\n",
       "      <th>5</th>\n",
       "      <td>NaN</td>\n",
       "      <td>NaN</td>\n",
       "      <td>183</td>\n",
       "      <td>330249062</td>\n",
       "      <td>Action|Adventure|Sci-Fi</td>\n",
       "      <td>batman v superman: dawn of justice</td>\n",
       "      <td>202</td>\n",
       "      <td>United States</td>\n",
       "      <td>250000000</td>\n",
       "      <td>7</td>\n",
       "      <td>Henry Cavill,Lauren Cohan,Alan D. Purwin</td>\n",
       "      <td>197000</td>\n",
       "    </tr>\n",
       "    <tr>\n",
       "      <th>10</th>\n",
       "      <td>NaN</td>\n",
       "      <td>Tom Tykwer</td>\n",
       "      <td>172</td>\n",
       "      <td>27098580</td>\n",
       "      <td>Drama|Sci-Fi</td>\n",
       "      <td>cloud atlas</td>\n",
       "      <td>2012</td>\n",
       "      <td>Germany</td>\n",
       "      <td>102000000</td>\n",
       "      <td>-8</td>\n",
       "      <td>Tom Hanks,Jim Sturgess,Jim Broadbent</td>\n",
       "      <td>124000</td>\n",
       "    </tr>\n",
       "    <tr>\n",
       "      <th>15</th>\n",
       "      <td>NaN</td>\n",
       "      <td>Richard Linklater</td>\n",
       "      <td>165</td>\n",
       "      <td>25359200</td>\n",
       "      <td>Drama</td>\n",
       "      <td>boyhood</td>\n",
       "      <td>2014</td>\n",
       "      <td>United States</td>\n",
       "      <td>4000000</td>\n",
       "      <td>8</td>\n",
       "      <td>Ellar Coltrane,Lorelei Linklater,Libby Villari</td>\n",
       "      <td>92000</td>\n",
       "    </tr>\n",
       "    <tr>\n",
       "      <th>18</th>\n",
       "      <td>NaN</td>\n",
       "      <td>Christopher Nolan</td>\n",
       "      <td>164</td>\n",
       "      <td>448130642</td>\n",
       "      <td>Action|Thriller</td>\n",
       "      <td>the dark knight rises</td>\n",
       "      <td>2012</td>\n",
       "      <td>United States</td>\n",
       "      <td>250000000</td>\n",
       "      <td>8</td>\n",
       "      <td>Tom Hardy,Christian Bale,Joseph Gordon-Levitt</td>\n",
       "      <td>164000</td>\n",
       "    </tr>\n",
       "    <tr>\n",
       "      <th>56</th>\n",
       "      <td>NaN</td>\n",
       "      <td>NaN</td>\n",
       "      <td>143</td>\n",
       "      <td>NaN</td>\n",
       "      <td>Drama|Horror|Thriller</td>\n",
       "      <td>the ridges</td>\n",
       "      <td>2011</td>\n",
       "      <td>United States</td>\n",
       "      <td>17350</td>\n",
       "      <td>3</td>\n",
       "      <td>Robbie Barnes,Alana Kaniewski,Brandon Landers</td>\n",
       "      <td>33</td>\n",
       "    </tr>\n",
       "    <tr>\n",
       "      <th>65</th>\n",
       "      <td>NaN</td>\n",
       "      <td>Oliver Stone</td>\n",
       "      <td>141</td>\n",
       "      <td>47307550</td>\n",
       "      <td>Crime|Drama|Thriller</td>\n",
       "      <td>savages</td>\n",
       "      <td>2012</td>\n",
       "      <td>United States</td>\n",
       "      <td>45000000</td>\n",
       "      <td>6</td>\n",
       "      <td>Demián Bichir,Shea Whigham,Gary Stretch</td>\n",
       "      <td>28000</td>\n",
       "    </tr>\n",
       "    <tr>\n",
       "      <th>74</th>\n",
       "      <td>NaN</td>\n",
       "      <td>Terrence Malick</td>\n",
       "      <td>139</td>\n",
       "      <td>13303319</td>\n",
       "      <td>Drama|Fantasy</td>\n",
       "      <td>the tree of life</td>\n",
       "      <td>2011</td>\n",
       "      <td>United States</td>\n",
       "      <td>32000000</td>\n",
       "      <td>7</td>\n",
       "      <td>Brad Pitt,Tye Sheridan,Fiona Shaw</td>\n",
       "      <td>39000</td>\n",
       "    </tr>\n",
       "    <tr>\n",
       "      <th>76</th>\n",
       "      <td>NaN</td>\n",
       "      <td>Robert Zemeckis</td>\n",
       "      <td>138</td>\n",
       "      <td>93749203</td>\n",
       "      <td>Drama|Thriller</td>\n",
       "      <td>flight</td>\n",
       "      <td>2012</td>\n",
       "      <td>United States</td>\n",
       "      <td>31000000</td>\n",
       "      <td>7</td>\n",
       "      <td>Denzel Washington,Bruce Greenwood,Nadine Velaz...</td>\n",
       "      <td>64000</td>\n",
       "    </tr>\n",
       "    <tr>\n",
       "      <th>80</th>\n",
       "      <td>NaN</td>\n",
       "      <td>James Mangold</td>\n",
       "      <td>138</td>\n",
       "      <td>132550960</td>\n",
       "      <td>Action|Adventure|Sci-Fi|Thriller</td>\n",
       "      <td>the wolverine</td>\n",
       "      <td>2013</td>\n",
       "      <td>United States</td>\n",
       "      <td>120000000</td>\n",
       "      <td>7</td>\n",
       "      <td>Hugh Jackman,Tao Okamoto,Rila Fukushima</td>\n",
       "      <td>68000</td>\n",
       "    </tr>\n",
       "    <tr>\n",
       "      <th>83</th>\n",
       "      <td>NaN</td>\n",
       "      <td>Walter Salles</td>\n",
       "      <td>137</td>\n",
       "      <td>717753</td>\n",
       "      <td>Adventure|Drama</td>\n",
       "      <td>on the road</td>\n",
       "      <td>2012</td>\n",
       "      <td>France</td>\n",
       "      <td>25000000</td>\n",
       "      <td>6</td>\n",
       "      <td>Kristen Stewart,Viggo Mortensen,Kirsten Dunst</td>\n",
       "      <td>27000</td>\n",
       "    </tr>\n",
       "    <tr>\n",
       "      <th>87</th>\n",
       "      <td>NaN</td>\n",
       "      <td>Seth MacFarlane</td>\n",
       "      <td>136</td>\n",
       "      <td>42615685</td>\n",
       "      <td>Comedy|Western</td>\n",
       "      <td>a million ways to die in the west</td>\n",
       "      <td>2014</td>\n",
       "      <td>United States</td>\n",
       "      <td>40000000</td>\n",
       "      <td>6</td>\n",
       "      <td>Liam Neeson,Charlize Theron,Seth MacFarlane</td>\n",
       "      <td>24000</td>\n",
       "    </tr>\n",
       "  </tbody>\n",
       "</table>\n",
       "</div>"
      ],
      "text/plain": [
       "   color      director_name  duration     gross  \\\n",
       "5    NaN                NaN       183 330249062   \n",
       "10   NaN         Tom Tykwer       172  27098580   \n",
       "15   NaN  Richard Linklater       165  25359200   \n",
       "18   NaN  Christopher Nolan       164 448130642   \n",
       "56   NaN                NaN       143       NaN   \n",
       "65   NaN       Oliver Stone       141  47307550   \n",
       "74   NaN    Terrence Malick       139  13303319   \n",
       "76   NaN    Robert Zemeckis       138  93749203   \n",
       "80   NaN      James Mangold       138 132550960   \n",
       "83   NaN      Walter Salles       137    717753   \n",
       "87   NaN    Seth MacFarlane       136  42615685   \n",
       "\n",
       "                              genres                         movie_title  \\\n",
       "5            Action|Adventure|Sci-Fi  batman v superman: dawn of justice   \n",
       "10                      Drama|Sci-Fi                         cloud atlas   \n",
       "15                             Drama                             boyhood   \n",
       "18                   Action|Thriller               the dark knight rises   \n",
       "56             Drama|Horror|Thriller                          the ridges   \n",
       "65              Crime|Drama|Thriller                             savages   \n",
       "74                     Drama|Fantasy                    the tree of life   \n",
       "76                    Drama|Thriller                              flight   \n",
       "80  Action|Adventure|Sci-Fi|Thriller                       the wolverine   \n",
       "83                   Adventure|Drama                         on the road   \n",
       "87                    Comedy|Western   a million ways to die in the west   \n",
       "\n",
       "    title_year        country    budget  imdb_score  \\\n",
       "5          202  United States 250000000           7   \n",
       "10        2012        Germany 102000000          -8   \n",
       "15        2014  United States   4000000           8   \n",
       "18        2012  United States 250000000           8   \n",
       "56        2011  United States     17350           3   \n",
       "65        2012  United States  45000000           6   \n",
       "74        2011  United States  32000000           7   \n",
       "76        2012  United States  31000000           7   \n",
       "80        2013  United States 120000000           7   \n",
       "83        2012         France  25000000           6   \n",
       "87        2014  United States  40000000           6   \n",
       "\n",
       "                                               actors  movie_facebook_likes  \n",
       "5            Henry Cavill,Lauren Cohan,Alan D. Purwin                197000  \n",
       "10               Tom Hanks,Jim Sturgess,Jim Broadbent                124000  \n",
       "15     Ellar Coltrane,Lorelei Linklater,Libby Villari                 92000  \n",
       "18      Tom Hardy,Christian Bale,Joseph Gordon-Levitt                164000  \n",
       "56      Robbie Barnes,Alana Kaniewski,Brandon Landers                    33  \n",
       "65            Demián Bichir,Shea Whigham,Gary Stretch                 28000  \n",
       "74                  Brad Pitt,Tye Sheridan,Fiona Shaw                 39000  \n",
       "76  Denzel Washington,Bruce Greenwood,Nadine Velaz...                 64000  \n",
       "80            Hugh Jackman,Tao Okamoto,Rila Fukushima                 68000  \n",
       "83      Kristen Stewart,Viggo Mortensen,Kirsten Dunst                 27000  \n",
       "87        Liam Neeson,Charlize Theron,Seth MacFarlane                 24000  "
      ]
     },
     "execution_count": 331,
     "metadata": {},
     "output_type": "execute_result"
    }
   ],
   "source": [
    "df_imdb[df_imdb.color.isna()]"
   ]
  },
  {
   "cell_type": "code",
   "execution_count": 332,
   "metadata": {},
   "outputs": [],
   "source": [
    "df_imdb.color.fillna('Color', inplace=True)"
   ]
  },
  {
   "cell_type": "code",
   "execution_count": 333,
   "metadata": {},
   "outputs": [
    {
     "data": {
      "text/plain": [
       "Color               92\n",
       "color                1\n",
       " Black and White     1\n",
       "Name: color, dtype: int64"
      ]
     },
     "execution_count": 333,
     "metadata": {},
     "output_type": "execute_result"
    }
   ],
   "source": [
    "df_imdb.color.value_counts(dropna=False)"
   ]
  },
  {
   "cell_type": "code",
   "execution_count": 334,
   "metadata": {},
   "outputs": [
    {
     "data": {
      "text/plain": [
       "Color              92\n",
       "color               1\n",
       "Black and White     1\n",
       "Name: color, dtype: int64"
      ]
     },
     "execution_count": 334,
     "metadata": {},
     "output_type": "execute_result"
    }
   ],
   "source": [
    "df_imdb.color.str.strip().value_counts()"
   ]
  },
  {
   "cell_type": "code",
   "execution_count": 335,
   "metadata": {},
   "outputs": [
    {
     "data": {
      "text/plain": [
       "Color              93\n",
       "Black and white     1\n",
       "Name: color, dtype: int64"
      ]
     },
     "execution_count": 335,
     "metadata": {},
     "output_type": "execute_result"
    }
   ],
   "source": [
    "df_imdb.color.str.strip().str.capitalize().value_counts()"
   ]
  },
  {
   "cell_type": "code",
   "execution_count": 336,
   "metadata": {},
   "outputs": [],
   "source": [
    "df_imdb[\"color\"] = df_imdb.color.str.strip().str.capitalize()"
   ]
  },
  {
   "cell_type": "code",
   "execution_count": 337,
   "metadata": {},
   "outputs": [
    {
     "data": {
      "text/plain": [
       "Color              93\n",
       "Black and white     1\n",
       "Name: color, dtype: int64"
      ]
     },
     "execution_count": 337,
     "metadata": {},
     "output_type": "execute_result"
    }
   ],
   "source": [
    "df_imdb[\"color\"].value_counts(dropna=False)"
   ]
  },
  {
   "cell_type": "code",
   "execution_count": 338,
   "metadata": {},
   "outputs": [],
   "source": [
    "assert df_imdb.color.isna().any() == False\n",
    "assert sorted(df_imdb.color.unique()) == [\"Black and white\", \"Color\"]"
   ]
  },
  {
   "cell_type": "markdown",
   "metadata": {},
   "source": [
    "### Columna `director_name`"
   ]
  },
  {
   "cell_type": "code",
   "execution_count": 339,
   "metadata": {},
   "outputs": [
    {
     "data": {
      "text/plain": [
       "11"
      ]
     },
     "execution_count": 339,
     "metadata": {},
     "output_type": "execute_result"
    }
   ],
   "source": [
    "df_imdb.director_name.isna().sum()"
   ]
  },
  {
   "cell_type": "code",
   "execution_count": 340,
   "metadata": {},
   "outputs": [
    {
     "data": {
      "text/html": [
       "<div>\n",
       "<style scoped>\n",
       "    .dataframe tbody tr th:only-of-type {\n",
       "        vertical-align: middle;\n",
       "    }\n",
       "\n",
       "    .dataframe tbody tr th {\n",
       "        vertical-align: top;\n",
       "    }\n",
       "\n",
       "    .dataframe thead th {\n",
       "        text-align: right;\n",
       "    }\n",
       "</style>\n",
       "<table border=\"1\" class=\"dataframe\">\n",
       "  <thead>\n",
       "    <tr style=\"text-align: right;\">\n",
       "      <th></th>\n",
       "      <th>color</th>\n",
       "      <th>director_name</th>\n",
       "      <th>duration</th>\n",
       "      <th>gross</th>\n",
       "      <th>genres</th>\n",
       "      <th>movie_title</th>\n",
       "      <th>title_year</th>\n",
       "      <th>country</th>\n",
       "      <th>budget</th>\n",
       "      <th>imdb_score</th>\n",
       "      <th>actors</th>\n",
       "      <th>movie_facebook_likes</th>\n",
       "    </tr>\n",
       "  </thead>\n",
       "  <tbody>\n",
       "    <tr>\n",
       "      <th>5</th>\n",
       "      <td>Color</td>\n",
       "      <td>NaN</td>\n",
       "      <td>183</td>\n",
       "      <td>330249062</td>\n",
       "      <td>Action|Adventure|Sci-Fi</td>\n",
       "      <td>batman v superman: dawn of justice</td>\n",
       "      <td>202</td>\n",
       "      <td>United States</td>\n",
       "      <td>250000000</td>\n",
       "      <td>7</td>\n",
       "      <td>Henry Cavill,Lauren Cohan,Alan D. Purwin</td>\n",
       "      <td>197000</td>\n",
       "    </tr>\n",
       "    <tr>\n",
       "      <th>24</th>\n",
       "      <td>Color</td>\n",
       "      <td>NaN</td>\n",
       "      <td>156</td>\n",
       "      <td>183635922</td>\n",
       "      <td>Adventure|Drama|Thriller|Western</td>\n",
       "      <td>the revenant</td>\n",
       "      <td>2015</td>\n",
       "      <td>United States</td>\n",
       "      <td>135000000</td>\n",
       "      <td>8</td>\n",
       "      <td>Leonardo DiCaprio,Tom Hardy,Lukas Haas</td>\n",
       "      <td>190000</td>\n",
       "    </tr>\n",
       "    <tr>\n",
       "      <th>32</th>\n",
       "      <td>Color</td>\n",
       "      <td>NaN</td>\n",
       "      <td>150</td>\n",
       "      <td>182204440</td>\n",
       "      <td>Biography|Drama|History|War</td>\n",
       "      <td>lincoln</td>\n",
       "      <td>2012</td>\n",
       "      <td>United States</td>\n",
       "      <td>65000000</td>\n",
       "      <td>7</td>\n",
       "      <td>Joseph Gordon-Levitt,Hal Holbrook,Bruce McGill</td>\n",
       "      <td>71000</td>\n",
       "    </tr>\n",
       "    <tr>\n",
       "      <th>41</th>\n",
       "      <td>Color</td>\n",
       "      <td>NaN</td>\n",
       "      <td>147</td>\n",
       "      <td>407197282</td>\n",
       "      <td>Action|Adventure|Sci-Fi</td>\n",
       "      <td>captain america: civil war</td>\n",
       "      <td>2016</td>\n",
       "      <td>United States</td>\n",
       "      <td>250000000</td>\n",
       "      <td>8</td>\n",
       "      <td>Robert Downey Jr.,Scarlett Johansson,Chris Evans</td>\n",
       "      <td>72000</td>\n",
       "    </tr>\n",
       "    <tr>\n",
       "      <th>56</th>\n",
       "      <td>Color</td>\n",
       "      <td>NaN</td>\n",
       "      <td>143</td>\n",
       "      <td>NaN</td>\n",
       "      <td>Drama|Horror|Thriller</td>\n",
       "      <td>the ridges</td>\n",
       "      <td>2011</td>\n",
       "      <td>United States</td>\n",
       "      <td>17350</td>\n",
       "      <td>3</td>\n",
       "      <td>Robbie Barnes,Alana Kaniewski,Brandon Landers</td>\n",
       "      <td>33</td>\n",
       "    </tr>\n",
       "    <tr>\n",
       "      <th>59</th>\n",
       "      <td>Color</td>\n",
       "      <td>NaN</td>\n",
       "      <td>142</td>\n",
       "      <td>407999255</td>\n",
       "      <td>Adventure|Drama|Sci-Fi|Thriller</td>\n",
       "      <td>the hunger games</td>\n",
       "      <td>2012</td>\n",
       "      <td>United States</td>\n",
       "      <td>78000000</td>\n",
       "      <td>7</td>\n",
       "      <td>Jennifer Lawrence,Josh Hutcherson,Anthony Reyn...</td>\n",
       "      <td>140000</td>\n",
       "    </tr>\n",
       "    <tr>\n",
       "      <th>71</th>\n",
       "      <td>Color</td>\n",
       "      <td>NaN</td>\n",
       "      <td>139</td>\n",
       "      <td>150832203</td>\n",
       "      <td>Adventure|Mystery|Sci-Fi</td>\n",
       "      <td>divergent</td>\n",
       "      <td>1800</td>\n",
       "      <td>United States</td>\n",
       "      <td>85000000</td>\n",
       "      <td>7</td>\n",
       "      <td>Kate Winslet,Theo James,Mekhi Phifer</td>\n",
       "      <td>49000</td>\n",
       "    </tr>\n",
       "    <tr>\n",
       "      <th>75</th>\n",
       "      <td>Color</td>\n",
       "      <td>NaN</td>\n",
       "      <td>138</td>\n",
       "      <td>150117807</td>\n",
       "      <td>Crime|Drama</td>\n",
       "      <td>american hustle</td>\n",
       "      <td>2013</td>\n",
       "      <td>United States</td>\n",
       "      <td>40000000</td>\n",
       "      <td>7</td>\n",
       "      <td>Jennifer Lawrence,Christian Bale,Bradley Cooper</td>\n",
       "      <td>63000</td>\n",
       "    </tr>\n",
       "    <tr>\n",
       "      <th>82</th>\n",
       "      <td>Color</td>\n",
       "      <td>NaN</td>\n",
       "      <td>137</td>\n",
       "      <td>37304950</td>\n",
       "      <td>Biography|Crime|Drama</td>\n",
       "      <td>j. edgar</td>\n",
       "      <td>2011</td>\n",
       "      <td>United States</td>\n",
       "      <td>35000000</td>\n",
       "      <td>7</td>\n",
       "      <td>Leonardo DiCaprio,Naomi Watts,Kaitlyn Dever</td>\n",
       "      <td>16000</td>\n",
       "    </tr>\n",
       "    <tr>\n",
       "      <th>84</th>\n",
       "      <td>Color</td>\n",
       "      <td>NaN</td>\n",
       "      <td>137</td>\n",
       "      <td>281666058</td>\n",
       "      <td>Adventure|Sci-Fi</td>\n",
       "      <td>the hunger games: mockingjay - part 2</td>\n",
       "      <td>2015</td>\n",
       "      <td>United States</td>\n",
       "      <td>160000000</td>\n",
       "      <td>7</td>\n",
       "      <td>Jennifer Lawrence,Philip Seymour Hoffman,Josh ...</td>\n",
       "      <td>38000</td>\n",
       "    </tr>\n",
       "    <tr>\n",
       "      <th>91</th>\n",
       "      <td>Color</td>\n",
       "      <td>NaN</td>\n",
       "      <td>136</td>\n",
       "      <td>52474616</td>\n",
       "      <td>Drama</td>\n",
       "      <td>wall street: money never sleeps</td>\n",
       "      <td>2010</td>\n",
       "      <td>United States</td>\n",
       "      <td>70000000</td>\n",
       "      <td>6</td>\n",
       "      <td>Frank Langella,Austin Pendleton,John Buffalo M...</td>\n",
       "      <td>13000</td>\n",
       "    </tr>\n",
       "  </tbody>\n",
       "</table>\n",
       "</div>"
      ],
      "text/plain": [
       "    color director_name  duration     gross                            genres  \\\n",
       "5   Color           NaN       183 330249062           Action|Adventure|Sci-Fi   \n",
       "24  Color           NaN       156 183635922  Adventure|Drama|Thriller|Western   \n",
       "32  Color           NaN       150 182204440       Biography|Drama|History|War   \n",
       "41  Color           NaN       147 407197282           Action|Adventure|Sci-Fi   \n",
       "56  Color           NaN       143       NaN             Drama|Horror|Thriller   \n",
       "59  Color           NaN       142 407999255   Adventure|Drama|Sci-Fi|Thriller   \n",
       "71  Color           NaN       139 150832203          Adventure|Mystery|Sci-Fi   \n",
       "75  Color           NaN       138 150117807                       Crime|Drama   \n",
       "82  Color           NaN       137  37304950             Biography|Crime|Drama   \n",
       "84  Color           NaN       137 281666058                  Adventure|Sci-Fi   \n",
       "91  Color           NaN       136  52474616                             Drama   \n",
       "\n",
       "                              movie_title  title_year        country  \\\n",
       "5      batman v superman: dawn of justice         202  United States   \n",
       "24                           the revenant        2015  United States   \n",
       "32                                lincoln        2012  United States   \n",
       "41             captain america: civil war        2016  United States   \n",
       "56                             the ridges        2011  United States   \n",
       "59                       the hunger games        2012  United States   \n",
       "71                              divergent        1800  United States   \n",
       "75                        american hustle        2013  United States   \n",
       "82                               j. edgar        2011  United States   \n",
       "84  the hunger games: mockingjay - part 2        2015  United States   \n",
       "91        wall street: money never sleeps        2010  United States   \n",
       "\n",
       "      budget  imdb_score                                             actors  \\\n",
       "5  250000000           7           Henry Cavill,Lauren Cohan,Alan D. Purwin   \n",
       "24 135000000           8             Leonardo DiCaprio,Tom Hardy,Lukas Haas   \n",
       "32  65000000           7     Joseph Gordon-Levitt,Hal Holbrook,Bruce McGill   \n",
       "41 250000000           8   Robert Downey Jr.,Scarlett Johansson,Chris Evans   \n",
       "56     17350           3      Robbie Barnes,Alana Kaniewski,Brandon Landers   \n",
       "59  78000000           7  Jennifer Lawrence,Josh Hutcherson,Anthony Reyn...   \n",
       "71  85000000           7               Kate Winslet,Theo James,Mekhi Phifer   \n",
       "75  40000000           7    Jennifer Lawrence,Christian Bale,Bradley Cooper   \n",
       "82  35000000           7        Leonardo DiCaprio,Naomi Watts,Kaitlyn Dever   \n",
       "84 160000000           7  Jennifer Lawrence,Philip Seymour Hoffman,Josh ...   \n",
       "91  70000000           6  Frank Langella,Austin Pendleton,John Buffalo M...   \n",
       "\n",
       "    movie_facebook_likes  \n",
       "5                 197000  \n",
       "24                190000  \n",
       "32                 71000  \n",
       "41                 72000  \n",
       "56                    33  \n",
       "59                140000  \n",
       "71                 49000  \n",
       "75                 63000  \n",
       "82                 16000  \n",
       "84                 38000  \n",
       "91                 13000  "
      ]
     },
     "execution_count": 340,
     "metadata": {},
     "output_type": "execute_result"
    }
   ],
   "source": [
    "df_imdb[df_imdb.director_name.isna()]"
   ]
  },
  {
   "cell_type": "code",
   "execution_count": 341,
   "metadata": {},
   "outputs": [],
   "source": [
    "df_imdb.loc[df_imdb.director_name.isna(), \"director_name\"] = \"No information available\""
   ]
  },
  {
   "cell_type": "code",
   "execution_count": 342,
   "metadata": {},
   "outputs": [
    {
     "data": {
      "text/plain": [
       "No information available    11\n",
       "Michael Bay                  3\n",
       "Peter Jackson                3\n",
       "Christopher Nolan            3\n",
       "Ridley Scott                 3\n",
       "                            ..\n",
       "Adam McKay                   1\n",
       "Zack Snyder                  1\n",
       "Baz Luhrmann                 1\n",
       "Kenneth Lonergan             1\n",
       "Clint Eastwood               1\n",
       "Name: director_name, Length: 64, dtype: int64"
      ]
     },
     "execution_count": 342,
     "metadata": {},
     "output_type": "execute_result"
    }
   ],
   "source": [
    "df_imdb.director_name.value_counts(dropna=False)"
   ]
  },
  {
   "cell_type": "code",
   "execution_count": 343,
   "metadata": {},
   "outputs": [
    {
     "data": {
      "text/plain": [
       "Marc Webb    2\n",
       "Null         1\n",
       "Nan          1\n",
       "Jay Oliva    1\n",
       "James Wan    1\n",
       "Gary Ross    1\n",
       "Name: director_name, dtype: int64"
      ]
     },
     "execution_count": 343,
     "metadata": {},
     "output_type": "execute_result"
    }
   ],
   "source": [
    "# attention\n",
    "df_imdb.director_name[df_imdb.director_name.str.len() < 10].value_counts()"
   ]
  },
  {
   "cell_type": "code",
   "execution_count": 344,
   "metadata": {},
   "outputs": [],
   "source": [
    "to_replace = [\"Null\", \"Nan\"]\n",
    "df_imdb.loc[df_imdb.director_name.isin(to_replace), \"director_name\"] = \"No information available\""
   ]
  },
  {
   "cell_type": "code",
   "execution_count": 345,
   "metadata": {},
   "outputs": [
    {
     "data": {
      "text/plain": [
       "No information available    13\n",
       "Peter Jackson                3\n",
       "Christopher Nolan            3\n",
       "Ridley Scott                 3\n",
       "Michael Bay                  3\n",
       "                            ..\n",
       "Adam McKay                   1\n",
       "Zack Snyder                  1\n",
       "Baz Luhrmann                 1\n",
       "Justin Chadwick              1\n",
       "Clint Eastwood               1\n",
       "Name: director_name, Length: 62, dtype: int64"
      ]
     },
     "execution_count": 345,
     "metadata": {},
     "output_type": "execute_result"
    }
   ],
   "source": [
    "df_imdb.director_name.value_counts(dropna=False)"
   ]
  },
  {
   "cell_type": "code",
   "execution_count": 346,
   "metadata": {},
   "outputs": [],
   "source": [
    "assert df_imdb.director_name.isna().any() == False"
   ]
  },
  {
   "cell_type": "markdown",
   "metadata": {},
   "source": [
    "### Columna `gross`"
   ]
  },
  {
   "cell_type": "code",
   "execution_count": 347,
   "metadata": {},
   "outputs": [
    {
     "data": {
      "text/plain": [
       "6"
      ]
     },
     "execution_count": 347,
     "metadata": {},
     "output_type": "execute_result"
    }
   ],
   "source": [
    "df_imdb.gross.isna().sum()"
   ]
  },
  {
   "cell_type": "code",
   "execution_count": 348,
   "metadata": {},
   "outputs": [
    {
     "data": {
      "text/html": [
       "<div>\n",
       "<style scoped>\n",
       "    .dataframe tbody tr th:only-of-type {\n",
       "        vertical-align: middle;\n",
       "    }\n",
       "\n",
       "    .dataframe tbody tr th {\n",
       "        vertical-align: top;\n",
       "    }\n",
       "\n",
       "    .dataframe thead th {\n",
       "        text-align: right;\n",
       "    }\n",
       "</style>\n",
       "<table border=\"1\" class=\"dataframe\">\n",
       "  <thead>\n",
       "    <tr style=\"text-align: right;\">\n",
       "      <th></th>\n",
       "      <th>color</th>\n",
       "      <th>director_name</th>\n",
       "      <th>duration</th>\n",
       "      <th>gross</th>\n",
       "      <th>genres</th>\n",
       "      <th>movie_title</th>\n",
       "      <th>title_year</th>\n",
       "      <th>country</th>\n",
       "      <th>budget</th>\n",
       "      <th>imdb_score</th>\n",
       "      <th>actors</th>\n",
       "      <th>movie_facebook_likes</th>\n",
       "    </tr>\n",
       "  </thead>\n",
       "  <tbody>\n",
       "    <tr>\n",
       "      <th>7</th>\n",
       "      <td>Color</td>\n",
       "      <td>Edward Hall</td>\n",
       "      <td>180</td>\n",
       "      <td>NaN</td>\n",
       "      <td>Drama|Romance</td>\n",
       "      <td>restless</td>\n",
       "      <td>2012</td>\n",
       "      <td>United Kingdom</td>\n",
       "      <td>NaN</td>\n",
       "      <td>7</td>\n",
       "      <td>Rufus Sewell,Hayley Atwell,Charlotte Rampling</td>\n",
       "      <td>434</td>\n",
       "    </tr>\n",
       "    <tr>\n",
       "      <th>27</th>\n",
       "      <td>Color</td>\n",
       "      <td>Gnana Rajasekaran</td>\n",
       "      <td>153</td>\n",
       "      <td>NaN</td>\n",
       "      <td>Biography|Drama|History</td>\n",
       "      <td>ramanujan</td>\n",
       "      <td>2014</td>\n",
       "      <td>India</td>\n",
       "      <td>NaN</td>\n",
       "      <td>7</td>\n",
       "      <td>Mani Bharathi,Michael Lieber,Kevin McGowan</td>\n",
       "      <td>58</td>\n",
       "    </tr>\n",
       "    <tr>\n",
       "      <th>37</th>\n",
       "      <td>Color</td>\n",
       "      <td>Jay Oliva</td>\n",
       "      <td>148</td>\n",
       "      <td>NaN</td>\n",
       "      <td>Action|Animation|Crime|Sci-Fi|Thriller</td>\n",
       "      <td>batman: the dark knight returns, part 2</td>\n",
       "      <td>2013</td>\n",
       "      <td>United States</td>\n",
       "      <td>3500000</td>\n",
       "      <td>8</td>\n",
       "      <td>Michael Emerson,Mark Valley,Grey Griffin</td>\n",
       "      <td>5000</td>\n",
       "    </tr>\n",
       "    <tr>\n",
       "      <th>56</th>\n",
       "      <td>Color</td>\n",
       "      <td>No information available</td>\n",
       "      <td>143</td>\n",
       "      <td>NaN</td>\n",
       "      <td>Drama|Horror|Thriller</td>\n",
       "      <td>the ridges</td>\n",
       "      <td>2011</td>\n",
       "      <td>United States</td>\n",
       "      <td>17350</td>\n",
       "      <td>3</td>\n",
       "      <td>Robbie Barnes,Alana Kaniewski,Brandon Landers</td>\n",
       "      <td>33</td>\n",
       "    </tr>\n",
       "    <tr>\n",
       "      <th>61</th>\n",
       "      <td>Color</td>\n",
       "      <td>Timur Bekmambetov</td>\n",
       "      <td>141</td>\n",
       "      <td>NaN</td>\n",
       "      <td>Adventure|Drama|History</td>\n",
       "      <td>ben-hur</td>\n",
       "      <td>2016</td>\n",
       "      <td>United States</td>\n",
       "      <td>100000000</td>\n",
       "      <td>6</td>\n",
       "      <td>Morgan Freeman,Ayelet Zurer,Moises Arias</td>\n",
       "      <td>0</td>\n",
       "    </tr>\n",
       "    <tr>\n",
       "      <th>62</th>\n",
       "      <td>Color</td>\n",
       "      <td>Timur Bekmambetov</td>\n",
       "      <td>141</td>\n",
       "      <td>NaN</td>\n",
       "      <td>Adventure|Drama|History</td>\n",
       "      <td>ben-hur</td>\n",
       "      <td>2016</td>\n",
       "      <td>United States</td>\n",
       "      <td>100000000</td>\n",
       "      <td>6</td>\n",
       "      <td>Morgan Freeman,Ayelet Zurer,Moises Arias</td>\n",
       "      <td>0</td>\n",
       "    </tr>\n",
       "  </tbody>\n",
       "</table>\n",
       "</div>"
      ],
      "text/plain": [
       "    color             director_name  duration  gross  \\\n",
       "7   Color               Edward Hall       180    NaN   \n",
       "27  Color         Gnana Rajasekaran       153    NaN   \n",
       "37  Color                 Jay Oliva       148    NaN   \n",
       "56  Color  No information available       143    NaN   \n",
       "61  Color         Timur Bekmambetov       141    NaN   \n",
       "62  Color         Timur Bekmambetov       141    NaN   \n",
       "\n",
       "                                    genres  \\\n",
       "7                            Drama|Romance   \n",
       "27                 Biography|Drama|History   \n",
       "37  Action|Animation|Crime|Sci-Fi|Thriller   \n",
       "56                   Drama|Horror|Thriller   \n",
       "61                 Adventure|Drama|History   \n",
       "62                 Adventure|Drama|History   \n",
       "\n",
       "                                movie_title  title_year         country  \\\n",
       "7                                  restless        2012  United Kingdom   \n",
       "27                                ramanujan        2014           India   \n",
       "37  batman: the dark knight returns, part 2        2013   United States   \n",
       "56                               the ridges        2011   United States   \n",
       "61                                  ben-hur        2016   United States   \n",
       "62                                  ben-hur        2016   United States   \n",
       "\n",
       "      budget  imdb_score                                         actors  \\\n",
       "7        NaN           7  Rufus Sewell,Hayley Atwell,Charlotte Rampling   \n",
       "27       NaN           7     Mani Bharathi,Michael Lieber,Kevin McGowan   \n",
       "37   3500000           8       Michael Emerson,Mark Valley,Grey Griffin   \n",
       "56     17350           3  Robbie Barnes,Alana Kaniewski,Brandon Landers   \n",
       "61 100000000           6       Morgan Freeman,Ayelet Zurer,Moises Arias   \n",
       "62 100000000           6       Morgan Freeman,Ayelet Zurer,Moises Arias   \n",
       "\n",
       "    movie_facebook_likes  \n",
       "7                    434  \n",
       "27                    58  \n",
       "37                  5000  \n",
       "56                    33  \n",
       "61                     0  \n",
       "62                     0  "
      ]
     },
     "execution_count": 348,
     "metadata": {},
     "output_type": "execute_result"
    }
   ],
   "source": [
    "df_imdb[df_imdb.gross.isna()]"
   ]
  },
  {
   "cell_type": "code",
   "execution_count": 349,
   "metadata": {},
   "outputs": [],
   "source": [
    "gross_median = df_imdb[\"gross\"].median()\n",
    "df_imdb.gross.fillna(gross_median, inplace=True)"
   ]
  },
  {
   "cell_type": "code",
   "execution_count": 350,
   "metadata": {},
   "outputs": [
    {
     "data": {
      "text/plain": [
       "False"
      ]
     },
     "execution_count": 350,
     "metadata": {},
     "output_type": "execute_result"
    }
   ],
   "source": [
    "df_imdb.gross.isna().any()"
   ]
  },
  {
   "cell_type": "code",
   "execution_count": 351,
   "metadata": {},
   "outputs": [
    {
     "data": {
      "text/plain": [
       "count                94\n",
       "mean      1063968923160\n",
       "std      10314197958305\n",
       "min              -92939\n",
       "25%            47051975\n",
       "50%           106160295\n",
       "75%           202158994\n",
       "max     100000000000000\n",
       "Name: gross, dtype: float64"
      ]
     },
     "execution_count": 351,
     "metadata": {},
     "output_type": "execute_result"
    }
   ],
   "source": [
    "df_imdb.gross.describe()"
   ]
  },
  {
   "cell_type": "code",
   "execution_count": 352,
   "metadata": {},
   "outputs": [
    {
     "data": {
      "text/plain": [
       "count                94\n",
       "mean      1063968923160\n",
       "std      10314197958305\n",
       "min              -92939\n",
       "25%            47051975\n",
       "50%           106160295\n",
       "75%           202158994\n",
       "max     100000000000000\n",
       "Name: gross, dtype: float64"
      ]
     },
     "execution_count": 352,
     "metadata": {},
     "output_type": "execute_result"
    }
   ],
   "source": [
    "pd.set_option(\"float_format\", \"{:.0f}\".format)\n",
    "df_imdb.gross.describe()"
   ]
  },
  {
   "cell_type": "code",
   "execution_count": 353,
   "metadata": {},
   "outputs": [
    {
     "data": {
      "text/plain": [
       "<AxesSubplot:>"
      ]
     },
     "execution_count": 353,
     "metadata": {},
     "output_type": "execute_result"
    },
    {
     "data": {
      "image/png": "[encoded data removed]",
      "text/plain": [
       "<Figure size 432x288 with 1 Axes>"
      ]
     },
     "metadata": {
      "needs_background": "light"
     },
     "output_type": "display_data"
    }
   ],
   "source": [
    "df_imdb.gross.plot(kind='box')"
   ]
  },
  {
   "cell_type": "code",
   "execution_count": 354,
   "metadata": {},
   "outputs": [
    {
     "data": {
      "text/html": [
       "<div>\n",
       "<style scoped>\n",
       "    .dataframe tbody tr th:only-of-type {\n",
       "        vertical-align: middle;\n",
       "    }\n",
       "\n",
       "    .dataframe tbody tr th {\n",
       "        vertical-align: top;\n",
       "    }\n",
       "\n",
       "    .dataframe thead th {\n",
       "        text-align: right;\n",
       "    }\n",
       "</style>\n",
       "<table border=\"1\" class=\"dataframe\">\n",
       "  <thead>\n",
       "    <tr style=\"text-align: right;\">\n",
       "      <th></th>\n",
       "      <th>color</th>\n",
       "      <th>director_name</th>\n",
       "      <th>duration</th>\n",
       "      <th>gross</th>\n",
       "      <th>genres</th>\n",
       "      <th>movie_title</th>\n",
       "      <th>title_year</th>\n",
       "      <th>country</th>\n",
       "      <th>budget</th>\n",
       "      <th>imdb_score</th>\n",
       "      <th>actors</th>\n",
       "      <th>movie_facebook_likes</th>\n",
       "    </tr>\n",
       "  </thead>\n",
       "  <tbody>\n",
       "    <tr>\n",
       "      <th>51</th>\n",
       "      <td>Color</td>\n",
       "      <td>Zack Snyder</td>\n",
       "      <td>143</td>\n",
       "      <td>-1532</td>\n",
       "      <td>Action|Adventure|Fantasy|Sci-Fi</td>\n",
       "      <td>man of steel</td>\n",
       "      <td>2013</td>\n",
       "      <td>United States</td>\n",
       "      <td>225000000</td>\n",
       "      <td>7</td>\n",
       "      <td>Henry Cavill,Christopher Meloni,Harry Lennix</td>\n",
       "      <td>118000</td>\n",
       "    </tr>\n",
       "    <tr>\n",
       "      <th>92</th>\n",
       "      <td>Color</td>\n",
       "      <td>Sadyk Sher-Niyaz</td>\n",
       "      <td>135</td>\n",
       "      <td>-92939</td>\n",
       "      <td>Action|Biography|Drama|History</td>\n",
       "      <td>queen of the mountains</td>\n",
       "      <td>2014</td>\n",
       "      <td>Kyrgyzstan</td>\n",
       "      <td>1400000</td>\n",
       "      <td>9</td>\n",
       "      <td>Elina Abai Kyzy,Aziz Muradillayev,Mirlan Abdul...</td>\n",
       "      <td>0</td>\n",
       "    </tr>\n",
       "  </tbody>\n",
       "</table>\n",
       "</div>"
      ],
      "text/plain": [
       "    color     director_name  duration  gross                           genres  \\\n",
       "51  Color       Zack Snyder       143  -1532  Action|Adventure|Fantasy|Sci-Fi   \n",
       "92  Color  Sadyk Sher-Niyaz       135 -92939   Action|Biography|Drama|History   \n",
       "\n",
       "               movie_title  title_year        country    budget  imdb_score  \\\n",
       "51            man of steel        2013  United States 225000000           7   \n",
       "92  queen of the mountains        2014     Kyrgyzstan   1400000           9   \n",
       "\n",
       "                                               actors  movie_facebook_likes  \n",
       "51       Henry Cavill,Christopher Meloni,Harry Lennix                118000  \n",
       "92  Elina Abai Kyzy,Aziz Muradillayev,Mirlan Abdul...                     0  "
      ]
     },
     "execution_count": 354,
     "metadata": {},
     "output_type": "execute_result"
    }
   ],
   "source": [
    "df_imdb[df_imdb[\"gross\"] < 0]"
   ]
  },
  {
   "cell_type": "code",
   "execution_count": 355,
   "metadata": {},
   "outputs": [],
   "source": [
    "df_imdb.loc[df_imdb.gross < 0, \"gross\"] = gross_median"
   ]
  },
  {
   "cell_type": "code",
   "execution_count": 356,
   "metadata": {},
   "outputs": [
    {
     "data": {
      "text/html": [
       "<div>\n",
       "<style scoped>\n",
       "    .dataframe tbody tr th:only-of-type {\n",
       "        vertical-align: middle;\n",
       "    }\n",
       "\n",
       "    .dataframe tbody tr th {\n",
       "        vertical-align: top;\n",
       "    }\n",
       "\n",
       "    .dataframe thead th {\n",
       "        text-align: right;\n",
       "    }\n",
       "</style>\n",
       "<table border=\"1\" class=\"dataframe\">\n",
       "  <thead>\n",
       "    <tr style=\"text-align: right;\">\n",
       "      <th></th>\n",
       "      <th>color</th>\n",
       "      <th>director_name</th>\n",
       "      <th>duration</th>\n",
       "      <th>gross</th>\n",
       "      <th>genres</th>\n",
       "      <th>movie_title</th>\n",
       "      <th>title_year</th>\n",
       "      <th>country</th>\n",
       "      <th>budget</th>\n",
       "      <th>imdb_score</th>\n",
       "      <th>actors</th>\n",
       "      <th>movie_facebook_likes</th>\n",
       "    </tr>\n",
       "  </thead>\n",
       "  <tbody>\n",
       "    <tr>\n",
       "      <th>14</th>\n",
       "      <td>Color</td>\n",
       "      <td>F. Gary Gray</td>\n",
       "      <td>167</td>\n",
       "      <td>100000000000000</td>\n",
       "      <td>Biography|Crime|Drama|History|Music</td>\n",
       "      <td>straight outta compton</td>\n",
       "      <td>2015</td>\n",
       "      <td>United States</td>\n",
       "      <td>28000000</td>\n",
       "      <td>8</td>\n",
       "      <td>Aldis Hodge,Neil Brown Jr.,R. Marcos Taylor</td>\n",
       "      <td>76000</td>\n",
       "    </tr>\n",
       "  </tbody>\n",
       "</table>\n",
       "</div>"
      ],
      "text/plain": [
       "    color director_name  duration           gross  \\\n",
       "14  Color  F. Gary Gray       167 100000000000000   \n",
       "\n",
       "                                 genres             movie_title  title_year  \\\n",
       "14  Biography|Crime|Drama|History|Music  straight outta compton        2015   \n",
       "\n",
       "          country   budget  imdb_score  \\\n",
       "14  United States 28000000           8   \n",
       "\n",
       "                                         actors  movie_facebook_likes  \n",
       "14  Aldis Hodge,Neil Brown Jr.,R. Marcos Taylor                 76000  "
      ]
     },
     "execution_count": 356,
     "metadata": {},
     "output_type": "execute_result"
    }
   ],
   "source": [
    "df_imdb[df_imdb[\"gross\"] > 1e9]"
   ]
  },
  {
   "cell_type": "code",
   "execution_count": 357,
   "metadata": {},
   "outputs": [],
   "source": [
    "df_imdb.loc[df_imdb.gross >= 1e9, \"gross\"] = gross_median"
   ]
  },
  {
   "cell_type": "code",
   "execution_count": 358,
   "metadata": {},
   "outputs": [
    {
     "data": {
      "text/plain": [
       "count          94\n",
       "mean    142525026\n",
       "std     127055586\n",
       "min         41229\n",
       "25%      48599316\n",
       "50%     106160295\n",
       "75%     197053491\n",
       "max     623279547\n",
       "Name: gross, dtype: float64"
      ]
     },
     "execution_count": 358,
     "metadata": {},
     "output_type": "execute_result"
    }
   ],
   "source": [
    "df_imdb.gross.describe()"
   ]
  },
  {
   "cell_type": "code",
   "execution_count": 359,
   "metadata": {},
   "outputs": [
    {
     "data": {
      "text/plain": [
       "<AxesSubplot:>"
      ]
     },
     "execution_count": 359,
     "metadata": {},
     "output_type": "execute_result"
    },
    {
     "data": {
      "image/png": "[encoded data removed]",
      "text/plain": [
       "<Figure size 432x288 with 1 Axes>"
      ]
     },
     "metadata": {
      "needs_background": "light"
     },
     "output_type": "display_data"
    }
   ],
   "source": [
    "df_imdb.gross.hist()"
   ]
  },
  {
   "cell_type": "code",
   "execution_count": 360,
   "metadata": {},
   "outputs": [
    {
     "data": {
      "text/plain": [
       "<AxesSubplot:>"
      ]
     },
     "execution_count": 360,
     "metadata": {},
     "output_type": "execute_result"
    },
    {
     "data": {
      "image/png": "[encoded data removed]",
      "text/plain": [
       "<Figure size 432x288 with 1 Axes>"
      ]
     },
     "metadata": {
      "needs_background": "light"
     },
     "output_type": "display_data"
    }
   ],
   "source": [
    "df_imdb.gross.plot(kind='box')"
   ]
  },
  {
   "cell_type": "markdown",
   "metadata": {},
   "source": [
    "### Columna `genres`\n"
   ]
  },
  {
   "cell_type": "code",
   "execution_count": 361,
   "metadata": {},
   "outputs": [
    {
     "data": {
      "text/plain": [
       "1"
      ]
     },
     "execution_count": 361,
     "metadata": {},
     "output_type": "execute_result"
    }
   ],
   "source": [
    "df_imdb[\"genres\"].isna().sum()"
   ]
  },
  {
   "cell_type": "code",
   "execution_count": 362,
   "metadata": {},
   "outputs": [
    {
     "data": {
      "text/plain": [
       "Action|Adventure|Sci-Fi                     9\n",
       "Drama                                       5\n",
       "Crime|Drama|Thriller                        5\n",
       "Biography|Drama|History                     4\n",
       "Adventure|Fantasy                           3\n",
       "Drama|Romance                               3\n",
       "Crime|Drama|Mystery|Thriller                3\n",
       "Action|Adventure|Thriller                   3\n",
       "Action|Adventure|Fantasy                    2\n",
       "Biography|Drama|Sport|War                   2\n",
       "Action|Adventure|Fantasy|Sci-Fi             2\n",
       "Action|Adventure|Sci-Fi|Thriller            2\n",
       "Action|Adventure|Drama                      2\n",
       "Adventure|Drama|History                     2\n",
       "Crime|Drama                                 2\n",
       "Drama|History|Thriller                      2\n",
       "Adventure|Drama|Sci-Fi                      2\n",
       "Drama|Musical|Romance                       2\n",
       "Action|Crime|Thriller                       1\n",
       "Action|Drama|War                            1\n",
       "Drama|Sport                                 1\n",
       "Biography|Drama|Thriller                    1\n",
       "Adventure|Mystery|Sci-Fi                    1\n",
       "Action|Biography|Drama|History|War          1\n",
       "Comedy|Drama                                1\n",
       "Biography|Drama|Music                       1\n",
       "Drama|Fantasy                               1\n",
       "Adventure|Sci-Fi                            1\n",
       "Action|Biography|Drama|History              1\n",
       "Drama|Thriller                              1\n",
       "Mystery|Thriller                            1\n",
       "Biography|Crime|Drama                       1\n",
       "Adventure|Drama                             1\n",
       "Comedy|Drama|Musical|Romance                1\n",
       "Comedy|Western                              1\n",
       "Biography|Comedy|Crime|Drama                1\n",
       "Adventure|Sci-Fi|Thriller                   1\n",
       "Adventure|Drama|Sci-Fi|Thriller             1\n",
       "Drama|Horror|Thriller                       1\n",
       "Crime|Drama|Mystery|Thriller|Western        1\n",
       "Drama|Sci-Fi                                1\n",
       "NaN                                         1\n",
       "Biography|Crime|Drama|History|Music         1\n",
       "Drama|Western                               1\n",
       "Action|Thriller                             1\n",
       "Action|Adventure|Drama|History              1\n",
       "Adventure|Drama|Thriller|Western            1\n",
       "Biography|Drama|History|War                 1\n",
       "Action|Adventure|Western                    1\n",
       "Action|Adventure|Fantasy|Sci-Fi|Thriller    1\n",
       "Action|Animation|Crime|Sci-Fi|Thriller      1\n",
       "Comedy|Crime|Drama|Mystery|Romance          1\n",
       "Comedy|Drama|Romance                        1\n",
       "Drama|War                                   1\n",
       "Action|Drama|Thriller|War                   1\n",
       "Comedy                                      1\n",
       "Biography|Drama|Music|Musical               1\n",
       "Name: genres, dtype: int64"
      ]
     },
     "execution_count": 362,
     "metadata": {},
     "output_type": "execute_result"
    }
   ],
   "source": [
    "df_imdb[\"genres\"].value_counts(dropna=False)"
   ]
  },
  {
   "cell_type": "code",
   "execution_count": 363,
   "metadata": {},
   "outputs": [
    {
     "data": {
      "text/html": [
       "<div>\n",
       "<style scoped>\n",
       "    .dataframe tbody tr th:only-of-type {\n",
       "        vertical-align: middle;\n",
       "    }\n",
       "\n",
       "    .dataframe tbody tr th {\n",
       "        vertical-align: top;\n",
       "    }\n",
       "\n",
       "    .dataframe thead th {\n",
       "        text-align: right;\n",
       "    }\n",
       "</style>\n",
       "<table border=\"1\" class=\"dataframe\">\n",
       "  <thead>\n",
       "    <tr style=\"text-align: right;\">\n",
       "      <th></th>\n",
       "      <th>color</th>\n",
       "      <th>director_name</th>\n",
       "      <th>duration</th>\n",
       "      <th>gross</th>\n",
       "      <th>genres</th>\n",
       "      <th>movie_title</th>\n",
       "      <th>title_year</th>\n",
       "      <th>country</th>\n",
       "      <th>budget</th>\n",
       "      <th>imdb_score</th>\n",
       "      <th>actors</th>\n",
       "      <th>movie_facebook_likes</th>\n",
       "    </tr>\n",
       "  </thead>\n",
       "  <tbody>\n",
       "    <tr>\n",
       "      <th>12</th>\n",
       "      <td>Color</td>\n",
       "      <td>Christopher Spencer</td>\n",
       "      <td>170</td>\n",
       "      <td>59696176</td>\n",
       "      <td>NaN</td>\n",
       "      <td>son of god</td>\n",
       "      <td>2014</td>\n",
       "      <td>United States</td>\n",
       "      <td>22000000</td>\n",
       "      <td>6</td>\n",
       "      <td>Roma Downey,Amber Rose Revah,Darwin Shaw</td>\n",
       "      <td>15000</td>\n",
       "    </tr>\n",
       "  </tbody>\n",
       "</table>\n",
       "</div>"
      ],
      "text/plain": [
       "    color        director_name  duration    gross genres movie_title  \\\n",
       "12  Color  Christopher Spencer       170 59696176    NaN  son of god   \n",
       "\n",
       "    title_year        country   budget  imdb_score  \\\n",
       "12        2014  United States 22000000           6   \n",
       "\n",
       "                                      actors  movie_facebook_likes  \n",
       "12  Roma Downey,Amber Rose Revah,Darwin Shaw                 15000  "
      ]
     },
     "execution_count": 363,
     "metadata": {},
     "output_type": "execute_result"
    }
   ],
   "source": [
    "df_imdb[df_imdb[\"genres\"].isna()]"
   ]
  },
  {
   "cell_type": "code",
   "execution_count": 364,
   "metadata": {},
   "outputs": [],
   "source": [
    "df_imdb.dropna(subset=['genres'], inplace=True)"
   ]
  },
  {
   "cell_type": "code",
   "execution_count": 365,
   "metadata": {},
   "outputs": [
    {
     "data": {
      "text/plain": [
       "False"
      ]
     },
     "execution_count": 365,
     "metadata": {},
     "output_type": "execute_result"
    }
   ],
   "source": [
    "df_imdb[\"genres\"].isna().any()"
   ]
  },
  {
   "cell_type": "markdown",
   "metadata": {},
   "source": [
    "### Columna `budget`"
   ]
  },
  {
   "cell_type": "code",
   "execution_count": 366,
   "metadata": {},
   "outputs": [
    {
     "data": {
      "text/plain": [
       "4"
      ]
     },
     "execution_count": 366,
     "metadata": {},
     "output_type": "execute_result"
    }
   ],
   "source": [
    "df_imdb.budget.isna().sum()"
   ]
  },
  {
   "cell_type": "code",
   "execution_count": 367,
   "metadata": {},
   "outputs": [
    {
     "data": {
      "text/html": [
       "<div>\n",
       "<style scoped>\n",
       "    .dataframe tbody tr th:only-of-type {\n",
       "        vertical-align: middle;\n",
       "    }\n",
       "\n",
       "    .dataframe tbody tr th {\n",
       "        vertical-align: top;\n",
       "    }\n",
       "\n",
       "    .dataframe thead th {\n",
       "        text-align: right;\n",
       "    }\n",
       "</style>\n",
       "<table border=\"1\" class=\"dataframe\">\n",
       "  <thead>\n",
       "    <tr style=\"text-align: right;\">\n",
       "      <th></th>\n",
       "      <th>color</th>\n",
       "      <th>director_name</th>\n",
       "      <th>duration</th>\n",
       "      <th>gross</th>\n",
       "      <th>genres</th>\n",
       "      <th>movie_title</th>\n",
       "      <th>title_year</th>\n",
       "      <th>country</th>\n",
       "      <th>budget</th>\n",
       "      <th>imdb_score</th>\n",
       "      <th>actors</th>\n",
       "      <th>movie_facebook_likes</th>\n",
       "    </tr>\n",
       "  </thead>\n",
       "  <tbody>\n",
       "    <tr>\n",
       "      <th>7</th>\n",
       "      <td>Color</td>\n",
       "      <td>Edward Hall</td>\n",
       "      <td>180</td>\n",
       "      <td>106160295</td>\n",
       "      <td>Drama|Romance</td>\n",
       "      <td>restless</td>\n",
       "      <td>2012</td>\n",
       "      <td>United Kingdom</td>\n",
       "      <td>NaN</td>\n",
       "      <td>7</td>\n",
       "      <td>Rufus Sewell,Hayley Atwell,Charlotte Rampling</td>\n",
       "      <td>434</td>\n",
       "    </tr>\n",
       "    <tr>\n",
       "      <th>27</th>\n",
       "      <td>Color</td>\n",
       "      <td>Gnana Rajasekaran</td>\n",
       "      <td>153</td>\n",
       "      <td>106160295</td>\n",
       "      <td>Biography|Drama|History</td>\n",
       "      <td>ramanujan</td>\n",
       "      <td>2014</td>\n",
       "      <td>India</td>\n",
       "      <td>NaN</td>\n",
       "      <td>7</td>\n",
       "      <td>Mani Bharathi,Michael Lieber,Kevin McGowan</td>\n",
       "      <td>58</td>\n",
       "    </tr>\n",
       "    <tr>\n",
       "      <th>33</th>\n",
       "      <td>Color</td>\n",
       "      <td>Mike Leigh</td>\n",
       "      <td>150</td>\n",
       "      <td>3958500</td>\n",
       "      <td>Biography|Drama|History</td>\n",
       "      <td>mr. turner</td>\n",
       "      <td>2014</td>\n",
       "      <td>United Kingdom</td>\n",
       "      <td>NaN</td>\n",
       "      <td>7</td>\n",
       "      <td>Lesley Manville,Ruth Sheen,Karl Johnson</td>\n",
       "      <td>0</td>\n",
       "    </tr>\n",
       "    <tr>\n",
       "      <th>95</th>\n",
       "      <td>Color</td>\n",
       "      <td>Richard J. Lewis</td>\n",
       "      <td>134</td>\n",
       "      <td>7501404</td>\n",
       "      <td>Comedy|Drama</td>\n",
       "      <td>barney's version</td>\n",
       "      <td>2010</td>\n",
       "      <td>Canada</td>\n",
       "      <td>NaN</td>\n",
       "      <td>7</td>\n",
       "      <td>Mark Addy,Atom Egoyan,Paul Gross</td>\n",
       "      <td>0</td>\n",
       "    </tr>\n",
       "  </tbody>\n",
       "</table>\n",
       "</div>"
      ],
      "text/plain": [
       "    color      director_name  duration     gross                   genres  \\\n",
       "7   Color        Edward Hall       180 106160295            Drama|Romance   \n",
       "27  Color  Gnana Rajasekaran       153 106160295  Biography|Drama|History   \n",
       "33  Color         Mike Leigh       150   3958500  Biography|Drama|History   \n",
       "95  Color   Richard J. Lewis       134   7501404             Comedy|Drama   \n",
       "\n",
       "         movie_title  title_year         country  budget  imdb_score  \\\n",
       "7           restless        2012  United Kingdom     NaN           7   \n",
       "27         ramanujan        2014           India     NaN           7   \n",
       "33        mr. turner        2014  United Kingdom     NaN           7   \n",
       "95  barney's version        2010          Canada     NaN           7   \n",
       "\n",
       "                                           actors  movie_facebook_likes  \n",
       "7   Rufus Sewell,Hayley Atwell,Charlotte Rampling                   434  \n",
       "27     Mani Bharathi,Michael Lieber,Kevin McGowan                    58  \n",
       "33        Lesley Manville,Ruth Sheen,Karl Johnson                     0  \n",
       "95               Mark Addy,Atom Egoyan,Paul Gross                     0  "
      ]
     },
     "execution_count": 367,
     "metadata": {},
     "output_type": "execute_result"
    }
   ],
   "source": [
    "df_imdb[df_imdb.budget.isna()]"
   ]
  },
  {
   "cell_type": "code",
   "execution_count": 368,
   "metadata": {},
   "outputs": [],
   "source": [
    "budget_mean = df_imdb.budget.mean()\n",
    "df_imdb.budget.fillna(budget_mean, inplace=True)"
   ]
  },
  {
   "cell_type": "code",
   "execution_count": 369,
   "metadata": {},
   "outputs": [
    {
     "data": {
      "text/plain": [
       "False"
      ]
     },
     "execution_count": 369,
     "metadata": {},
     "output_type": "execute_result"
    }
   ],
   "source": [
    "df_imdb.budget.isna().any()"
   ]
  },
  {
   "cell_type": "code",
   "execution_count": 370,
   "metadata": {},
   "outputs": [
    {
     "data": {
      "text/plain": [
       "count          93\n",
       "mean    103083341\n",
       "std      75690364\n",
       "min         17350\n",
       "25%      40000000\n",
       "50%      80000000\n",
       "75%     165000000\n",
       "max     250000000\n",
       "Name: budget, dtype: float64"
      ]
     },
     "execution_count": 370,
     "metadata": {},
     "output_type": "execute_result"
    }
   ],
   "source": [
    "df_imdb.budget.describe()"
   ]
  },
  {
   "cell_type": "code",
   "execution_count": 371,
   "metadata": {},
   "outputs": [
    {
     "data": {
      "text/plain": [
       "<AxesSubplot:>"
      ]
     },
     "execution_count": 371,
     "metadata": {},
     "output_type": "execute_result"
    },
    {
     "data": {
      "image/png": "[encoded data removed]",
      "text/plain": [
       "<Figure size 432x288 with 1 Axes>"
      ]
     },
     "metadata": {
      "needs_background": "light"
     },
     "output_type": "display_data"
    }
   ],
   "source": [
    "df_imdb.budget.hist()"
   ]
  },
  {
   "cell_type": "code",
   "execution_count": 372,
   "metadata": {},
   "outputs": [
    {
     "data": {
      "text/plain": [
       "<AxesSubplot:>"
      ]
     },
     "execution_count": 372,
     "metadata": {},
     "output_type": "execute_result"
    },
    {
     "data": {
      "image/png": "[encoded data removed]",
      "text/plain": [
       "<Figure size 432x288 with 1 Axes>"
      ]
     },
     "metadata": {
      "needs_background": "light"
     },
     "output_type": "display_data"
    }
   ],
   "source": [
    "df_imdb.budget.plot(kind='box')"
   ]
  },
  {
   "cell_type": "code",
   "execution_count": 373,
   "metadata": {},
   "outputs": [
    {
     "data": {
      "text/plain": [
       "<AxesSubplot:xlabel='gross', ylabel='budget'>"
      ]
     },
     "execution_count": 373,
     "metadata": {},
     "output_type": "execute_result"
    },
    {
     "data": {
      "image/png": "[encoded data removed]",
      "text/plain": [
       "<Figure size 432x288 with 1 Axes>"
      ]
     },
     "metadata": {
      "needs_background": "light"
     },
     "output_type": "display_data"
    }
   ],
   "source": [
    "df_imdb.plot.scatter(x=\"gross\", y=\"budget\")"
   ]
  },
  {
   "cell_type": "markdown",
   "metadata": {},
   "source": [
    "### Columna `duration`"
   ]
  },
  {
   "cell_type": "code",
   "execution_count": 374,
   "metadata": {},
   "outputs": [
    {
     "data": {
      "text/plain": [
       "False"
      ]
     },
     "execution_count": 374,
     "metadata": {},
     "output_type": "execute_result"
    }
   ],
   "source": [
    "df_imdb.duration.isna().any()"
   ]
  },
  {
   "cell_type": "code",
   "execution_count": 375,
   "metadata": {},
   "outputs": [
    {
     "data": {
      "text/plain": [
       "count    93\n",
       "mean    156\n",
       "std      75\n",
       "min     -50\n",
       "25%     138\n",
       "50%     143\n",
       "75%     154\n",
       "max     650\n",
       "Name: duration, dtype: float64"
      ]
     },
     "execution_count": 375,
     "metadata": {},
     "output_type": "execute_result"
    }
   ],
   "source": [
    "df_imdb.duration.describe()"
   ]
  },
  {
   "cell_type": "code",
   "execution_count": 376,
   "metadata": {},
   "outputs": [
    {
     "data": {
      "text/plain": [
       "<AxesSubplot:>"
      ]
     },
     "execution_count": 376,
     "metadata": {},
     "output_type": "execute_result"
    },
    {
     "data": {
      "image/png": "[encoded data removed]",
      "text/plain": [
       "<Figure size 432x288 with 1 Axes>"
      ]
     },
     "metadata": {
      "needs_background": "light"
     },
     "output_type": "display_data"
    }
   ],
   "source": [
    "df_imdb.duration.plot(kind='box')"
   ]
  },
  {
   "cell_type": "code",
   "execution_count": 377,
   "metadata": {},
   "outputs": [
    {
     "data": {
      "text/plain": [
       "<AxesSubplot:>"
      ]
     },
     "execution_count": 377,
     "metadata": {},
     "output_type": "execute_result"
    },
    {
     "data": {
      "image/png": "[encoded data removed]",
      "text/plain": [
       "<Figure size 432x288 with 1 Axes>"
      ]
     },
     "metadata": {
      "needs_background": "light"
     },
     "output_type": "display_data"
    }
   ],
   "source": [
    "df_imdb.duration.hist()"
   ]
  },
  {
   "cell_type": "code",
   "execution_count": 378,
   "metadata": {},
   "outputs": [
    {
     "data": {
      "text/html": [
       "<div>\n",
       "<style scoped>\n",
       "    .dataframe tbody tr th:only-of-type {\n",
       "        vertical-align: middle;\n",
       "    }\n",
       "\n",
       "    .dataframe tbody tr th {\n",
       "        vertical-align: top;\n",
       "    }\n",
       "\n",
       "    .dataframe thead th {\n",
       "        text-align: right;\n",
       "    }\n",
       "</style>\n",
       "<table border=\"1\" class=\"dataframe\">\n",
       "  <thead>\n",
       "    <tr style=\"text-align: right;\">\n",
       "      <th></th>\n",
       "      <th>color</th>\n",
       "      <th>director_name</th>\n",
       "      <th>duration</th>\n",
       "      <th>gross</th>\n",
       "      <th>genres</th>\n",
       "      <th>movie_title</th>\n",
       "      <th>title_year</th>\n",
       "      <th>country</th>\n",
       "      <th>budget</th>\n",
       "      <th>imdb_score</th>\n",
       "      <th>actors</th>\n",
       "      <th>movie_facebook_likes</th>\n",
       "    </tr>\n",
       "  </thead>\n",
       "  <tbody>\n",
       "    <tr>\n",
       "      <th>6</th>\n",
       "      <td>Color</td>\n",
       "      <td>Peter Jackson</td>\n",
       "      <td>-50</td>\n",
       "      <td>303001229</td>\n",
       "      <td>Adventure|Fantasy</td>\n",
       "      <td>the hobbit: an unexpected journey</td>\n",
       "      <td>2012</td>\n",
       "      <td>United States</td>\n",
       "      <td>180000000</td>\n",
       "      <td>8</td>\n",
       "      <td>Aidan Turner,Adam Brown,James Nesbitt</td>\n",
       "      <td>166000</td>\n",
       "    </tr>\n",
       "    <tr>\n",
       "      <th>98</th>\n",
       "      <td>Color</td>\n",
       "      <td>Clint Eastwood</td>\n",
       "      <td>5</td>\n",
       "      <td>47034272</td>\n",
       "      <td>Biography|Drama|Music|Musical</td>\n",
       "      <td>jersey boys</td>\n",
       "      <td>2014</td>\n",
       "      <td>United States</td>\n",
       "      <td>40000000</td>\n",
       "      <td>7</td>\n",
       "      <td>Johnny Cannizzaro,Steve Schirripa,Scott Vance</td>\n",
       "      <td>16000</td>\n",
       "    </tr>\n",
       "  </tbody>\n",
       "</table>\n",
       "</div>"
      ],
      "text/plain": [
       "    color   director_name  duration     gross                         genres  \\\n",
       "6   Color   Peter Jackson       -50 303001229              Adventure|Fantasy   \n",
       "98  Color  Clint Eastwood         5  47034272  Biography|Drama|Music|Musical   \n",
       "\n",
       "                          movie_title  title_year        country    budget  \\\n",
       "6   the hobbit: an unexpected journey        2012  United States 180000000   \n",
       "98                        jersey boys        2014  United States  40000000   \n",
       "\n",
       "    imdb_score                                         actors  \\\n",
       "6            8          Aidan Turner,Adam Brown,James Nesbitt   \n",
       "98           7  Johnny Cannizzaro,Steve Schirripa,Scott Vance   \n",
       "\n",
       "    movie_facebook_likes  \n",
       "6                 166000  \n",
       "98                 16000  "
      ]
     },
     "execution_count": 378,
     "metadata": {},
     "output_type": "execute_result"
    }
   ],
   "source": [
    "df_imdb[df_imdb.duration < 30]"
   ]
  },
  {
   "cell_type": "code",
   "execution_count": 379,
   "metadata": {},
   "outputs": [
    {
     "data": {
      "text/html": [
       "<div>\n",
       "<style scoped>\n",
       "    .dataframe tbody tr th:only-of-type {\n",
       "        vertical-align: middle;\n",
       "    }\n",
       "\n",
       "    .dataframe tbody tr th {\n",
       "        vertical-align: top;\n",
       "    }\n",
       "\n",
       "    .dataframe thead th {\n",
       "        text-align: right;\n",
       "    }\n",
       "</style>\n",
       "<table border=\"1\" class=\"dataframe\">\n",
       "  <thead>\n",
       "    <tr style=\"text-align: right;\">\n",
       "      <th></th>\n",
       "      <th>color</th>\n",
       "      <th>director_name</th>\n",
       "      <th>duration</th>\n",
       "      <th>gross</th>\n",
       "      <th>genres</th>\n",
       "      <th>movie_title</th>\n",
       "      <th>title_year</th>\n",
       "      <th>country</th>\n",
       "      <th>budget</th>\n",
       "      <th>imdb_score</th>\n",
       "      <th>actors</th>\n",
       "      <th>movie_facebook_likes</th>\n",
       "    </tr>\n",
       "  </thead>\n",
       "  <tbody>\n",
       "    <tr>\n",
       "      <th>16</th>\n",
       "      <td>Color</td>\n",
       "      <td>Quentin Tarantino</td>\n",
       "      <td>580</td>\n",
       "      <td>162804648</td>\n",
       "      <td>Drama|Western</td>\n",
       "      <td>django unchained</td>\n",
       "      <td>2012</td>\n",
       "      <td>United States</td>\n",
       "      <td>100000000</td>\n",
       "      <td>8</td>\n",
       "      <td>Leonardo DiCaprio,Christoph Waltz,Ato Essandoh</td>\n",
       "      <td>199000</td>\n",
       "    </tr>\n",
       "    <tr>\n",
       "      <th>34</th>\n",
       "      <td>Color</td>\n",
       "      <td>Gore Verbinski</td>\n",
       "      <td>650</td>\n",
       "      <td>89289910</td>\n",
       "      <td>Action|Adventure|Western</td>\n",
       "      <td>the lone ranger</td>\n",
       "      <td>2013</td>\n",
       "      <td>United States</td>\n",
       "      <td>215000000</td>\n",
       "      <td>6</td>\n",
       "      <td>Johnny Depp,Ruth Wilson,Tom Wilkinson</td>\n",
       "      <td>48000</td>\n",
       "    </tr>\n",
       "  </tbody>\n",
       "</table>\n",
       "</div>"
      ],
      "text/plain": [
       "    color      director_name  duration     gross                    genres  \\\n",
       "16  Color  Quentin Tarantino       580 162804648             Drama|Western   \n",
       "34  Color     Gore Verbinski       650  89289910  Action|Adventure|Western   \n",
       "\n",
       "         movie_title  title_year        country    budget  imdb_score  \\\n",
       "16  django unchained        2012  United States 100000000           8   \n",
       "34   the lone ranger        2013  United States 215000000           6   \n",
       "\n",
       "                                            actors  movie_facebook_likes  \n",
       "16  Leonardo DiCaprio,Christoph Waltz,Ato Essandoh                199000  \n",
       "34           Johnny Depp,Ruth Wilson,Tom Wilkinson                 48000  "
      ]
     },
     "execution_count": 379,
     "metadata": {},
     "output_type": "execute_result"
    }
   ],
   "source": [
    "df_imdb[df_imdb.duration > 300]"
   ]
  },
  {
   "cell_type": "code",
   "execution_count": 380,
   "metadata": {},
   "outputs": [
    {
     "data": {
      "text/plain": [
       "164.0"
      ]
     },
     "execution_count": 380,
     "metadata": {},
     "output_type": "execute_result"
    }
   ],
   "source": [
    "df_imdb[df_imdb.director_name == 'Peter Jackson'].duration.median()"
   ]
  },
  {
   "cell_type": "code",
   "execution_count": 381,
   "metadata": {},
   "outputs": [
    {
     "data": {
      "text/plain": [
       "5.0"
      ]
     },
     "execution_count": 381,
     "metadata": {},
     "output_type": "execute_result"
    }
   ],
   "source": [
    "df_imdb[df_imdb.director_name == 'Clint Eastwood'].duration.median()"
   ]
  },
  {
   "cell_type": "code",
   "execution_count": 382,
   "metadata": {},
   "outputs": [
    {
     "data": {
      "text/plain": [
       "383.5"
      ]
     },
     "execution_count": 382,
     "metadata": {},
     "output_type": "execute_result"
    }
   ],
   "source": [
    "df_imdb[df_imdb.director_name == 'Quentin Tarantino'].duration.median()"
   ]
  },
  {
   "cell_type": "code",
   "execution_count": 383,
   "metadata": {},
   "outputs": [
    {
     "data": {
      "text/plain": [
       "650.0"
      ]
     },
     "execution_count": 383,
     "metadata": {},
     "output_type": "execute_result"
    }
   ],
   "source": [
    "df_imdb[df_imdb.director_name == 'Gore Verbinski'].duration.median()"
   ]
  },
  {
   "cell_type": "code",
   "execution_count": 384,
   "metadata": {},
   "outputs": [
    {
     "data": {
      "text/plain": [
       "149.31460674157304"
      ]
     },
     "execution_count": 384,
     "metadata": {},
     "output_type": "execute_result"
    }
   ],
   "source": [
    "df_imdb[(df_imdb.duration > 30)&(df_imdb.duration <300)].duration.mean()"
   ]
  },
  {
   "cell_type": "code",
   "execution_count": 385,
   "metadata": {},
   "outputs": [],
   "source": [
    "duration_mean = round(df_imdb[(df_imdb.duration > 30)&(df_imdb.duration <300)].duration.mean())\n",
    "df_imdb.loc[df_imdb.duration < 30, \"duration\"] = duration_mean\n",
    "df_imdb.loc[df_imdb.duration > 300, \"duration\"] = duration_mean"
   ]
  },
  {
   "cell_type": "code",
   "execution_count": 386,
   "metadata": {},
   "outputs": [
    {
     "data": {
      "text/plain": [
       "<AxesSubplot:>"
      ]
     },
     "execution_count": 386,
     "metadata": {},
     "output_type": "execute_result"
    },
    {
     "data": {
      "image/png": "[encoded data removed]",
      "text/plain": [
       "<Figure size 432x288 with 1 Axes>"
      ]
     },
     "metadata": {
      "needs_background": "light"
     },
     "output_type": "display_data"
    }
   ],
   "source": [
    "df_imdb.duration.hist()"
   ]
  },
  {
   "cell_type": "code",
   "execution_count": 387,
   "metadata": {},
   "outputs": [
    {
     "data": {
      "text/plain": [
       "<AxesSubplot:>"
      ]
     },
     "execution_count": 387,
     "metadata": {},
     "output_type": "execute_result"
    },
    {
     "data": {
      "image/png": "[encoded data removed]",
      "text/plain": [
       "<Figure size 432x288 with 1 Axes>"
      ]
     },
     "metadata": {
      "needs_background": "light"
     },
     "output_type": "display_data"
    }
   ],
   "source": [
    "df_imdb.duration.plot(kind='box')"
   ]
  },
  {
   "cell_type": "markdown",
   "metadata": {},
   "source": [
    "### Columna `movie_title`"
   ]
  },
  {
   "cell_type": "code",
   "execution_count": 388,
   "metadata": {},
   "outputs": [
    {
     "data": {
      "text/plain": [
       "False"
      ]
     },
     "execution_count": 388,
     "metadata": {},
     "output_type": "execute_result"
    }
   ],
   "source": [
    "df_imdb.movie_title.isna().any()"
   ]
  },
  {
   "cell_type": "code",
   "execution_count": 389,
   "metadata": {},
   "outputs": [
    {
     "data": {
      "text/plain": [
       "0                the wolf of wall street\n",
       "1                             iron man 3\n",
       "2                      the hateful eight\n",
       "3                               margaret\n",
       "4    the hobbit: the desolation of smaug\n",
       "Name: movie_title, dtype: object"
      ]
     },
     "execution_count": 389,
     "metadata": {},
     "output_type": "execute_result"
    }
   ],
   "source": [
    "df_imdb.movie_title.head()"
   ]
  },
  {
   "cell_type": "code",
   "execution_count": 390,
   "metadata": {},
   "outputs": [],
   "source": [
    "df_imdb[\"movie_title\"] = df_imdb.movie_title.str.title()"
   ]
  },
  {
   "cell_type": "code",
   "execution_count": 391,
   "metadata": {},
   "outputs": [
    {
     "data": {
      "text/plain": [
       "0                The Wolf Of Wall Street\n",
       "1                             Iron Man 3\n",
       "2                      The Hateful Eight\n",
       "3                               Margaret\n",
       "4    The Hobbit: The Desolation Of Smaug\n",
       "Name: movie_title, dtype: object"
      ]
     },
     "execution_count": 391,
     "metadata": {},
     "output_type": "execute_result"
    }
   ],
   "source": [
    "df_imdb.movie_title.head()"
   ]
  },
  {
   "cell_type": "markdown",
   "metadata": {},
   "source": [
    "### Columna `title_year`"
   ]
  },
  {
   "cell_type": "code",
   "execution_count": 392,
   "metadata": {},
   "outputs": [
    {
     "data": {
      "text/plain": [
       " 2014    21\n",
       " 2012    19\n",
       " 2013    17\n",
       " 2011    10\n",
       " 2015     8\n",
       " 2010     7\n",
       " 2016     6\n",
       " 202      1\n",
       "-1000     1\n",
       " 2030     1\n",
       " 1800     1\n",
       " 205      1\n",
       "Name: title_year, dtype: int64"
      ]
     },
     "execution_count": 392,
     "metadata": {},
     "output_type": "execute_result"
    }
   ],
   "source": [
    "df_imdb.title_year.value_counts(dropna=False)"
   ]
  },
  {
   "cell_type": "code",
   "execution_count": 395,
   "metadata": {},
   "outputs": [
    {
     "data": {
      "text/plain": [
       "2014    21\n",
       "2012    19\n",
       "2013    17\n",
       "2011    10\n",
       "2015     8\n",
       "2010     7\n",
       "2016     6\n",
       "Name: title_year, dtype: int64"
      ]
     },
     "execution_count": 395,
     "metadata": {},
     "output_type": "execute_result"
    }
   ],
   "source": [
    "df_imdb = df_imdb[(df_imdb.title_year > 1950) & (df_imdb.title_year < 2021)]\n",
    "df_imdb.title_year.value_counts(dropna=False)"
   ]
  },
  {
   "cell_type": "markdown",
   "metadata": {},
   "source": [
    "### Columna `imdb_score`"
   ]
  },
  {
   "cell_type": "code",
   "execution_count": 397,
   "metadata": {},
   "outputs": [
    {
     "data": {
      "text/plain": [
       "False"
      ]
     },
     "execution_count": 397,
     "metadata": {},
     "output_type": "execute_result"
    }
   ],
   "source": [
    "df_imdb.imdb_score.isna().any()"
   ]
  },
  {
   "cell_type": "code",
   "execution_count": 396,
   "metadata": {},
   "outputs": [
    {
     "data": {
      "text/plain": [
       "<AxesSubplot:>"
      ]
     },
     "execution_count": 396,
     "metadata": {},
     "output_type": "execute_result"
    },
    {
     "data": {
      "image/png": "[encoded data removed]",
      "text/plain": [
       "<Figure size 432x288 with 1 Axes>"
      ]
     },
     "metadata": {
      "needs_background": "light"
     },
     "output_type": "display_data"
    }
   ],
   "source": [
    "df_imdb.imdb_score.hist()"
   ]
  },
  {
   "cell_type": "code",
   "execution_count": 399,
   "metadata": {},
   "outputs": [
    {
     "data": {
      "text/plain": [
       "<AxesSubplot:>"
      ]
     },
     "execution_count": 399,
     "metadata": {},
     "output_type": "execute_result"
    },
    {
     "data": {
      "image/png": "[encoded data removed]",
      "text/plain": [
       "<Figure size 432x288 with 1 Axes>"
      ]
     },
     "metadata": {
      "needs_background": "light"
     },
     "output_type": "display_data"
    }
   ],
   "source": [
    "df_imdb.imdb_score.plot(kind='box')"
   ]
  },
  {
   "cell_type": "code",
   "execution_count": 398,
   "metadata": {},
   "outputs": [
    {
     "data": {
      "text/plain": [
       "count   88\n",
       "mean     7\n",
       "std      2\n",
       "min     -8\n",
       "25%      7\n",
       "50%      7\n",
       "75%      8\n",
       "max      9\n",
       "Name: imdb_score, dtype: float64"
      ]
     },
     "execution_count": 398,
     "metadata": {},
     "output_type": "execute_result"
    }
   ],
   "source": [
    "df_imdb.imdb_score.describe()"
   ]
  },
  {
   "cell_type": "code",
   "execution_count": 400,
   "metadata": {},
   "outputs": [],
   "source": [
    "score_mean = df_imdb[df_imdb.imdb_score > 0].imdb_score.mean()\n",
    "df_imdb.loc[df_imdb.imdb_score < 0, \"imdb_score\"] = score_mean"
   ]
  },
  {
   "cell_type": "code",
   "execution_count": 401,
   "metadata": {},
   "outputs": [
    {
     "data": {
      "text/plain": [
       "<AxesSubplot:>"
      ]
     },
     "execution_count": 401,
     "metadata": {},
     "output_type": "execute_result"
    },
    {
     "data": {
      "image/png": "[encoded data removed]",
      "text/plain": [
       "<Figure size 432x288 with 1 Axes>"
      ]
     },
     "metadata": {
      "needs_background": "light"
     },
     "output_type": "display_data"
    }
   ],
   "source": [
    "df_imdb.imdb_score.hist()"
   ]
  },
  {
   "cell_type": "code",
   "execution_count": 402,
   "metadata": {},
   "outputs": [
    {
     "data": {
      "text/plain": [
       "<AxesSubplot:>"
      ]
     },
     "execution_count": 402,
     "metadata": {},
     "output_type": "execute_result"
    },
    {
     "data": {
      "image/png": "[encoded data removed]",
      "text/plain": [
       "<Figure size 432x288 with 1 Axes>"
      ]
     },
     "metadata": {
      "needs_background": "light"
     },
     "output_type": "display_data"
    }
   ],
   "source": [
    "df_imdb.imdb_score.plot(kind='box')"
   ]
  },
  {
   "cell_type": "markdown",
   "metadata": {},
   "source": [
    "### Columna `country`"
   ]
  },
  {
   "cell_type": "code",
   "execution_count": 403,
   "metadata": {},
   "outputs": [
    {
     "data": {
      "text/plain": [
       "United States     74\n",
       "United Kingdom     6\n",
       "France             2\n",
       "Germany            1\n",
       "New Zealand        1\n",
       "India              1\n",
       "Australia          1\n",
       "Kyrgyzstan         1\n",
       "Canada             1\n",
       "Name: country, dtype: int64"
      ]
     },
     "execution_count": 403,
     "metadata": {},
     "output_type": "execute_result"
    }
   ],
   "source": [
    "df_imdb.country.value_counts(dropna=False)"
   ]
  },
  {
   "cell_type": "markdown",
   "metadata": {},
   "source": [
    "### Columna `movie_facebook_likes`"
   ]
  },
  {
   "cell_type": "code",
   "execution_count": 404,
   "metadata": {},
   "outputs": [
    {
     "data": {
      "text/plain": [
       "False"
      ]
     },
     "execution_count": 404,
     "metadata": {},
     "output_type": "execute_result"
    }
   ],
   "source": [
    "df_imdb.movie_facebook_likes.isna().any()"
   ]
  },
  {
   "cell_type": "code",
   "execution_count": 405,
   "metadata": {},
   "outputs": [
    {
     "data": {
      "text/plain": [
       "<AxesSubplot:>"
      ]
     },
     "execution_count": 405,
     "metadata": {},
     "output_type": "execute_result"
    },
    {
     "data": {
      "image/png": "[encoded data removed]",
      "text/plain": [
       "<Figure size 432x288 with 1 Axes>"
      ]
     },
     "metadata": {
      "needs_background": "light"
     },
     "output_type": "display_data"
    }
   ],
   "source": [
    "df_imdb.movie_facebook_likes.hist()"
   ]
  },
  {
   "cell_type": "code",
   "execution_count": 407,
   "metadata": {},
   "outputs": [
    {
     "data": {
      "text/plain": [
       "<AxesSubplot:>"
      ]
     },
     "execution_count": 407,
     "metadata": {},
     "output_type": "execute_result"
    },
    {
     "data": {
      "image/png": "[encoded data removed]",
      "text/plain": [
       "<Figure size 432x288 with 1 Axes>"
      ]
     },
     "metadata": {
      "needs_background": "light"
     },
     "output_type": "display_data"
    }
   ],
   "source": [
    "df_imdb.movie_facebook_likes.plot(kind='box')"
   ]
  },
  {
   "cell_type": "code",
   "execution_count": 408,
   "metadata": {},
   "outputs": [
    {
     "data": {
      "text/plain": [
       "count       88\n",
       "mean     63961\n",
       "std      57633\n",
       "min          0\n",
       "25%      25500\n",
       "50%      54000\n",
       "75%      83000\n",
       "max     349000\n",
       "Name: movie_facebook_likes, dtype: float64"
      ]
     },
     "execution_count": 408,
     "metadata": {},
     "output_type": "execute_result"
    }
   ],
   "source": [
    "df_imdb.movie_facebook_likes.describe()"
   ]
  },
  {
   "cell_type": "markdown",
   "metadata": {},
   "source": [
    "### Columna `actors`"
   ]
  },
  {
   "cell_type": "code",
   "execution_count": 411,
   "metadata": {},
   "outputs": [
    {
     "data": {
      "text/plain": [
       "False"
      ]
     },
     "execution_count": 411,
     "metadata": {},
     "output_type": "execute_result"
    }
   ],
   "source": [
    "df_imdb.actors.isna().any()"
   ]
  },
  {
   "cell_type": "markdown",
   "metadata": {},
   "source": [
    "Save the modified csv"
   ]
  },
  {
   "cell_type": "code",
   "execution_count": 412,
   "metadata": {},
   "outputs": [],
   "source": [
    "df_imdb.to_csv('04_imdb.csv')"
   ]
  },
  {
   "cell_type": "code",
   "execution_count": null,
   "metadata": {},
   "outputs": [],
   "source": []
  }
 ],
 "metadata": {
  "interpreter": {
   "hash": "aee8b7b246df8f9039afb4144a1f6fd8d2ca17a180786b69acc140d282b71a49"
  },
  "kernelspec": {
   "display_name": "Python 3",
   "language": "python",
   "name": "python3"
  },
  "language_info": {
   "codemirror_mode": {
    "name": "ipython",
    "version": 3
   },
   "file_extension": ".py",
   "mimetype": "text/x-python",
   "name": "python",
   "nbconvert_exporter": "python",
   "pygments_lexer": "ipython3",
   "version": "3.8.5"
  },
  "metadata": {
   "interpreter": {
    "hash": "47c7c997e12db0943f037ebbbbd3e237f559f651ec857a3093f1bc2fc6c9f54a"
   }
  }
 },
 "nbformat": 4,
 "nbformat_minor": 2
}
