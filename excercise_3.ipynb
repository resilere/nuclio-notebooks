{
 "cells": [
  {
   "cell_type": "markdown",
   "metadata": {},
   "source": [
    "# Data Visualisation Excercise 3 - Dash"
   ]
  },
  {
   "cell_type": "markdown",
   "metadata": {},
   "source": [
    "## 1. Using the Row/Col pattern with Dash Bootstrap Components\n",
    "\n",
    "### Take the code below and add it to a script. **You cant run apps from a jupyter notebook**."
   ]
  },
  {
   "cell_type": "code",
   "execution_count": null,
   "metadata": {},
   "outputs": [],
   "source": [
    "import dash\n",
    "import dash_core_components as dcc\n",
    "import dash_html_components as html\n",
    "\n",
    "app = dash.Dash('app')\n",
    "\n",
    "app.layout = html.Div([\n",
    "    html.H1('Hello World'),\n",
    "])\n",
    "\n",
    "if __name__ == '__main__':\n",
    "    app.run_server(debug=True, port=8083)\n"
   ]
  },
  {
   "cell_type": "markdown",
   "metadata": {},
   "source": [
    "### 1.1. Make a copy of the 'hello_works.py' script. Add the following lines to the top of your hello_works.py script, underneath the imports."
   ]
  },
  {
   "cell_type": "markdown",
   "metadata": {},
   "source": [
    "   \n",
    "### 1.2. Add the following lines to the script, just below the imports. These lines ensure that dash is able to work with Bootstrap, which organizes the components.\n"
   ]
  },
  {
   "cell_type": "code",
   "execution_count": null,
   "metadata": {},
   "outputs": [],
   "source": [
    "extenal_stylesheets = [dbc.themes.BOOTSTRAP]\n",
    "app = dash.Dash(__name__, external_stylesheets = extenal_stylesheets)"
   ]
  },
  {
   "cell_type": "markdown",
   "metadata": {},
   "source": [
    "\n",
    "### 1.3. Add another row/col block with a html.Div object that says ‘And I am a cat.’\n"
   ]
  },
  {
   "cell_type": "markdown",
   "metadata": {},
   "source": [
    "\n",
    "### 1.4. Add another row/col block with a html.Img() object with the following link as the src parameter: \n",
    "\n",
    "https://images.theconversation.com/files/350865/original/file-20200803-24-50u91u.jpg?ixlib=rb-1.1.0&rect=37%2C29%2C4955%2C3293&q=45&auto=format&w=926&fit=clip\n"
   ]
  },
  {
   "cell_type": "markdown",
   "metadata": {},
   "source": [
    "## 2. Using DataTables to display data\n",
    "\n",
    "### Take the code below and add it to another script. **You cant run apps from a jupyter notebook**."
   ]
  },
  {
   "cell_type": "code",
   "execution_count": null,
   "metadata": {},
   "outputs": [],
   "source": [
    "import dash\n",
    "import dash_table\n",
    "import pandas as pd\n",
    "\n",
    "df = pd.read_csv('https://raw.githubusercontent.com/plotly/datasets/master/solar.csv')\n",
    "\n",
    "app = dash.Dash(__name__)\n",
    "\n",
    "app.layout = dash_table.DataTable(\n",
    "    id='table',\n",
    "    columns=[{\"name\": i, \"id\": i} for i in df.columns],\n",
    "    data=df.to_dict('records'),\n",
    ")\n",
    "\n",
    "if __name__ == '__main__':\n",
    "    app.run_server(debug=True, port=8085)\n"
   ]
  },
  {
   "cell_type": "markdown",
   "metadata": {},
   "source": [
    "### 2.1. Open and run the dash_exercise.py script, make sure you can see the data."
   ]
  },
  {
   "cell_type": "markdown",
   "metadata": {},
   "source": [
    "### 2.2. Generalise the code for creating a data table using by putting it into a function. Use this function instead of the existing code.\n"
   ]
  },
  {
   "cell_type": "markdown",
   "metadata": {},
   "source": [
    "### 2.3. Add a title to the dashboard (this will require you to redesign app.layout, check the hello_world.py example for inspiration)\n"
   ]
  },
  {
   "cell_type": "markdown",
   "metadata": {},
   "source": [
    "### 2.4. Change the height so that the DataFrame fits on the screen. The link below will give you some useful information to help you to do this.\n"
   ]
  },
  {
   "cell_type": "code",
   "execution_count": null,
   "metadata": {},
   "outputs": [],
   "source": [
    "https://dash.plotly.com/datatable/height"
   ]
  },
  {
   "cell_type": "markdown",
   "metadata": {},
   "source": [
    "### 2.5. Add a vertical scroll bar. Check the link below for a possible implementation of this. Remember, being able to search stackoverflow for answers is a key skill!"
   ]
  },
  {
   "cell_type": "code",
   "execution_count": null,
   "metadata": {},
   "outputs": [],
   "source": [
    "https://stackoverflow.com/questions/59586256/dash-table-that-can-auto-scroll"
   ]
  },
  {
   "cell_type": "markdown",
   "metadata": {},
   "source": [
    "## 3.0 Comparing Probability Distributions\n",
    "\n",
    "### Now things get interesting! As with the other excercises, copy the code below into a script.\n",
    "\n",
    "### Below you are given a function that generates the plot of a probability distribution, given a user supplied mean and standard deviation. We want to create a dashboard that lets the user change the mean and standard deviation using a pair of slider components. Create a dash app to do this, you can use the hello_world.py script (or something else) as a starting point for building the app. To confirm, you will need two slider components, a graph component and a callback function that takes the data from the sliders and outputs an updated figure. Note: The create_distribution function will work perfectly as a callback and does not need to be modified."
   ]
  },
  {
   "cell_type": "code",
   "execution_count": null,
   "metadata": {},
   "outputs": [],
   "source": [
    "import scipy.stats\n",
    "import numpy as np\n",
    "import plotly.graph_objects as go\n",
    "import plotly.io as pio\n",
    "pio.renderers.default = 'browser'\n",
    "\n",
    "\n",
    "def create_distribution(mean, standard_dev):\n",
    "    \"\"\"Creates and returns a distribution plot,\n",
    "    given a mean and a standard deviation\"\"\"\n",
    "    x = np.arange(mean - 5*standard_dev, mean+5*standard_dev)\n",
    "    pdf = scipy.stats.norm.pdf(x, loc=mean, scale=standard_dev)\n",
    "    fig = go.Figure()\n",
    "    fig.add_trace(go.Bar(x=x, y=pdf))\n",
    "    return fig\n",
    "    \n",
    "    \n",
    "if __name__ == '__main__':\n",
    "    fig = create_distribution(5, 5)\n",
    "    fig.show()\n"
   ]
  }
 ],
 "metadata": {
  "interpreter": {
   "hash": "e7370f93d1d0cde622a1f8e1c04877d8463912d04d973331ad4851f04de6915a"
  },
  "kernelspec": {
   "display_name": "Python 3.8.10 64-bit",
   "name": "python3"
  },
  "language_info": {
   "codemirror_mode": {
    "name": "ipython",
    "version": 3
   },
   "file_extension": ".py",
   "mimetype": "text/x-python",
   "name": "python",
   "nbconvert_exporter": "python",
   "pygments_lexer": "ipython3",
   "version": "3.8.10"
  },
  "orig_nbformat": 4
 },
 "nbformat": 4,
 "nbformat_minor": 2
}
