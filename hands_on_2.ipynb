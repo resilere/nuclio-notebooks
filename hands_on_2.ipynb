{
 "cells": [
  {
   "cell_type": "code",
   "execution_count": 31,
   "metadata": {},
   "outputs": [],
   "source": [
    "import pandas as pd\n",
    "import numpy as np"
   ]
  },
  {
   "cell_type": "code",
   "execution_count": 32,
   "metadata": {},
   "outputs": [
    {
     "data": {
      "text/html": [
       "<div>\n",
       "<style scoped>\n",
       "    .dataframe tbody tr th:only-of-type {\n",
       "        vertical-align: middle;\n",
       "    }\n",
       "\n",
       "    .dataframe tbody tr th {\n",
       "        vertical-align: top;\n",
       "    }\n",
       "\n",
       "    .dataframe thead th {\n",
       "        text-align: right;\n",
       "    }\n",
       "</style>\n",
       "<table border=\"1\" class=\"dataframe\">\n",
       "  <thead>\n",
       "    <tr style=\"text-align: right;\">\n",
       "      <th></th>\n",
       "      <th>color</th>\n",
       "      <th>director_name</th>\n",
       "      <th>duration</th>\n",
       "      <th>gross</th>\n",
       "      <th>genres</th>\n",
       "      <th>movie_title</th>\n",
       "      <th>title_year</th>\n",
       "      <th>language</th>\n",
       "      <th>country</th>\n",
       "      <th>budget</th>\n",
       "      <th>imdb_score</th>\n",
       "      <th>actors</th>\n",
       "      <th>movie_facebook_likes</th>\n",
       "      <th>movie_twitter_likes</th>\n",
       "    </tr>\n",
       "  </thead>\n",
       "  <tbody>\n",
       "    <tr>\n",
       "      <th>0</th>\n",
       "      <td>Color</td>\n",
       "      <td>Martin Scorsese</td>\n",
       "      <td>240</td>\n",
       "      <td>$116,866,727.00</td>\n",
       "      <td>Biography|Comedy|Crime|Drama</td>\n",
       "      <td>the wolf of wall street</td>\n",
       "      <td>2013</td>\n",
       "      <td>English</td>\n",
       "      <td>USA</td>\n",
       "      <td>USD 100,000,000.00</td>\n",
       "      <td>8.2</td>\n",
       "      <td>Leonardo DiCaprio,Matthew McConaughey,Jon Favreau</td>\n",
       "      <td>138000</td>\n",
       "      <td>1000</td>\n",
       "    </tr>\n",
       "    <tr>\n",
       "      <th>1</th>\n",
       "      <td>Color</td>\n",
       "      <td>Shane Black</td>\n",
       "      <td>195</td>\n",
       "      <td>$408,992,272.00</td>\n",
       "      <td>Action|Adventure|Sci-Fi</td>\n",
       "      <td>iron man 3</td>\n",
       "      <td>2013</td>\n",
       "      <td>English</td>\n",
       "      <td>USA</td>\n",
       "      <td>USD 200,000,000.00</td>\n",
       "      <td>7.2</td>\n",
       "      <td>Robert Downey Jr.,Jon Favreau,Don Cheadle</td>\n",
       "      <td>95000</td>\n",
       "      <td>1000</td>\n",
       "    </tr>\n",
       "    <tr>\n",
       "      <th>2</th>\n",
       "      <td>color</td>\n",
       "      <td>Quentin Tarantino</td>\n",
       "      <td>187</td>\n",
       "      <td>$54,116,191.00</td>\n",
       "      <td>Crime|Drama|Mystery|Thriller|Western</td>\n",
       "      <td>the hateful eight</td>\n",
       "      <td>2015</td>\n",
       "      <td>English</td>\n",
       "      <td>USA</td>\n",
       "      <td>USD 44,000,000.00</td>\n",
       "      <td>7.9</td>\n",
       "      <td>Craig Stark,Jennifer Jason Leigh,Zoë Bell</td>\n",
       "      <td>114000</td>\n",
       "      <td>1000</td>\n",
       "    </tr>\n",
       "    <tr>\n",
       "      <th>3</th>\n",
       "      <td>Color</td>\n",
       "      <td>Kenneth Lonergan</td>\n",
       "      <td>186</td>\n",
       "      <td>$46,495.00</td>\n",
       "      <td>Drama</td>\n",
       "      <td>margaret</td>\n",
       "      <td>2011</td>\n",
       "      <td>English</td>\n",
       "      <td>usa</td>\n",
       "      <td>USD 14,000,000.00</td>\n",
       "      <td>6.5</td>\n",
       "      <td>Matt Damon,Kieran Culkin,John Gallagher Jr.</td>\n",
       "      <td>0</td>\n",
       "      <td>1000</td>\n",
       "    </tr>\n",
       "    <tr>\n",
       "      <th>4</th>\n",
       "      <td>Color</td>\n",
       "      <td>Peter Jackson</td>\n",
       "      <td>186</td>\n",
       "      <td>$258,355,354.00</td>\n",
       "      <td>Adventure|Fantasy</td>\n",
       "      <td>the hobbit: the desolation of smaug</td>\n",
       "      <td>2013</td>\n",
       "      <td>English</td>\n",
       "      <td>USA</td>\n",
       "      <td>USD 225,000,000.00</td>\n",
       "      <td>7.9</td>\n",
       "      <td>Aidan Turner,Adam Brown,James Nesbitt</td>\n",
       "      <td>83000</td>\n",
       "      <td>1000</td>\n",
       "    </tr>\n",
       "    <tr>\n",
       "      <th>...</th>\n",
       "      <td>...</td>\n",
       "      <td>...</td>\n",
       "      <td>...</td>\n",
       "      <td>...</td>\n",
       "      <td>...</td>\n",
       "      <td>...</td>\n",
       "      <td>...</td>\n",
       "      <td>...</td>\n",
       "      <td>...</td>\n",
       "      <td>...</td>\n",
       "      <td>...</td>\n",
       "      <td>...</td>\n",
       "      <td>...</td>\n",
       "      <td>...</td>\n",
       "    </tr>\n",
       "    <tr>\n",
       "      <th>94</th>\n",
       "      <td>Color</td>\n",
       "      <td>Steve McQueen</td>\n",
       "      <td>134</td>\n",
       "      <td>$56,667,870.00</td>\n",
       "      <td>Biography|Drama|History</td>\n",
       "      <td>12 years a slave</td>\n",
       "      <td>2013</td>\n",
       "      <td>English</td>\n",
       "      <td>USA</td>\n",
       "      <td>USD 20,000,000.00</td>\n",
       "      <td>8.1</td>\n",
       "      <td>Quvenzhané Wallis,Scoot McNairy,Taran Killam</td>\n",
       "      <td>83000</td>\n",
       "      <td>1000</td>\n",
       "    </tr>\n",
       "    <tr>\n",
       "      <th>95</th>\n",
       "      <td>Color</td>\n",
       "      <td>Richard J. Lewis</td>\n",
       "      <td>134</td>\n",
       "      <td>$7,501,404.00</td>\n",
       "      <td>Comedy|Drama</td>\n",
       "      <td>barney's version</td>\n",
       "      <td>2010</td>\n",
       "      <td>English</td>\n",
       "      <td>Canada</td>\n",
       "      <td>USD nan</td>\n",
       "      <td>7.3</td>\n",
       "      <td>Mark Addy,Atom Egoyan,Paul Gross</td>\n",
       "      <td>0</td>\n",
       "      <td>1000</td>\n",
       "    </tr>\n",
       "    <tr>\n",
       "      <th>96</th>\n",
       "      <td>Color</td>\n",
       "      <td>Paul Greengrass</td>\n",
       "      <td>134</td>\n",
       "      <td>$107,100,855.00</td>\n",
       "      <td>Biography|Drama|Thriller</td>\n",
       "      <td>captain phillips</td>\n",
       "      <td>2013</td>\n",
       "      <td>English</td>\n",
       "      <td>USA</td>\n",
       "      <td>USD 55,000,000.00</td>\n",
       "      <td>7.9</td>\n",
       "      <td>Tom Hanks,Chris Mulkey,Michael Chernus</td>\n",
       "      <td>65000</td>\n",
       "      <td>1000</td>\n",
       "    </tr>\n",
       "    <tr>\n",
       "      <th>97</th>\n",
       "      <td>Color</td>\n",
       "      <td>David Ayer</td>\n",
       "      <td>134</td>\n",
       "      <td>$85,707,116.00</td>\n",
       "      <td>Action|Drama|War</td>\n",
       "      <td>fury</td>\n",
       "      <td>2014</td>\n",
       "      <td>English</td>\n",
       "      <td>USA</td>\n",
       "      <td>USD 68,000,000.00</td>\n",
       "      <td>7.6</td>\n",
       "      <td>Brad Pitt,Logan Lerman,Jim Parrack</td>\n",
       "      <td>82000</td>\n",
       "      <td>1000</td>\n",
       "    </tr>\n",
       "    <tr>\n",
       "      <th>98</th>\n",
       "      <td>Color</td>\n",
       "      <td>Clint Eastwood</td>\n",
       "      <td>5</td>\n",
       "      <td>$47,034,272.00</td>\n",
       "      <td>Biography|Drama|Music|Musical</td>\n",
       "      <td>jersey boys</td>\n",
       "      <td>2014</td>\n",
       "      <td>English</td>\n",
       "      <td>USA</td>\n",
       "      <td>USD 40,000,000.00</td>\n",
       "      <td>6.9</td>\n",
       "      <td>Johnny Cannizzaro,Steve Schirripa,Scott Vance</td>\n",
       "      <td>16000</td>\n",
       "      <td>1000</td>\n",
       "    </tr>\n",
       "  </tbody>\n",
       "</table>\n",
       "<p>94 rows × 14 columns</p>\n",
       "</div>"
      ],
      "text/plain": [
       "     color      director_name  duration            gross  \\\n",
       "0    Color    Martin Scorsese       240  $116,866,727.00   \n",
       "1    Color        Shane Black       195  $408,992,272.00   \n",
       "2   color   Quentin Tarantino       187   $54,116,191.00   \n",
       "3    Color   Kenneth Lonergan       186       $46,495.00   \n",
       "4    Color      Peter Jackson       186  $258,355,354.00   \n",
       "..     ...                ...       ...              ...   \n",
       "94   Color      Steve McQueen       134   $56,667,870.00   \n",
       "95   Color   Richard J. Lewis       134    $7,501,404.00   \n",
       "96   Color    Paul Greengrass       134  $107,100,855.00   \n",
       "97   Color         David Ayer       134   $85,707,116.00   \n",
       "98   Color     Clint Eastwood         5   $47,034,272.00   \n",
       "\n",
       "                                  genres                          movie_title  \\\n",
       "0           Biography|Comedy|Crime|Drama              the wolf of wall street   \n",
       "1                Action|Adventure|Sci-Fi                           iron man 3   \n",
       "2   Crime|Drama|Mystery|Thriller|Western                    the hateful eight   \n",
       "3                                  Drama                             margaret   \n",
       "4                      Adventure|Fantasy  the hobbit: the desolation of smaug   \n",
       "..                                   ...                                  ...   \n",
       "94               Biography|Drama|History                     12 years a slave   \n",
       "95                          Comedy|Drama                     barney's version   \n",
       "96              Biography|Drama|Thriller                     captain phillips   \n",
       "97                      Action|Drama|War                                 fury   \n",
       "98         Biography|Drama|Music|Musical                          jersey boys   \n",
       "\n",
       "    title_year language country              budget  imdb_score  \\\n",
       "0         2013  English     USA  USD 100,000,000.00         8.2   \n",
       "1         2013  English     USA  USD 200,000,000.00         7.2   \n",
       "2         2015  English     USA   USD 44,000,000.00         7.9   \n",
       "3         2011  English     usa   USD 14,000,000.00         6.5   \n",
       "4         2013  English     USA  USD 225,000,000.00         7.9   \n",
       "..         ...      ...     ...                 ...         ...   \n",
       "94        2013  English     USA   USD 20,000,000.00         8.1   \n",
       "95        2010  English  Canada             USD nan         7.3   \n",
       "96        2013  English     USA   USD 55,000,000.00         7.9   \n",
       "97        2014  English     USA   USD 68,000,000.00         7.6   \n",
       "98        2014  English     USA   USD 40,000,000.00         6.9   \n",
       "\n",
       "                                               actors  movie_facebook_likes  \\\n",
       "0   Leonardo DiCaprio,Matthew McConaughey,Jon Favreau                138000   \n",
       "1           Robert Downey Jr.,Jon Favreau,Don Cheadle                 95000   \n",
       "2           Craig Stark,Jennifer Jason Leigh,Zoë Bell                114000   \n",
       "3         Matt Damon,Kieran Culkin,John Gallagher Jr.                     0   \n",
       "4               Aidan Turner,Adam Brown,James Nesbitt                 83000   \n",
       "..                                                ...                   ...   \n",
       "94       Quvenzhané Wallis,Scoot McNairy,Taran Killam                 83000   \n",
       "95                   Mark Addy,Atom Egoyan,Paul Gross                     0   \n",
       "96             Tom Hanks,Chris Mulkey,Michael Chernus                 65000   \n",
       "97                 Brad Pitt,Logan Lerman,Jim Parrack                 82000   \n",
       "98      Johnny Cannizzaro,Steve Schirripa,Scott Vance                 16000   \n",
       "\n",
       "    movie_twitter_likes  \n",
       "0                  1000  \n",
       "1                  1000  \n",
       "2                  1000  \n",
       "3                  1000  \n",
       "4                  1000  \n",
       "..                  ...  \n",
       "94                 1000  \n",
       "95                 1000  \n",
       "96                 1000  \n",
       "97                 1000  \n",
       "98                 1000  \n",
       "\n",
       "[94 rows x 14 columns]"
      ]
     },
     "execution_count": 32,
     "metadata": {},
     "output_type": "execute_result"
    }
   ],
   "source": [
    "df_imdb = pd.read_csv(\"02_imdb.csv\", index_col=0)\n",
    "df_imdb"
   ]
  },
  {
   "cell_type": "code",
   "execution_count": 33,
   "metadata": {},
   "outputs": [
    {
     "data": {
      "text/plain": [
       "Color               81\n",
       "NaN                 11\n",
       "color                1\n",
       " Black and White     1\n",
       "Name: color, dtype: int64"
      ]
     },
     "execution_count": 33,
     "metadata": {},
     "output_type": "execute_result"
    }
   ],
   "source": [
    "df_imdb.color.value_counts(dropna=False)"
   ]
  },
  {
   "cell_type": "code",
   "execution_count": 34,
   "metadata": {},
   "outputs": [
    {
     "data": {
      "text/plain": [
       "NaN                  11\n",
       "Michael Bay           3\n",
       "Peter Jackson         3\n",
       "Christopher Nolan     3\n",
       "Ridley Scott          3\n",
       "                     ..\n",
       "Adam McKay            1\n",
       "Zack Snyder           1\n",
       "Baz Luhrmann          1\n",
       "Kenneth Lonergan      1\n",
       "Clint Eastwood        1\n",
       "Name: director_name, Length: 64, dtype: int64"
      ]
     },
     "execution_count": 34,
     "metadata": {},
     "output_type": "execute_result"
    }
   ],
   "source": [
    "df_imdb.director_name.value_counts(dropna=False)"
   ]
  },
  {
   "cell_type": "code",
   "execution_count": 35,
   "metadata": {},
   "outputs": [
    {
     "data": {
      "text/plain": [
       "64"
      ]
     },
     "execution_count": 35,
     "metadata": {},
     "output_type": "execute_result"
    }
   ],
   "source": [
    "len(df_imdb.director_name.unique())"
   ]
  },
  {
   "cell_type": "code",
   "execution_count": 36,
   "metadata": {},
   "outputs": [
    {
     "name": "stdout",
     "output_type": "stream",
     "text": [
      "NaN                     11\n",
      "Michael Bay              3\n",
      "Peter Jackson            3\n",
      "Christopher Nolan        3\n",
      "Ridley Scott             3\n",
      "Martin Scorsese          2\n",
      "Angelina Jolie Pitt      2\n",
      "Timur Bekmambetov        2\n",
      "Tate Taylor              2\n",
      "Sam Mendes               2\n",
      "Paul Thomas Anderson     2\n",
      "Bryan Singer             2\n",
      "Marc Webb                2\n",
      "Tom Hooper               2\n",
      "Steven Spielberg         2\n",
      "Quentin Tarantino        2\n",
      "Joss Whedon              2\n",
      "James Wan                1\n",
      "Derek Cianfrance         1\n",
      "Gavin O'Connor           1\n",
      "Gary Ross                1\n",
      "Terrence Malick          1\n",
      "Robert Zemeckis          1\n",
      "Darren Aronofsky         1\n",
      "James Mangold            1\n",
      "Daniel Espinosa          1\n",
      "Walter Salles            1\n",
      "Richard Linklater        1\n",
      "David Dobkin             1\n",
      "Seth MacFarlane          1\n",
      "Anthony Russo            1\n",
      "Rob Marshall             1\n",
      "Adam Shankman            1\n",
      "Sadyk Sher-Niyaz         1\n",
      "Tony Gilroy              1\n",
      "Steve McQueen            1\n",
      "Richard J. Lewis         1\n",
      "Paul Greengrass          1\n",
      "David Ayer               1\n",
      "Ryan Murphy              1\n",
      "Oliver Stone             1\n",
      "Kathryn Bigelow          1\n",
      "Jay Oliva                1\n",
      "F. Gary Gray             1\n",
      "Denis Villeneuve         1\n",
      "Gnana Rajasekaran        1\n",
      "Christopher Spencer      1\n",
      "Nan                      1\n",
      "Mike Leigh               1\n",
      "Gore Verbinski           1\n",
      "David Fincher            1\n",
      "Null                     1\n",
      "Tom Tykwer               1\n",
      "Justin Chadwick          1\n",
      "Michael Patrick King     1\n",
      "Edward Hall              1\n",
      "Francis Lawrence         1\n",
      "Shane Black              1\n",
      "Guillaume Canet          1\n",
      "Adam McKay               1\n",
      "Zack Snyder              1\n",
      "Baz Luhrmann             1\n",
      "Kenneth Lonergan         1\n",
      "Clint Eastwood           1\n",
      "Name: director_name, dtype: int64\n"
     ]
    }
   ],
   "source": [
    "pd.set_option(\"display.max_rows\", None)\n",
    "print(df_imdb.director_name.value_counts(dropna=False))\n",
    "pd.reset_option(\"display.max_rows\")"
   ]
  },
  {
   "cell_type": "code",
   "execution_count": 37,
   "metadata": {},
   "outputs": [
    {
     "data": {
      "text/plain": [
       "0     $116,866,727.00\n",
       "1     $408,992,272.00\n",
       "2      $54,116,191.00\n",
       "3          $46,495.00\n",
       "4     $258,355,354.00\n",
       "           ...       \n",
       "94     $56,667,870.00\n",
       "95      $7,501,404.00\n",
       "96    $107,100,855.00\n",
       "97     $85,707,116.00\n",
       "98     $47,034,272.00\n",
       "Name: gross, Length: 94, dtype: object"
      ]
     },
     "execution_count": 37,
     "metadata": {},
     "output_type": "execute_result"
    }
   ],
   "source": [
    "df_imdb.gross"
   ]
  },
  {
   "cell_type": "code",
   "execution_count": 38,
   "metadata": {},
   "outputs": [
    {
     "data": {
      "text/plain": [
       "pandas.core.series.Series"
      ]
     },
     "execution_count": 38,
     "metadata": {},
     "output_type": "execute_result"
    }
   ],
   "source": [
    "type(df_imdb.gross)"
   ]
  },
  {
   "cell_type": "code",
   "execution_count": 39,
   "metadata": {},
   "outputs": [
    {
     "data": {
      "text/plain": [
       "str"
      ]
     },
     "execution_count": 39,
     "metadata": {},
     "output_type": "execute_result"
    }
   ],
   "source": [
    "type(df_imdb.gross[0])"
   ]
  },
  {
   "cell_type": "code",
   "execution_count": 40,
   "metadata": {},
   "outputs": [
    {
     "data": {
      "text/plain": [
       "False"
      ]
     },
     "execution_count": 40,
     "metadata": {},
     "output_type": "execute_result"
    }
   ],
   "source": [
    "df_imdb.gross.isna().any()"
   ]
  },
  {
   "cell_type": "code",
   "execution_count": 41,
   "metadata": {},
   "outputs": [
    {
     "data": {
      "text/plain": [
       "'$116,866,727.00$408,992,272.00$54,116,191.00$46,495.00$258,355,354.00$330,249,062.00$303,001,229.00$nan$623,279,547.00$27,098,580.00$102,515,793.00$59,696,176.00$187,991,439.00$100,000,000,000,000.00$25,359,200.00$162,804,648.00$245,428,137.00$448,130,642.00$255,108,370.00$148,775,460.00$148,775,460.00$95,720,716.00$105,219,735.00$183,635,922.00$352,358,779.00$60,962,878.00$nan$262,030,663.00$228,430,993.00$65,007,045.00$182,204,440.00$3,958,500.00$89,289,910.00$167,735,396.00$233,914,986.00$nan$292,568,851.00$8,093,318.00$200,074,175.00$407,197,282.00$95,328,937.00$169,705,587.00$424,645,577.00$79,883,359.00$52,822,418.00$41,229.00$16,377,274.00$154,985,087.00$2,175,312.00$-1,532.00$304,360,277.00$144,812,796.00$nan$72,306,065.00$202,853,933.00$407,999,255.00$458,991,599.00$nan$nan$8,324,748.00$47,307,550.00$47,105,085.00$80,574,010.00$350,034,110.00$21,383,298.00$13,651,662.00$150,832,203.00$20,389,967.00$30,513,940.00$13,303,319.00$150,117,807.00$93,749,203.00$101,160,529.00$127,968,405.00$16,969,390.00$132,550,960.00$1,206,135.00$37,304,950.00$717,753.00$281,666,058.00$115,603,980.00$115,603,980.00$42,615,685.00$259,746,958.00$241,063,875.00$38,509,342.00$52,474,616.00$-92,939.00$113,165,635.00$56,667,870.00$7,501,404.00$107,100,855.00$85,707,116.00$47,034,272.00'"
      ]
     },
     "execution_count": 41,
     "metadata": {},
     "output_type": "execute_result"
    }
   ],
   "source": [
    "df_imdb.gross.sum()"
   ]
  },
  {
   "cell_type": "code",
   "execution_count": 42,
   "metadata": {},
   "outputs": [
    {
     "data": {
      "text/plain": [
       "0     116,866,727.00\n",
       "1     408,992,272.00\n",
       "2      54,116,191.00\n",
       "3          46,495.00\n",
       "4     258,355,354.00\n",
       "           ...      \n",
       "94     56,667,870.00\n",
       "95      7,501,404.00\n",
       "96    107,100,855.00\n",
       "97     85,707,116.00\n",
       "98     47,034,272.00\n",
       "Name: gross, Length: 94, dtype: object"
      ]
     },
     "execution_count": 42,
     "metadata": {},
     "output_type": "execute_result"
    }
   ],
   "source": [
    "df_imdb.gross.str[1:]"
   ]
  },
  {
   "cell_type": "code",
   "execution_count": 43,
   "metadata": {},
   "outputs": [
    {
     "data": {
      "text/plain": [
       "0     116,866,727.00\n",
       "1     408,992,272.00\n",
       "2      54,116,191.00\n",
       "3          46,495.00\n",
       "4     258,355,354.00\n",
       "           ...      \n",
       "94     56,667,870.00\n",
       "95      7,501,404.00\n",
       "96    107,100,855.00\n",
       "97     85,707,116.00\n",
       "98     47,034,272.00\n",
       "Name: gross, Length: 94, dtype: object"
      ]
     },
     "execution_count": 43,
     "metadata": {},
     "output_type": "execute_result"
    }
   ],
   "source": [
    "df_imdb.gross.str.replace(\"$\", \"\", regex=False)"
   ]
  },
  {
   "cell_type": "code",
   "execution_count": 44,
   "metadata": {},
   "outputs": [
    {
     "data": {
      "text/plain": [
       "0     116,866,727.00\n",
       "1     408,992,272.00\n",
       "2      54,116,191.00\n",
       "3          46,495.00\n",
       "4     258,355,354.00\n",
       "           ...      \n",
       "94     56,667,870.00\n",
       "95      7,501,404.00\n",
       "96    107,100,855.00\n",
       "97     85,707,116.00\n",
       "98     47,034,272.00\n",
       "Name: gross, Length: 94, dtype: object"
      ]
     },
     "execution_count": 44,
     "metadata": {},
     "output_type": "execute_result"
    }
   ],
   "source": [
    "df_imdb[\"gross\"] = df_imdb.gross.str.replace(\"$\", \"\", regex=False)\n",
    "df_imdb.gross"
   ]
  },
  {
   "cell_type": "code",
   "execution_count": 45,
   "metadata": {},
   "outputs": [
    {
     "data": {
      "text/plain": [
       "0     116866727.00\n",
       "1     408992272.00\n",
       "2      54116191.00\n",
       "3         46495.00\n",
       "4     258355354.00\n",
       "          ...     \n",
       "94     56667870.00\n",
       "95      7501404.00\n",
       "96    107100855.00\n",
       "97     85707116.00\n",
       "98     47034272.00\n",
       "Name: gross, Length: 94, dtype: object"
      ]
     },
     "execution_count": 45,
     "metadata": {},
     "output_type": "execute_result"
    }
   ],
   "source": [
    "df_imdb[\"gross\"] = df_imdb.gross.str.replace(\",\", \"\")\n",
    "df_imdb.gross"
   ]
  },
  {
   "cell_type": "code",
   "execution_count": 46,
   "metadata": {},
   "outputs": [
    {
     "data": {
      "text/plain": [
       "0     116866727.0\n",
       "1     408992272.0\n",
       "2      54116191.0\n",
       "3         46495.0\n",
       "4     258355354.0\n",
       "         ...     \n",
       "94     56667870.0\n",
       "95      7501404.0\n",
       "96    107100855.0\n",
       "97     85707116.0\n",
       "98     47034272.0\n",
       "Name: gross, Length: 94, dtype: float64"
      ]
     },
     "execution_count": 46,
     "metadata": {},
     "output_type": "execute_result"
    }
   ],
   "source": [
    "df_imdb[\"gross\"] = df_imdb.gross.astype('float')\n",
    "df_imdb.gross"
   ]
  },
  {
   "cell_type": "code",
   "execution_count": 47,
   "metadata": {},
   "outputs": [
    {
     "data": {
      "text/plain": [
       "True"
      ]
     },
     "execution_count": 47,
     "metadata": {},
     "output_type": "execute_result"
    }
   ],
   "source": [
    "df_imdb.gross.isna().any()"
   ]
  },
  {
   "cell_type": "code",
   "execution_count": 48,
   "metadata": {},
   "outputs": [
    {
     "data": {
      "text/plain": [
       "0.06382978723404255"
      ]
     },
     "execution_count": 48,
     "metadata": {},
     "output_type": "execute_result"
    }
   ],
   "source": [
    "df_imdb.gross.isna().mean()"
   ]
  },
  {
   "cell_type": "code",
   "execution_count": 49,
   "metadata": {},
   "outputs": [
    {
     "data": {
      "text/plain": [
       "6"
      ]
     },
     "execution_count": 49,
     "metadata": {},
     "output_type": "execute_result"
    }
   ],
   "source": [
    "df_imdb.gross.isna().sum()"
   ]
  },
  {
   "cell_type": "code",
   "execution_count": 54,
   "metadata": {},
   "outputs": [
    {
     "data": {
      "text/plain": [
       "<AxesSubplot:>"
      ]
     },
     "execution_count": 54,
     "metadata": {},
     "output_type": "execute_result"
    },
    {
     "data": {
      "image/png": "[encoded data removed]",
      "text/plain": [
       "<Figure size 432x288 with 1 Axes>"
      ]
     },
     "metadata": {
      "needs_background": "light"
     },
     "output_type": "display_data"
    }
   ],
   "source": [
    "df_imdb.gross.hist()"
   ]
  },
  {
   "cell_type": "code",
   "execution_count": 51,
   "metadata": {},
   "outputs": [
    {
     "data": {
      "text/plain": [
       "<AxesSubplot:>"
      ]
     },
     "execution_count": 51,
     "metadata": {},
     "output_type": "execute_result"
    },
    {
     "data": {
      "image/png": "[encoded data removed]",
      "text/plain": [
       "<Figure size 432x288 with 1 Axes>"
      ]
     },
     "metadata": {
      "needs_background": "light"
     },
     "output_type": "display_data"
    }
   ],
   "source": [
    "df_imdb.gross.plot(kind='box')"
   ]
  },
  {
   "cell_type": "code",
   "execution_count": 52,
   "metadata": {},
   "outputs": [
    {
     "data": {
      "text/plain": [
       "count    8.800000e+01\n",
       "mean     1.136505e+12\n",
       "std      1.066002e+13\n",
       "min     -9.293900e+04\n",
       "25%      4.158910e+07\n",
       "50%      1.061603e+08\n",
       "75%      2.298020e+08\n",
       "max      1.000000e+14\n",
       "Name: gross, dtype: float64"
      ]
     },
     "execution_count": 52,
     "metadata": {},
     "output_type": "execute_result"
    }
   ],
   "source": [
    "df_imdb.gross.describe()"
   ]
  },
  {
   "cell_type": "code",
   "execution_count": 55,
   "metadata": {},
   "outputs": [
    {
     "data": {
      "text/plain": [
       "Action|Adventure|Sci-Fi                     9\n",
       "Drama                                       5\n",
       "Crime|Drama|Thriller                        5\n",
       "Biography|Drama|History                     4\n",
       "Adventure|Fantasy                           3\n",
       "Drama|Romance                               3\n",
       "Crime|Drama|Mystery|Thriller                3\n",
       "Action|Adventure|Thriller                   3\n",
       "Action|Adventure|Fantasy                    2\n",
       "Biography|Drama|Sport|War                   2\n",
       "Action|Adventure|Fantasy|Sci-Fi             2\n",
       "Action|Adventure|Sci-Fi|Thriller            2\n",
       "Action|Adventure|Drama                      2\n",
       "Adventure|Drama|History                     2\n",
       "Crime|Drama                                 2\n",
       "Drama|History|Thriller                      2\n",
       "Adventure|Drama|Sci-Fi                      2\n",
       "Drama|Musical|Romance                       2\n",
       "Action|Crime|Thriller                       1\n",
       "Action|Drama|War                            1\n",
       "Drama|Sport                                 1\n",
       "Biography|Drama|Thriller                    1\n",
       "Adventure|Mystery|Sci-Fi                    1\n",
       "Action|Biography|Drama|History|War          1\n",
       "Comedy|Drama                                1\n",
       "Biography|Drama|Music                       1\n",
       "Drama|Fantasy                               1\n",
       "Adventure|Sci-Fi                            1\n",
       "Action|Biography|Drama|History              1\n",
       "Drama|Thriller                              1\n",
       "Mystery|Thriller                            1\n",
       "Biography|Crime|Drama                       1\n",
       "Adventure|Drama                             1\n",
       "Comedy|Drama|Musical|Romance                1\n",
       "Comedy|Western                              1\n",
       "Biography|Comedy|Crime|Drama                1\n",
       "Adventure|Sci-Fi|Thriller                   1\n",
       "Adventure|Drama|Sci-Fi|Thriller             1\n",
       "Drama|Horror|Thriller                       1\n",
       "Crime|Drama|Mystery|Thriller|Western        1\n",
       "Drama|Sci-Fi                                1\n",
       "NaN                                         1\n",
       "Biography|Crime|Drama|History|Music         1\n",
       "Drama|Western                               1\n",
       "Action|Thriller                             1\n",
       "Action|Adventure|Drama|History              1\n",
       "Adventure|Drama|Thriller|Western            1\n",
       "Biography|Drama|History|War                 1\n",
       "Action|Adventure|Western                    1\n",
       "Action|Adventure|Fantasy|Sci-Fi|Thriller    1\n",
       "Action|Animation|Crime|Sci-Fi|Thriller      1\n",
       "Comedy|Crime|Drama|Mystery|Romance          1\n",
       "Comedy|Drama|Romance                        1\n",
       "Drama|War                                   1\n",
       "Action|Drama|Thriller|War                   1\n",
       "Comedy                                      1\n",
       "Biography|Drama|Music|Musical               1\n",
       "Name: genres, dtype: int64"
      ]
     },
     "execution_count": 55,
     "metadata": {},
     "output_type": "execute_result"
    }
   ],
   "source": [
    "df_imdb[\"genres\"].value_counts(dropna=False)"
   ]
  },
  {
   "cell_type": "code",
   "execution_count": 59,
   "metadata": {},
   "outputs": [
    {
     "data": {
      "text/plain": [
       "True"
      ]
     },
     "execution_count": 59,
     "metadata": {},
     "output_type": "execute_result"
    }
   ],
   "source": [
    "df_imdb.genres.isnull().any()"
   ]
  },
  {
   "cell_type": "code",
   "execution_count": 57,
   "metadata": {},
   "outputs": [
    {
     "data": {
      "text/plain": [
       "Drama        61\n",
       "Adventure    36\n",
       "Action       30\n",
       "Thriller     28\n",
       "Sci-Fi       22\n",
       "Crime        17\n",
       "Biography    15\n",
       "History      13\n",
       "Fantasy       9\n",
       "Romance       8\n",
       "Comedy        7\n",
       "Mystery       7\n",
       "War           7\n",
       "Western       5\n",
       "Musical       4\n",
       "Music         3\n",
       "Sport         3\n",
       "NaN           1\n",
       "Animation     1\n",
       "Horror        1\n",
       "Name: genres, dtype: int64"
      ]
     },
     "execution_count": 57,
     "metadata": {},
     "output_type": "execute_result"
    }
   ],
   "source": [
    "df_imdb.genres.str.split(\"|\").explode().value_counts(dropna=False)"
   ]
  },
  {
   "cell_type": "code",
   "execution_count": 60,
   "metadata": {},
   "outputs": [
    {
     "data": {
      "text/plain": [
       "0     USD 100,000,000.00\n",
       "1     USD 200,000,000.00\n",
       "2      USD 44,000,000.00\n",
       "3      USD 14,000,000.00\n",
       "4     USD 225,000,000.00\n",
       "             ...        \n",
       "94     USD 20,000,000.00\n",
       "95               USD nan\n",
       "96     USD 55,000,000.00\n",
       "97     USD 68,000,000.00\n",
       "98     USD 40,000,000.00\n",
       "Name: budget, Length: 94, dtype: object"
      ]
     },
     "execution_count": 60,
     "metadata": {},
     "output_type": "execute_result"
    }
   ],
   "source": [
    "df_imdb.budget"
   ]
  },
  {
   "cell_type": "code",
   "execution_count": 61,
   "metadata": {},
   "outputs": [
    {
     "data": {
      "text/plain": [
       "str"
      ]
     },
     "execution_count": 61,
     "metadata": {},
     "output_type": "execute_result"
    }
   ],
   "source": [
    "type(df_imdb.budget[0])"
   ]
  },
  {
   "cell_type": "code",
   "execution_count": 62,
   "metadata": {},
   "outputs": [],
   "source": [
    "df_imdb[\"budget\"] = df_imdb.budget.str.replace(\"USD\", \"\").str.replace(\",\", \"\").astype('float')"
   ]
  },
  {
   "cell_type": "code",
   "execution_count": 63,
   "metadata": {},
   "outputs": [
    {
     "data": {
      "text/plain": [
       "True"
      ]
     },
     "execution_count": 63,
     "metadata": {},
     "output_type": "execute_result"
    }
   ],
   "source": [
    "df_imdb.budget.isna().any()"
   ]
  },
  {
   "cell_type": "code",
   "execution_count": 64,
   "metadata": {},
   "outputs": [
    {
     "data": {
      "text/plain": [
       "0.0425531914893617"
      ]
     },
     "execution_count": 64,
     "metadata": {},
     "output_type": "execute_result"
    }
   ],
   "source": [
    "df_imdb.budget.isna().mean()"
   ]
  },
  {
   "cell_type": "code",
   "execution_count": 65,
   "metadata": {},
   "outputs": [
    {
     "data": {
      "text/plain": [
       "count    9.000000e+01\n",
       "mean     1.021824e+08\n",
       "std      7.742864e+07\n",
       "min      1.735000e+04\n",
       "25%      4.000000e+07\n",
       "50%      7.250000e+07\n",
       "75%      1.687500e+08\n",
       "max      2.500000e+08\n",
       "Name: budget, dtype: float64"
      ]
     },
     "execution_count": 65,
     "metadata": {},
     "output_type": "execute_result"
    }
   ],
   "source": [
    "df_imdb.budget.describe()"
   ]
  },
  {
   "cell_type": "code",
   "execution_count": 66,
   "metadata": {},
   "outputs": [
    {
     "data": {
      "text/plain": [
       "<AxesSubplot:>"
      ]
     },
     "execution_count": 66,
     "metadata": {},
     "output_type": "execute_result"
    },
    {
     "data": {
      "image/png": "[encoded data removed]",
      "text/plain": [
       "<Figure size 432x288 with 1 Axes>"
      ]
     },
     "metadata": {
      "needs_background": "light"
     },
     "output_type": "display_data"
    }
   ],
   "source": [
    "df_imdb.budget.hist()"
   ]
  },
  {
   "cell_type": "code",
   "execution_count": 67,
   "metadata": {},
   "outputs": [
    {
     "data": {
      "text/plain": [
       "<AxesSubplot:>"
      ]
     },
     "execution_count": 67,
     "metadata": {},
     "output_type": "execute_result"
    },
    {
     "data": {
      "image/png": "[encoded data removed]",
      "text/plain": [
       "<Figure size 432x288 with 1 Axes>"
      ]
     },
     "metadata": {
      "needs_background": "light"
     },
     "output_type": "display_data"
    }
   ],
   "source": [
    "df_imdb.budget.plot(kind='box')"
   ]
  },
  {
   "cell_type": "code",
   "execution_count": 68,
   "metadata": {},
   "outputs": [
    {
     "data": {
      "text/plain": [
       "<AxesSubplot:xlabel='gross', ylabel='budget'>"
      ]
     },
     "execution_count": 68,
     "metadata": {},
     "output_type": "execute_result"
    },
    {
     "data": {
      "image/png": "[encoded data removed]",
      "text/plain": [
       "<Figure size 432x288 with 1 Axes>"
      ]
     },
     "metadata": {
      "needs_background": "light"
     },
     "output_type": "display_data"
    }
   ],
   "source": [
    "df_imdb.plot.scatter(x=\"gross\", y=\"budget\")"
   ]
  },
  {
   "cell_type": "code",
   "execution_count": 76,
   "metadata": {},
   "outputs": [
    {
     "name": "stdout",
     "output_type": "stream",
     "text": [
      "87\n"
     ]
    }
   ],
   "source": [
    "test = df_imdb[df_imdb[\"gross\"]<=800000000]\n",
    "print(len(test))"
   ]
  },
  {
   "cell_type": "code",
   "execution_count": 77,
   "metadata": {},
   "outputs": [
    {
     "data": {
      "text/plain": [
       "<AxesSubplot:xlabel='gross', ylabel='budget'>"
      ]
     },
     "execution_count": 77,
     "metadata": {},
     "output_type": "execute_result"
    },
    {
     "data": {
      "image/png": "[encoded data removed]",
      "text/plain": [
       "<Figure size 432x288 with 1 Axes>"
      ]
     },
     "metadata": {
      "needs_background": "light"
     },
     "output_type": "display_data"
    }
   ],
   "source": [
    "test.plot.scatter(x=\"gross\", y=\"budget\")"
   ]
  },
  {
   "cell_type": "code",
   "execution_count": 78,
   "metadata": {},
   "outputs": [
    {
     "data": {
      "text/plain": [
       "0     240\n",
       "1     195\n",
       "2     187\n",
       "3     186\n",
       "4     186\n",
       "     ... \n",
       "94    134\n",
       "95    134\n",
       "96    134\n",
       "97    134\n",
       "98      5\n",
       "Name: duration, Length: 94, dtype: int64"
      ]
     },
     "execution_count": 78,
     "metadata": {},
     "output_type": "execute_result"
    }
   ],
   "source": [
    "df_imdb.duration"
   ]
  },
  {
   "cell_type": "code",
   "execution_count": 79,
   "metadata": {},
   "outputs": [
    {
     "data": {
      "text/plain": [
       "False"
      ]
     },
     "execution_count": 79,
     "metadata": {},
     "output_type": "execute_result"
    }
   ],
   "source": [
    "df_imdb.duration.isna().any()"
   ]
  },
  {
   "cell_type": "code",
   "execution_count": 80,
   "metadata": {},
   "outputs": [
    {
     "data": {
      "text/plain": [
       "count     94.000000\n",
       "mean     155.787234\n",
       "std       74.666840\n",
       "min      -50.000000\n",
       "25%      138.000000\n",
       "50%      143.500000\n",
       "75%      155.500000\n",
       "max      650.000000\n",
       "Name: duration, dtype: float64"
      ]
     },
     "execution_count": 80,
     "metadata": {},
     "output_type": "execute_result"
    }
   ],
   "source": [
    "df_imdb.duration.describe()"
   ]
  },
  {
   "cell_type": "code",
   "execution_count": 81,
   "metadata": {},
   "outputs": [
    {
     "data": {
      "text/plain": [
       "<AxesSubplot:>"
      ]
     },
     "execution_count": 81,
     "metadata": {},
     "output_type": "execute_result"
    },
    {
     "data": {
      "image/png": "[encoded data removed]",
      "text/plain": [
       "<Figure size 432x288 with 1 Axes>"
      ]
     },
     "metadata": {
      "needs_background": "light"
     },
     "output_type": "display_data"
    }
   ],
   "source": [
    "df_imdb.duration.hist()"
   ]
  },
  {
   "cell_type": "code",
   "execution_count": 82,
   "metadata": {},
   "outputs": [
    {
     "data": {
      "text/plain": [
       "<AxesSubplot:>"
      ]
     },
     "execution_count": 82,
     "metadata": {},
     "output_type": "execute_result"
    },
    {
     "data": {
      "image/png": "[encoded data removed]",
      "text/plain": [
       "<Figure size 432x288 with 1 Axes>"
      ]
     },
     "metadata": {
      "needs_background": "light"
     },
     "output_type": "display_data"
    }
   ],
   "source": [
    "df_imdb.duration.plot(kind='box')"
   ]
  },
  {
   "cell_type": "code",
   "execution_count": 83,
   "metadata": {},
   "outputs": [
    {
     "data": {
      "text/html": [
       "<div>\n",
       "<style scoped>\n",
       "    .dataframe tbody tr th:only-of-type {\n",
       "        vertical-align: middle;\n",
       "    }\n",
       "\n",
       "    .dataframe tbody tr th {\n",
       "        vertical-align: top;\n",
       "    }\n",
       "\n",
       "    .dataframe thead th {\n",
       "        text-align: right;\n",
       "    }\n",
       "</style>\n",
       "<table border=\"1\" class=\"dataframe\">\n",
       "  <thead>\n",
       "    <tr style=\"text-align: right;\">\n",
       "      <th></th>\n",
       "      <th>color</th>\n",
       "      <th>director_name</th>\n",
       "      <th>duration</th>\n",
       "      <th>gross</th>\n",
       "      <th>genres</th>\n",
       "      <th>movie_title</th>\n",
       "      <th>title_year</th>\n",
       "      <th>language</th>\n",
       "      <th>country</th>\n",
       "      <th>budget</th>\n",
       "      <th>imdb_score</th>\n",
       "      <th>actors</th>\n",
       "      <th>movie_facebook_likes</th>\n",
       "      <th>movie_twitter_likes</th>\n",
       "    </tr>\n",
       "  </thead>\n",
       "  <tbody>\n",
       "    <tr>\n",
       "      <th>0</th>\n",
       "      <td>Color</td>\n",
       "      <td>Martin Scorsese</td>\n",
       "      <td>240</td>\n",
       "      <td>116866727.0</td>\n",
       "      <td>Biography|Comedy|Crime|Drama</td>\n",
       "      <td>the wolf of wall street</td>\n",
       "      <td>2013</td>\n",
       "      <td>English</td>\n",
       "      <td>USA</td>\n",
       "      <td>100000000.0</td>\n",
       "      <td>8.2</td>\n",
       "      <td>Leonardo DiCaprio,Matthew McConaughey,Jon Favreau</td>\n",
       "      <td>138000</td>\n",
       "      <td>1000</td>\n",
       "    </tr>\n",
       "    <tr>\n",
       "      <th>1</th>\n",
       "      <td>Color</td>\n",
       "      <td>Shane Black</td>\n",
       "      <td>195</td>\n",
       "      <td>408992272.0</td>\n",
       "      <td>Action|Adventure|Sci-Fi</td>\n",
       "      <td>iron man 3</td>\n",
       "      <td>2013</td>\n",
       "      <td>English</td>\n",
       "      <td>USA</td>\n",
       "      <td>200000000.0</td>\n",
       "      <td>7.2</td>\n",
       "      <td>Robert Downey Jr.,Jon Favreau,Don Cheadle</td>\n",
       "      <td>95000</td>\n",
       "      <td>1000</td>\n",
       "    </tr>\n",
       "    <tr>\n",
       "      <th>2</th>\n",
       "      <td>color</td>\n",
       "      <td>Quentin Tarantino</td>\n",
       "      <td>187</td>\n",
       "      <td>54116191.0</td>\n",
       "      <td>Crime|Drama|Mystery|Thriller|Western</td>\n",
       "      <td>the hateful eight</td>\n",
       "      <td>2015</td>\n",
       "      <td>English</td>\n",
       "      <td>USA</td>\n",
       "      <td>44000000.0</td>\n",
       "      <td>7.9</td>\n",
       "      <td>Craig Stark,Jennifer Jason Leigh,Zoë Bell</td>\n",
       "      <td>114000</td>\n",
       "      <td>1000</td>\n",
       "    </tr>\n",
       "    <tr>\n",
       "      <th>3</th>\n",
       "      <td>Color</td>\n",
       "      <td>Kenneth Lonergan</td>\n",
       "      <td>186</td>\n",
       "      <td>46495.0</td>\n",
       "      <td>Drama</td>\n",
       "      <td>margaret</td>\n",
       "      <td>2011</td>\n",
       "      <td>English</td>\n",
       "      <td>usa</td>\n",
       "      <td>14000000.0</td>\n",
       "      <td>6.5</td>\n",
       "      <td>Matt Damon,Kieran Culkin,John Gallagher Jr.</td>\n",
       "      <td>0</td>\n",
       "      <td>1000</td>\n",
       "    </tr>\n",
       "    <tr>\n",
       "      <th>4</th>\n",
       "      <td>Color</td>\n",
       "      <td>Peter Jackson</td>\n",
       "      <td>186</td>\n",
       "      <td>258355354.0</td>\n",
       "      <td>Adventure|Fantasy</td>\n",
       "      <td>the hobbit: the desolation of smaug</td>\n",
       "      <td>2013</td>\n",
       "      <td>English</td>\n",
       "      <td>USA</td>\n",
       "      <td>225000000.0</td>\n",
       "      <td>7.9</td>\n",
       "      <td>Aidan Turner,Adam Brown,James Nesbitt</td>\n",
       "      <td>83000</td>\n",
       "      <td>1000</td>\n",
       "    </tr>\n",
       "    <tr>\n",
       "      <th>...</th>\n",
       "      <td>...</td>\n",
       "      <td>...</td>\n",
       "      <td>...</td>\n",
       "      <td>...</td>\n",
       "      <td>...</td>\n",
       "      <td>...</td>\n",
       "      <td>...</td>\n",
       "      <td>...</td>\n",
       "      <td>...</td>\n",
       "      <td>...</td>\n",
       "      <td>...</td>\n",
       "      <td>...</td>\n",
       "      <td>...</td>\n",
       "      <td>...</td>\n",
       "    </tr>\n",
       "    <tr>\n",
       "      <th>93</th>\n",
       "      <td>Color</td>\n",
       "      <td>Tony Gilroy</td>\n",
       "      <td>135</td>\n",
       "      <td>113165635.0</td>\n",
       "      <td>Action|Adventure|Thriller</td>\n",
       "      <td>the bourne legacy</td>\n",
       "      <td>2012</td>\n",
       "      <td>English</td>\n",
       "      <td>USA</td>\n",
       "      <td>125000000.0</td>\n",
       "      <td>6.7</td>\n",
       "      <td>Jeremy Renner,Scott Glenn,Stacy Keach</td>\n",
       "      <td>31000</td>\n",
       "      <td>1000</td>\n",
       "    </tr>\n",
       "    <tr>\n",
       "      <th>94</th>\n",
       "      <td>Color</td>\n",
       "      <td>Steve McQueen</td>\n",
       "      <td>134</td>\n",
       "      <td>56667870.0</td>\n",
       "      <td>Biography|Drama|History</td>\n",
       "      <td>12 years a slave</td>\n",
       "      <td>2013</td>\n",
       "      <td>English</td>\n",
       "      <td>USA</td>\n",
       "      <td>20000000.0</td>\n",
       "      <td>8.1</td>\n",
       "      <td>Quvenzhané Wallis,Scoot McNairy,Taran Killam</td>\n",
       "      <td>83000</td>\n",
       "      <td>1000</td>\n",
       "    </tr>\n",
       "    <tr>\n",
       "      <th>95</th>\n",
       "      <td>Color</td>\n",
       "      <td>Richard J. Lewis</td>\n",
       "      <td>134</td>\n",
       "      <td>7501404.0</td>\n",
       "      <td>Comedy|Drama</td>\n",
       "      <td>barney's version</td>\n",
       "      <td>2010</td>\n",
       "      <td>English</td>\n",
       "      <td>Canada</td>\n",
       "      <td>NaN</td>\n",
       "      <td>7.3</td>\n",
       "      <td>Mark Addy,Atom Egoyan,Paul Gross</td>\n",
       "      <td>0</td>\n",
       "      <td>1000</td>\n",
       "    </tr>\n",
       "    <tr>\n",
       "      <th>96</th>\n",
       "      <td>Color</td>\n",
       "      <td>Paul Greengrass</td>\n",
       "      <td>134</td>\n",
       "      <td>107100855.0</td>\n",
       "      <td>Biography|Drama|Thriller</td>\n",
       "      <td>captain phillips</td>\n",
       "      <td>2013</td>\n",
       "      <td>English</td>\n",
       "      <td>USA</td>\n",
       "      <td>55000000.0</td>\n",
       "      <td>7.9</td>\n",
       "      <td>Tom Hanks,Chris Mulkey,Michael Chernus</td>\n",
       "      <td>65000</td>\n",
       "      <td>1000</td>\n",
       "    </tr>\n",
       "    <tr>\n",
       "      <th>97</th>\n",
       "      <td>Color</td>\n",
       "      <td>David Ayer</td>\n",
       "      <td>134</td>\n",
       "      <td>85707116.0</td>\n",
       "      <td>Action|Drama|War</td>\n",
       "      <td>fury</td>\n",
       "      <td>2014</td>\n",
       "      <td>English</td>\n",
       "      <td>USA</td>\n",
       "      <td>68000000.0</td>\n",
       "      <td>7.6</td>\n",
       "      <td>Brad Pitt,Logan Lerman,Jim Parrack</td>\n",
       "      <td>82000</td>\n",
       "      <td>1000</td>\n",
       "    </tr>\n",
       "  </tbody>\n",
       "</table>\n",
       "<p>90 rows × 14 columns</p>\n",
       "</div>"
      ],
      "text/plain": [
       "     color      director_name  duration        gross  \\\n",
       "0    Color    Martin Scorsese       240  116866727.0   \n",
       "1    Color        Shane Black       195  408992272.0   \n",
       "2   color   Quentin Tarantino       187   54116191.0   \n",
       "3    Color   Kenneth Lonergan       186      46495.0   \n",
       "4    Color      Peter Jackson       186  258355354.0   \n",
       "..     ...                ...       ...          ...   \n",
       "93   Color        Tony Gilroy       135  113165635.0   \n",
       "94   Color      Steve McQueen       134   56667870.0   \n",
       "95   Color   Richard J. Lewis       134    7501404.0   \n",
       "96   Color    Paul Greengrass       134  107100855.0   \n",
       "97   Color         David Ayer       134   85707116.0   \n",
       "\n",
       "                                  genres                          movie_title  \\\n",
       "0           Biography|Comedy|Crime|Drama              the wolf of wall street   \n",
       "1                Action|Adventure|Sci-Fi                           iron man 3   \n",
       "2   Crime|Drama|Mystery|Thriller|Western                    the hateful eight   \n",
       "3                                  Drama                             margaret   \n",
       "4                      Adventure|Fantasy  the hobbit: the desolation of smaug   \n",
       "..                                   ...                                  ...   \n",
       "93             Action|Adventure|Thriller                    the bourne legacy   \n",
       "94               Biography|Drama|History                     12 years a slave   \n",
       "95                          Comedy|Drama                     barney's version   \n",
       "96              Biography|Drama|Thriller                     captain phillips   \n",
       "97                      Action|Drama|War                                 fury   \n",
       "\n",
       "    title_year language country       budget  imdb_score  \\\n",
       "0         2013  English     USA  100000000.0         8.2   \n",
       "1         2013  English     USA  200000000.0         7.2   \n",
       "2         2015  English     USA   44000000.0         7.9   \n",
       "3         2011  English     usa   14000000.0         6.5   \n",
       "4         2013  English     USA  225000000.0         7.9   \n",
       "..         ...      ...     ...          ...         ...   \n",
       "93        2012  English     USA  125000000.0         6.7   \n",
       "94        2013  English     USA   20000000.0         8.1   \n",
       "95        2010  English  Canada          NaN         7.3   \n",
       "96        2013  English     USA   55000000.0         7.9   \n",
       "97        2014  English     USA   68000000.0         7.6   \n",
       "\n",
       "                                               actors  movie_facebook_likes  \\\n",
       "0   Leonardo DiCaprio,Matthew McConaughey,Jon Favreau                138000   \n",
       "1           Robert Downey Jr.,Jon Favreau,Don Cheadle                 95000   \n",
       "2           Craig Stark,Jennifer Jason Leigh,Zoë Bell                114000   \n",
       "3         Matt Damon,Kieran Culkin,John Gallagher Jr.                     0   \n",
       "4               Aidan Turner,Adam Brown,James Nesbitt                 83000   \n",
       "..                                                ...                   ...   \n",
       "93              Jeremy Renner,Scott Glenn,Stacy Keach                 31000   \n",
       "94       Quvenzhané Wallis,Scoot McNairy,Taran Killam                 83000   \n",
       "95                   Mark Addy,Atom Egoyan,Paul Gross                     0   \n",
       "96             Tom Hanks,Chris Mulkey,Michael Chernus                 65000   \n",
       "97                 Brad Pitt,Logan Lerman,Jim Parrack                 82000   \n",
       "\n",
       "    movie_twitter_likes  \n",
       "0                  1000  \n",
       "1                  1000  \n",
       "2                  1000  \n",
       "3                  1000  \n",
       "4                  1000  \n",
       "..                  ...  \n",
       "93                 1000  \n",
       "94                 1000  \n",
       "95                 1000  \n",
       "96                 1000  \n",
       "97                 1000  \n",
       "\n",
       "[90 rows x 14 columns]"
      ]
     },
     "execution_count": 83,
     "metadata": {},
     "output_type": "execute_result"
    }
   ],
   "source": [
    "df_imdb[(df_imdb['duration']>6)&(df_imdb['duration']<300)]"
   ]
  },
  {
   "cell_type": "code",
   "execution_count": 84,
   "metadata": {},
   "outputs": [
    {
     "data": {
      "text/plain": [
       "unbroken                   2\n",
       "les misérables             2\n",
       "ben-hur                    2\n",
       "the wolf of wall street    1\n",
       "get on up                  1\n",
       "                          ..\n",
       "lincoln                    1\n",
       "exodus: gods and kings     1\n",
       "the martian                1\n",
       "the amazing spider-man     1\n",
       "jersey boys                1\n",
       "Name: movie_title, Length: 91, dtype: int64"
      ]
     },
     "execution_count": 84,
     "metadata": {},
     "output_type": "execute_result"
    }
   ],
   "source": [
    "df_imdb.movie_title.value_counts(dropna=False)"
   ]
  },
  {
   "cell_type": "code",
   "execution_count": 85,
   "metadata": {},
   "outputs": [
    {
     "data": {
      "text/plain": [
       "False"
      ]
     },
     "execution_count": 85,
     "metadata": {},
     "output_type": "execute_result"
    }
   ],
   "source": [
    "df_imdb.movie_title.isna().any()"
   ]
  },
  {
   "cell_type": "code",
   "execution_count": 86,
   "metadata": {},
   "outputs": [
    {
     "data": {
      "text/html": [
       "<div>\n",
       "<style scoped>\n",
       "    .dataframe tbody tr th:only-of-type {\n",
       "        vertical-align: middle;\n",
       "    }\n",
       "\n",
       "    .dataframe tbody tr th {\n",
       "        vertical-align: top;\n",
       "    }\n",
       "\n",
       "    .dataframe thead th {\n",
       "        text-align: right;\n",
       "    }\n",
       "</style>\n",
       "<table border=\"1\" class=\"dataframe\">\n",
       "  <thead>\n",
       "    <tr style=\"text-align: right;\">\n",
       "      <th></th>\n",
       "      <th>color</th>\n",
       "      <th>director_name</th>\n",
       "      <th>duration</th>\n",
       "      <th>gross</th>\n",
       "      <th>genres</th>\n",
       "      <th>movie_title</th>\n",
       "      <th>title_year</th>\n",
       "      <th>language</th>\n",
       "      <th>country</th>\n",
       "      <th>budget</th>\n",
       "      <th>imdb_score</th>\n",
       "      <th>actors</th>\n",
       "      <th>movie_facebook_likes</th>\n",
       "      <th>movie_twitter_likes</th>\n",
       "    </tr>\n",
       "  </thead>\n",
       "  <tbody>\n",
       "    <tr>\n",
       "      <th>77</th>\n",
       "      <td>Color</td>\n",
       "      <td>Darren Aronofsky</td>\n",
       "      <td>138</td>\n",
       "      <td>101160529.0</td>\n",
       "      <td>Action|Adventure|Drama</td>\n",
       "      <td>noah</td>\n",
       "      <td>2014</td>\n",
       "      <td>English</td>\n",
       "      <td>USA</td>\n",
       "      <td>125000000.0</td>\n",
       "      <td>5.8</td>\n",
       "      <td>Anthony Hopkins,Emma Watson,Logan Lerman</td>\n",
       "      <td>71000</td>\n",
       "      <td>1000</td>\n",
       "    </tr>\n",
       "    <tr>\n",
       "      <th>97</th>\n",
       "      <td>Color</td>\n",
       "      <td>David Ayer</td>\n",
       "      <td>134</td>\n",
       "      <td>85707116.0</td>\n",
       "      <td>Action|Drama|War</td>\n",
       "      <td>fury</td>\n",
       "      <td>2014</td>\n",
       "      <td>English</td>\n",
       "      <td>USA</td>\n",
       "      <td>68000000.0</td>\n",
       "      <td>7.6</td>\n",
       "      <td>Brad Pitt,Logan Lerman,Jim Parrack</td>\n",
       "      <td>82000</td>\n",
       "      <td>1000</td>\n",
       "    </tr>\n",
       "  </tbody>\n",
       "</table>\n",
       "</div>"
      ],
      "text/plain": [
       "    color     director_name  duration        gross                  genres  \\\n",
       "77  Color  Darren Aronofsky       138  101160529.0  Action|Adventure|Drama   \n",
       "97  Color        David Ayer       134   85707116.0        Action|Drama|War   \n",
       "\n",
       "   movie_title  title_year language country       budget  imdb_score  \\\n",
       "77        noah        2014  English     USA  125000000.0         5.8   \n",
       "97        fury        2014  English     USA   68000000.0         7.6   \n",
       "\n",
       "                                      actors  movie_facebook_likes  \\\n",
       "77  Anthony Hopkins,Emma Watson,Logan Lerman                 71000   \n",
       "97        Brad Pitt,Logan Lerman,Jim Parrack                 82000   \n",
       "\n",
       "    movie_twitter_likes  \n",
       "77                 1000  \n",
       "97                 1000  "
      ]
     },
     "execution_count": 86,
     "metadata": {},
     "output_type": "execute_result"
    }
   ],
   "source": [
    "df_imdb[df_imdb.movie_title.str.len() < 5]"
   ]
  },
  {
   "cell_type": "code",
   "execution_count": 87,
   "metadata": {},
   "outputs": [
    {
     "data": {
      "text/plain": [
       " 2014    22\n",
       " 2012    19\n",
       " 2013    17\n",
       " 2011    10\n",
       " 2015     8\n",
       " 2010     7\n",
       " 2016     6\n",
       " 202      1\n",
       "-1000     1\n",
       " 2030     1\n",
       " 1800     1\n",
       " 205      1\n",
       "Name: title_year, dtype: int64"
      ]
     },
     "execution_count": 87,
     "metadata": {},
     "output_type": "execute_result"
    }
   ],
   "source": [
    "df_imdb.title_year.value_counts(dropna=False)"
   ]
  },
  {
   "cell_type": "code",
   "execution_count": 94,
   "metadata": {},
   "outputs": [
    {
     "data": {
      "text/html": [
       "<div>\n",
       "<style scoped>\n",
       "    .dataframe tbody tr th:only-of-type {\n",
       "        vertical-align: middle;\n",
       "    }\n",
       "\n",
       "    .dataframe tbody tr th {\n",
       "        vertical-align: top;\n",
       "    }\n",
       "\n",
       "    .dataframe thead th {\n",
       "        text-align: right;\n",
       "    }\n",
       "</style>\n",
       "<table border=\"1\" class=\"dataframe\">\n",
       "  <thead>\n",
       "    <tr style=\"text-align: right;\">\n",
       "      <th></th>\n",
       "      <th>color</th>\n",
       "      <th>director_name</th>\n",
       "      <th>duration</th>\n",
       "      <th>gross</th>\n",
       "      <th>genres</th>\n",
       "      <th>movie_title</th>\n",
       "      <th>title_year</th>\n",
       "      <th>language</th>\n",
       "      <th>country</th>\n",
       "      <th>budget</th>\n",
       "      <th>imdb_score</th>\n",
       "      <th>actors</th>\n",
       "      <th>movie_facebook_likes</th>\n",
       "      <th>movie_twitter_likes</th>\n",
       "    </tr>\n",
       "  </thead>\n",
       "  <tbody>\n",
       "    <tr>\n",
       "      <th>71</th>\n",
       "      <td>Color</td>\n",
       "      <td>NaN</td>\n",
       "      <td>139</td>\n",
       "      <td>150832203.0</td>\n",
       "      <td>Adventure|Mystery|Sci-Fi</td>\n",
       "      <td>divergent</td>\n",
       "      <td>2000</td>\n",
       "      <td>English</td>\n",
       "      <td>USA</td>\n",
       "      <td>85000000.0</td>\n",
       "      <td>6.7</td>\n",
       "      <td>Kate Winslet,Theo James,Mekhi Phifer</td>\n",
       "      <td>49000</td>\n",
       "      <td>1000</td>\n",
       "    </tr>\n",
       "  </tbody>\n",
       "</table>\n",
       "</div>"
      ],
      "text/plain": [
       "    color director_name  duration        gross                    genres  \\\n",
       "71  Color           NaN       139  150832203.0  Adventure|Mystery|Sci-Fi   \n",
       "\n",
       "   movie_title  title_year language country      budget  imdb_score  \\\n",
       "71   divergent        2000  English     USA  85000000.0         6.7   \n",
       "\n",
       "                                  actors  movie_facebook_likes  \\\n",
       "71  Kate Winslet,Theo James,Mekhi Phifer                 49000   \n",
       "\n",
       "    movie_twitter_likes  \n",
       "71                 1000  "
      ]
     },
     "execution_count": 94,
     "metadata": {},
     "output_type": "execute_result"
    }
   ],
   "source": [
    "test2 = df_imdb.copy()\n",
    "test2.loc[df_imdb.title_year==1800, 'title_year'] = 2000\n",
    "test2[test2.title_year==2000]"
   ]
  },
  {
   "cell_type": "code",
   "execution_count": 95,
   "metadata": {},
   "outputs": [
    {
     "data": {
      "text/plain": [
       "1000    94\n",
       "Name: movie_twitter_likes, dtype: int64"
      ]
     },
     "execution_count": 95,
     "metadata": {},
     "output_type": "execute_result"
    }
   ],
   "source": [
    "df_imdb.movie_twitter_likes.value_counts(dropna=False)"
   ]
  },
  {
   "cell_type": "code",
   "execution_count": 96,
   "metadata": {},
   "outputs": [
    {
     "data": {
      "text/plain": [
       "<AxesSubplot:>"
      ]
     },
     "execution_count": 96,
     "metadata": {},
     "output_type": "execute_result"
    },
    {
     "data": {
      "image/png": "[encoded data removed]",
      "text/plain": [
       "<Figure size 432x288 with 1 Axes>"
      ]
     },
     "metadata": {
      "needs_background": "light"
     },
     "output_type": "display_data"
    }
   ],
   "source": [
    "df_imdb.movie_twitter_likes.hist()"
   ]
  },
  {
   "cell_type": "code",
   "execution_count": 97,
   "metadata": {},
   "outputs": [
    {
     "data": {
      "text/plain": [
       "count      94.0\n",
       "mean     1000.0\n",
       "std         0.0\n",
       "min      1000.0\n",
       "25%      1000.0\n",
       "50%      1000.0\n",
       "75%      1000.0\n",
       "max      1000.0\n",
       "Name: movie_twitter_likes, dtype: float64"
      ]
     },
     "execution_count": 97,
     "metadata": {},
     "output_type": "execute_result"
    }
   ],
   "source": [
    "df_imdb.movie_twitter_likes.describe()"
   ]
  },
  {
   "cell_type": "code",
   "execution_count": 98,
   "metadata": {},
   "outputs": [],
   "source": [
    "df_imdb.drop(\"movie_twitter_likes\", axis=1, inplace=True)"
   ]
  },
  {
   "cell_type": "code",
   "execution_count": 99,
   "metadata": {},
   "outputs": [
    {
     "data": {
      "text/plain": [
       "count    94.000000\n",
       "mean      6.882979\n",
       "std       1.966474\n",
       "min      -7.500000\n",
       "25%       6.600000\n",
       "50%       7.200000\n",
       "75%       7.875000\n",
       "max       8.800000\n",
       "Name: imdb_score, dtype: float64"
      ]
     },
     "execution_count": 99,
     "metadata": {},
     "output_type": "execute_result"
    }
   ],
   "source": [
    "df_imdb.imdb_score.describe()"
   ]
  },
  {
   "cell_type": "code",
   "execution_count": 100,
   "metadata": {},
   "outputs": [
    {
     "data": {
      "text/plain": [
       "<AxesSubplot:>"
      ]
     },
     "execution_count": 100,
     "metadata": {},
     "output_type": "execute_result"
    },
    {
     "data": {
      "image/png": "[encoded data removed]",
      "text/plain": [
       "<Figure size 432x288 with 1 Axes>"
      ]
     },
     "metadata": {
      "needs_background": "light"
     },
     "output_type": "display_data"
    }
   ],
   "source": [
    "df_imdb.imdb_score.hist()"
   ]
  },
  {
   "cell_type": "code",
   "execution_count": 101,
   "metadata": {},
   "outputs": [
    {
     "data": {
      "text/plain": [
       "<AxesSubplot:>"
      ]
     },
     "execution_count": 101,
     "metadata": {},
     "output_type": "execute_result"
    },
    {
     "data": {
      "image/png": "[encoded data removed]",
      "text/plain": [
       "<Figure size 432x288 with 1 Axes>"
      ]
     },
     "metadata": {
      "needs_background": "light"
     },
     "output_type": "display_data"
    }
   ],
   "source": [
    "df_imdb.imdb_score.plot(kind='box')"
   ]
  },
  {
   "cell_type": "code",
   "execution_count": 102,
   "metadata": {},
   "outputs": [
    {
     "data": {
      "text/plain": [
       "USA               75\n",
       "UK                 6\n",
       "usa                3\n",
       "France             2\n",
       "Germany            1\n",
       "New Zealand        1\n",
       "India              1\n",
       "United States      1\n",
       "Australia          1\n",
       "Czech Republic     1\n",
       "Kyrgyzstan         1\n",
       "Canada             1\n",
       "Name: country, dtype: int64"
      ]
     },
     "execution_count": 102,
     "metadata": {},
     "output_type": "execute_result"
    }
   ],
   "source": [
    "df_imdb.country.value_counts(dropna=False)"
   ]
  },
  {
   "cell_type": "code",
   "execution_count": 104,
   "metadata": {},
   "outputs": [],
   "source": [
    "df_imdb.loc[df_imdb.country.str.lower()=='usa', \"country\"]='United States'"
   ]
  },
  {
   "cell_type": "code",
   "execution_count": 105,
   "metadata": {},
   "outputs": [],
   "source": [
    "df_imdb.loc[df_imdb.country == \"UK\", \"country\"] = 'United Kingdom'"
   ]
  },
  {
   "cell_type": "code",
   "execution_count": 106,
   "metadata": {},
   "outputs": [
    {
     "data": {
      "text/plain": [
       "United States     79\n",
       "United Kingdom     6\n",
       "France             2\n",
       "Germany            1\n",
       "New Zealand        1\n",
       "India              1\n",
       "Australia          1\n",
       "Czech Republic     1\n",
       "Kyrgyzstan         1\n",
       "Canada             1\n",
       "Name: country, dtype: int64"
      ]
     },
     "execution_count": 106,
     "metadata": {},
     "output_type": "execute_result"
    }
   ],
   "source": [
    "df_imdb.country.value_counts(dropna=False)"
   ]
  },
  {
   "cell_type": "code",
   "execution_count": 107,
   "metadata": {},
   "outputs": [
    {
     "data": {
      "text/plain": [
       "English    94\n",
       "Name: language, dtype: int64"
      ]
     },
     "execution_count": 107,
     "metadata": {},
     "output_type": "execute_result"
    }
   ],
   "source": [
    "df_imdb.language.value_counts(dropna=False)\n",
    "# drop the column"
   ]
  },
  {
   "cell_type": "code",
   "execution_count": 108,
   "metadata": {},
   "outputs": [
    {
     "data": {
      "text/plain": [
       "count        94.000000\n",
       "mean      65633.244681\n",
       "std       58702.022178\n",
       "min           0.000000\n",
       "25%       24500.000000\n",
       "50%       54000.000000\n",
       "75%       84500.000000\n",
       "max      349000.000000\n",
       "Name: movie_facebook_likes, dtype: float64"
      ]
     },
     "execution_count": 108,
     "metadata": {},
     "output_type": "execute_result"
    }
   ],
   "source": [
    "df_imdb.movie_facebook_likes.describe()"
   ]
  },
  {
   "cell_type": "code",
   "execution_count": 109,
   "metadata": {},
   "outputs": [
    {
     "data": {
      "text/plain": [
       "<AxesSubplot:>"
      ]
     },
     "execution_count": 109,
     "metadata": {},
     "output_type": "execute_result"
    },
    {
     "data": {
      "image/png": "[encoded data removed]",
      "text/plain": [
       "<Figure size 432x288 with 1 Axes>"
      ]
     },
     "metadata": {
      "needs_background": "light"
     },
     "output_type": "display_data"
    }
   ],
   "source": [
    "df_imdb.movie_facebook_likes.hist()"
   ]
  },
  {
   "cell_type": "code",
   "execution_count": 110,
   "metadata": {},
   "outputs": [
    {
     "data": {
      "text/plain": [
       "<AxesSubplot:>"
      ]
     },
     "execution_count": 110,
     "metadata": {},
     "output_type": "execute_result"
    },
    {
     "data": {
      "image/png": "[encoded data removed]",
      "text/plain": [
       "<Figure size 432x288 with 1 Axes>"
      ]
     },
     "metadata": {
      "needs_background": "light"
     },
     "output_type": "display_data"
    }
   ],
   "source": [
    "df_imdb.movie_facebook_likes.plot(kind='box')"
   ]
  },
  {
   "cell_type": "code",
   "execution_count": 111,
   "metadata": {},
   "outputs": [
    {
     "data": {
      "text/plain": [
       "False"
      ]
     },
     "execution_count": 111,
     "metadata": {},
     "output_type": "execute_result"
    }
   ],
   "source": [
    "df_imdb.movie_facebook_likes.isna().any()"
   ]
  },
  {
   "cell_type": "code",
   "execution_count": 112,
   "metadata": {},
   "outputs": [
    {
     "data": {
      "text/plain": [
       "Aidan Turner,Adam Brown,James Nesbitt                   3\n",
       "Chris Hemsworth,Robert Downey Jr.,Scarlett Johansson    2\n",
       "Morgan Freeman,Ayelet Zurer,Moises Arias                2\n",
       "Hugh Jackman,Eddie Redmayne,Anne Hathaway               2\n",
       "Finn Wittrock,Jack O'Connell,Alex Russell               2\n",
       "                                                       ..\n",
       "Patrick Fugit,Sela Ward,Emily Ratajkowski               1\n",
       "Johnny Depp,Ruth Wilson,Tom Wilkinson                   1\n",
       "Lesley Manville,Ruth Sheen,Karl Johnson                 1\n",
       "Joseph Gordon-Levitt,Hal Holbrook,Bruce McGill          1\n",
       "Johnny Cannizzaro,Steve Schirripa,Scott Vance           1\n",
       "Name: actors, Length: 88, dtype: int64"
      ]
     },
     "execution_count": 112,
     "metadata": {},
     "output_type": "execute_result"
    }
   ],
   "source": [
    "df_imdb.actors.value_counts(dropna=False)"
   ]
  },
  {
   "cell_type": "code",
   "execution_count": 113,
   "metadata": {},
   "outputs": [
    {
     "data": {
      "text/plain": [
       "False"
      ]
     },
     "execution_count": 113,
     "metadata": {},
     "output_type": "execute_result"
    }
   ],
   "source": [
    "df_imdb.actors.isna().any()"
   ]
  },
  {
   "cell_type": "code",
   "execution_count": 114,
   "metadata": {},
   "outputs": [
    {
     "data": {
      "text/plain": [
       "Leonardo DiCaprio      7\n",
       "Jennifer Lawrence      6\n",
       "Robert Downey Jr.      5\n",
       "Tom Hardy              5\n",
       "Hugh Jackman           5\n",
       "                      ..\n",
       "Grey Griffin           1\n",
       "Martin Dew             1\n",
       "Katherine Waterston    1\n",
       "Serena Scott Thomas    1\n",
       "Scott Vance            1\n",
       "Name: actors, Length: 209, dtype: int64"
      ]
     },
     "execution_count": 114,
     "metadata": {},
     "output_type": "execute_result"
    }
   ],
   "source": [
    "df_imdb.actors.str.split(',').explode().value_counts()"
   ]
  },
  {
   "cell_type": "code",
   "execution_count": 115,
   "metadata": {},
   "outputs": [],
   "source": [
    "df_imdb.to_csv(\"03_imdb.csv\")"
   ]
  },
  {
   "cell_type": "code",
   "execution_count": null,
   "metadata": {},
   "outputs": [],
   "source": []
  }
 ],
 "metadata": {
  "interpreter": {
   "hash": "aee8b7b246df8f9039afb4144a1f6fd8d2ca17a180786b69acc140d282b71a49"
  },
  "kernelspec": {
   "display_name": "Python 3.9.5 64-bit",
   "name": "python3"
  },
  "language_info": {
   "codemirror_mode": {
    "name": "ipython",
    "version": 3
   },
   "file_extension": ".py",
   "mimetype": "text/x-python",
   "name": "python",
   "nbconvert_exporter": "python",
   "pygments_lexer": "ipython3",
   "version": "3.9.5"
  },
  "orig_nbformat": 4
 },
 "nbformat": 4,
 "nbformat_minor": 2
}
