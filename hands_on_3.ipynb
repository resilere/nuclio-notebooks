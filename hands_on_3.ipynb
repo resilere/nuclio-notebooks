{
 "cells": [
  {
   "cell_type": "code",
   "execution_count": 263,
   "metadata": {},
   "outputs": [],
   "source": [
    "import pandas as pd\n",
    "import numpy as np"
   ]
  },
  {
   "cell_type": "code",
   "execution_count": 264,
   "metadata": {},
   "outputs": [],
   "source": [
    "df_imdb = pd.read_csv(\"03_imdb.csv\",index_col=0)"
   ]
  },
  {
   "cell_type": "code",
   "execution_count": 265,
   "metadata": {},
   "outputs": [
    {
     "data": {
      "text/plain": [
       "Index(['color', 'director_name', 'duration', 'gross', 'genres', 'movie_title',\n",
       "       'title_year', 'language', 'country', 'budget', 'imdb_score', 'actors',\n",
       "       'movie_facebook_likes'],\n",
       "      dtype='object')"
      ]
     },
     "execution_count": 265,
     "metadata": {},
     "output_type": "execute_result"
    }
   ],
   "source": [
    "df_imdb.columns"
   ]
  },
  {
   "cell_type": "code",
   "execution_count": 266,
   "metadata": {},
   "outputs": [
    {
     "data": {
      "text/plain": [
       "(94, 13)"
      ]
     },
     "execution_count": 266,
     "metadata": {},
     "output_type": "execute_result"
    }
   ],
   "source": [
    "df_imdb.shape"
   ]
  },
  {
   "cell_type": "code",
   "execution_count": 267,
   "metadata": {},
   "outputs": [
    {
     "data": {
      "text/html": [
       "<div>\n",
       "<style scoped>\n",
       "    .dataframe tbody tr th:only-of-type {\n",
       "        vertical-align: middle;\n",
       "    }\n",
       "\n",
       "    .dataframe tbody tr th {\n",
       "        vertical-align: top;\n",
       "    }\n",
       "\n",
       "    .dataframe thead th {\n",
       "        text-align: right;\n",
       "    }\n",
       "</style>\n",
       "<table border=\"1\" class=\"dataframe\">\n",
       "  <thead>\n",
       "    <tr style=\"text-align: right;\">\n",
       "      <th></th>\n",
       "      <th>color</th>\n",
       "      <th>director_name</th>\n",
       "      <th>duration</th>\n",
       "      <th>gross</th>\n",
       "      <th>genres</th>\n",
       "      <th>movie_title</th>\n",
       "      <th>title_year</th>\n",
       "      <th>language</th>\n",
       "      <th>country</th>\n",
       "      <th>budget</th>\n",
       "      <th>imdb_score</th>\n",
       "      <th>actors</th>\n",
       "      <th>movie_facebook_likes</th>\n",
       "    </tr>\n",
       "  </thead>\n",
       "  <tbody>\n",
       "    <tr>\n",
       "      <th>0</th>\n",
       "      <td>Color</td>\n",
       "      <td>Martin Scorsese</td>\n",
       "      <td>240</td>\n",
       "      <td>116866727.0</td>\n",
       "      <td>Biography|Comedy|Crime|Drama</td>\n",
       "      <td>the wolf of wall street</td>\n",
       "      <td>2013</td>\n",
       "      <td>English</td>\n",
       "      <td>United States</td>\n",
       "      <td>100000000.0</td>\n",
       "      <td>8.2</td>\n",
       "      <td>Leonardo DiCaprio,Matthew McConaughey,Jon Favreau</td>\n",
       "      <td>138000</td>\n",
       "    </tr>\n",
       "    <tr>\n",
       "      <th>1</th>\n",
       "      <td>Color</td>\n",
       "      <td>Shane Black</td>\n",
       "      <td>195</td>\n",
       "      <td>408992272.0</td>\n",
       "      <td>Action|Adventure|Sci-Fi</td>\n",
       "      <td>iron man 3</td>\n",
       "      <td>2013</td>\n",
       "      <td>English</td>\n",
       "      <td>United States</td>\n",
       "      <td>200000000.0</td>\n",
       "      <td>7.2</td>\n",
       "      <td>Robert Downey Jr.,Jon Favreau,Don Cheadle</td>\n",
       "      <td>95000</td>\n",
       "    </tr>\n",
       "    <tr>\n",
       "      <th>2</th>\n",
       "      <td>color</td>\n",
       "      <td>Quentin Tarantino</td>\n",
       "      <td>187</td>\n",
       "      <td>54116191.0</td>\n",
       "      <td>Crime|Drama|Mystery|Thriller|Western</td>\n",
       "      <td>the hateful eight</td>\n",
       "      <td>2015</td>\n",
       "      <td>English</td>\n",
       "      <td>United States</td>\n",
       "      <td>44000000.0</td>\n",
       "      <td>7.9</td>\n",
       "      <td>Craig Stark,Jennifer Jason Leigh,Zoë Bell</td>\n",
       "      <td>114000</td>\n",
       "    </tr>\n",
       "    <tr>\n",
       "      <th>3</th>\n",
       "      <td>Color</td>\n",
       "      <td>Kenneth Lonergan</td>\n",
       "      <td>186</td>\n",
       "      <td>46495.0</td>\n",
       "      <td>Drama</td>\n",
       "      <td>margaret</td>\n",
       "      <td>2011</td>\n",
       "      <td>English</td>\n",
       "      <td>United States</td>\n",
       "      <td>14000000.0</td>\n",
       "      <td>6.5</td>\n",
       "      <td>Matt Damon,Kieran Culkin,John Gallagher Jr.</td>\n",
       "      <td>0</td>\n",
       "    </tr>\n",
       "    <tr>\n",
       "      <th>4</th>\n",
       "      <td>Color</td>\n",
       "      <td>Peter Jackson</td>\n",
       "      <td>186</td>\n",
       "      <td>258355354.0</td>\n",
       "      <td>Adventure|Fantasy</td>\n",
       "      <td>the hobbit: the desolation of smaug</td>\n",
       "      <td>2013</td>\n",
       "      <td>English</td>\n",
       "      <td>United States</td>\n",
       "      <td>225000000.0</td>\n",
       "      <td>7.9</td>\n",
       "      <td>Aidan Turner,Adam Brown,James Nesbitt</td>\n",
       "      <td>83000</td>\n",
       "    </tr>\n",
       "    <tr>\n",
       "      <th>5</th>\n",
       "      <td>NaN</td>\n",
       "      <td>NaN</td>\n",
       "      <td>183</td>\n",
       "      <td>330249062.0</td>\n",
       "      <td>Action|Adventure|Sci-Fi</td>\n",
       "      <td>batman v superman: dawn of justice</td>\n",
       "      <td>202</td>\n",
       "      <td>English</td>\n",
       "      <td>United States</td>\n",
       "      <td>250000000.0</td>\n",
       "      <td>6.9</td>\n",
       "      <td>Henry Cavill,Lauren Cohan,Alan D. Purwin</td>\n",
       "      <td>197000</td>\n",
       "    </tr>\n",
       "    <tr>\n",
       "      <th>6</th>\n",
       "      <td>Color</td>\n",
       "      <td>Peter Jackson</td>\n",
       "      <td>-50</td>\n",
       "      <td>303001229.0</td>\n",
       "      <td>Adventure|Fantasy</td>\n",
       "      <td>the hobbit: an unexpected journey</td>\n",
       "      <td>2012</td>\n",
       "      <td>English</td>\n",
       "      <td>United States</td>\n",
       "      <td>180000000.0</td>\n",
       "      <td>7.9</td>\n",
       "      <td>Aidan Turner,Adam Brown,James Nesbitt</td>\n",
       "      <td>166000</td>\n",
       "    </tr>\n",
       "    <tr>\n",
       "      <th>7</th>\n",
       "      <td>Color</td>\n",
       "      <td>Edward Hall</td>\n",
       "      <td>180</td>\n",
       "      <td>NaN</td>\n",
       "      <td>Drama|Romance</td>\n",
       "      <td>restless</td>\n",
       "      <td>2012</td>\n",
       "      <td>English</td>\n",
       "      <td>United Kingdom</td>\n",
       "      <td>NaN</td>\n",
       "      <td>7.2</td>\n",
       "      <td>Rufus Sewell,Hayley Atwell,Charlotte Rampling</td>\n",
       "      <td>434</td>\n",
       "    </tr>\n",
       "    <tr>\n",
       "      <th>8</th>\n",
       "      <td>Color</td>\n",
       "      <td>Joss Whedon</td>\n",
       "      <td>173</td>\n",
       "      <td>623279547.0</td>\n",
       "      <td>Action|Adventure|Sci-Fi</td>\n",
       "      <td>the avengers</td>\n",
       "      <td>2012</td>\n",
       "      <td>English</td>\n",
       "      <td>United States</td>\n",
       "      <td>220000000.0</td>\n",
       "      <td>8.1</td>\n",
       "      <td>Chris Hemsworth,Robert Downey Jr.,Scarlett Joh...</td>\n",
       "      <td>123000</td>\n",
       "    </tr>\n",
       "    <tr>\n",
       "      <th>10</th>\n",
       "      <td>NaN</td>\n",
       "      <td>Tom Tykwer</td>\n",
       "      <td>172</td>\n",
       "      <td>27098580.0</td>\n",
       "      <td>Drama|Sci-Fi</td>\n",
       "      <td>cloud atlas</td>\n",
       "      <td>2012</td>\n",
       "      <td>English</td>\n",
       "      <td>Germany</td>\n",
       "      <td>102000000.0</td>\n",
       "      <td>-7.5</td>\n",
       "      <td>Tom Hanks,Jim Sturgess,Jim Broadbent</td>\n",
       "      <td>124000</td>\n",
       "    </tr>\n",
       "  </tbody>\n",
       "</table>\n",
       "</div>"
      ],
      "text/plain": [
       "     color      director_name  duration        gross  \\\n",
       "0    Color    Martin Scorsese       240  116866727.0   \n",
       "1    Color        Shane Black       195  408992272.0   \n",
       "2   color   Quentin Tarantino       187   54116191.0   \n",
       "3    Color   Kenneth Lonergan       186      46495.0   \n",
       "4    Color      Peter Jackson       186  258355354.0   \n",
       "5      NaN                NaN       183  330249062.0   \n",
       "6    Color      Peter Jackson       -50  303001229.0   \n",
       "7    Color        Edward Hall       180          NaN   \n",
       "8    Color        Joss Whedon       173  623279547.0   \n",
       "10     NaN         Tom Tykwer       172   27098580.0   \n",
       "\n",
       "                                  genres                          movie_title  \\\n",
       "0           Biography|Comedy|Crime|Drama              the wolf of wall street   \n",
       "1                Action|Adventure|Sci-Fi                           iron man 3   \n",
       "2   Crime|Drama|Mystery|Thriller|Western                    the hateful eight   \n",
       "3                                  Drama                             margaret   \n",
       "4                      Adventure|Fantasy  the hobbit: the desolation of smaug   \n",
       "5                Action|Adventure|Sci-Fi   batman v superman: dawn of justice   \n",
       "6                      Adventure|Fantasy    the hobbit: an unexpected journey   \n",
       "7                          Drama|Romance                             restless   \n",
       "8                Action|Adventure|Sci-Fi                         the avengers   \n",
       "10                          Drama|Sci-Fi                          cloud atlas   \n",
       "\n",
       "    title_year language         country       budget  imdb_score  \\\n",
       "0         2013  English   United States  100000000.0         8.2   \n",
       "1         2013  English   United States  200000000.0         7.2   \n",
       "2         2015  English   United States   44000000.0         7.9   \n",
       "3         2011  English   United States   14000000.0         6.5   \n",
       "4         2013  English   United States  225000000.0         7.9   \n",
       "5          202  English   United States  250000000.0         6.9   \n",
       "6         2012  English   United States  180000000.0         7.9   \n",
       "7         2012  English  United Kingdom          NaN         7.2   \n",
       "8         2012  English   United States  220000000.0         8.1   \n",
       "10        2012  English         Germany  102000000.0        -7.5   \n",
       "\n",
       "                                               actors  movie_facebook_likes  \n",
       "0   Leonardo DiCaprio,Matthew McConaughey,Jon Favreau                138000  \n",
       "1           Robert Downey Jr.,Jon Favreau,Don Cheadle                 95000  \n",
       "2           Craig Stark,Jennifer Jason Leigh,Zoë Bell                114000  \n",
       "3         Matt Damon,Kieran Culkin,John Gallagher Jr.                     0  \n",
       "4               Aidan Turner,Adam Brown,James Nesbitt                 83000  \n",
       "5            Henry Cavill,Lauren Cohan,Alan D. Purwin                197000  \n",
       "6               Aidan Turner,Adam Brown,James Nesbitt                166000  \n",
       "7       Rufus Sewell,Hayley Atwell,Charlotte Rampling                   434  \n",
       "8   Chris Hemsworth,Robert Downey Jr.,Scarlett Joh...                123000  \n",
       "10               Tom Hanks,Jim Sturgess,Jim Broadbent                124000  "
      ]
     },
     "execution_count": 267,
     "metadata": {},
     "output_type": "execute_result"
    }
   ],
   "source": [
    "# reset index\n",
    "test = df_imdb\n",
    "test.head(10)"
   ]
  },
  {
   "cell_type": "code",
   "execution_count": 268,
   "metadata": {},
   "outputs": [
    {
     "data": {
      "text/html": [
       "<div>\n",
       "<style scoped>\n",
       "    .dataframe tbody tr th:only-of-type {\n",
       "        vertical-align: middle;\n",
       "    }\n",
       "\n",
       "    .dataframe tbody tr th {\n",
       "        vertical-align: top;\n",
       "    }\n",
       "\n",
       "    .dataframe thead th {\n",
       "        text-align: right;\n",
       "    }\n",
       "</style>\n",
       "<table border=\"1\" class=\"dataframe\">\n",
       "  <thead>\n",
       "    <tr style=\"text-align: right;\">\n",
       "      <th></th>\n",
       "      <th>color</th>\n",
       "      <th>director_name</th>\n",
       "      <th>duration</th>\n",
       "      <th>gross</th>\n",
       "      <th>genres</th>\n",
       "      <th>movie_title</th>\n",
       "      <th>title_year</th>\n",
       "      <th>language</th>\n",
       "      <th>country</th>\n",
       "      <th>budget</th>\n",
       "      <th>imdb_score</th>\n",
       "      <th>actors</th>\n",
       "      <th>movie_facebook_likes</th>\n",
       "    </tr>\n",
       "  </thead>\n",
       "  <tbody>\n",
       "    <tr>\n",
       "      <th>0</th>\n",
       "      <td>Color</td>\n",
       "      <td>Martin Scorsese</td>\n",
       "      <td>240</td>\n",
       "      <td>116866727.0</td>\n",
       "      <td>Biography|Comedy|Crime|Drama</td>\n",
       "      <td>the wolf of wall street</td>\n",
       "      <td>2013</td>\n",
       "      <td>English</td>\n",
       "      <td>United States</td>\n",
       "      <td>100000000.0</td>\n",
       "      <td>8.2</td>\n",
       "      <td>Leonardo DiCaprio,Matthew McConaughey,Jon Favreau</td>\n",
       "      <td>138000</td>\n",
       "    </tr>\n",
       "    <tr>\n",
       "      <th>1</th>\n",
       "      <td>Color</td>\n",
       "      <td>Shane Black</td>\n",
       "      <td>195</td>\n",
       "      <td>408992272.0</td>\n",
       "      <td>Action|Adventure|Sci-Fi</td>\n",
       "      <td>iron man 3</td>\n",
       "      <td>2013</td>\n",
       "      <td>English</td>\n",
       "      <td>United States</td>\n",
       "      <td>200000000.0</td>\n",
       "      <td>7.2</td>\n",
       "      <td>Robert Downey Jr.,Jon Favreau,Don Cheadle</td>\n",
       "      <td>95000</td>\n",
       "    </tr>\n",
       "    <tr>\n",
       "      <th>2</th>\n",
       "      <td>color</td>\n",
       "      <td>Quentin Tarantino</td>\n",
       "      <td>187</td>\n",
       "      <td>54116191.0</td>\n",
       "      <td>Crime|Drama|Mystery|Thriller|Western</td>\n",
       "      <td>the hateful eight</td>\n",
       "      <td>2015</td>\n",
       "      <td>English</td>\n",
       "      <td>United States</td>\n",
       "      <td>44000000.0</td>\n",
       "      <td>7.9</td>\n",
       "      <td>Craig Stark,Jennifer Jason Leigh,Zoë Bell</td>\n",
       "      <td>114000</td>\n",
       "    </tr>\n",
       "    <tr>\n",
       "      <th>3</th>\n",
       "      <td>Color</td>\n",
       "      <td>Kenneth Lonergan</td>\n",
       "      <td>186</td>\n",
       "      <td>46495.0</td>\n",
       "      <td>Drama</td>\n",
       "      <td>margaret</td>\n",
       "      <td>2011</td>\n",
       "      <td>English</td>\n",
       "      <td>United States</td>\n",
       "      <td>14000000.0</td>\n",
       "      <td>6.5</td>\n",
       "      <td>Matt Damon,Kieran Culkin,John Gallagher Jr.</td>\n",
       "      <td>0</td>\n",
       "    </tr>\n",
       "    <tr>\n",
       "      <th>4</th>\n",
       "      <td>Color</td>\n",
       "      <td>Peter Jackson</td>\n",
       "      <td>186</td>\n",
       "      <td>258355354.0</td>\n",
       "      <td>Adventure|Fantasy</td>\n",
       "      <td>the hobbit: the desolation of smaug</td>\n",
       "      <td>2013</td>\n",
       "      <td>English</td>\n",
       "      <td>United States</td>\n",
       "      <td>225000000.0</td>\n",
       "      <td>7.9</td>\n",
       "      <td>Aidan Turner,Adam Brown,James Nesbitt</td>\n",
       "      <td>83000</td>\n",
       "    </tr>\n",
       "    <tr>\n",
       "      <th>5</th>\n",
       "      <td>NaN</td>\n",
       "      <td>NaN</td>\n",
       "      <td>183</td>\n",
       "      <td>330249062.0</td>\n",
       "      <td>Action|Adventure|Sci-Fi</td>\n",
       "      <td>batman v superman: dawn of justice</td>\n",
       "      <td>202</td>\n",
       "      <td>English</td>\n",
       "      <td>United States</td>\n",
       "      <td>250000000.0</td>\n",
       "      <td>6.9</td>\n",
       "      <td>Henry Cavill,Lauren Cohan,Alan D. Purwin</td>\n",
       "      <td>197000</td>\n",
       "    </tr>\n",
       "    <tr>\n",
       "      <th>6</th>\n",
       "      <td>Color</td>\n",
       "      <td>Peter Jackson</td>\n",
       "      <td>-50</td>\n",
       "      <td>303001229.0</td>\n",
       "      <td>Adventure|Fantasy</td>\n",
       "      <td>the hobbit: an unexpected journey</td>\n",
       "      <td>2012</td>\n",
       "      <td>English</td>\n",
       "      <td>United States</td>\n",
       "      <td>180000000.0</td>\n",
       "      <td>7.9</td>\n",
       "      <td>Aidan Turner,Adam Brown,James Nesbitt</td>\n",
       "      <td>166000</td>\n",
       "    </tr>\n",
       "    <tr>\n",
       "      <th>7</th>\n",
       "      <td>Color</td>\n",
       "      <td>Edward Hall</td>\n",
       "      <td>180</td>\n",
       "      <td>NaN</td>\n",
       "      <td>Drama|Romance</td>\n",
       "      <td>restless</td>\n",
       "      <td>2012</td>\n",
       "      <td>English</td>\n",
       "      <td>United Kingdom</td>\n",
       "      <td>NaN</td>\n",
       "      <td>7.2</td>\n",
       "      <td>Rufus Sewell,Hayley Atwell,Charlotte Rampling</td>\n",
       "      <td>434</td>\n",
       "    </tr>\n",
       "    <tr>\n",
       "      <th>8</th>\n",
       "      <td>Color</td>\n",
       "      <td>Joss Whedon</td>\n",
       "      <td>173</td>\n",
       "      <td>623279547.0</td>\n",
       "      <td>Action|Adventure|Sci-Fi</td>\n",
       "      <td>the avengers</td>\n",
       "      <td>2012</td>\n",
       "      <td>English</td>\n",
       "      <td>United States</td>\n",
       "      <td>220000000.0</td>\n",
       "      <td>8.1</td>\n",
       "      <td>Chris Hemsworth,Robert Downey Jr.,Scarlett Joh...</td>\n",
       "      <td>123000</td>\n",
       "    </tr>\n",
       "    <tr>\n",
       "      <th>9</th>\n",
       "      <td>NaN</td>\n",
       "      <td>Tom Tykwer</td>\n",
       "      <td>172</td>\n",
       "      <td>27098580.0</td>\n",
       "      <td>Drama|Sci-Fi</td>\n",
       "      <td>cloud atlas</td>\n",
       "      <td>2012</td>\n",
       "      <td>English</td>\n",
       "      <td>Germany</td>\n",
       "      <td>102000000.0</td>\n",
       "      <td>-7.5</td>\n",
       "      <td>Tom Hanks,Jim Sturgess,Jim Broadbent</td>\n",
       "      <td>124000</td>\n",
       "    </tr>\n",
       "  </tbody>\n",
       "</table>\n",
       "</div>"
      ],
      "text/plain": [
       "    color      director_name  duration        gross  \\\n",
       "0   Color    Martin Scorsese       240  116866727.0   \n",
       "1   Color        Shane Black       195  408992272.0   \n",
       "2  color   Quentin Tarantino       187   54116191.0   \n",
       "3   Color   Kenneth Lonergan       186      46495.0   \n",
       "4   Color      Peter Jackson       186  258355354.0   \n",
       "5     NaN                NaN       183  330249062.0   \n",
       "6   Color      Peter Jackson       -50  303001229.0   \n",
       "7   Color        Edward Hall       180          NaN   \n",
       "8   Color        Joss Whedon       173  623279547.0   \n",
       "9     NaN         Tom Tykwer       172   27098580.0   \n",
       "\n",
       "                                 genres                          movie_title  \\\n",
       "0          Biography|Comedy|Crime|Drama              the wolf of wall street   \n",
       "1               Action|Adventure|Sci-Fi                           iron man 3   \n",
       "2  Crime|Drama|Mystery|Thriller|Western                    the hateful eight   \n",
       "3                                 Drama                             margaret   \n",
       "4                     Adventure|Fantasy  the hobbit: the desolation of smaug   \n",
       "5               Action|Adventure|Sci-Fi   batman v superman: dawn of justice   \n",
       "6                     Adventure|Fantasy    the hobbit: an unexpected journey   \n",
       "7                         Drama|Romance                             restless   \n",
       "8               Action|Adventure|Sci-Fi                         the avengers   \n",
       "9                          Drama|Sci-Fi                          cloud atlas   \n",
       "\n",
       "   title_year language         country       budget  imdb_score  \\\n",
       "0        2013  English   United States  100000000.0         8.2   \n",
       "1        2013  English   United States  200000000.0         7.2   \n",
       "2        2015  English   United States   44000000.0         7.9   \n",
       "3        2011  English   United States   14000000.0         6.5   \n",
       "4        2013  English   United States  225000000.0         7.9   \n",
       "5         202  English   United States  250000000.0         6.9   \n",
       "6        2012  English   United States  180000000.0         7.9   \n",
       "7        2012  English  United Kingdom          NaN         7.2   \n",
       "8        2012  English   United States  220000000.0         8.1   \n",
       "9        2012  English         Germany  102000000.0        -7.5   \n",
       "\n",
       "                                              actors  movie_facebook_likes  \n",
       "0  Leonardo DiCaprio,Matthew McConaughey,Jon Favreau                138000  \n",
       "1          Robert Downey Jr.,Jon Favreau,Don Cheadle                 95000  \n",
       "2          Craig Stark,Jennifer Jason Leigh,Zoë Bell                114000  \n",
       "3        Matt Damon,Kieran Culkin,John Gallagher Jr.                     0  \n",
       "4              Aidan Turner,Adam Brown,James Nesbitt                 83000  \n",
       "5           Henry Cavill,Lauren Cohan,Alan D. Purwin                197000  \n",
       "6              Aidan Turner,Adam Brown,James Nesbitt                166000  \n",
       "7      Rufus Sewell,Hayley Atwell,Charlotte Rampling                   434  \n",
       "8  Chris Hemsworth,Robert Downey Jr.,Scarlett Joh...                123000  \n",
       "9               Tom Hanks,Jim Sturgess,Jim Broadbent                124000  "
      ]
     },
     "execution_count": 268,
     "metadata": {},
     "output_type": "execute_result"
    }
   ],
   "source": [
    "test.reset_index().drop('index', axis=1).head(10)"
   ]
  },
  {
   "cell_type": "code",
   "execution_count": 269,
   "metadata": {},
   "outputs": [
    {
     "data": {
      "text/plain": [
       "(94, 12)"
      ]
     },
     "execution_count": 269,
     "metadata": {},
     "output_type": "execute_result"
    }
   ],
   "source": [
    "df_imdb.drop(columns='language', inplace=True)\n",
    "df_imdb.shape"
   ]
  },
  {
   "cell_type": "code",
   "execution_count": 270,
   "metadata": {},
   "outputs": [
    {
     "name": "stdout",
     "output_type": "stream",
     "text": [
      "<class 'pandas.core.frame.DataFrame'>\n",
      "Int64Index: 94 entries, 0 to 98\n",
      "Data columns (total 12 columns):\n",
      " #   Column                Non-Null Count  Dtype  \n",
      "---  ------                --------------  -----  \n",
      " 0   color                 83 non-null     object \n",
      " 1   director_name         83 non-null     object \n",
      " 2   duration              94 non-null     int64  \n",
      " 3   gross                 88 non-null     float64\n",
      " 4   genres                93 non-null     object \n",
      " 5   movie_title           94 non-null     object \n",
      " 6   title_year            94 non-null     int64  \n",
      " 7   country               94 non-null     object \n",
      " 8   budget                90 non-null     float64\n",
      " 9   imdb_score            94 non-null     float64\n",
      " 10  actors                94 non-null     object \n",
      " 11  movie_facebook_likes  94 non-null     int64  \n",
      "dtypes: float64(3), int64(3), object(6)\n",
      "memory usage: 9.5+ KB\n"
     ]
    }
   ],
   "source": [
    "df_imdb.info()"
   ]
  },
  {
   "cell_type": "code",
   "execution_count": 271,
   "metadata": {},
   "outputs": [
    {
     "data": {
      "text/plain": [
       "Color               81\n",
       "NaN                 11\n",
       "color                1\n",
       " Black and White     1\n",
       "Name: color, dtype: int64"
      ]
     },
     "execution_count": 271,
     "metadata": {},
     "output_type": "execute_result"
    }
   ],
   "source": [
    "df_imdb.color.value_counts(dropna=False)"
   ]
  },
  {
   "cell_type": "code",
   "execution_count": 272,
   "metadata": {},
   "outputs": [
    {
     "data": {
      "text/html": [
       "<div>\n",
       "<style scoped>\n",
       "    .dataframe tbody tr th:only-of-type {\n",
       "        vertical-align: middle;\n",
       "    }\n",
       "\n",
       "    .dataframe tbody tr th {\n",
       "        vertical-align: top;\n",
       "    }\n",
       "\n",
       "    .dataframe thead th {\n",
       "        text-align: right;\n",
       "    }\n",
       "</style>\n",
       "<table border=\"1\" class=\"dataframe\">\n",
       "  <thead>\n",
       "    <tr style=\"text-align: right;\">\n",
       "      <th></th>\n",
       "      <th>color</th>\n",
       "      <th>director_name</th>\n",
       "      <th>duration</th>\n",
       "      <th>gross</th>\n",
       "      <th>genres</th>\n",
       "      <th>movie_title</th>\n",
       "      <th>title_year</th>\n",
       "      <th>country</th>\n",
       "      <th>budget</th>\n",
       "      <th>imdb_score</th>\n",
       "      <th>actors</th>\n",
       "      <th>movie_facebook_likes</th>\n",
       "    </tr>\n",
       "  </thead>\n",
       "  <tbody>\n",
       "    <tr>\n",
       "      <th>5</th>\n",
       "      <td>NaN</td>\n",
       "      <td>NaN</td>\n",
       "      <td>183</td>\n",
       "      <td>330249062.0</td>\n",
       "      <td>Action|Adventure|Sci-Fi</td>\n",
       "      <td>batman v superman: dawn of justice</td>\n",
       "      <td>202</td>\n",
       "      <td>United States</td>\n",
       "      <td>250000000.0</td>\n",
       "      <td>6.9</td>\n",
       "      <td>Henry Cavill,Lauren Cohan,Alan D. Purwin</td>\n",
       "      <td>197000</td>\n",
       "    </tr>\n",
       "    <tr>\n",
       "      <th>10</th>\n",
       "      <td>NaN</td>\n",
       "      <td>Tom Tykwer</td>\n",
       "      <td>172</td>\n",
       "      <td>27098580.0</td>\n",
       "      <td>Drama|Sci-Fi</td>\n",
       "      <td>cloud atlas</td>\n",
       "      <td>2012</td>\n",
       "      <td>Germany</td>\n",
       "      <td>102000000.0</td>\n",
       "      <td>-7.5</td>\n",
       "      <td>Tom Hanks,Jim Sturgess,Jim Broadbent</td>\n",
       "      <td>124000</td>\n",
       "    </tr>\n",
       "    <tr>\n",
       "      <th>15</th>\n",
       "      <td>NaN</td>\n",
       "      <td>Richard Linklater</td>\n",
       "      <td>165</td>\n",
       "      <td>25359200.0</td>\n",
       "      <td>Drama</td>\n",
       "      <td>boyhood</td>\n",
       "      <td>2014</td>\n",
       "      <td>United States</td>\n",
       "      <td>4000000.0</td>\n",
       "      <td>8.0</td>\n",
       "      <td>Ellar Coltrane,Lorelei Linklater,Libby Villari</td>\n",
       "      <td>92000</td>\n",
       "    </tr>\n",
       "    <tr>\n",
       "      <th>18</th>\n",
       "      <td>NaN</td>\n",
       "      <td>Christopher Nolan</td>\n",
       "      <td>164</td>\n",
       "      <td>448130642.0</td>\n",
       "      <td>Action|Thriller</td>\n",
       "      <td>the dark knight rises</td>\n",
       "      <td>2012</td>\n",
       "      <td>United States</td>\n",
       "      <td>250000000.0</td>\n",
       "      <td>8.5</td>\n",
       "      <td>Tom Hardy,Christian Bale,Joseph Gordon-Levitt</td>\n",
       "      <td>164000</td>\n",
       "    </tr>\n",
       "    <tr>\n",
       "      <th>56</th>\n",
       "      <td>NaN</td>\n",
       "      <td>NaN</td>\n",
       "      <td>143</td>\n",
       "      <td>NaN</td>\n",
       "      <td>Drama|Horror|Thriller</td>\n",
       "      <td>the ridges</td>\n",
       "      <td>2011</td>\n",
       "      <td>United States</td>\n",
       "      <td>17350.0</td>\n",
       "      <td>3.0</td>\n",
       "      <td>Robbie Barnes,Alana Kaniewski,Brandon Landers</td>\n",
       "      <td>33</td>\n",
       "    </tr>\n",
       "    <tr>\n",
       "      <th>65</th>\n",
       "      <td>NaN</td>\n",
       "      <td>Oliver Stone</td>\n",
       "      <td>141</td>\n",
       "      <td>47307550.0</td>\n",
       "      <td>Crime|Drama|Thriller</td>\n",
       "      <td>savages</td>\n",
       "      <td>2012</td>\n",
       "      <td>United States</td>\n",
       "      <td>45000000.0</td>\n",
       "      <td>6.5</td>\n",
       "      <td>Demián Bichir,Shea Whigham,Gary Stretch</td>\n",
       "      <td>28000</td>\n",
       "    </tr>\n",
       "    <tr>\n",
       "      <th>74</th>\n",
       "      <td>NaN</td>\n",
       "      <td>Terrence Malick</td>\n",
       "      <td>139</td>\n",
       "      <td>13303319.0</td>\n",
       "      <td>Drama|Fantasy</td>\n",
       "      <td>the tree of life</td>\n",
       "      <td>2011</td>\n",
       "      <td>United States</td>\n",
       "      <td>32000000.0</td>\n",
       "      <td>6.7</td>\n",
       "      <td>Brad Pitt,Tye Sheridan,Fiona Shaw</td>\n",
       "      <td>39000</td>\n",
       "    </tr>\n",
       "    <tr>\n",
       "      <th>76</th>\n",
       "      <td>NaN</td>\n",
       "      <td>Robert Zemeckis</td>\n",
       "      <td>138</td>\n",
       "      <td>93749203.0</td>\n",
       "      <td>Drama|Thriller</td>\n",
       "      <td>flight</td>\n",
       "      <td>2012</td>\n",
       "      <td>United States</td>\n",
       "      <td>31000000.0</td>\n",
       "      <td>7.3</td>\n",
       "      <td>Denzel Washington,Bruce Greenwood,Nadine Velaz...</td>\n",
       "      <td>64000</td>\n",
       "    </tr>\n",
       "    <tr>\n",
       "      <th>80</th>\n",
       "      <td>NaN</td>\n",
       "      <td>James Mangold</td>\n",
       "      <td>138</td>\n",
       "      <td>132550960.0</td>\n",
       "      <td>Action|Adventure|Sci-Fi|Thriller</td>\n",
       "      <td>the wolverine</td>\n",
       "      <td>2013</td>\n",
       "      <td>United States</td>\n",
       "      <td>120000000.0</td>\n",
       "      <td>6.7</td>\n",
       "      <td>Hugh Jackman,Tao Okamoto,Rila Fukushima</td>\n",
       "      <td>68000</td>\n",
       "    </tr>\n",
       "    <tr>\n",
       "      <th>83</th>\n",
       "      <td>NaN</td>\n",
       "      <td>Walter Salles</td>\n",
       "      <td>137</td>\n",
       "      <td>717753.0</td>\n",
       "      <td>Adventure|Drama</td>\n",
       "      <td>on the road</td>\n",
       "      <td>2012</td>\n",
       "      <td>France</td>\n",
       "      <td>25000000.0</td>\n",
       "      <td>6.1</td>\n",
       "      <td>Kristen Stewart,Viggo Mortensen,Kirsten Dunst</td>\n",
       "      <td>27000</td>\n",
       "    </tr>\n",
       "    <tr>\n",
       "      <th>87</th>\n",
       "      <td>NaN</td>\n",
       "      <td>Seth MacFarlane</td>\n",
       "      <td>136</td>\n",
       "      <td>42615685.0</td>\n",
       "      <td>Comedy|Western</td>\n",
       "      <td>a million ways to die in the west</td>\n",
       "      <td>2014</td>\n",
       "      <td>United States</td>\n",
       "      <td>40000000.0</td>\n",
       "      <td>6.1</td>\n",
       "      <td>Liam Neeson,Charlize Theron,Seth MacFarlane</td>\n",
       "      <td>24000</td>\n",
       "    </tr>\n",
       "  </tbody>\n",
       "</table>\n",
       "</div>"
      ],
      "text/plain": [
       "   color      director_name  duration        gross  \\\n",
       "5    NaN                NaN       183  330249062.0   \n",
       "10   NaN         Tom Tykwer       172   27098580.0   \n",
       "15   NaN  Richard Linklater       165   25359200.0   \n",
       "18   NaN  Christopher Nolan       164  448130642.0   \n",
       "56   NaN                NaN       143          NaN   \n",
       "65   NaN       Oliver Stone       141   47307550.0   \n",
       "74   NaN    Terrence Malick       139   13303319.0   \n",
       "76   NaN    Robert Zemeckis       138   93749203.0   \n",
       "80   NaN      James Mangold       138  132550960.0   \n",
       "83   NaN      Walter Salles       137     717753.0   \n",
       "87   NaN    Seth MacFarlane       136   42615685.0   \n",
       "\n",
       "                              genres                         movie_title  \\\n",
       "5            Action|Adventure|Sci-Fi  batman v superman: dawn of justice   \n",
       "10                      Drama|Sci-Fi                         cloud atlas   \n",
       "15                             Drama                             boyhood   \n",
       "18                   Action|Thriller               the dark knight rises   \n",
       "56             Drama|Horror|Thriller                          the ridges   \n",
       "65              Crime|Drama|Thriller                             savages   \n",
       "74                     Drama|Fantasy                    the tree of life   \n",
       "76                    Drama|Thriller                              flight   \n",
       "80  Action|Adventure|Sci-Fi|Thriller                       the wolverine   \n",
       "83                   Adventure|Drama                         on the road   \n",
       "87                    Comedy|Western   a million ways to die in the west   \n",
       "\n",
       "    title_year        country       budget  imdb_score  \\\n",
       "5          202  United States  250000000.0         6.9   \n",
       "10        2012        Germany  102000000.0        -7.5   \n",
       "15        2014  United States    4000000.0         8.0   \n",
       "18        2012  United States  250000000.0         8.5   \n",
       "56        2011  United States      17350.0         3.0   \n",
       "65        2012  United States   45000000.0         6.5   \n",
       "74        2011  United States   32000000.0         6.7   \n",
       "76        2012  United States   31000000.0         7.3   \n",
       "80        2013  United States  120000000.0         6.7   \n",
       "83        2012         France   25000000.0         6.1   \n",
       "87        2014  United States   40000000.0         6.1   \n",
       "\n",
       "                                               actors  movie_facebook_likes  \n",
       "5            Henry Cavill,Lauren Cohan,Alan D. Purwin                197000  \n",
       "10               Tom Hanks,Jim Sturgess,Jim Broadbent                124000  \n",
       "15     Ellar Coltrane,Lorelei Linklater,Libby Villari                 92000  \n",
       "18      Tom Hardy,Christian Bale,Joseph Gordon-Levitt                164000  \n",
       "56      Robbie Barnes,Alana Kaniewski,Brandon Landers                    33  \n",
       "65            Demián Bichir,Shea Whigham,Gary Stretch                 28000  \n",
       "74                  Brad Pitt,Tye Sheridan,Fiona Shaw                 39000  \n",
       "76  Denzel Washington,Bruce Greenwood,Nadine Velaz...                 64000  \n",
       "80            Hugh Jackman,Tao Okamoto,Rila Fukushima                 68000  \n",
       "83      Kristen Stewart,Viggo Mortensen,Kirsten Dunst                 27000  \n",
       "87        Liam Neeson,Charlize Theron,Seth MacFarlane                 24000  "
      ]
     },
     "execution_count": 272,
     "metadata": {},
     "output_type": "execute_result"
    }
   ],
   "source": [
    "df_imdb[df_imdb.color.isna()]"
   ]
  },
  {
   "cell_type": "code",
   "execution_count": 273,
   "metadata": {},
   "outputs": [
    {
     "data": {
      "text/plain": [
       "Color               92\n",
       "color                1\n",
       " Black and White     1\n",
       "Name: color, dtype: int64"
      ]
     },
     "execution_count": 273,
     "metadata": {},
     "output_type": "execute_result"
    }
   ],
   "source": [
    "df_imdb.color.fillna('Color', inplace=True)\n",
    "df_imdb.color.value_counts(dropna=False)"
   ]
  },
  {
   "cell_type": "code",
   "execution_count": 274,
   "metadata": {},
   "outputs": [
    {
     "data": {
      "text/plain": [
       "Color              93\n",
       "Black and white     1\n",
       "Name: color, dtype: int64"
      ]
     },
     "execution_count": 274,
     "metadata": {},
     "output_type": "execute_result"
    }
   ],
   "source": [
    "df_imdb.color.str.strip().str.capitalize().value_counts()"
   ]
  },
  {
   "cell_type": "code",
   "execution_count": 275,
   "metadata": {},
   "outputs": [
    {
     "data": {
      "text/plain": [
       "Color              93\n",
       "Black and white     1\n",
       "Name: color, dtype: int64"
      ]
     },
     "execution_count": 275,
     "metadata": {},
     "output_type": "execute_result"
    }
   ],
   "source": [
    "df_imdb[\"color\"] = df_imdb.color.str.strip().str.capitalize()\n",
    "df_imdb.color.value_counts(dropna=False)"
   ]
  },
  {
   "cell_type": "code",
   "execution_count": 276,
   "metadata": {},
   "outputs": [],
   "source": [
    "# remove white space\n",
    "# df_imdb.color.str.strip()\n",
    "# lower\n",
    "# df_imdb.color.str.lower()\n",
    "# 1st letter capital \n",
    "# df_imdb.color.str.capitalize()"
   ]
  },
  {
   "cell_type": "code",
   "execution_count": 277,
   "metadata": {},
   "outputs": [
    {
     "data": {
      "text/plain": [
       "'TEST'"
      ]
     },
     "execution_count": 277,
     "metadata": {},
     "output_type": "execute_result"
    }
   ],
   "source": [
    "test = 'TeSt'\n",
    "test.upper()"
   ]
  },
  {
   "cell_type": "code",
   "execution_count": 278,
   "metadata": {},
   "outputs": [],
   "source": [
    "assert df_imdb.color.isna().any() == False"
   ]
  },
  {
   "cell_type": "code",
   "execution_count": 279,
   "metadata": {},
   "outputs": [],
   "source": [
    "assert sorted(df_imdb.color.unique()) == ['Black and white', 'Color']"
   ]
  },
  {
   "cell_type": "code",
   "execution_count": 280,
   "metadata": {},
   "outputs": [
    {
     "data": {
      "text/plain": [
       "11"
      ]
     },
     "execution_count": 280,
     "metadata": {},
     "output_type": "execute_result"
    }
   ],
   "source": [
    "df_imdb.director_name.isna().sum()"
   ]
  },
  {
   "cell_type": "code",
   "execution_count": 281,
   "metadata": {},
   "outputs": [
    {
     "data": {
      "text/html": [
       "<div>\n",
       "<style scoped>\n",
       "    .dataframe tbody tr th:only-of-type {\n",
       "        vertical-align: middle;\n",
       "    }\n",
       "\n",
       "    .dataframe tbody tr th {\n",
       "        vertical-align: top;\n",
       "    }\n",
       "\n",
       "    .dataframe thead th {\n",
       "        text-align: right;\n",
       "    }\n",
       "</style>\n",
       "<table border=\"1\" class=\"dataframe\">\n",
       "  <thead>\n",
       "    <tr style=\"text-align: right;\">\n",
       "      <th></th>\n",
       "      <th>color</th>\n",
       "      <th>director_name</th>\n",
       "      <th>duration</th>\n",
       "      <th>gross</th>\n",
       "      <th>genres</th>\n",
       "      <th>movie_title</th>\n",
       "      <th>title_year</th>\n",
       "      <th>country</th>\n",
       "      <th>budget</th>\n",
       "      <th>imdb_score</th>\n",
       "      <th>actors</th>\n",
       "      <th>movie_facebook_likes</th>\n",
       "    </tr>\n",
       "  </thead>\n",
       "  <tbody>\n",
       "    <tr>\n",
       "      <th>5</th>\n",
       "      <td>Color</td>\n",
       "      <td>NaN</td>\n",
       "      <td>183</td>\n",
       "      <td>330249062.0</td>\n",
       "      <td>Action|Adventure|Sci-Fi</td>\n",
       "      <td>batman v superman: dawn of justice</td>\n",
       "      <td>202</td>\n",
       "      <td>United States</td>\n",
       "      <td>250000000.0</td>\n",
       "      <td>6.9</td>\n",
       "      <td>Henry Cavill,Lauren Cohan,Alan D. Purwin</td>\n",
       "      <td>197000</td>\n",
       "    </tr>\n",
       "    <tr>\n",
       "      <th>24</th>\n",
       "      <td>Color</td>\n",
       "      <td>NaN</td>\n",
       "      <td>156</td>\n",
       "      <td>183635922.0</td>\n",
       "      <td>Adventure|Drama|Thriller|Western</td>\n",
       "      <td>the revenant</td>\n",
       "      <td>2015</td>\n",
       "      <td>United States</td>\n",
       "      <td>135000000.0</td>\n",
       "      <td>8.1</td>\n",
       "      <td>Leonardo DiCaprio,Tom Hardy,Lukas Haas</td>\n",
       "      <td>190000</td>\n",
       "    </tr>\n",
       "    <tr>\n",
       "      <th>32</th>\n",
       "      <td>Color</td>\n",
       "      <td>NaN</td>\n",
       "      <td>150</td>\n",
       "      <td>182204440.0</td>\n",
       "      <td>Biography|Drama|History|War</td>\n",
       "      <td>lincoln</td>\n",
       "      <td>2012</td>\n",
       "      <td>United States</td>\n",
       "      <td>65000000.0</td>\n",
       "      <td>7.4</td>\n",
       "      <td>Joseph Gordon-Levitt,Hal Holbrook,Bruce McGill</td>\n",
       "      <td>71000</td>\n",
       "    </tr>\n",
       "    <tr>\n",
       "      <th>41</th>\n",
       "      <td>Color</td>\n",
       "      <td>NaN</td>\n",
       "      <td>147</td>\n",
       "      <td>407197282.0</td>\n",
       "      <td>Action|Adventure|Sci-Fi</td>\n",
       "      <td>captain america: civil war</td>\n",
       "      <td>2016</td>\n",
       "      <td>United States</td>\n",
       "      <td>250000000.0</td>\n",
       "      <td>8.2</td>\n",
       "      <td>Robert Downey Jr.,Scarlett Johansson,Chris Evans</td>\n",
       "      <td>72000</td>\n",
       "    </tr>\n",
       "    <tr>\n",
       "      <th>56</th>\n",
       "      <td>Color</td>\n",
       "      <td>NaN</td>\n",
       "      <td>143</td>\n",
       "      <td>NaN</td>\n",
       "      <td>Drama|Horror|Thriller</td>\n",
       "      <td>the ridges</td>\n",
       "      <td>2011</td>\n",
       "      <td>United States</td>\n",
       "      <td>17350.0</td>\n",
       "      <td>3.0</td>\n",
       "      <td>Robbie Barnes,Alana Kaniewski,Brandon Landers</td>\n",
       "      <td>33</td>\n",
       "    </tr>\n",
       "    <tr>\n",
       "      <th>59</th>\n",
       "      <td>Color</td>\n",
       "      <td>NaN</td>\n",
       "      <td>142</td>\n",
       "      <td>407999255.0</td>\n",
       "      <td>Adventure|Drama|Sci-Fi|Thriller</td>\n",
       "      <td>the hunger games</td>\n",
       "      <td>2012</td>\n",
       "      <td>United States</td>\n",
       "      <td>78000000.0</td>\n",
       "      <td>7.3</td>\n",
       "      <td>Jennifer Lawrence,Josh Hutcherson,Anthony Reyn...</td>\n",
       "      <td>140000</td>\n",
       "    </tr>\n",
       "    <tr>\n",
       "      <th>71</th>\n",
       "      <td>Color</td>\n",
       "      <td>NaN</td>\n",
       "      <td>139</td>\n",
       "      <td>150832203.0</td>\n",
       "      <td>Adventure|Mystery|Sci-Fi</td>\n",
       "      <td>divergent</td>\n",
       "      <td>1800</td>\n",
       "      <td>United States</td>\n",
       "      <td>85000000.0</td>\n",
       "      <td>6.7</td>\n",
       "      <td>Kate Winslet,Theo James,Mekhi Phifer</td>\n",
       "      <td>49000</td>\n",
       "    </tr>\n",
       "    <tr>\n",
       "      <th>75</th>\n",
       "      <td>Color</td>\n",
       "      <td>NaN</td>\n",
       "      <td>138</td>\n",
       "      <td>150117807.0</td>\n",
       "      <td>Crime|Drama</td>\n",
       "      <td>american hustle</td>\n",
       "      <td>2013</td>\n",
       "      <td>United States</td>\n",
       "      <td>40000000.0</td>\n",
       "      <td>7.3</td>\n",
       "      <td>Jennifer Lawrence,Christian Bale,Bradley Cooper</td>\n",
       "      <td>63000</td>\n",
       "    </tr>\n",
       "    <tr>\n",
       "      <th>82</th>\n",
       "      <td>Color</td>\n",
       "      <td>NaN</td>\n",
       "      <td>137</td>\n",
       "      <td>37304950.0</td>\n",
       "      <td>Biography|Crime|Drama</td>\n",
       "      <td>j. edgar</td>\n",
       "      <td>2011</td>\n",
       "      <td>United States</td>\n",
       "      <td>35000000.0</td>\n",
       "      <td>6.6</td>\n",
       "      <td>Leonardo DiCaprio,Naomi Watts,Kaitlyn Dever</td>\n",
       "      <td>16000</td>\n",
       "    </tr>\n",
       "    <tr>\n",
       "      <th>84</th>\n",
       "      <td>Color</td>\n",
       "      <td>NaN</td>\n",
       "      <td>137</td>\n",
       "      <td>281666058.0</td>\n",
       "      <td>Adventure|Sci-Fi</td>\n",
       "      <td>the hunger games: mockingjay - part 2</td>\n",
       "      <td>2015</td>\n",
       "      <td>United States</td>\n",
       "      <td>160000000.0</td>\n",
       "      <td>6.6</td>\n",
       "      <td>Jennifer Lawrence,Philip Seymour Hoffman,Josh ...</td>\n",
       "      <td>38000</td>\n",
       "    </tr>\n",
       "    <tr>\n",
       "      <th>91</th>\n",
       "      <td>Color</td>\n",
       "      <td>NaN</td>\n",
       "      <td>136</td>\n",
       "      <td>52474616.0</td>\n",
       "      <td>Drama</td>\n",
       "      <td>wall street: money never sleeps</td>\n",
       "      <td>2010</td>\n",
       "      <td>United States</td>\n",
       "      <td>70000000.0</td>\n",
       "      <td>6.3</td>\n",
       "      <td>Frank Langella,Austin Pendleton,John Buffalo M...</td>\n",
       "      <td>13000</td>\n",
       "    </tr>\n",
       "  </tbody>\n",
       "</table>\n",
       "</div>"
      ],
      "text/plain": [
       "    color director_name  duration        gross  \\\n",
       "5   Color           NaN       183  330249062.0   \n",
       "24  Color           NaN       156  183635922.0   \n",
       "32  Color           NaN       150  182204440.0   \n",
       "41  Color           NaN       147  407197282.0   \n",
       "56  Color           NaN       143          NaN   \n",
       "59  Color           NaN       142  407999255.0   \n",
       "71  Color           NaN       139  150832203.0   \n",
       "75  Color           NaN       138  150117807.0   \n",
       "82  Color           NaN       137   37304950.0   \n",
       "84  Color           NaN       137  281666058.0   \n",
       "91  Color           NaN       136   52474616.0   \n",
       "\n",
       "                              genres                            movie_title  \\\n",
       "5            Action|Adventure|Sci-Fi     batman v superman: dawn of justice   \n",
       "24  Adventure|Drama|Thriller|Western                           the revenant   \n",
       "32       Biography|Drama|History|War                                lincoln   \n",
       "41           Action|Adventure|Sci-Fi             captain america: civil war   \n",
       "56             Drama|Horror|Thriller                             the ridges   \n",
       "59   Adventure|Drama|Sci-Fi|Thriller                       the hunger games   \n",
       "71          Adventure|Mystery|Sci-Fi                              divergent   \n",
       "75                       Crime|Drama                        american hustle   \n",
       "82             Biography|Crime|Drama                               j. edgar   \n",
       "84                  Adventure|Sci-Fi  the hunger games: mockingjay - part 2   \n",
       "91                             Drama        wall street: money never sleeps   \n",
       "\n",
       "    title_year        country       budget  imdb_score  \\\n",
       "5          202  United States  250000000.0         6.9   \n",
       "24        2015  United States  135000000.0         8.1   \n",
       "32        2012  United States   65000000.0         7.4   \n",
       "41        2016  United States  250000000.0         8.2   \n",
       "56        2011  United States      17350.0         3.0   \n",
       "59        2012  United States   78000000.0         7.3   \n",
       "71        1800  United States   85000000.0         6.7   \n",
       "75        2013  United States   40000000.0         7.3   \n",
       "82        2011  United States   35000000.0         6.6   \n",
       "84        2015  United States  160000000.0         6.6   \n",
       "91        2010  United States   70000000.0         6.3   \n",
       "\n",
       "                                               actors  movie_facebook_likes  \n",
       "5            Henry Cavill,Lauren Cohan,Alan D. Purwin                197000  \n",
       "24             Leonardo DiCaprio,Tom Hardy,Lukas Haas                190000  \n",
       "32     Joseph Gordon-Levitt,Hal Holbrook,Bruce McGill                 71000  \n",
       "41   Robert Downey Jr.,Scarlett Johansson,Chris Evans                 72000  \n",
       "56      Robbie Barnes,Alana Kaniewski,Brandon Landers                    33  \n",
       "59  Jennifer Lawrence,Josh Hutcherson,Anthony Reyn...                140000  \n",
       "71               Kate Winslet,Theo James,Mekhi Phifer                 49000  \n",
       "75    Jennifer Lawrence,Christian Bale,Bradley Cooper                 63000  \n",
       "82        Leonardo DiCaprio,Naomi Watts,Kaitlyn Dever                 16000  \n",
       "84  Jennifer Lawrence,Philip Seymour Hoffman,Josh ...                 38000  \n",
       "91  Frank Langella,Austin Pendleton,John Buffalo M...                 13000  "
      ]
     },
     "execution_count": 281,
     "metadata": {},
     "output_type": "execute_result"
    }
   ],
   "source": [
    "df_imdb[df_imdb.director_name.isna()]"
   ]
  },
  {
   "cell_type": "code",
   "execution_count": 282,
   "metadata": {},
   "outputs": [],
   "source": [
    "df_imdb.loc[df_imdb.director_name.isna(), \"director_name\"] = \"No info\""
   ]
  },
  {
   "cell_type": "code",
   "execution_count": 283,
   "metadata": {},
   "outputs": [
    {
     "data": {
      "text/plain": [
       "Null    1\n",
       "Nan     1\n",
       "Name: director_name, dtype: int64"
      ]
     },
     "execution_count": 283,
     "metadata": {},
     "output_type": "execute_result"
    }
   ],
   "source": [
    "df_imdb.director_name[df_imdb.director_name.str.len() < 5].value_counts()"
   ]
  },
  {
   "cell_type": "code",
   "execution_count": 284,
   "metadata": {},
   "outputs": [],
   "source": [
    "to_replace = [\"Null\", \"Nan\"]\n",
    "df_imdb.loc[df_imdb.director_name.isin(to_replace), \"director_name\"] = \"No info\""
   ]
  },
  {
   "cell_type": "code",
   "execution_count": 285,
   "metadata": {},
   "outputs": [
    {
     "data": {
      "text/plain": [
       "Series([], Name: director_name, dtype: int64)"
      ]
     },
     "execution_count": 285,
     "metadata": {},
     "output_type": "execute_result"
    }
   ],
   "source": [
    "df_imdb.director_name[df_imdb.director_name.str.len() < 5].value_counts()"
   ]
  },
  {
   "cell_type": "code",
   "execution_count": 286,
   "metadata": {},
   "outputs": [],
   "source": [
    "assert df_imdb.director_name.isna().any() == False"
   ]
  },
  {
   "cell_type": "code",
   "execution_count": 287,
   "metadata": {},
   "outputs": [
    {
     "data": {
      "text/plain": [
       "6"
      ]
     },
     "execution_count": 287,
     "metadata": {},
     "output_type": "execute_result"
    }
   ],
   "source": [
    "df_imdb.gross.isna().sum()"
   ]
  },
  {
   "cell_type": "code",
   "execution_count": 288,
   "metadata": {},
   "outputs": [
    {
     "data": {
      "text/html": [
       "<div>\n",
       "<style scoped>\n",
       "    .dataframe tbody tr th:only-of-type {\n",
       "        vertical-align: middle;\n",
       "    }\n",
       "\n",
       "    .dataframe tbody tr th {\n",
       "        vertical-align: top;\n",
       "    }\n",
       "\n",
       "    .dataframe thead th {\n",
       "        text-align: right;\n",
       "    }\n",
       "</style>\n",
       "<table border=\"1\" class=\"dataframe\">\n",
       "  <thead>\n",
       "    <tr style=\"text-align: right;\">\n",
       "      <th></th>\n",
       "      <th>color</th>\n",
       "      <th>director_name</th>\n",
       "      <th>duration</th>\n",
       "      <th>gross</th>\n",
       "      <th>genres</th>\n",
       "      <th>movie_title</th>\n",
       "      <th>title_year</th>\n",
       "      <th>country</th>\n",
       "      <th>budget</th>\n",
       "      <th>imdb_score</th>\n",
       "      <th>actors</th>\n",
       "      <th>movie_facebook_likes</th>\n",
       "    </tr>\n",
       "  </thead>\n",
       "  <tbody>\n",
       "    <tr>\n",
       "      <th>7</th>\n",
       "      <td>Color</td>\n",
       "      <td>Edward Hall</td>\n",
       "      <td>180</td>\n",
       "      <td>NaN</td>\n",
       "      <td>Drama|Romance</td>\n",
       "      <td>restless</td>\n",
       "      <td>2012</td>\n",
       "      <td>United Kingdom</td>\n",
       "      <td>NaN</td>\n",
       "      <td>7.2</td>\n",
       "      <td>Rufus Sewell,Hayley Atwell,Charlotte Rampling</td>\n",
       "      <td>434</td>\n",
       "    </tr>\n",
       "    <tr>\n",
       "      <th>27</th>\n",
       "      <td>Color</td>\n",
       "      <td>Gnana Rajasekaran</td>\n",
       "      <td>153</td>\n",
       "      <td>NaN</td>\n",
       "      <td>Biography|Drama|History</td>\n",
       "      <td>ramanujan</td>\n",
       "      <td>2014</td>\n",
       "      <td>India</td>\n",
       "      <td>NaN</td>\n",
       "      <td>7.0</td>\n",
       "      <td>Mani Bharathi,Michael Lieber,Kevin McGowan</td>\n",
       "      <td>58</td>\n",
       "    </tr>\n",
       "    <tr>\n",
       "      <th>37</th>\n",
       "      <td>Color</td>\n",
       "      <td>Jay Oliva</td>\n",
       "      <td>148</td>\n",
       "      <td>NaN</td>\n",
       "      <td>Action|Animation|Crime|Sci-Fi|Thriller</td>\n",
       "      <td>batman: the dark knight returns, part 2</td>\n",
       "      <td>2013</td>\n",
       "      <td>United States</td>\n",
       "      <td>3500000.0</td>\n",
       "      <td>8.4</td>\n",
       "      <td>Michael Emerson,Mark Valley,Grey Griffin</td>\n",
       "      <td>5000</td>\n",
       "    </tr>\n",
       "    <tr>\n",
       "      <th>56</th>\n",
       "      <td>Color</td>\n",
       "      <td>No info</td>\n",
       "      <td>143</td>\n",
       "      <td>NaN</td>\n",
       "      <td>Drama|Horror|Thriller</td>\n",
       "      <td>the ridges</td>\n",
       "      <td>2011</td>\n",
       "      <td>United States</td>\n",
       "      <td>17350.0</td>\n",
       "      <td>3.0</td>\n",
       "      <td>Robbie Barnes,Alana Kaniewski,Brandon Landers</td>\n",
       "      <td>33</td>\n",
       "    </tr>\n",
       "    <tr>\n",
       "      <th>61</th>\n",
       "      <td>Color</td>\n",
       "      <td>Timur Bekmambetov</td>\n",
       "      <td>141</td>\n",
       "      <td>NaN</td>\n",
       "      <td>Adventure|Drama|History</td>\n",
       "      <td>ben-hur</td>\n",
       "      <td>2016</td>\n",
       "      <td>United States</td>\n",
       "      <td>100000000.0</td>\n",
       "      <td>6.1</td>\n",
       "      <td>Morgan Freeman,Ayelet Zurer,Moises Arias</td>\n",
       "      <td>0</td>\n",
       "    </tr>\n",
       "    <tr>\n",
       "      <th>62</th>\n",
       "      <td>Color</td>\n",
       "      <td>Timur Bekmambetov</td>\n",
       "      <td>141</td>\n",
       "      <td>NaN</td>\n",
       "      <td>Adventure|Drama|History</td>\n",
       "      <td>ben-hur</td>\n",
       "      <td>2016</td>\n",
       "      <td>United States</td>\n",
       "      <td>100000000.0</td>\n",
       "      <td>6.0</td>\n",
       "      <td>Morgan Freeman,Ayelet Zurer,Moises Arias</td>\n",
       "      <td>0</td>\n",
       "    </tr>\n",
       "  </tbody>\n",
       "</table>\n",
       "</div>"
      ],
      "text/plain": [
       "    color      director_name  duration  gross  \\\n",
       "7   Color        Edward Hall       180    NaN   \n",
       "27  Color  Gnana Rajasekaran       153    NaN   \n",
       "37  Color          Jay Oliva       148    NaN   \n",
       "56  Color            No info       143    NaN   \n",
       "61  Color  Timur Bekmambetov       141    NaN   \n",
       "62  Color  Timur Bekmambetov       141    NaN   \n",
       "\n",
       "                                    genres  \\\n",
       "7                            Drama|Romance   \n",
       "27                 Biography|Drama|History   \n",
       "37  Action|Animation|Crime|Sci-Fi|Thriller   \n",
       "56                   Drama|Horror|Thriller   \n",
       "61                 Adventure|Drama|History   \n",
       "62                 Adventure|Drama|History   \n",
       "\n",
       "                                movie_title  title_year         country  \\\n",
       "7                                  restless        2012  United Kingdom   \n",
       "27                                ramanujan        2014           India   \n",
       "37  batman: the dark knight returns, part 2        2013   United States   \n",
       "56                               the ridges        2011   United States   \n",
       "61                                  ben-hur        2016   United States   \n",
       "62                                  ben-hur        2016   United States   \n",
       "\n",
       "         budget  imdb_score                                         actors  \\\n",
       "7           NaN         7.2  Rufus Sewell,Hayley Atwell,Charlotte Rampling   \n",
       "27          NaN         7.0     Mani Bharathi,Michael Lieber,Kevin McGowan   \n",
       "37    3500000.0         8.4       Michael Emerson,Mark Valley,Grey Griffin   \n",
       "56      17350.0         3.0  Robbie Barnes,Alana Kaniewski,Brandon Landers   \n",
       "61  100000000.0         6.1       Morgan Freeman,Ayelet Zurer,Moises Arias   \n",
       "62  100000000.0         6.0       Morgan Freeman,Ayelet Zurer,Moises Arias   \n",
       "\n",
       "    movie_facebook_likes  \n",
       "7                    434  \n",
       "27                    58  \n",
       "37                  5000  \n",
       "56                    33  \n",
       "61                     0  \n",
       "62                     0  "
      ]
     },
     "execution_count": 288,
     "metadata": {},
     "output_type": "execute_result"
    }
   ],
   "source": [
    "df_imdb[df_imdb.gross.isna()]"
   ]
  },
  {
   "cell_type": "code",
   "execution_count": 289,
   "metadata": {},
   "outputs": [
    {
     "data": {
      "text/plain": [
       "False"
      ]
     },
     "execution_count": 289,
     "metadata": {},
     "output_type": "execute_result"
    }
   ],
   "source": [
    "gross_median = df_imdb['gross'].median()\n",
    "df_imdb.gross.fillna(gross_median, inplace=True)\n",
    "df_imdb.gross.isna().any()"
   ]
  },
  {
   "cell_type": "code",
   "execution_count": 290,
   "metadata": {},
   "outputs": [
    {
     "data": {
      "text/plain": [
       "count    9.400000e+01\n",
       "mean     1.063969e+12\n",
       "std      1.031420e+13\n",
       "min     -9.293900e+04\n",
       "25%      4.705198e+07\n",
       "50%      1.061603e+08\n",
       "75%      2.021590e+08\n",
       "max      1.000000e+14\n",
       "Name: gross, dtype: float64"
      ]
     },
     "execution_count": 290,
     "metadata": {},
     "output_type": "execute_result"
    }
   ],
   "source": [
    "df_imdb.gross.describe()"
   ]
  },
  {
   "cell_type": "code",
   "execution_count": 291,
   "metadata": {},
   "outputs": [
    {
     "data": {
      "text/plain": [
       "<AxesSubplot:>"
      ]
     },
     "execution_count": 291,
     "metadata": {},
     "output_type": "execute_result"
    },
    {
     "data": {
      "image/png": "[encoded data removed]",
      "text/plain": [
       "<Figure size 432x288 with 1 Axes>"
      ]
     },
     "metadata": {
      "needs_background": "light"
     },
     "output_type": "display_data"
    }
   ],
   "source": [
    "df_imdb.gross.plot(kind='box')"
   ]
  },
  {
   "cell_type": "code",
   "execution_count": 292,
   "metadata": {},
   "outputs": [
    {
     "data": {
      "text/html": [
       "<div>\n",
       "<style scoped>\n",
       "    .dataframe tbody tr th:only-of-type {\n",
       "        vertical-align: middle;\n",
       "    }\n",
       "\n",
       "    .dataframe tbody tr th {\n",
       "        vertical-align: top;\n",
       "    }\n",
       "\n",
       "    .dataframe thead th {\n",
       "        text-align: right;\n",
       "    }\n",
       "</style>\n",
       "<table border=\"1\" class=\"dataframe\">\n",
       "  <thead>\n",
       "    <tr style=\"text-align: right;\">\n",
       "      <th></th>\n",
       "      <th>color</th>\n",
       "      <th>director_name</th>\n",
       "      <th>duration</th>\n",
       "      <th>gross</th>\n",
       "      <th>genres</th>\n",
       "      <th>movie_title</th>\n",
       "      <th>title_year</th>\n",
       "      <th>country</th>\n",
       "      <th>budget</th>\n",
       "      <th>imdb_score</th>\n",
       "      <th>actors</th>\n",
       "      <th>movie_facebook_likes</th>\n",
       "    </tr>\n",
       "  </thead>\n",
       "  <tbody>\n",
       "    <tr>\n",
       "      <th>51</th>\n",
       "      <td>Color</td>\n",
       "      <td>Zack Snyder</td>\n",
       "      <td>143</td>\n",
       "      <td>-1532.0</td>\n",
       "      <td>Action|Adventure|Fantasy|Sci-Fi</td>\n",
       "      <td>man of steel</td>\n",
       "      <td>2013</td>\n",
       "      <td>United States</td>\n",
       "      <td>225000000.0</td>\n",
       "      <td>7.2</td>\n",
       "      <td>Henry Cavill,Christopher Meloni,Harry Lennix</td>\n",
       "      <td>118000</td>\n",
       "    </tr>\n",
       "    <tr>\n",
       "      <th>92</th>\n",
       "      <td>Color</td>\n",
       "      <td>Sadyk Sher-Niyaz</td>\n",
       "      <td>135</td>\n",
       "      <td>-92939.0</td>\n",
       "      <td>Action|Biography|Drama|History</td>\n",
       "      <td>queen of the mountains</td>\n",
       "      <td>2014</td>\n",
       "      <td>Kyrgyzstan</td>\n",
       "      <td>1400000.0</td>\n",
       "      <td>8.7</td>\n",
       "      <td>Elina Abai Kyzy,Aziz Muradillayev,Mirlan Abdul...</td>\n",
       "      <td>0</td>\n",
       "    </tr>\n",
       "  </tbody>\n",
       "</table>\n",
       "</div>"
      ],
      "text/plain": [
       "    color     director_name  duration    gross  \\\n",
       "51  Color       Zack Snyder       143  -1532.0   \n",
       "92  Color  Sadyk Sher-Niyaz       135 -92939.0   \n",
       "\n",
       "                             genres             movie_title  title_year  \\\n",
       "51  Action|Adventure|Fantasy|Sci-Fi            man of steel        2013   \n",
       "92   Action|Biography|Drama|History  queen of the mountains        2014   \n",
       "\n",
       "          country       budget  imdb_score  \\\n",
       "51  United States  225000000.0         7.2   \n",
       "92     Kyrgyzstan    1400000.0         8.7   \n",
       "\n",
       "                                               actors  movie_facebook_likes  \n",
       "51       Henry Cavill,Christopher Meloni,Harry Lennix                118000  \n",
       "92  Elina Abai Kyzy,Aziz Muradillayev,Mirlan Abdul...                     0  "
      ]
     },
     "execution_count": 292,
     "metadata": {},
     "output_type": "execute_result"
    }
   ],
   "source": [
    "df_imdb[df_imdb[\"gross\"] < 0]"
   ]
  },
  {
   "cell_type": "code",
   "execution_count": 293,
   "metadata": {},
   "outputs": [],
   "source": [
    "df_imdb.loc[df_imdb.gross<0, \"gross\"] = gross_median"
   ]
  },
  {
   "cell_type": "code",
   "execution_count": 294,
   "metadata": {},
   "outputs": [
    {
     "data": {
      "text/html": [
       "<div>\n",
       "<style scoped>\n",
       "    .dataframe tbody tr th:only-of-type {\n",
       "        vertical-align: middle;\n",
       "    }\n",
       "\n",
       "    .dataframe tbody tr th {\n",
       "        vertical-align: top;\n",
       "    }\n",
       "\n",
       "    .dataframe thead th {\n",
       "        text-align: right;\n",
       "    }\n",
       "</style>\n",
       "<table border=\"1\" class=\"dataframe\">\n",
       "  <thead>\n",
       "    <tr style=\"text-align: right;\">\n",
       "      <th></th>\n",
       "      <th>color</th>\n",
       "      <th>director_name</th>\n",
       "      <th>duration</th>\n",
       "      <th>gross</th>\n",
       "      <th>genres</th>\n",
       "      <th>movie_title</th>\n",
       "      <th>title_year</th>\n",
       "      <th>country</th>\n",
       "      <th>budget</th>\n",
       "      <th>imdb_score</th>\n",
       "      <th>actors</th>\n",
       "      <th>movie_facebook_likes</th>\n",
       "    </tr>\n",
       "  </thead>\n",
       "  <tbody>\n",
       "    <tr>\n",
       "      <th>14</th>\n",
       "      <td>Color</td>\n",
       "      <td>F. Gary Gray</td>\n",
       "      <td>167</td>\n",
       "      <td>1.000000e+14</td>\n",
       "      <td>Biography|Crime|Drama|History|Music</td>\n",
       "      <td>straight outta compton</td>\n",
       "      <td>2015</td>\n",
       "      <td>United States</td>\n",
       "      <td>28000000.0</td>\n",
       "      <td>7.9</td>\n",
       "      <td>Aldis Hodge,Neil Brown Jr.,R. Marcos Taylor</td>\n",
       "      <td>76000</td>\n",
       "    </tr>\n",
       "  </tbody>\n",
       "</table>\n",
       "</div>"
      ],
      "text/plain": [
       "    color director_name  duration         gross  \\\n",
       "14  Color  F. Gary Gray       167  1.000000e+14   \n",
       "\n",
       "                                 genres             movie_title  title_year  \\\n",
       "14  Biography|Crime|Drama|History|Music  straight outta compton        2015   \n",
       "\n",
       "          country      budget  imdb_score  \\\n",
       "14  United States  28000000.0         7.9   \n",
       "\n",
       "                                         actors  movie_facebook_likes  \n",
       "14  Aldis Hodge,Neil Brown Jr.,R. Marcos Taylor                 76000  "
      ]
     },
     "execution_count": 294,
     "metadata": {},
     "output_type": "execute_result"
    }
   ],
   "source": [
    "df_imdb[df_imdb[\"gross\"] > 1e9]"
   ]
  },
  {
   "cell_type": "code",
   "execution_count": 295,
   "metadata": {},
   "outputs": [],
   "source": [
    "df_imdb.loc[df_imdb[\"gross\"] > 1e9, \"gross\"] = gross_median"
   ]
  },
  {
   "cell_type": "code",
   "execution_count": 296,
   "metadata": {},
   "outputs": [
    {
     "data": {
      "text/plain": [
       "count    9.400000e+01\n",
       "mean     1.425250e+08\n",
       "std      1.270556e+08\n",
       "min      4.122900e+04\n",
       "25%      4.859932e+07\n",
       "50%      1.061603e+08\n",
       "75%      1.970535e+08\n",
       "max      6.232795e+08\n",
       "Name: gross, dtype: float64"
      ]
     },
     "execution_count": 296,
     "metadata": {},
     "output_type": "execute_result"
    }
   ],
   "source": [
    "df_imdb.gross.describe()"
   ]
  },
  {
   "cell_type": "code",
   "execution_count": 297,
   "metadata": {},
   "outputs": [
    {
     "data": {
      "text/plain": [
       "<AxesSubplot:>"
      ]
     },
     "execution_count": 297,
     "metadata": {},
     "output_type": "execute_result"
    },
    {
     "data": {
      "image/png": "[encoded data removed]",
      "text/plain": [
       "<Figure size 432x288 with 1 Axes>"
      ]
     },
     "metadata": {
      "needs_background": "light"
     },
     "output_type": "display_data"
    }
   ],
   "source": [
    "df_imdb.gross.plot(kind='box')"
   ]
  },
  {
   "cell_type": "code",
   "execution_count": 298,
   "metadata": {},
   "outputs": [
    {
     "data": {
      "text/plain": [
       "<AxesSubplot:>"
      ]
     },
     "execution_count": 298,
     "metadata": {},
     "output_type": "execute_result"
    },
    {
     "data": {
      "image/png": "[encoded data removed]",
      "text/plain": [
       "<Figure size 432x288 with 1 Axes>"
      ]
     },
     "metadata": {
      "needs_background": "light"
     },
     "output_type": "display_data"
    }
   ],
   "source": [
    "df_imdb.gross.hist()"
   ]
  },
  {
   "cell_type": "code",
   "execution_count": 299,
   "metadata": {},
   "outputs": [
    {
     "data": {
      "text/plain": [
       "1"
      ]
     },
     "execution_count": 299,
     "metadata": {},
     "output_type": "execute_result"
    }
   ],
   "source": [
    "df_imdb[\"genres\"].isna().sum()"
   ]
  },
  {
   "cell_type": "code",
   "execution_count": 300,
   "metadata": {},
   "outputs": [
    {
     "data": {
      "text/plain": [
       "Action|Adventure|Sci-Fi                     9\n",
       "Drama                                       5\n",
       "Crime|Drama|Thriller                        5\n",
       "Biography|Drama|History                     4\n",
       "Adventure|Fantasy                           3\n",
       "Drama|Romance                               3\n",
       "Crime|Drama|Mystery|Thriller                3\n",
       "Action|Adventure|Thriller                   3\n",
       "Action|Adventure|Fantasy                    2\n",
       "Biography|Drama|Sport|War                   2\n",
       "Action|Adventure|Fantasy|Sci-Fi             2\n",
       "Action|Adventure|Sci-Fi|Thriller            2\n",
       "Action|Adventure|Drama                      2\n",
       "Adventure|Drama|History                     2\n",
       "Crime|Drama                                 2\n",
       "Drama|History|Thriller                      2\n",
       "Adventure|Drama|Sci-Fi                      2\n",
       "Drama|Musical|Romance                       2\n",
       "Action|Crime|Thriller                       1\n",
       "Action|Drama|War                            1\n",
       "Drama|Sport                                 1\n",
       "Biography|Drama|Thriller                    1\n",
       "Adventure|Mystery|Sci-Fi                    1\n",
       "Action|Biography|Drama|History|War          1\n",
       "Comedy|Drama                                1\n",
       "Biography|Drama|Music                       1\n",
       "Drama|Fantasy                               1\n",
       "Adventure|Sci-Fi                            1\n",
       "Action|Biography|Drama|History              1\n",
       "Drama|Thriller                              1\n",
       "Mystery|Thriller                            1\n",
       "Biography|Crime|Drama                       1\n",
       "Adventure|Drama                             1\n",
       "Comedy|Drama|Musical|Romance                1\n",
       "Comedy|Western                              1\n",
       "Biography|Comedy|Crime|Drama                1\n",
       "Adventure|Sci-Fi|Thriller                   1\n",
       "Adventure|Drama|Sci-Fi|Thriller             1\n",
       "Drama|Horror|Thriller                       1\n",
       "Crime|Drama|Mystery|Thriller|Western        1\n",
       "Drama|Sci-Fi                                1\n",
       "NaN                                         1\n",
       "Biography|Crime|Drama|History|Music         1\n",
       "Drama|Western                               1\n",
       "Action|Thriller                             1\n",
       "Action|Adventure|Drama|History              1\n",
       "Adventure|Drama|Thriller|Western            1\n",
       "Biography|Drama|History|War                 1\n",
       "Action|Adventure|Western                    1\n",
       "Action|Adventure|Fantasy|Sci-Fi|Thriller    1\n",
       "Action|Animation|Crime|Sci-Fi|Thriller      1\n",
       "Comedy|Crime|Drama|Mystery|Romance          1\n",
       "Comedy|Drama|Romance                        1\n",
       "Drama|War                                   1\n",
       "Action|Drama|Thriller|War                   1\n",
       "Comedy                                      1\n",
       "Biography|Drama|Music|Musical               1\n",
       "Name: genres, dtype: int64"
      ]
     },
     "execution_count": 300,
     "metadata": {},
     "output_type": "execute_result"
    }
   ],
   "source": [
    "df_imdb[\"genres\"].value_counts(dropna=False)"
   ]
  },
  {
   "cell_type": "code",
   "execution_count": 301,
   "metadata": {},
   "outputs": [
    {
     "data": {
      "text/html": [
       "<div>\n",
       "<style scoped>\n",
       "    .dataframe tbody tr th:only-of-type {\n",
       "        vertical-align: middle;\n",
       "    }\n",
       "\n",
       "    .dataframe tbody tr th {\n",
       "        vertical-align: top;\n",
       "    }\n",
       "\n",
       "    .dataframe thead th {\n",
       "        text-align: right;\n",
       "    }\n",
       "</style>\n",
       "<table border=\"1\" class=\"dataframe\">\n",
       "  <thead>\n",
       "    <tr style=\"text-align: right;\">\n",
       "      <th></th>\n",
       "      <th>color</th>\n",
       "      <th>director_name</th>\n",
       "      <th>duration</th>\n",
       "      <th>gross</th>\n",
       "      <th>genres</th>\n",
       "      <th>movie_title</th>\n",
       "      <th>title_year</th>\n",
       "      <th>country</th>\n",
       "      <th>budget</th>\n",
       "      <th>imdb_score</th>\n",
       "      <th>actors</th>\n",
       "      <th>movie_facebook_likes</th>\n",
       "    </tr>\n",
       "  </thead>\n",
       "  <tbody>\n",
       "    <tr>\n",
       "      <th>12</th>\n",
       "      <td>Color</td>\n",
       "      <td>Christopher Spencer</td>\n",
       "      <td>170</td>\n",
       "      <td>59696176.0</td>\n",
       "      <td>NaN</td>\n",
       "      <td>son of god</td>\n",
       "      <td>2014</td>\n",
       "      <td>United States</td>\n",
       "      <td>22000000.0</td>\n",
       "      <td>5.6</td>\n",
       "      <td>Roma Downey,Amber Rose Revah,Darwin Shaw</td>\n",
       "      <td>15000</td>\n",
       "    </tr>\n",
       "  </tbody>\n",
       "</table>\n",
       "</div>"
      ],
      "text/plain": [
       "    color        director_name  duration       gross genres movie_title  \\\n",
       "12  Color  Christopher Spencer       170  59696176.0    NaN  son of god   \n",
       "\n",
       "    title_year        country      budget  imdb_score  \\\n",
       "12        2014  United States  22000000.0         5.6   \n",
       "\n",
       "                                      actors  movie_facebook_likes  \n",
       "12  Roma Downey,Amber Rose Revah,Darwin Shaw                 15000  "
      ]
     },
     "execution_count": 301,
     "metadata": {},
     "output_type": "execute_result"
    }
   ],
   "source": [
    "df_imdb[df_imdb[\"genres\"].isna()]"
   ]
  },
  {
   "cell_type": "code",
   "execution_count": 302,
   "metadata": {},
   "outputs": [],
   "source": [
    "df_imdb.dropna(subset=['genres'], inplace=True)"
   ]
  },
  {
   "cell_type": "code",
   "execution_count": 303,
   "metadata": {},
   "outputs": [
    {
     "data": {
      "text/plain": [
       "False"
      ]
     },
     "execution_count": 303,
     "metadata": {},
     "output_type": "execute_result"
    }
   ],
   "source": [
    "df_imdb[\"genres\"].isna().any()"
   ]
  },
  {
   "cell_type": "code",
   "execution_count": 304,
   "metadata": {},
   "outputs": [
    {
     "data": {
      "text/plain": [
       "4"
      ]
     },
     "execution_count": 304,
     "metadata": {},
     "output_type": "execute_result"
    }
   ],
   "source": [
    "df_imdb.budget.isna().sum()"
   ]
  },
  {
   "cell_type": "code",
   "execution_count": 305,
   "metadata": {},
   "outputs": [
    {
     "data": {
      "text/html": [
       "<div>\n",
       "<style scoped>\n",
       "    .dataframe tbody tr th:only-of-type {\n",
       "        vertical-align: middle;\n",
       "    }\n",
       "\n",
       "    .dataframe tbody tr th {\n",
       "        vertical-align: top;\n",
       "    }\n",
       "\n",
       "    .dataframe thead th {\n",
       "        text-align: right;\n",
       "    }\n",
       "</style>\n",
       "<table border=\"1\" class=\"dataframe\">\n",
       "  <thead>\n",
       "    <tr style=\"text-align: right;\">\n",
       "      <th></th>\n",
       "      <th>color</th>\n",
       "      <th>director_name</th>\n",
       "      <th>duration</th>\n",
       "      <th>gross</th>\n",
       "      <th>genres</th>\n",
       "      <th>movie_title</th>\n",
       "      <th>title_year</th>\n",
       "      <th>country</th>\n",
       "      <th>budget</th>\n",
       "      <th>imdb_score</th>\n",
       "      <th>actors</th>\n",
       "      <th>movie_facebook_likes</th>\n",
       "    </tr>\n",
       "  </thead>\n",
       "  <tbody>\n",
       "    <tr>\n",
       "      <th>7</th>\n",
       "      <td>Color</td>\n",
       "      <td>Edward Hall</td>\n",
       "      <td>180</td>\n",
       "      <td>106160295.0</td>\n",
       "      <td>Drama|Romance</td>\n",
       "      <td>restless</td>\n",
       "      <td>2012</td>\n",
       "      <td>United Kingdom</td>\n",
       "      <td>NaN</td>\n",
       "      <td>7.2</td>\n",
       "      <td>Rufus Sewell,Hayley Atwell,Charlotte Rampling</td>\n",
       "      <td>434</td>\n",
       "    </tr>\n",
       "    <tr>\n",
       "      <th>27</th>\n",
       "      <td>Color</td>\n",
       "      <td>Gnana Rajasekaran</td>\n",
       "      <td>153</td>\n",
       "      <td>106160295.0</td>\n",
       "      <td>Biography|Drama|History</td>\n",
       "      <td>ramanujan</td>\n",
       "      <td>2014</td>\n",
       "      <td>India</td>\n",
       "      <td>NaN</td>\n",
       "      <td>7.0</td>\n",
       "      <td>Mani Bharathi,Michael Lieber,Kevin McGowan</td>\n",
       "      <td>58</td>\n",
       "    </tr>\n",
       "    <tr>\n",
       "      <th>33</th>\n",
       "      <td>Color</td>\n",
       "      <td>Mike Leigh</td>\n",
       "      <td>150</td>\n",
       "      <td>3958500.0</td>\n",
       "      <td>Biography|Drama|History</td>\n",
       "      <td>mr. turner</td>\n",
       "      <td>2014</td>\n",
       "      <td>United Kingdom</td>\n",
       "      <td>NaN</td>\n",
       "      <td>6.8</td>\n",
       "      <td>Lesley Manville,Ruth Sheen,Karl Johnson</td>\n",
       "      <td>0</td>\n",
       "    </tr>\n",
       "    <tr>\n",
       "      <th>95</th>\n",
       "      <td>Color</td>\n",
       "      <td>Richard J. Lewis</td>\n",
       "      <td>134</td>\n",
       "      <td>7501404.0</td>\n",
       "      <td>Comedy|Drama</td>\n",
       "      <td>barney's version</td>\n",
       "      <td>2010</td>\n",
       "      <td>Canada</td>\n",
       "      <td>NaN</td>\n",
       "      <td>7.3</td>\n",
       "      <td>Mark Addy,Atom Egoyan,Paul Gross</td>\n",
       "      <td>0</td>\n",
       "    </tr>\n",
       "  </tbody>\n",
       "</table>\n",
       "</div>"
      ],
      "text/plain": [
       "    color      director_name  duration        gross                   genres  \\\n",
       "7   Color        Edward Hall       180  106160295.0            Drama|Romance   \n",
       "27  Color  Gnana Rajasekaran       153  106160295.0  Biography|Drama|History   \n",
       "33  Color         Mike Leigh       150    3958500.0  Biography|Drama|History   \n",
       "95  Color   Richard J. Lewis       134    7501404.0             Comedy|Drama   \n",
       "\n",
       "         movie_title  title_year         country  budget  imdb_score  \\\n",
       "7           restless        2012  United Kingdom     NaN         7.2   \n",
       "27         ramanujan        2014           India     NaN         7.0   \n",
       "33        mr. turner        2014  United Kingdom     NaN         6.8   \n",
       "95  barney's version        2010          Canada     NaN         7.3   \n",
       "\n",
       "                                           actors  movie_facebook_likes  \n",
       "7   Rufus Sewell,Hayley Atwell,Charlotte Rampling                   434  \n",
       "27     Mani Bharathi,Michael Lieber,Kevin McGowan                    58  \n",
       "33        Lesley Manville,Ruth Sheen,Karl Johnson                     0  \n",
       "95               Mark Addy,Atom Egoyan,Paul Gross                     0  "
      ]
     },
     "execution_count": 305,
     "metadata": {},
     "output_type": "execute_result"
    }
   ],
   "source": [
    "df_imdb[df_imdb.budget.isna()]"
   ]
  },
  {
   "cell_type": "code",
   "execution_count": 306,
   "metadata": {},
   "outputs": [
    {
     "data": {
      "text/plain": [
       "False"
      ]
     },
     "execution_count": 306,
     "metadata": {},
     "output_type": "execute_result"
    }
   ],
   "source": [
    "budget_mean = df_imdb.budget.mean()\n",
    "df_imdb.budget.fillna(budget_mean, inplace=True)\n",
    "df_imdb.budget.isna().any()"
   ]
  },
  {
   "cell_type": "code",
   "execution_count": 307,
   "metadata": {},
   "outputs": [
    {
     "data": {
      "text/plain": [
       "count    9.300000e+01\n",
       "mean     1.030833e+08\n",
       "std      7.569036e+07\n",
       "min      1.735000e+04\n",
       "25%      4.000000e+07\n",
       "50%      8.000000e+07\n",
       "75%      1.650000e+08\n",
       "max      2.500000e+08\n",
       "Name: budget, dtype: float64"
      ]
     },
     "execution_count": 307,
     "metadata": {},
     "output_type": "execute_result"
    }
   ],
   "source": [
    "df_imdb.budget.describe()"
   ]
  },
  {
   "cell_type": "code",
   "execution_count": 308,
   "metadata": {},
   "outputs": [
    {
     "data": {
      "text/plain": [
       "<AxesSubplot:>"
      ]
     },
     "execution_count": 308,
     "metadata": {},
     "output_type": "execute_result"
    },
    {
     "data": {
      "image/png": "[encoded data removed]",
      "text/plain": [
       "<Figure size 432x288 with 1 Axes>"
      ]
     },
     "metadata": {
      "needs_background": "light"
     },
     "output_type": "display_data"
    }
   ],
   "source": [
    "df_imdb.budget.hist()"
   ]
  },
  {
   "cell_type": "code",
   "execution_count": 309,
   "metadata": {},
   "outputs": [
    {
     "data": {
      "text/plain": [
       "<AxesSubplot:>"
      ]
     },
     "execution_count": 309,
     "metadata": {},
     "output_type": "execute_result"
    },
    {
     "data": {
      "image/png": "[encoded data removed]",
      "text/plain": [
       "<Figure size 432x288 with 1 Axes>"
      ]
     },
     "metadata": {
      "needs_background": "light"
     },
     "output_type": "display_data"
    }
   ],
   "source": [
    "df_imdb.budget.plot(kind='box')"
   ]
  },
  {
   "cell_type": "code",
   "execution_count": 310,
   "metadata": {},
   "outputs": [
    {
     "data": {
      "text/plain": [
       "<AxesSubplot:xlabel='gross', ylabel='budget'>"
      ]
     },
     "execution_count": 310,
     "metadata": {},
     "output_type": "execute_result"
    },
    {
     "data": {
      "image/png": "[encoded data removed]",
      "text/plain": [
       "<Figure size 432x288 with 1 Axes>"
      ]
     },
     "metadata": {
      "needs_background": "light"
     },
     "output_type": "display_data"
    }
   ],
   "source": [
    "df_imdb.plot.scatter(x='gross', y='budget')"
   ]
  },
  {
   "cell_type": "code",
   "execution_count": 311,
   "metadata": {},
   "outputs": [
    {
     "data": {
      "text/plain": [
       "count     93.000000\n",
       "mean     155.634409\n",
       "std       75.056759\n",
       "min      -50.000000\n",
       "25%      138.000000\n",
       "50%      143.000000\n",
       "75%      154.000000\n",
       "max      650.000000\n",
       "Name: duration, dtype: float64"
      ]
     },
     "execution_count": 311,
     "metadata": {},
     "output_type": "execute_result"
    }
   ],
   "source": [
    "df_imdb.duration.describe()"
   ]
  },
  {
   "cell_type": "code",
   "execution_count": 312,
   "metadata": {},
   "outputs": [
    {
     "data": {
      "text/plain": [
       "<AxesSubplot:>"
      ]
     },
     "execution_count": 312,
     "metadata": {},
     "output_type": "execute_result"
    },
    {
     "data": {
      "image/png": "[encoded data removed]",
      "text/plain": [
       "<Figure size 432x288 with 1 Axes>"
      ]
     },
     "metadata": {
      "needs_background": "light"
     },
     "output_type": "display_data"
    }
   ],
   "source": [
    "df_imdb.duration.plot(kind='box')"
   ]
  },
  {
   "cell_type": "code",
   "execution_count": 313,
   "metadata": {},
   "outputs": [
    {
     "data": {
      "text/html": [
       "<div>\n",
       "<style scoped>\n",
       "    .dataframe tbody tr th:only-of-type {\n",
       "        vertical-align: middle;\n",
       "    }\n",
       "\n",
       "    .dataframe tbody tr th {\n",
       "        vertical-align: top;\n",
       "    }\n",
       "\n",
       "    .dataframe thead th {\n",
       "        text-align: right;\n",
       "    }\n",
       "</style>\n",
       "<table border=\"1\" class=\"dataframe\">\n",
       "  <thead>\n",
       "    <tr style=\"text-align: right;\">\n",
       "      <th></th>\n",
       "      <th>color</th>\n",
       "      <th>director_name</th>\n",
       "      <th>duration</th>\n",
       "      <th>gross</th>\n",
       "      <th>genres</th>\n",
       "      <th>movie_title</th>\n",
       "      <th>title_year</th>\n",
       "      <th>country</th>\n",
       "      <th>budget</th>\n",
       "      <th>imdb_score</th>\n",
       "      <th>actors</th>\n",
       "      <th>movie_facebook_likes</th>\n",
       "    </tr>\n",
       "  </thead>\n",
       "  <tbody>\n",
       "    <tr>\n",
       "      <th>6</th>\n",
       "      <td>Color</td>\n",
       "      <td>Peter Jackson</td>\n",
       "      <td>-50</td>\n",
       "      <td>303001229.0</td>\n",
       "      <td>Adventure|Fantasy</td>\n",
       "      <td>the hobbit: an unexpected journey</td>\n",
       "      <td>2012</td>\n",
       "      <td>United States</td>\n",
       "      <td>180000000.0</td>\n",
       "      <td>7.9</td>\n",
       "      <td>Aidan Turner,Adam Brown,James Nesbitt</td>\n",
       "      <td>166000</td>\n",
       "    </tr>\n",
       "    <tr>\n",
       "      <th>98</th>\n",
       "      <td>Color</td>\n",
       "      <td>Clint Eastwood</td>\n",
       "      <td>5</td>\n",
       "      <td>47034272.0</td>\n",
       "      <td>Biography|Drama|Music|Musical</td>\n",
       "      <td>jersey boys</td>\n",
       "      <td>2014</td>\n",
       "      <td>United States</td>\n",
       "      <td>40000000.0</td>\n",
       "      <td>6.9</td>\n",
       "      <td>Johnny Cannizzaro,Steve Schirripa,Scott Vance</td>\n",
       "      <td>16000</td>\n",
       "    </tr>\n",
       "  </tbody>\n",
       "</table>\n",
       "</div>"
      ],
      "text/plain": [
       "    color   director_name  duration        gross  \\\n",
       "6   Color   Peter Jackson       -50  303001229.0   \n",
       "98  Color  Clint Eastwood         5   47034272.0   \n",
       "\n",
       "                           genres                        movie_title  \\\n",
       "6               Adventure|Fantasy  the hobbit: an unexpected journey   \n",
       "98  Biography|Drama|Music|Musical                        jersey boys   \n",
       "\n",
       "    title_year        country       budget  imdb_score  \\\n",
       "6         2012  United States  180000000.0         7.9   \n",
       "98        2014  United States   40000000.0         6.9   \n",
       "\n",
       "                                           actors  movie_facebook_likes  \n",
       "6           Aidan Turner,Adam Brown,James Nesbitt                166000  \n",
       "98  Johnny Cannizzaro,Steve Schirripa,Scott Vance                 16000  "
      ]
     },
     "execution_count": 313,
     "metadata": {},
     "output_type": "execute_result"
    }
   ],
   "source": [
    "df_imdb[df_imdb.duration < 50]"
   ]
  },
  {
   "cell_type": "code",
   "execution_count": 314,
   "metadata": {},
   "outputs": [
    {
     "data": {
      "text/html": [
       "<div>\n",
       "<style scoped>\n",
       "    .dataframe tbody tr th:only-of-type {\n",
       "        vertical-align: middle;\n",
       "    }\n",
       "\n",
       "    .dataframe tbody tr th {\n",
       "        vertical-align: top;\n",
       "    }\n",
       "\n",
       "    .dataframe thead th {\n",
       "        text-align: right;\n",
       "    }\n",
       "</style>\n",
       "<table border=\"1\" class=\"dataframe\">\n",
       "  <thead>\n",
       "    <tr style=\"text-align: right;\">\n",
       "      <th></th>\n",
       "      <th>color</th>\n",
       "      <th>director_name</th>\n",
       "      <th>duration</th>\n",
       "      <th>gross</th>\n",
       "      <th>genres</th>\n",
       "      <th>movie_title</th>\n",
       "      <th>title_year</th>\n",
       "      <th>country</th>\n",
       "      <th>budget</th>\n",
       "      <th>imdb_score</th>\n",
       "      <th>actors</th>\n",
       "      <th>movie_facebook_likes</th>\n",
       "    </tr>\n",
       "  </thead>\n",
       "  <tbody>\n",
       "    <tr>\n",
       "      <th>16</th>\n",
       "      <td>Color</td>\n",
       "      <td>Quentin Tarantino</td>\n",
       "      <td>580</td>\n",
       "      <td>162804648.0</td>\n",
       "      <td>Drama|Western</td>\n",
       "      <td>django unchained</td>\n",
       "      <td>2012</td>\n",
       "      <td>United States</td>\n",
       "      <td>100000000.0</td>\n",
       "      <td>8.5</td>\n",
       "      <td>Leonardo DiCaprio,Christoph Waltz,Ato Essandoh</td>\n",
       "      <td>199000</td>\n",
       "    </tr>\n",
       "    <tr>\n",
       "      <th>34</th>\n",
       "      <td>Color</td>\n",
       "      <td>Gore Verbinski</td>\n",
       "      <td>650</td>\n",
       "      <td>89289910.0</td>\n",
       "      <td>Action|Adventure|Western</td>\n",
       "      <td>the lone ranger</td>\n",
       "      <td>2013</td>\n",
       "      <td>United States</td>\n",
       "      <td>215000000.0</td>\n",
       "      <td>6.5</td>\n",
       "      <td>Johnny Depp,Ruth Wilson,Tom Wilkinson</td>\n",
       "      <td>48000</td>\n",
       "    </tr>\n",
       "  </tbody>\n",
       "</table>\n",
       "</div>"
      ],
      "text/plain": [
       "    color      director_name  duration        gross                    genres  \\\n",
       "16  Color  Quentin Tarantino       580  162804648.0             Drama|Western   \n",
       "34  Color     Gore Verbinski       650   89289910.0  Action|Adventure|Western   \n",
       "\n",
       "         movie_title  title_year        country       budget  imdb_score  \\\n",
       "16  django unchained        2012  United States  100000000.0         8.5   \n",
       "34   the lone ranger        2013  United States  215000000.0         6.5   \n",
       "\n",
       "                                            actors  movie_facebook_likes  \n",
       "16  Leonardo DiCaprio,Christoph Waltz,Ato Essandoh                199000  \n",
       "34           Johnny Depp,Ruth Wilson,Tom Wilkinson                 48000  "
      ]
     },
     "execution_count": 314,
     "metadata": {},
     "output_type": "execute_result"
    }
   ],
   "source": [
    "df_imdb[df_imdb.duration > 300]"
   ]
  },
  {
   "cell_type": "code",
   "execution_count": 315,
   "metadata": {},
   "outputs": [
    {
     "data": {
      "text/plain": [
       "100.0"
      ]
     },
     "execution_count": 315,
     "metadata": {},
     "output_type": "execute_result"
    }
   ],
   "source": [
    "df_imdb[df_imdb.director_name == 'Peter Jackson'].duration.mean()"
   ]
  },
  {
   "cell_type": "code",
   "execution_count": 316,
   "metadata": {},
   "outputs": [
    {
     "data": {
      "text/plain": [
       "5.0"
      ]
     },
     "execution_count": 316,
     "metadata": {},
     "output_type": "execute_result"
    }
   ],
   "source": [
    "df_imdb[df_imdb.director_name == 'Clint Eastwood'].duration.mean()"
   ]
  },
  {
   "cell_type": "code",
   "execution_count": 317,
   "metadata": {},
   "outputs": [
    {
     "data": {
      "text/plain": [
       "383.5"
      ]
     },
     "execution_count": 317,
     "metadata": {},
     "output_type": "execute_result"
    }
   ],
   "source": [
    "df_imdb[df_imdb.director_name == 'Quentin Tarantino'].duration.mean()"
   ]
  },
  {
   "cell_type": "code",
   "execution_count": 318,
   "metadata": {},
   "outputs": [
    {
     "data": {
      "text/plain": [
       "650.0"
      ]
     },
     "execution_count": 318,
     "metadata": {},
     "output_type": "execute_result"
    }
   ],
   "source": [
    "df_imdb[df_imdb.director_name == 'Gore Verbinski'].duration.mean()"
   ]
  },
  {
   "cell_type": "code",
   "execution_count": 319,
   "metadata": {},
   "outputs": [
    {
     "data": {
      "text/plain": [
       "2"
      ]
     },
     "execution_count": 319,
     "metadata": {},
     "output_type": "execute_result"
    }
   ],
   "source": [
    "# to check how many movies a director did\n",
    "df_imdb[df_imdb.director_name == 'Quentin Tarantino'].duration.count()"
   ]
  },
  {
   "cell_type": "code",
   "execution_count": 320,
   "metadata": {},
   "outputs": [
    {
     "data": {
      "text/plain": [
       "149.31460674157304"
      ]
     },
     "execution_count": 320,
     "metadata": {},
     "output_type": "execute_result"
    }
   ],
   "source": [
    "df_imdb[(df_imdb.duration > 50)&(df_imdb.duration < 300)].duration.mean()"
   ]
  },
  {
   "cell_type": "code",
   "execution_count": 321,
   "metadata": {},
   "outputs": [],
   "source": [
    "duration_mean = round(df_imdb[(df_imdb.duration > 50)&(df_imdb.duration < 300)].duration.mean())\n",
    "df_imdb.loc[df_imdb.duration < 50, \"duration\"] = duration_mean\n",
    "df_imdb.loc[df_imdb.duration > 300, \"duration\"] = duration_mean"
   ]
  },
  {
   "cell_type": "code",
   "execution_count": 322,
   "metadata": {},
   "outputs": [
    {
     "data": {
      "text/plain": [
       "<AxesSubplot:>"
      ]
     },
     "execution_count": 322,
     "metadata": {},
     "output_type": "execute_result"
    },
    {
     "data": {
      "image/png": "[encoded data removed]",
      "text/plain": [
       "<Figure size 432x288 with 1 Axes>"
      ]
     },
     "metadata": {
      "needs_background": "light"
     },
     "output_type": "display_data"
    }
   ],
   "source": [
    "df_imdb.duration.plot(kind='box')"
   ]
  },
  {
   "cell_type": "code",
   "execution_count": 323,
   "metadata": {},
   "outputs": [
    {
     "data": {
      "text/plain": [
       "0                the wolf of wall street\n",
       "1                             iron man 3\n",
       "2                      the hateful eight\n",
       "3                               margaret\n",
       "4    the hobbit: the desolation of smaug\n",
       "Name: movie_title, dtype: object"
      ]
     },
     "execution_count": 323,
     "metadata": {},
     "output_type": "execute_result"
    }
   ],
   "source": [
    "df_imdb.movie_title.head()"
   ]
  },
  {
   "cell_type": "code",
   "execution_count": 324,
   "metadata": {},
   "outputs": [
    {
     "data": {
      "text/plain": [
       "0                The Wolf Of Wall Street\n",
       "1                             Iron Man 3\n",
       "2                      The Hateful Eight\n",
       "3                               Margaret\n",
       "4    The Hobbit: The Desolation Of Smaug\n",
       "Name: movie_title, dtype: object"
      ]
     },
     "execution_count": 324,
     "metadata": {},
     "output_type": "execute_result"
    }
   ],
   "source": [
    "df_imdb[\"movie_title\"] = df_imdb.movie_title.str.title()\n",
    "df_imdb.movie_title.head()"
   ]
  },
  {
   "cell_type": "code",
   "execution_count": 325,
   "metadata": {},
   "outputs": [
    {
     "data": {
      "text/plain": [
       " 2014    21\n",
       " 2012    19\n",
       " 2013    17\n",
       " 2011    10\n",
       " 2015     8\n",
       " 2010     7\n",
       " 2016     6\n",
       " 202      1\n",
       "-1000     1\n",
       " 2030     1\n",
       " 1800     1\n",
       " 205      1\n",
       "Name: title_year, dtype: int64"
      ]
     },
     "execution_count": 325,
     "metadata": {},
     "output_type": "execute_result"
    }
   ],
   "source": [
    "df_imdb.title_year.value_counts(dropna=False)"
   ]
  },
  {
   "cell_type": "code",
   "execution_count": 326,
   "metadata": {},
   "outputs": [
    {
     "data": {
      "text/plain": [
       "2014    21\n",
       "2012    19\n",
       "2013    17\n",
       "2011    10\n",
       "2015     8\n",
       "2010     7\n",
       "2016     6\n",
       "Name: title_year, dtype: int64"
      ]
     },
     "execution_count": 326,
     "metadata": {},
     "output_type": "execute_result"
    }
   ],
   "source": [
    "df_imdb = df_imdb[(df_imdb.title_year> 2000) & (df_imdb.title_year < 2021)]\n",
    "df_imdb.title_year.value_counts(dropna=False)"
   ]
  },
  {
   "cell_type": "code",
   "execution_count": 327,
   "metadata": {},
   "outputs": [
    {
     "data": {
      "text/plain": [
       "<AxesSubplot:>"
      ]
     },
     "execution_count": 327,
     "metadata": {},
     "output_type": "execute_result"
    },
    {
     "data": {
      "image/png": "[encoded data removed]",
      "text/plain": [
       "<Figure size 432x288 with 1 Axes>"
      ]
     },
     "metadata": {
      "needs_background": "light"
     },
     "output_type": "display_data"
    }
   ],
   "source": [
    "df_imdb.imdb_score.plot(kind='box')"
   ]
  },
  {
   "cell_type": "code",
   "execution_count": 328,
   "metadata": {},
   "outputs": [
    {
     "data": {
      "text/plain": [
       "0    8.2\n",
       "1    7.2\n",
       "2    7.9\n",
       "3    6.5\n",
       "4    7.9\n",
       "Name: imdb_score, dtype: float64"
      ]
     },
     "execution_count": 328,
     "metadata": {},
     "output_type": "execute_result"
    }
   ],
   "source": [
    "df_imdb.imdb_score.head()"
   ]
  },
  {
   "cell_type": "code",
   "execution_count": 329,
   "metadata": {},
   "outputs": [
    {
     "name": "stderr",
     "output_type": "stream",
     "text": [
      "/Library/Frameworks/Python.framework/Versions/3.9/lib/python3.9/site-packages/pandas/core/indexing.py:1817: SettingWithCopyWarning: \n",
      "A value is trying to be set on a copy of a slice from a DataFrame.\n",
      "Try using .loc[row_indexer,col_indexer] = value instead\n",
      "\n",
      "See the caveats in the documentation: https://pandas.pydata.org/pandas-docs/stable/user_guide/indexing.html#returning-a-view-versus-a-copy\n",
      "  self._setitem_single_column(loc, value, pi)\n"
     ]
    }
   ],
   "source": [
    "score_mean = round(df_imdb[df_imdb.imdb_score >0].imdb_score.mean(), 1)\n",
    "df_imdb.loc[df_imdb.imdb_score< 0, \"imdb_score\"] = score_mean"
   ]
  },
  {
   "cell_type": "code",
   "execution_count": 330,
   "metadata": {},
   "outputs": [
    {
     "data": {
      "text/plain": [
       "7.2"
      ]
     },
     "execution_count": 330,
     "metadata": {},
     "output_type": "execute_result"
    }
   ],
   "source": [
    "score_mean"
   ]
  },
  {
   "cell_type": "code",
   "execution_count": 331,
   "metadata": {},
   "outputs": [
    {
     "data": {
      "text/plain": [
       "<AxesSubplot:>"
      ]
     },
     "execution_count": 331,
     "metadata": {},
     "output_type": "execute_result"
    },
    {
     "data": {
      "image/png": "[encoded data removed]",
      "text/plain": [
       "<Figure size 432x288 with 1 Axes>"
      ]
     },
     "metadata": {
      "needs_background": "light"
     },
     "output_type": "display_data"
    }
   ],
   "source": [
    "df_imdb.imdb_score.plot(kind='box')"
   ]
  },
  {
   "cell_type": "code",
   "execution_count": 332,
   "metadata": {},
   "outputs": [
    {
     "data": {
      "text/plain": [
       "0    Leonardo DiCaprio,Matthew McConaughey,Jon Favreau\n",
       "1            Robert Downey Jr.,Jon Favreau,Don Cheadle\n",
       "2            Craig Stark,Jennifer Jason Leigh,Zoë Bell\n",
       "3          Matt Damon,Kieran Culkin,John Gallagher Jr.\n",
       "4                Aidan Turner,Adam Brown,James Nesbitt\n",
       "Name: actors, dtype: object"
      ]
     },
     "execution_count": 332,
     "metadata": {},
     "output_type": "execute_result"
    }
   ],
   "source": [
    "df_imdb.actors.head()"
   ]
  },
  {
   "cell_type": "code",
   "execution_count": 333,
   "metadata": {},
   "outputs": [],
   "source": [
    "df_imdb.to_csv('04_imdb.csv')"
   ]
  },
  {
   "cell_type": "code",
   "execution_count": 334,
   "metadata": {},
   "outputs": [],
   "source": [
    "extra = df_imdb.copy()"
   ]
  },
  {
   "cell_type": "code",
   "execution_count": 335,
   "metadata": {},
   "outputs": [
    {
     "data": {
      "text/plain": [
       "0    240\n",
       "1    195\n",
       "2    187\n",
       "3    186\n",
       "4    186\n",
       "Name: duration, dtype: int64"
      ]
     },
     "execution_count": 335,
     "metadata": {},
     "output_type": "execute_result"
    }
   ],
   "source": [
    "extra.duration.head()"
   ]
  },
  {
   "cell_type": "markdown",
   "metadata": {},
   "source": [
    "Extra examples"
   ]
  },
  {
   "cell_type": "code",
   "execution_count": 336,
   "metadata": {},
   "outputs": [
    {
     "name": "stdout",
     "output_type": "stream",
     "text": [
      "[0.72622167 0.08709983 0.08035373 0.13485548]\n",
      "[ 0.28951654 -1.95294166 -0.18607235  0.89893244  0.06833634 -0.66991842]\n",
      "[4 3 9 2 2]\n",
      "[3.65049599 4.13140071 2.51317042]\n"
     ]
    }
   ],
   "source": [
    "# np.random\n",
    "# https://numpy.org/doc/stable/reference/random/index.html\n",
    "print(np.random.rand(4)) # 4 random integer\n",
    "print(np.random.randn(6)) # 6 random float\n",
    "print(np.random.randint(1, 10, size= 5)) # 5 random integer range from 1 to 10\n",
    "print(np.random.uniform(2, 5, size= 3)) # 3 random float range from 2 to 5"
   ]
  },
  {
   "cell_type": "code",
   "execution_count": 337,
   "metadata": {},
   "outputs": [
    {
     "data": {
      "text/plain": [
       "<AxesSubplot:>"
      ]
     },
     "execution_count": 337,
     "metadata": {},
     "output_type": "execute_result"
    },
    {
     "data": {
      "image/png": "[encoded data removed]",
      "text/plain": [
       "<Figure size 432x288 with 1 Axes>"
      ]
     },
     "metadata": {
      "needs_background": "light"
     },
     "output_type": "display_data"
    }
   ],
   "source": [
    "extra = pd.read_csv(\"03_imdb.csv\",index_col=0)\n",
    "# using 'duration' as example, no NA, only outliers\n",
    "extra.duration.plot(kind='box')"
   ]
  },
  {
   "cell_type": "code",
   "execution_count": 338,
   "metadata": {},
   "outputs": [
    {
     "data": {
      "text/plain": [
       "150"
      ]
     },
     "execution_count": 338,
     "metadata": {},
     "output_type": "execute_result"
    }
   ],
   "source": [
    "# mean\n",
    "duration_mean = round(extra[(extra.duration > 30)&(extra.duration <300)].duration.mean())\n",
    "duration_mean"
   ]
  },
  {
   "cell_type": "code",
   "execution_count": 339,
   "metadata": {},
   "outputs": [],
   "source": [
    "# adding some variance to the mean\n",
    "extra.loc[extra.duration < 30, \"duration\"] = duration_mean + np.random.randint( -10, 10)\n",
    "extra.loc[extra.duration > 300, \"duration\"] = duration_mean + np.random.randint(- 10, 10)"
   ]
  },
  {
   "cell_type": "code",
   "execution_count": 340,
   "metadata": {},
   "outputs": [
    {
     "data": {
      "text/html": [
       "<div>\n",
       "<style scoped>\n",
       "    .dataframe tbody tr th:only-of-type {\n",
       "        vertical-align: middle;\n",
       "    }\n",
       "\n",
       "    .dataframe tbody tr th {\n",
       "        vertical-align: top;\n",
       "    }\n",
       "\n",
       "    .dataframe thead th {\n",
       "        text-align: right;\n",
       "    }\n",
       "</style>\n",
       "<table border=\"1\" class=\"dataframe\">\n",
       "  <thead>\n",
       "    <tr style=\"text-align: right;\">\n",
       "      <th></th>\n",
       "      <th>color</th>\n",
       "      <th>director_name</th>\n",
       "      <th>duration</th>\n",
       "      <th>gross</th>\n",
       "      <th>genres</th>\n",
       "      <th>movie_title</th>\n",
       "      <th>title_year</th>\n",
       "      <th>language</th>\n",
       "      <th>country</th>\n",
       "      <th>budget</th>\n",
       "      <th>imdb_score</th>\n",
       "      <th>actors</th>\n",
       "      <th>movie_facebook_likes</th>\n",
       "    </tr>\n",
       "  </thead>\n",
       "  <tbody>\n",
       "    <tr>\n",
       "      <th>2</th>\n",
       "      <td>color</td>\n",
       "      <td>Quentin Tarantino</td>\n",
       "      <td>187</td>\n",
       "      <td>54116191.0</td>\n",
       "      <td>Crime|Drama|Mystery|Thriller|Western</td>\n",
       "      <td>the hateful eight</td>\n",
       "      <td>2015</td>\n",
       "      <td>English</td>\n",
       "      <td>United States</td>\n",
       "      <td>44000000.0</td>\n",
       "      <td>7.9</td>\n",
       "      <td>Craig Stark,Jennifer Jason Leigh,Zoë Bell</td>\n",
       "      <td>114000</td>\n",
       "    </tr>\n",
       "    <tr>\n",
       "      <th>4</th>\n",
       "      <td>Color</td>\n",
       "      <td>Peter Jackson</td>\n",
       "      <td>186</td>\n",
       "      <td>258355354.0</td>\n",
       "      <td>Adventure|Fantasy</td>\n",
       "      <td>the hobbit: the desolation of smaug</td>\n",
       "      <td>2013</td>\n",
       "      <td>English</td>\n",
       "      <td>United States</td>\n",
       "      <td>225000000.0</td>\n",
       "      <td>7.9</td>\n",
       "      <td>Aidan Turner,Adam Brown,James Nesbitt</td>\n",
       "      <td>83000</td>\n",
       "    </tr>\n",
       "    <tr>\n",
       "      <th>6</th>\n",
       "      <td>Color</td>\n",
       "      <td>Peter Jackson</td>\n",
       "      <td>149</td>\n",
       "      <td>303001229.0</td>\n",
       "      <td>Adventure|Fantasy</td>\n",
       "      <td>the hobbit: an unexpected journey</td>\n",
       "      <td>2012</td>\n",
       "      <td>English</td>\n",
       "      <td>United States</td>\n",
       "      <td>180000000.0</td>\n",
       "      <td>7.9</td>\n",
       "      <td>Aidan Turner,Adam Brown,James Nesbitt</td>\n",
       "      <td>166000</td>\n",
       "    </tr>\n",
       "    <tr>\n",
       "      <th>16</th>\n",
       "      <td>Color</td>\n",
       "      <td>Quentin Tarantino</td>\n",
       "      <td>156</td>\n",
       "      <td>162804648.0</td>\n",
       "      <td>Drama|Western</td>\n",
       "      <td>django unchained</td>\n",
       "      <td>2012</td>\n",
       "      <td>English</td>\n",
       "      <td>United States</td>\n",
       "      <td>100000000.0</td>\n",
       "      <td>8.5</td>\n",
       "      <td>Leonardo DiCaprio,Christoph Waltz,Ato Essandoh</td>\n",
       "      <td>199000</td>\n",
       "    </tr>\n",
       "    <tr>\n",
       "      <th>19</th>\n",
       "      <td>Color</td>\n",
       "      <td>Peter Jackson</td>\n",
       "      <td>164</td>\n",
       "      <td>255108370.0</td>\n",
       "      <td>Adventure|Fantasy</td>\n",
       "      <td>the hobbit: the battle of the five armies</td>\n",
       "      <td>2014</td>\n",
       "      <td>English</td>\n",
       "      <td>New Zealand</td>\n",
       "      <td>250000000.0</td>\n",
       "      <td>7.5</td>\n",
       "      <td>Aidan Turner,Adam Brown,James Nesbitt</td>\n",
       "      <td>65000</td>\n",
       "    </tr>\n",
       "    <tr>\n",
       "      <th>34</th>\n",
       "      <td>Color</td>\n",
       "      <td>Gore Verbinski</td>\n",
       "      <td>156</td>\n",
       "      <td>89289910.0</td>\n",
       "      <td>Action|Adventure|Western</td>\n",
       "      <td>the lone ranger</td>\n",
       "      <td>2013</td>\n",
       "      <td>English</td>\n",
       "      <td>United States</td>\n",
       "      <td>215000000.0</td>\n",
       "      <td>6.5</td>\n",
       "      <td>Johnny Depp,Ruth Wilson,Tom Wilkinson</td>\n",
       "      <td>48000</td>\n",
       "    </tr>\n",
       "    <tr>\n",
       "      <th>98</th>\n",
       "      <td>Color</td>\n",
       "      <td>Clint Eastwood</td>\n",
       "      <td>149</td>\n",
       "      <td>47034272.0</td>\n",
       "      <td>Biography|Drama|Music|Musical</td>\n",
       "      <td>jersey boys</td>\n",
       "      <td>2014</td>\n",
       "      <td>English</td>\n",
       "      <td>United States</td>\n",
       "      <td>40000000.0</td>\n",
       "      <td>6.9</td>\n",
       "      <td>Johnny Cannizzaro,Steve Schirripa,Scott Vance</td>\n",
       "      <td>16000</td>\n",
       "    </tr>\n",
       "  </tbody>\n",
       "</table>\n",
       "</div>"
      ],
      "text/plain": [
       "     color      director_name  duration        gross  \\\n",
       "2   color   Quentin Tarantino       187   54116191.0   \n",
       "4    Color      Peter Jackson       186  258355354.0   \n",
       "6    Color      Peter Jackson       149  303001229.0   \n",
       "16   Color  Quentin Tarantino       156  162804648.0   \n",
       "19   Color      Peter Jackson       164  255108370.0   \n",
       "34   Color     Gore Verbinski       156   89289910.0   \n",
       "98   Color     Clint Eastwood       149   47034272.0   \n",
       "\n",
       "                                  genres  \\\n",
       "2   Crime|Drama|Mystery|Thriller|Western   \n",
       "4                      Adventure|Fantasy   \n",
       "6                      Adventure|Fantasy   \n",
       "16                         Drama|Western   \n",
       "19                     Adventure|Fantasy   \n",
       "34              Action|Adventure|Western   \n",
       "98         Biography|Drama|Music|Musical   \n",
       "\n",
       "                                  movie_title  title_year language  \\\n",
       "2                           the hateful eight        2015  English   \n",
       "4         the hobbit: the desolation of smaug        2013  English   \n",
       "6           the hobbit: an unexpected journey        2012  English   \n",
       "16                           django unchained        2012  English   \n",
       "19  the hobbit: the battle of the five armies        2014  English   \n",
       "34                            the lone ranger        2013  English   \n",
       "98                                jersey boys        2014  English   \n",
       "\n",
       "          country       budget  imdb_score  \\\n",
       "2   United States   44000000.0         7.9   \n",
       "4   United States  225000000.0         7.9   \n",
       "6   United States  180000000.0         7.9   \n",
       "16  United States  100000000.0         8.5   \n",
       "19    New Zealand  250000000.0         7.5   \n",
       "34  United States  215000000.0         6.5   \n",
       "98  United States   40000000.0         6.9   \n",
       "\n",
       "                                            actors  movie_facebook_likes  \n",
       "2        Craig Stark,Jennifer Jason Leigh,Zoë Bell                114000  \n",
       "4            Aidan Turner,Adam Brown,James Nesbitt                 83000  \n",
       "6            Aidan Turner,Adam Brown,James Nesbitt                166000  \n",
       "16  Leonardo DiCaprio,Christoph Waltz,Ato Essandoh                199000  \n",
       "19           Aidan Turner,Adam Brown,James Nesbitt                 65000  \n",
       "34           Johnny Depp,Ruth Wilson,Tom Wilkinson                 48000  \n",
       "98   Johnny Cannizzaro,Steve Schirripa,Scott Vance                 16000  "
      ]
     },
     "execution_count": 340,
     "metadata": {},
     "output_type": "execute_result"
    }
   ],
   "source": [
    "# lets check what value do they have now\n",
    "director_names = ['Peter Jackson', 'Clint Eastwood', 'Quentin Tarantino', 'Gore Verbinski']\n",
    "\n",
    "extra[extra.director_name.isin(director_names)]\n",
    "#we will see that none of the duration is equal to 150 because we added variance "
   ]
  },
  {
   "cell_type": "code",
   "execution_count": 376,
   "metadata": {},
   "outputs": [
    {
     "data": {
      "text/plain": [
       "0     1.0\n",
       "1     NaN\n",
       "2     3.0\n",
       "3     6.0\n",
       "4     7.0\n",
       "5     NaN\n",
       "6     4.0\n",
       "7     2.0\n",
       "8     3.0\n",
       "9     8.0\n",
       "10    3.0\n",
       "11    9.0\n",
       "12    NaN\n",
       "13    6.0\n",
       "14    2.0\n",
       "dtype: float64"
      ]
     },
     "execution_count": 376,
     "metadata": {},
     "output_type": "execute_result"
    }
   ],
   "source": [
    "# time series\n",
    "#pd method interpolate()\n",
    "# https://pandas.pydata.org/docs/reference/api/pandas.DataFrame.interpolate.html\n",
    "s = pd.Series([1, np.nan, 3, 6, 7, np.nan, 4, 2, 3, 8, 3, 9, np.nan, 6, 2])\n",
    "s"
   ]
  },
  {
   "cell_type": "code",
   "execution_count": 378,
   "metadata": {},
   "outputs": [
    {
     "data": {
      "text/plain": [
       "0     1.0\n",
       "1     2.0\n",
       "2     3.0\n",
       "3     6.0\n",
       "4     7.0\n",
       "5     5.5\n",
       "6     4.0\n",
       "7     2.0\n",
       "8     3.0\n",
       "9     8.0\n",
       "10    3.0\n",
       "11    9.0\n",
       "12    7.5\n",
       "13    6.0\n",
       "14    2.0\n",
       "dtype: float64"
      ]
     },
     "execution_count": 378,
     "metadata": {},
     "output_type": "execute_result"
    }
   ],
   "source": [
    "s.interpolate() # filling with average between before and after"
   ]
  },
  {
   "cell_type": "code",
   "execution_count": 379,
   "metadata": {},
   "outputs": [
    {
     "data": {
      "text/plain": [
       "0     1.0\n",
       "1     1.0\n",
       "2     3.0\n",
       "3     6.0\n",
       "4     7.0\n",
       "5     7.0\n",
       "6     4.0\n",
       "7     2.0\n",
       "8     3.0\n",
       "9     8.0\n",
       "10    3.0\n",
       "11    9.0\n",
       "12    9.0\n",
       "13    6.0\n",
       "14    2.0\n",
       "dtype: float64"
      ]
     },
     "execution_count": 379,
     "metadata": {},
     "output_type": "execute_result"
    }
   ],
   "source": [
    "s.interpolate(method='pad') # fill NA with something existed"
   ]
  },
  {
   "cell_type": "code",
   "execution_count": 385,
   "metadata": {},
   "outputs": [
    {
     "data": {
      "text/plain": [
       "0     1.0\n",
       "1     2.4\n",
       "2     3.0\n",
       "3     6.0\n",
       "4     7.0\n",
       "5     5.9\n",
       "6     4.0\n",
       "7     2.0\n",
       "8     3.0\n",
       "9     8.0\n",
       "10    3.0\n",
       "11    9.0\n",
       "12    7.9\n",
       "13    6.0\n",
       "14    2.0\n",
       "dtype: float64"
      ]
     },
     "execution_count": 385,
     "metadata": {},
     "output_type": "execute_result"
    }
   ],
   "source": [
    "# add some randomness\n",
    "nans = s[s.isna()].index.tolist()\n",
    "s_after = s.interpolate()\n",
    "s_after.loc[nans] = s_after.loc[nans] + round(np.random.uniform(0, 1), 1)\n",
    "s_after"
   ]
  },
  {
   "cell_type": "code",
   "execution_count": null,
   "metadata": {},
   "outputs": [],
   "source": []
  }
 ],
 "metadata": {
  "interpreter": {
   "hash": "aee8b7b246df8f9039afb4144a1f6fd8d2ca17a180786b69acc140d282b71a49"
  },
  "kernelspec": {
   "display_name": "Python 3.9.5 64-bit",
   "name": "python3"
  },
  "language_info": {
   "codemirror_mode": {
    "name": "ipython",
    "version": 3
   },
   "file_extension": ".py",
   "mimetype": "text/x-python",
   "name": "python",
   "nbconvert_exporter": "python",
   "pygments_lexer": "ipython3",
   "version": "3.9.5"
  },
  "orig_nbformat": 4
 },
 "nbformat": 4,
 "nbformat_minor": 2
}
