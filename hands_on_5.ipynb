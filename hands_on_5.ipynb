{
 "cells": [
  {
   "cell_type": "code",
   "execution_count": 77,
   "metadata": {},
   "outputs": [],
   "source": [
    "import pandas as pd\n",
    "import numpy as np"
   ]
  },
  {
   "cell_type": "code",
   "execution_count": 78,
   "metadata": {},
   "outputs": [
    {
     "data": {
      "text/html": [
       "<div>\n",
       "<style scoped>\n",
       "    .dataframe tbody tr th:only-of-type {\n",
       "        vertical-align: middle;\n",
       "    }\n",
       "\n",
       "    .dataframe tbody tr th {\n",
       "        vertical-align: top;\n",
       "    }\n",
       "\n",
       "    .dataframe thead th {\n",
       "        text-align: right;\n",
       "    }\n",
       "</style>\n",
       "<table border=\"1\" class=\"dataframe\">\n",
       "  <thead>\n",
       "    <tr style=\"text-align: right;\">\n",
       "      <th></th>\n",
       "      <th>Clothing ID</th>\n",
       "      <th>Age</th>\n",
       "      <th>Title</th>\n",
       "      <th>Review Text</th>\n",
       "      <th>Review Sentiment</th>\n",
       "      <th>Items Bought</th>\n",
       "    </tr>\n",
       "  </thead>\n",
       "  <tbody>\n",
       "    <tr>\n",
       "      <th>0</th>\n",
       "      <td>243</td>\n",
       "      <td>41</td>\n",
       "      <td>Perfect pj's!</td>\n",
       "      <td>I cannot say enough about these pajama pants. they're beautiful and crazy comfortable. it's a nice change from black or grey. i also love that there are no pockets because i hate how they jut out on me. i wanted a petite l because i am short, but the regular large is fine. i just wear them higher up on my hips. i normally wait for sales on sleepwear, but i couldn't resist on these. they're well worth the investment!</td>\n",
       "      <td>Positive</td>\n",
       "      <td>4.0</td>\n",
       "    </tr>\n",
       "    <tr>\n",
       "      <th>1</th>\n",
       "      <td>1081</td>\n",
       "      <td>35</td>\n",
       "      <td>Green not as pictured</td>\n",
       "      <td>I honestly never even tried this on - i ordered it and when it arrived it was not the kelly green color pictured, it was more of a dark bland green color. love the brand and very soft but had to return.</td>\n",
       "      <td>Positive</td>\n",
       "      <td>1.0</td>\n",
       "    </tr>\n",
       "    <tr>\n",
       "      <th>2</th>\n",
       "      <td>861</td>\n",
       "      <td>39</td>\n",
       "      <td>Great casual tshirt!</td>\n",
       "      <td>I love this t-shirt! it is so soft, fits true to size and great with jeans or shorts. i purchased in yellow and plan to purchase other colors!</td>\n",
       "      <td>Positive</td>\n",
       "      <td>10.0</td>\n",
       "    </tr>\n",
       "    <tr>\n",
       "      <th>3</th>\n",
       "      <td>829</td>\n",
       "      <td>47</td>\n",
       "      <td>NaN</td>\n",
       "      <td>Not sure about this yet. reordered larger size because it hits much higher than shown. belly peeked out from under it! ordered 6 and i'm normally a small/6. like the design but really short.,</td>\n",
       "      <td>Neutral</td>\n",
       "      <td>7.0</td>\n",
       "    </tr>\n",
       "    <tr>\n",
       "      <th>4</th>\n",
       "      <td>1121</td>\n",
       "      <td>37</td>\n",
       "      <td>S petite is oversized</td>\n",
       "      <td>I usually wear a s petite so that's what i initially got in this. i'm 5'2\", 32c-27-36. the shoulders were about an inch too wide on either side, the sides along the top had tons of extra fabric (almost like batwings or a dolman cut) and the waist was at least 6\" too big! i'm re-ordering in petite xs and hoping for the best, because this is a gorgeous coat.</td>\n",
       "      <td>Positive</td>\n",
       "      <td>1.0</td>\n",
       "    </tr>\n",
       "  </tbody>\n",
       "</table>\n",
       "</div>"
      ],
      "text/plain": [
       "   Clothing ID  Age                  Title  \\\n",
       "0          243   41          Perfect pj's!   \n",
       "1         1081   35  Green not as pictured   \n",
       "2          861   39   Great casual tshirt!   \n",
       "3          829   47                    NaN   \n",
       "4         1121   37  S petite is oversized   \n",
       "\n",
       "                                                                                                                                                                                                                                                                                                                                                                                                                           Review Text  \\\n",
       "0  I cannot say enough about these pajama pants. they're beautiful and crazy comfortable. it's a nice change from black or grey. i also love that there are no pockets because i hate how they jut out on me. i wanted a petite l because i am short, but the regular large is fine. i just wear them higher up on my hips. i normally wait for sales on sleepwear, but i couldn't resist on these. they're well worth the investment!   \n",
       "1                                                                                                                                                                                                                           I honestly never even tried this on - i ordered it and when it arrived it was not the kelly green color pictured, it was more of a dark bland green color. love the brand and very soft but had to return.   \n",
       "2                                                                                                                                                                                                                                                                                       I love this t-shirt! it is so soft, fits true to size and great with jeans or shorts. i purchased in yellow and plan to purchase other colors!   \n",
       "3                                                                                                                                                                                                                                      Not sure about this yet. reordered larger size because it hits much higher than shown. belly peeked out from under it! ordered 6 and i'm normally a small/6. like the design but really short.,   \n",
       "4                                                               I usually wear a s petite so that's what i initially got in this. i'm 5'2\", 32c-27-36. the shoulders were about an inch too wide on either side, the sides along the top had tons of extra fabric (almost like batwings or a dolman cut) and the waist was at least 6\" too big! i'm re-ordering in petite xs and hoping for the best, because this is a gorgeous coat.   \n",
       "\n",
       "  Review Sentiment  Items Bought  \n",
       "0         Positive           4.0  \n",
       "1         Positive           1.0  \n",
       "2         Positive          10.0  \n",
       "3          Neutral           7.0  \n",
       "4         Positive           1.0  "
      ]
     },
     "execution_count": 78,
     "metadata": {},
     "output_type": "execute_result"
    }
   ],
   "source": [
    "df = pd.read_csv(\"05_clothing_inicial.csv\")\n",
    "df.head()"
   ]
  },
  {
   "cell_type": "code",
   "execution_count": 79,
   "metadata": {},
   "outputs": [
    {
     "data": {
      "text/plain": [
       "(5872, 6)"
      ]
     },
     "execution_count": 79,
     "metadata": {},
     "output_type": "execute_result"
    }
   ],
   "source": [
    "df.shape"
   ]
  },
  {
   "cell_type": "code",
   "execution_count": 80,
   "metadata": {},
   "outputs": [
    {
     "name": "stdout",
     "output_type": "stream",
     "text": [
      "<class 'pandas.core.frame.DataFrame'>\n",
      "RangeIndex: 5872 entries, 0 to 5871\n",
      "Data columns (total 6 columns):\n",
      " #   Column            Non-Null Count  Dtype  \n",
      "---  ------            --------------  -----  \n",
      " 0   Clothing ID       5872 non-null   int64  \n",
      " 1   Age               5872 non-null   int64  \n",
      " 2   Title             4860 non-null   object \n",
      " 3   Review Text       5633 non-null   object \n",
      " 4   Review Sentiment  5872 non-null   object \n",
      " 5   Items Bought      5872 non-null   float64\n",
      "dtypes: float64(1), int64(2), object(3)\n",
      "memory usage: 275.4+ KB\n"
     ]
    }
   ],
   "source": [
    "df.info()"
   ]
  },
  {
   "cell_type": "code",
   "execution_count": 81,
   "metadata": {},
   "outputs": [
    {
     "data": {
      "text/plain": [
       "Index(['clothing_id', 'age', 'title', 'review_text', 'review_sentiment',\n",
       "       'items_bought'],\n",
       "      dtype='object')"
      ]
     },
     "execution_count": 81,
     "metadata": {},
     "output_type": "execute_result"
    }
   ],
   "source": [
    "df.columns = [col.strip().lower().replace(\" \", \"_\") for col in df.columns]\n",
    "df.columns"
   ]
  },
  {
   "cell_type": "code",
   "execution_count": 82,
   "metadata": {},
   "outputs": [
    {
     "data": {
      "text/plain": [
       "clothing_id            0\n",
       "age                    0\n",
       "title               1012\n",
       "review_text          239\n",
       "review_sentiment       0\n",
       "items_bought           0\n",
       "dtype: int64"
      ]
     },
     "execution_count": 82,
     "metadata": {},
     "output_type": "execute_result"
    }
   ],
   "source": [
    "df.isna().sum()"
   ]
  },
  {
   "cell_type": "code",
   "execution_count": 83,
   "metadata": {},
   "outputs": [
    {
     "data": {
      "text/plain": [
       "0       False\n",
       "1       False\n",
       "2       False\n",
       "3       False\n",
       "4       False\n",
       "        ...  \n",
       "5867    False\n",
       "5868    False\n",
       "5869    False\n",
       "5870    False\n",
       "5871    False\n",
       "Length: 5872, dtype: bool"
      ]
     },
     "execution_count": 83,
     "metadata": {},
     "output_type": "execute_result"
    }
   ],
   "source": [
    "df[[\"title\", \"review_text\"]].isna().all(axis=1)"
   ]
  },
  {
   "cell_type": "code",
   "execution_count": 84,
   "metadata": {},
   "outputs": [
    {
     "data": {
      "text/html": [
       "<div>\n",
       "<style scoped>\n",
       "    .dataframe tbody tr th:only-of-type {\n",
       "        vertical-align: middle;\n",
       "    }\n",
       "\n",
       "    .dataframe tbody tr th {\n",
       "        vertical-align: top;\n",
       "    }\n",
       "\n",
       "    .dataframe thead th {\n",
       "        text-align: right;\n",
       "    }\n",
       "</style>\n",
       "<table border=\"1\" class=\"dataframe\">\n",
       "  <thead>\n",
       "    <tr style=\"text-align: right;\">\n",
       "      <th></th>\n",
       "      <th>clothing_id</th>\n",
       "      <th>age</th>\n",
       "      <th>title</th>\n",
       "      <th>review_text</th>\n",
       "      <th>review_sentiment</th>\n",
       "      <th>items_bought</th>\n",
       "    </tr>\n",
       "  </thead>\n",
       "  <tbody>\n",
       "    <tr>\n",
       "      <th>16</th>\n",
       "      <td>861</td>\n",
       "      <td>33</td>\n",
       "      <td>NaN</td>\n",
       "      <td>NaN</td>\n",
       "      <td>Positive</td>\n",
       "      <td>2.0</td>\n",
       "    </tr>\n",
       "    <tr>\n",
       "      <th>48</th>\n",
       "      <td>895</td>\n",
       "      <td>34</td>\n",
       "      <td>NaN</td>\n",
       "      <td>NaN</td>\n",
       "      <td>Positive</td>\n",
       "      <td>4.0</td>\n",
       "    </tr>\n",
       "    <tr>\n",
       "      <th>74</th>\n",
       "      <td>872</td>\n",
       "      <td>67</td>\n",
       "      <td>NaN</td>\n",
       "      <td>NaN</td>\n",
       "      <td>Positive</td>\n",
       "      <td>1.0</td>\n",
       "    </tr>\n",
       "    <tr>\n",
       "      <th>77</th>\n",
       "      <td>1009</td>\n",
       "      <td>27</td>\n",
       "      <td>NaN</td>\n",
       "      <td>NaN</td>\n",
       "      <td>Positive</td>\n",
       "      <td>2.0</td>\n",
       "    </tr>\n",
       "    <tr>\n",
       "      <th>102</th>\n",
       "      <td>1104</td>\n",
       "      <td>35</td>\n",
       "      <td>NaN</td>\n",
       "      <td>NaN</td>\n",
       "      <td>Positive</td>\n",
       "      <td>1.0</td>\n",
       "    </tr>\n",
       "    <tr>\n",
       "      <th>...</th>\n",
       "      <td>...</td>\n",
       "      <td>...</td>\n",
       "      <td>...</td>\n",
       "      <td>...</td>\n",
       "      <td>...</td>\n",
       "      <td>...</td>\n",
       "    </tr>\n",
       "    <tr>\n",
       "      <th>5805</th>\n",
       "      <td>1042</td>\n",
       "      <td>32</td>\n",
       "      <td>NaN</td>\n",
       "      <td>NaN</td>\n",
       "      <td>Neutral</td>\n",
       "      <td>3.0</td>\n",
       "    </tr>\n",
       "    <tr>\n",
       "      <th>5829</th>\n",
       "      <td>1054</td>\n",
       "      <td>29</td>\n",
       "      <td>NaN</td>\n",
       "      <td>NaN</td>\n",
       "      <td>Negative</td>\n",
       "      <td>3.0</td>\n",
       "    </tr>\n",
       "    <tr>\n",
       "      <th>5833</th>\n",
       "      <td>1072</td>\n",
       "      <td>68</td>\n",
       "      <td>NaN</td>\n",
       "      <td>NaN</td>\n",
       "      <td>Negative</td>\n",
       "      <td>4.0</td>\n",
       "    </tr>\n",
       "    <tr>\n",
       "      <th>5854</th>\n",
       "      <td>831</td>\n",
       "      <td>55</td>\n",
       "      <td>NaN</td>\n",
       "      <td>NaN</td>\n",
       "      <td>Positive</td>\n",
       "      <td>1.0</td>\n",
       "    </tr>\n",
       "    <tr>\n",
       "      <th>5855</th>\n",
       "      <td>984</td>\n",
       "      <td>34</td>\n",
       "      <td>NaN</td>\n",
       "      <td>NaN</td>\n",
       "      <td>Positive</td>\n",
       "      <td>1.0</td>\n",
       "    </tr>\n",
       "  </tbody>\n",
       "</table>\n",
       "<p>239 rows × 6 columns</p>\n",
       "</div>"
      ],
      "text/plain": [
       "      clothing_id  age title review_text review_sentiment  items_bought\n",
       "16            861   33   NaN         NaN         Positive           2.0\n",
       "48            895   34   NaN         NaN         Positive           4.0\n",
       "74            872   67   NaN         NaN         Positive           1.0\n",
       "77           1009   27   NaN         NaN         Positive           2.0\n",
       "102          1104   35   NaN         NaN         Positive           1.0\n",
       "...           ...  ...   ...         ...              ...           ...\n",
       "5805         1042   32   NaN         NaN          Neutral           3.0\n",
       "5829         1054   29   NaN         NaN         Negative           3.0\n",
       "5833         1072   68   NaN         NaN         Negative           4.0\n",
       "5854          831   55   NaN         NaN         Positive           1.0\n",
       "5855          984   34   NaN         NaN         Positive           1.0\n",
       "\n",
       "[239 rows x 6 columns]"
      ]
     },
     "execution_count": 84,
     "metadata": {},
     "output_type": "execute_result"
    }
   ],
   "source": [
    "df[df[[\"title\", \"review_text\"]].isna().all(axis=1)]"
   ]
  },
  {
   "cell_type": "code",
   "execution_count": 85,
   "metadata": {},
   "outputs": [
    {
     "data": {
      "text/plain": [
       "(5633, 6)"
      ]
     },
     "execution_count": 85,
     "metadata": {},
     "output_type": "execute_result"
    }
   ],
   "source": [
    "df = df[~df[[\"title\", \"review_text\"]].isna().all(axis=1)]\n",
    "df.shape"
   ]
  },
  {
   "cell_type": "code",
   "execution_count": 86,
   "metadata": {},
   "outputs": [
    {
     "data": {
      "text/plain": [
       "clothing_id         False\n",
       "age                 False\n",
       "title               False\n",
       "review_text         False\n",
       "review_sentiment    False\n",
       "items_bought        False\n",
       "dtype: bool"
      ]
     },
     "execution_count": 86,
     "metadata": {},
     "output_type": "execute_result"
    }
   ],
   "source": [
    "df.title.fillna(\"\", inplace=True)\n",
    "df.isna().any()"
   ]
  },
  {
   "cell_type": "code",
   "execution_count": 87,
   "metadata": {},
   "outputs": [],
   "source": [
    "pd.set_option('display.max_colwidth', None)"
   ]
  },
  {
   "cell_type": "code",
   "execution_count": 88,
   "metadata": {},
   "outputs": [
    {
     "data": {
      "text/html": [
       "<div>\n",
       "<style scoped>\n",
       "    .dataframe tbody tr th:only-of-type {\n",
       "        vertical-align: middle;\n",
       "    }\n",
       "\n",
       "    .dataframe tbody tr th {\n",
       "        vertical-align: top;\n",
       "    }\n",
       "\n",
       "    .dataframe thead th {\n",
       "        text-align: right;\n",
       "    }\n",
       "</style>\n",
       "<table border=\"1\" class=\"dataframe\">\n",
       "  <thead>\n",
       "    <tr style=\"text-align: right;\">\n",
       "      <th></th>\n",
       "      <th>title</th>\n",
       "      <th>review_text</th>\n",
       "    </tr>\n",
       "  </thead>\n",
       "  <tbody>\n",
       "    <tr>\n",
       "      <th>0</th>\n",
       "      <td>Perfect pj's!</td>\n",
       "      <td>I cannot say enough about these pajama pants. they're beautiful and crazy comfortable. it's a nice change from black or grey. i also love that there are no pockets because i hate how they jut out on me. i wanted a petite l because i am short, but the regular large is fine. i just wear them higher up on my hips. i normally wait for sales on sleepwear, but i couldn't resist on these. they're well worth the investment!</td>\n",
       "    </tr>\n",
       "    <tr>\n",
       "      <th>1</th>\n",
       "      <td>Green not as pictured</td>\n",
       "      <td>I honestly never even tried this on - i ordered it and when it arrived it was not the kelly green color pictured, it was more of a dark bland green color. love the brand and very soft but had to return.</td>\n",
       "    </tr>\n",
       "    <tr>\n",
       "      <th>2</th>\n",
       "      <td>Great casual tshirt!</td>\n",
       "      <td>I love this t-shirt! it is so soft, fits true to size and great with jeans or shorts. i purchased in yellow and plan to purchase other colors!</td>\n",
       "    </tr>\n",
       "    <tr>\n",
       "      <th>4</th>\n",
       "      <td>S petite is oversized</td>\n",
       "      <td>I usually wear a s petite so that's what i initially got in this. i'm 5'2\", 32c-27-36. the shoulders were about an inch too wide on either side, the sides along the top had tons of extra fabric (almost like batwings or a dolman cut) and the waist was at least 6\" too big! i'm re-ordering in petite xs and hoping for the best, because this is a gorgeous coat.</td>\n",
       "    </tr>\n",
       "    <tr>\n",
       "      <th>6</th>\n",
       "      <td></td>\n",
       "      <td>Super soft, cozy cardigan! i have a long torso and this is just the right length to cover my behind! i wish retailer would carry more sweaters with this shape. the sweater is soft and light - perfect for every day and you could wear it year round, although with its lighter weight, it might not be as perfect for winter. i purchased this in the kelly green color and it's gorgeous. i have it on right now!</td>\n",
       "    </tr>\n",
       "  </tbody>\n",
       "</table>\n",
       "</div>"
      ],
      "text/plain": [
       "                   title  \\\n",
       "0          Perfect pj's!   \n",
       "1  Green not as pictured   \n",
       "2   Great casual tshirt!   \n",
       "4  S petite is oversized   \n",
       "6                          \n",
       "\n",
       "                                                                                                                                                                                                                                                                                                                                                                                                                           review_text  \n",
       "0  I cannot say enough about these pajama pants. they're beautiful and crazy comfortable. it's a nice change from black or grey. i also love that there are no pockets because i hate how they jut out on me. i wanted a petite l because i am short, but the regular large is fine. i just wear them higher up on my hips. i normally wait for sales on sleepwear, but i couldn't resist on these. they're well worth the investment!  \n",
       "1                                                                                                                                                                                                                           I honestly never even tried this on - i ordered it and when it arrived it was not the kelly green color pictured, it was more of a dark bland green color. love the brand and very soft but had to return.  \n",
       "2                                                                                                                                                                                                                                                                                       I love this t-shirt! it is so soft, fits true to size and great with jeans or shorts. i purchased in yellow and plan to purchase other colors!  \n",
       "4                                                               I usually wear a s petite so that's what i initially got in this. i'm 5'2\", 32c-27-36. the shoulders were about an inch too wide on either side, the sides along the top had tons of extra fabric (almost like batwings or a dolman cut) and the waist was at least 6\" too big! i'm re-ordering in petite xs and hoping for the best, because this is a gorgeous coat.  \n",
       "6                Super soft, cozy cardigan! i have a long torso and this is just the right length to cover my behind! i wish retailer would carry more sweaters with this shape. the sweater is soft and light - perfect for every day and you could wear it year round, although with its lighter weight, it might not be as perfect for winter. i purchased this in the kelly green color and it's gorgeous. i have it on right now!  "
      ]
     },
     "execution_count": 88,
     "metadata": {},
     "output_type": "execute_result"
    }
   ],
   "source": [
    "df[df['review_sentiment']=='Positive'].head(5)[['title','review_text']]"
   ]
  },
  {
   "cell_type": "code",
   "execution_count": 89,
   "metadata": {},
   "outputs": [
    {
     "data": {
      "text/html": [
       "<div>\n",
       "<style scoped>\n",
       "    .dataframe tbody tr th:only-of-type {\n",
       "        vertical-align: middle;\n",
       "    }\n",
       "\n",
       "    .dataframe tbody tr th {\n",
       "        vertical-align: top;\n",
       "    }\n",
       "\n",
       "    .dataframe thead th {\n",
       "        text-align: right;\n",
       "    }\n",
       "</style>\n",
       "<table border=\"1\" class=\"dataframe\">\n",
       "  <thead>\n",
       "    <tr style=\"text-align: right;\">\n",
       "      <th></th>\n",
       "      <th>title</th>\n",
       "      <th>review_text</th>\n",
       "    </tr>\n",
       "  </thead>\n",
       "  <tbody>\n",
       "    <tr>\n",
       "      <th>3</th>\n",
       "      <td></td>\n",
       "      <td>Not sure about this yet. reordered larger size because it hits much higher than shown. belly peeked out from under it! ordered 6 and i'm normally a small/6. like the design but really short.,</td>\n",
       "    </tr>\n",
       "    <tr>\n",
       "      <th>14</th>\n",
       "      <td>Belia peplum top</td>\n",
       "      <td>I really wanted this top to work but i felt that it was big and boxy. it's shorter in the front and longer in the back. the seam and peplum hit at a strange place and made me look disheveled. it's definitely worth trying on, but didn't fit me.</td>\n",
       "    </tr>\n",
       "    <tr>\n",
       "      <th>26</th>\n",
       "      <td>Nice top but couldn't get over the bubble hem</td>\n",
       "      <td>I like the pattern and material on this top but the bubble hem isn't flattering on my figure. i would recommend this top if you are tiny and petite.</td>\n",
       "    </tr>\n",
       "    <tr>\n",
       "      <th>38</th>\n",
       "      <td>Disappointed!</td>\n",
       "      <td>I wanted to love this dress because the color is so amazing, but the arm holes are huge! i am petite and tried this on and it just sadly didn't work.</td>\n",
       "    </tr>\n",
       "    <tr>\n",
       "      <th>40</th>\n",
       "      <td>Good cut, bad texture</td>\n",
       "      <td>The dress has a flattering cut and is a nice color. but, the fabric looks like old, matted carpet. i will be returning.</td>\n",
       "    </tr>\n",
       "  </tbody>\n",
       "</table>\n",
       "</div>"
      ],
      "text/plain": [
       "                                            title  \\\n",
       "3                                                   \n",
       "14                               Belia peplum top   \n",
       "26  Nice top but couldn't get over the bubble hem   \n",
       "38                                  Disappointed!   \n",
       "40                          Good cut, bad texture   \n",
       "\n",
       "                                                                                                                                                                                                                                            review_text  \n",
       "3                                                       Not sure about this yet. reordered larger size because it hits much higher than shown. belly peeked out from under it! ordered 6 and i'm normally a small/6. like the design but really short.,  \n",
       "14  I really wanted this top to work but i felt that it was big and boxy. it's shorter in the front and longer in the back. the seam and peplum hit at a strange place and made me look disheveled. it's definitely worth trying on, but didn't fit me.  \n",
       "26                                                                                                 I like the pattern and material on this top but the bubble hem isn't flattering on my figure. i would recommend this top if you are tiny and petite.  \n",
       "38                                                                                                I wanted to love this dress because the color is so amazing, but the arm holes are huge! i am petite and tried this on and it just sadly didn't work.  \n",
       "40                                                                                                                              The dress has a flattering cut and is a nice color. but, the fabric looks like old, matted carpet. i will be returning.  "
      ]
     },
     "execution_count": 89,
     "metadata": {},
     "output_type": "execute_result"
    }
   ],
   "source": [
    "df[df['review_sentiment']=='Neutral'].head(5)[['title', 'review_text']]"
   ]
  },
  {
   "cell_type": "code",
   "execution_count": 90,
   "metadata": {},
   "outputs": [
    {
     "data": {
      "text/html": [
       "<div>\n",
       "<style scoped>\n",
       "    .dataframe tbody tr th:only-of-type {\n",
       "        vertical-align: middle;\n",
       "    }\n",
       "\n",
       "    .dataframe tbody tr th {\n",
       "        vertical-align: top;\n",
       "    }\n",
       "\n",
       "    .dataframe thead th {\n",
       "        text-align: right;\n",
       "    }\n",
       "</style>\n",
       "<table border=\"1\" class=\"dataframe\">\n",
       "  <thead>\n",
       "    <tr style=\"text-align: right;\">\n",
       "      <th></th>\n",
       "      <th>title</th>\n",
       "      <th>review_text</th>\n",
       "    </tr>\n",
       "  </thead>\n",
       "  <tbody>\n",
       "    <tr>\n",
       "      <th>5</th>\n",
       "      <td>Short mumu</td>\n",
       "      <td>On me, thsi was ginormous, looked like a mu mu. it is pretty, but there was just too much fabric, even in the smallest size. the quality seems nice, and it looks pretty, but overwhelming. i will say, i think it would work on tail lean people, i have pretty muscular shoulders, so the off shoulder look with that much fabric made me look 30 pounds heavier, no joke. fabric is soft though. give it a try, just not for me...\\r\\n\\r\\nref: 115 lbs, 30dd, 26.5 in waist.</td>\n",
       "    </tr>\n",
       "    <tr>\n",
       "      <th>7</th>\n",
       "      <td>Really wanted to like it</td>\n",
       "      <td>The sides scooped up a bit too much on me. i was hoping to be able to tuck this into a skirt and wear to work, but there were definitely some gaps that showed the side of my midriff. back it goes. :(</td>\n",
       "    </tr>\n",
       "    <tr>\n",
       "      <th>21</th>\n",
       "      <td>Not like the pic</td>\n",
       "      <td>The yellow is not as bright as the pic and the tee shirt base color is more off white/oatmeal making the shirt look much more drab in person than in the pics. fit was ok but nothing special about this and will be returning.</td>\n",
       "    </tr>\n",
       "    <tr>\n",
       "      <th>33</th>\n",
       "      <td>Unflattering fit</td>\n",
       "      <td>Large and the material is too bulky. i returned it.</td>\n",
       "    </tr>\n",
       "    <tr>\n",
       "      <th>39</th>\n",
       "      <td>Really disappointed</td>\n",
       "      <td>Loved how this draped and im super petite 5'1\"(32b bust) and this was seriously one of the most ill fitting items i have every owned. i purchased the pxs and it was huge. i hope this has a better fit as the other reviewers seem to have a more positive review. i was just appalled as to how bad the measurements were off. unfortunately the straps are not adjustable so this went below my chest. too sad retailer, please get the fit right!!</td>\n",
       "    </tr>\n",
       "  </tbody>\n",
       "</table>\n",
       "</div>"
      ],
      "text/plain": [
       "                       title  \\\n",
       "5                 Short mumu   \n",
       "7   Really wanted to like it   \n",
       "21          Not like the pic   \n",
       "33          Unflattering fit   \n",
       "39       Really disappointed   \n",
       "\n",
       "                                                                                                                                                                                                                                                                                                                                                                                                                                                                        review_text  \n",
       "5   On me, thsi was ginormous, looked like a mu mu. it is pretty, but there was just too much fabric, even in the smallest size. the quality seems nice, and it looks pretty, but overwhelming. i will say, i think it would work on tail lean people, i have pretty muscular shoulders, so the off shoulder look with that much fabric made me look 30 pounds heavier, no joke. fabric is soft though. give it a try, just not for me...\\r\\n\\r\\nref: 115 lbs, 30dd, 26.5 in waist.  \n",
       "7                                                                                                                                                                                                                                                                           The sides scooped up a bit too much on me. i was hoping to be able to tuck this into a skirt and wear to work, but there were definitely some gaps that showed the side of my midriff. back it goes. :(  \n",
       "21                                                                                                                                                                                                                                                  The yellow is not as bright as the pic and the tee shirt base color is more off white/oatmeal making the shirt look much more drab in person than in the pics. fit was ok but nothing special about this and will be returning.  \n",
       "33                                                                                                                                                                                                                                                                                                                                                                                                                              Large and the material is too bulky. i returned it.  \n",
       "39                           Loved how this draped and im super petite 5'1\"(32b bust) and this was seriously one of the most ill fitting items i have every owned. i purchased the pxs and it was huge. i hope this has a better fit as the other reviewers seem to have a more positive review. i was just appalled as to how bad the measurements were off. unfortunately the straps are not adjustable so this went below my chest. too sad retailer, please get the fit right!!  "
      ]
     },
     "execution_count": 90,
     "metadata": {},
     "output_type": "execute_result"
    }
   ],
   "source": [
    "df[df['review_sentiment']=='Negative'].head(5)[['title', 'review_text']]"
   ]
  },
  {
   "cell_type": "code",
   "execution_count": 91,
   "metadata": {},
   "outputs": [
    {
     "data": {
      "text/plain": [
       "'I usually wear a s petite so that\\'s what i initially got in this. i\\'m 5\\'2\", 32c-27-36. the shoulders were about an inch too wide on either side, the sides along the top had tons of extra fabric (almost like batwings or a dolman cut) and the waist was at least 6\" too big! i\\'m re-ordering in petite xs and hoping for the best, because this is a gorgeous coat.'"
      ]
     },
     "execution_count": 91,
     "metadata": {},
     "output_type": "execute_result"
    }
   ],
   "source": [
    "example = df.review_text[4]\n",
    "example"
   ]
  },
  {
   "cell_type": "code",
   "execution_count": 92,
   "metadata": {},
   "outputs": [
    {
     "data": {
      "text/plain": [
       "'i usually wear a s petite so that\\'s what i initially got in this. i\\'m 5\\'2\", 32c-27-36. the shoulders were about an inch too wide on either side, the sides along the top had tons of extra fabric (almost like batwings or a dolman cut) and the waist was at least 6\" too big! i\\'m re-ordering in petite xs and hoping for the best, because this is a gorgeous coat.'"
      ]
     },
     "execution_count": 92,
     "metadata": {},
     "output_type": "execute_result"
    }
   ],
   "source": [
    "example = example.lower()\n",
    "example"
   ]
  },
  {
   "cell_type": "code",
   "execution_count": 93,
   "metadata": {},
   "outputs": [
    {
     "data": {
      "text/plain": [
       "'!\"#$%&\\'()*+,-./:;<=>?@[\\\\]^_`{|}~'"
      ]
     },
     "execution_count": 93,
     "metadata": {},
     "output_type": "execute_result"
    }
   ],
   "source": [
    "from string import punctuation\n",
    "punctuation"
   ]
  },
  {
   "cell_type": "markdown",
   "metadata": {},
   "source": [
    "don't -> ([don, t], [dont], [don, 't], [do, not])\n",
    "i've -> ([i, have], [ive], [i, ve])"
   ]
  },
  {
   "cell_type": "code",
   "execution_count": 94,
   "metadata": {},
   "outputs": [
    {
     "data": {
      "text/plain": [
       "'i usually wear a s petite so thats what i initially got in this im 52 32c2736 the shoulders were about an inch too wide on either side the sides along the top had tons of extra fabric almost like batwings or a dolman cut and the waist was at least 6 too big im reordering in petite xs and hoping for the best because this is a gorgeous coat'"
      ]
     },
     "execution_count": 94,
     "metadata": {},
     "output_type": "execute_result"
    }
   ],
   "source": [
    "for c in punctuation:\n",
    "    example = example.replace(c, \"\")\n",
    "example"
   ]
  },
  {
   "cell_type": "code",
   "execution_count": 95,
   "metadata": {},
   "outputs": [
    {
     "data": {
      "text/plain": [
       "'i usually wear a s petite so thats what i initially got in this im  c the shoulders were about an inch too wide on either side the sides along the top had tons of extra fabric almost like batwings or a dolman cut and the waist was at least  too big im reordering in petite xs and hoping for the best because this is a gorgeous coat'"
      ]
     },
     "execution_count": 95,
     "metadata": {},
     "output_type": "execute_result"
    }
   ],
   "source": [
    "import re\n",
    "re.sub(r\"\\d+\", \"\", example)"
   ]
  },
  {
   "cell_type": "code",
   "execution_count": 96,
   "metadata": {},
   "outputs": [
    {
     "data": {
      "text/plain": [
       "['i',\n",
       " 'usually',\n",
       " 'wear',\n",
       " 'a',\n",
       " 's',\n",
       " 'petite',\n",
       " 'so',\n",
       " 'thats',\n",
       " 'what',\n",
       " 'i',\n",
       " 'initially',\n",
       " 'got',\n",
       " 'in',\n",
       " 'this',\n",
       " 'im',\n",
       " 'c',\n",
       " 'the',\n",
       " 'shoulders',\n",
       " 'were',\n",
       " 'about',\n",
       " 'an',\n",
       " 'inch',\n",
       " 'too',\n",
       " 'wide',\n",
       " 'on',\n",
       " 'either',\n",
       " 'side',\n",
       " 'the',\n",
       " 'sides',\n",
       " 'along',\n",
       " 'the',\n",
       " 'top',\n",
       " 'had',\n",
       " 'tons',\n",
       " 'of',\n",
       " 'extra',\n",
       " 'fabric',\n",
       " 'almost',\n",
       " 'like',\n",
       " 'batwings',\n",
       " 'or',\n",
       " 'a',\n",
       " 'dolman',\n",
       " 'cut',\n",
       " 'and',\n",
       " 'the',\n",
       " 'waist',\n",
       " 'was',\n",
       " 'at',\n",
       " 'least',\n",
       " 'too',\n",
       " 'big',\n",
       " 'im',\n",
       " 'reordering',\n",
       " 'in',\n",
       " 'petite',\n",
       " 'xs',\n",
       " 'and',\n",
       " 'hoping',\n",
       " 'for',\n",
       " 'the',\n",
       " 'best',\n",
       " 'because',\n",
       " 'this',\n",
       " 'is',\n",
       " 'a',\n",
       " 'gorgeous',\n",
       " 'coat']"
      ]
     },
     "execution_count": 96,
     "metadata": {},
     "output_type": "execute_result"
    }
   ],
   "source": [
    "example = re.sub(r\"\\d+\", \"\", example)\n",
    "example.split()"
   ]
  },
  {
   "cell_type": "code",
   "execution_count": 97,
   "metadata": {},
   "outputs": [],
   "source": [
    "example = example.split()"
   ]
  },
  {
   "cell_type": "markdown",
   "metadata": {},
   "source": [
    "download stopwords from nltk"
   ]
  },
  {
   "cell_type": "code",
   "execution_count": 98,
   "metadata": {},
   "outputs": [],
   "source": [
    "stop_words = ['ourselves', 'hers', 'between', 'yourself', 'but', 'again', 'there', 'about', \n",
    "'once', 'during', 'out', 'very', 'having', 'with', 'they', 'own', 'an', 'be', 'some', 'for', \n",
    "'do', 'its', 'yours', 'such', 'into', 'of', 'most', 'itself', 'other', 'off', 'is', 's', \n",
    "'am', 'or', 'who', 'as', 'from', 'him', 'each', 'the', 'themselves', 'until', 'below', \n",
    "'are', 'we', 'these', 'your', 'his', 'through', 'don', 'nor', 'me', 'were', 'her', 'more', \n",
    "'himself', 'this', 'down', 'should', 'our', 'their', 'while', 'above', 'both', 'up', 'to', \n",
    "'ours', 'had', 'she', 'all', 'no', 'when', 'at', 'any', 'before', 'them', 'same', 'and', \n",
    "'been', 'have', 'in', 'will', 'on', 'does', 'yourselves', 'then', 'that', 'because', 'what', \n",
    "'over', 'why', 'so', 'can', 'did', 'not', 'now', 'under', 'he', 'you', 'herself', 'has', \n",
    "'just', 'where', 'too', 'only', 'myself', 'which', 'those', 'i', 'after', 'few', 'whom', 't', \n",
    "'being', 'if', 'theirs', 'my', 'against', 'a', 'by', 'doing', 'it', 'how', 'further', 'was', \n",
    "'here', 'than']"
   ]
  },
  {
   "cell_type": "code",
   "execution_count": 99,
   "metadata": {},
   "outputs": [
    {
     "data": {
      "text/plain": [
       "['usually',\n",
       " 'wear',\n",
       " 'petite',\n",
       " 'thats',\n",
       " 'initially',\n",
       " 'got',\n",
       " 'shoulders',\n",
       " 'inch',\n",
       " 'wide',\n",
       " 'either',\n",
       " 'side',\n",
       " 'sides',\n",
       " 'along',\n",
       " 'top',\n",
       " 'tons',\n",
       " 'extra',\n",
       " 'fabric',\n",
       " 'almost',\n",
       " 'like',\n",
       " 'batwings',\n",
       " 'dolman',\n",
       " 'cut',\n",
       " 'waist',\n",
       " 'least',\n",
       " 'big',\n",
       " 'reordering',\n",
       " 'petite',\n",
       " 'hoping',\n",
       " 'best',\n",
       " 'gorgeous',\n",
       " 'coat']"
      ]
     },
     "execution_count": 99,
     "metadata": {},
     "output_type": "execute_result"
    }
   ],
   "source": [
    "example = [token for token in example if len(token)>2 and token not in stop_words]\n",
    "example"
   ]
  },
  {
   "cell_type": "code",
   "execution_count": 100,
   "metadata": {},
   "outputs": [
    {
     "data": {
      "text/plain": [
       "[('petite', 2),\n",
       " ('usually', 1),\n",
       " ('wear', 1),\n",
       " ('thats', 1),\n",
       " ('initially', 1),\n",
       " ('got', 1),\n",
       " ('shoulders', 1),\n",
       " ('inch', 1),\n",
       " ('wide', 1),\n",
       " ('either', 1)]"
      ]
     },
     "execution_count": 100,
     "metadata": {},
     "output_type": "execute_result"
    }
   ],
   "source": [
    "from collections import Counter\n",
    "Counter(example).most_common(10)"
   ]
  },
  {
   "cell_type": "code",
   "execution_count": 101,
   "metadata": {},
   "outputs": [],
   "source": [
    "def tokenize(text):\n",
    "    clean_text = text.lower()\n",
    "    for c in punctuation:\n",
    "        clean_text = clean_text.replace(c,\"\")\n",
    "    clean_text = re.sub(r\"\\d+\", \"\", clean_text)\n",
    "    clean_text = clean_text.split()\n",
    "    clean_text = [token for token in clean_text if len(token)>2 and token not in stop_words]\n",
    "    return clean_text\n",
    "\n",
    "def find_most_common(data, n=10):\n",
    "    clean_list = []\n",
    "    for text in data:\n",
    "        tokenized_text = tokenize(text)\n",
    "        clean_list.extend(tokenized_text)\n",
    "    return Counter(clean_list).most_common(n)"
   ]
  },
  {
   "cell_type": "code",
   "execution_count": 102,
   "metadata": {},
   "outputs": [
    {
     "data": {
      "text/plain": [
       "[('dress', 1988),\n",
       " ('love', 1901),\n",
       " ('size', 1746),\n",
       " ('fit', 1378),\n",
       " ('wear', 1360),\n",
       " ('great', 1333),\n",
       " ('top', 1332),\n",
       " ('like', 1191),\n",
       " ('color', 872),\n",
       " ('would', 848)]"
      ]
     },
     "execution_count": 102,
     "metadata": {},
     "output_type": "execute_result"
    }
   ],
   "source": [
    "find_most_common(df[df['review_sentiment']=='Positive']['review_text'])"
   ]
  },
  {
   "cell_type": "code",
   "execution_count": 103,
   "metadata": {},
   "outputs": [
    {
     "data": {
      "text/plain": [
       "[('dress', 274),\n",
       " ('like', 264),\n",
       " ('fabric', 177),\n",
       " ('top', 169),\n",
       " ('size', 164),\n",
       " ('would', 163),\n",
       " ('fit', 157),\n",
       " ('back', 143),\n",
       " ('look', 141),\n",
       " ('ordered', 133)]"
      ]
     },
     "execution_count": 103,
     "metadata": {},
     "output_type": "execute_result"
    }
   ],
   "source": [
    "find_most_common(df[df['review_sentiment']=='Negative']['review_text'])"
   ]
  },
  {
   "cell_type": "code",
   "execution_count": 104,
   "metadata": {},
   "outputs": [
    {
     "data": {
      "text/plain": [
       "[('dress', 320),\n",
       " ('top', 276),\n",
       " ('like', 247),\n",
       " ('fit', 244),\n",
       " ('size', 237),\n",
       " ('would', 225),\n",
       " ('small', 183),\n",
       " ('love', 180),\n",
       " ('fabric', 180),\n",
       " ('look', 173)]"
      ]
     },
     "execution_count": 104,
     "metadata": {},
     "output_type": "execute_result"
    }
   ],
   "source": [
    "find_most_common(df[df['review_sentiment']=='Neutral']['review_text'])"
   ]
  },
  {
   "cell_type": "markdown",
   "metadata": {},
   "source": [
    "smote imblearn"
   ]
  },
  {
   "cell_type": "code",
   "execution_count": 105,
   "metadata": {},
   "outputs": [],
   "source": [
    "def process_text(data):\n",
    "    clean_list = []\n",
    "    for text in data:\n",
    "        tokenized_text = tokenize(text)\n",
    "        clean_list.append(tokenized_text)\n",
    "    return clean_list\n",
    "\n",
    "df_copy = df.copy()\n",
    "df_copy.review_text = process_text(df_copy.review_text)"
   ]
  },
  {
   "cell_type": "code",
   "execution_count": 106,
   "metadata": {},
   "outputs": [
    {
     "data": {
      "text/plain": [
       "0    [cannot, say, enough, pajama, pants, theyre, beautiful, crazy, comfortable, nice, change, black, grey, also, love, pockets, hate, jut, wanted, petite, short, regular, large, fine, wear, higher, hips, normally, wait, sales, sleepwear, couldnt, resist, theyre, well, worth, investment]\n",
       "1                                                                                                                                                          [honestly, never, even, tried, ordered, arrived, kelly, green, color, pictured, dark, bland, green, color, love, brand, soft, return]\n",
       "2                                                                                                                                                                                        [love, tshirt, soft, fits, true, size, great, jeans, shorts, purchased, yellow, plan, purchase, colors]\n",
       "3                                                                                                                                                          [sure, yet, reordered, larger, size, hits, much, higher, shown, belly, peeked, ordered, normally, small, like, design, really, short]\n",
       "4                                                          [usually, wear, petite, thats, initially, got, shoulders, inch, wide, either, side, sides, along, top, tons, extra, fabric, almost, like, batwings, dolman, cut, waist, least, big, reordering, petite, hoping, best, gorgeous, coat]\n",
       "Name: review_text, dtype: object"
      ]
     },
     "execution_count": 106,
     "metadata": {},
     "output_type": "execute_result"
    }
   ],
   "source": [
    "df_copy.review_text.head(5)"
   ]
  },
  {
   "cell_type": "code",
   "execution_count": 107,
   "metadata": {},
   "outputs": [
    {
     "data": {
      "text/plain": [
       "<AxesSubplot:title={'center':'age'}, xlabel='[review_sentiment]'>"
      ]
     },
     "execution_count": 107,
     "metadata": {},
     "output_type": "execute_result"
    },
    {
     "data": {
      "image/png": "[encoded data removed]",
      "text/plain": [
       "<Figure size 576x360 with 1 Axes>"
      ]
     },
     "metadata": {
      "needs_background": "light"
     },
     "output_type": "display_data"
    }
   ],
   "source": [
    "df[['age', 'review_sentiment']].boxplot(by=\"review_sentiment\", figsize=(8, 5))"
   ]
  },
  {
   "cell_type": "code",
   "execution_count": 108,
   "metadata": {},
   "outputs": [
    {
     "data": {
      "text/plain": [
       "<AxesSubplot:title={'center':'items_bought'}, xlabel='[review_sentiment]'>"
      ]
     },
     "execution_count": 108,
     "metadata": {},
     "output_type": "execute_result"
    },
    {
     "data": {
      "image/png": "[encoded data removed]",
      "text/plain": [
       "<Figure size 576x360 with 1 Axes>"
      ]
     },
     "metadata": {
      "needs_background": "light"
     },
     "output_type": "display_data"
    }
   ],
   "source": [
    "df[['items_bought', 'review_sentiment']].boxplot(by='review_sentiment', figsize=(8, 5))"
   ]
  },
  {
   "cell_type": "code",
   "execution_count": 109,
   "metadata": {},
   "outputs": [
    {
     "data": {
      "text/plain": [
       "array(['Negative', 'Neutral', 'Positive'], dtype=object)"
      ]
     },
     "execution_count": 109,
     "metadata": {},
     "output_type": "execute_result"
    }
   ],
   "source": [
    "from sklearn.preprocessing import LabelEncoder\n",
    "\n",
    "encoder = LabelEncoder()\n",
    "encoder.fit(df['review_sentiment'])\n",
    "encoder.classes_"
   ]
  },
  {
   "cell_type": "code",
   "execution_count": 110,
   "metadata": {},
   "outputs": [
    {
     "data": {
      "text/plain": [
       "array([2, 2, 2, ..., 2, 2, 0])"
      ]
     },
     "execution_count": 110,
     "metadata": {},
     "output_type": "execute_result"
    }
   ],
   "source": [
    "labels_encoded = encoder.transform(df['review_sentiment'])\n",
    "labels_encoded"
   ]
  },
  {
   "cell_type": "code",
   "execution_count": 111,
   "metadata": {},
   "outputs": [
    {
     "data": {
      "text/plain": [
       "array(['Positive', 'Positive', 'Positive', ..., 'Positive', 'Positive',\n",
       "       'Negative'], dtype=object)"
      ]
     },
     "execution_count": 111,
     "metadata": {},
     "output_type": "execute_result"
    }
   ],
   "source": [
    "encoder.inverse_transform(labels_encoded)"
   ]
  },
  {
   "cell_type": "code",
   "execution_count": 112,
   "metadata": {},
   "outputs": [],
   "source": [
    "df['sentiment_encoded'] = labels_encoded"
   ]
  },
  {
   "cell_type": "code",
   "execution_count": 113,
   "metadata": {},
   "outputs": [],
   "source": [
    "from sklearn.model_selection import train_test_split\n",
    "\n",
    "df_train, df_test = train_test_split(df, test_size=0.2, stratify=df.sentiment_encoded, random_state=42)"
   ]
  },
  {
   "cell_type": "code",
   "execution_count": 114,
   "metadata": {},
   "outputs": [
    {
     "data": {
      "text/plain": [
       "((4506, 7), (1127, 7))"
      ]
     },
     "execution_count": 114,
     "metadata": {},
     "output_type": "execute_result"
    }
   ],
   "source": [
    "df_train.shape, df_test.shape"
   ]
  },
  {
   "cell_type": "code",
   "execution_count": 115,
   "metadata": {},
   "outputs": [
    {
     "data": {
      "text/plain": [
       "2    0.771638\n",
       "1    0.124501\n",
       "0    0.103862\n",
       "Name: sentiment_encoded, dtype: float64"
      ]
     },
     "execution_count": 115,
     "metadata": {},
     "output_type": "execute_result"
    }
   ],
   "source": [
    "df_train.sentiment_encoded.value_counts(normalize=True)"
   ]
  },
  {
   "cell_type": "code",
   "execution_count": 116,
   "metadata": {},
   "outputs": [
    {
     "data": {
      "text/plain": [
       "2    0.771961\n",
       "1    0.124224\n",
       "0    0.103815\n",
       "Name: sentiment_encoded, dtype: float64"
      ]
     },
     "execution_count": 116,
     "metadata": {},
     "output_type": "execute_result"
    }
   ],
   "source": [
    "df_test.sentiment_encoded.value_counts(normalize=True)"
   ]
  },
  {
   "cell_type": "markdown",
   "metadata": {},
   "source": [
    "https://scikit-learn.org/stable/modules/feature_extraction.html#feature-hashing"
   ]
  },
  {
   "cell_type": "code",
   "execution_count": 117,
   "metadata": {},
   "outputs": [
    {
     "name": "stderr",
     "output_type": "stream",
     "text": [
      "/Users/LittlePrincess/Library/Python/3.9/lib/python/site-packages/sklearn/utils/deprecation.py:87: FutureWarning: Function get_feature_names is deprecated; get_feature_names is deprecated in 1.0 and will be removed in 1.2. Please use get_feature_names_out instead.\n",
      "  warnings.warn(msg, category=FutureWarning)\n"
     ]
    },
    {
     "data": {
      "text/plain": [
       "['00',\n",
       " '0p',\n",
       " '10',\n",
       " '100',\n",
       " '105',\n",
       " '115',\n",
       " '118',\n",
       " '12',\n",
       " '120',\n",
       " '125',\n",
       " '130',\n",
       " '135',\n",
       " '135lbs',\n",
       " '14',\n",
       " '140',\n",
       " '145',\n",
       " '150',\n",
       " '20',\n",
       " '24',\n",
       " '25',\n",
       " '26',\n",
       " '27',\n",
       " '28',\n",
       " '29',\n",
       " '30',\n",
       " '32',\n",
       " '32c',\n",
       " '32dd',\n",
       " '34',\n",
       " '34b',\n",
       " '34c',\n",
       " '34d',\n",
       " '35',\n",
       " '36',\n",
       " '36c',\n",
       " '36d',\n",
       " '36dd',\n",
       " '38',\n",
       " '39',\n",
       " '40',\n",
       " 'able',\n",
       " 'absolutely',\n",
       " 'actually',\n",
       " 'add',\n",
       " 'added',\n",
       " 'addition',\n",
       " 'adds',\n",
       " 'adjust',\n",
       " 'adjustable',\n",
       " 'adorable',\n",
       " 'adore',\n",
       " 'afraid',\n",
       " 'ag',\n",
       " 'ago',\n",
       " 'agree',\n",
       " 'airy',\n",
       " 'allows',\n",
       " 'altered',\n",
       " 'amazing',\n",
       " 'ankle',\n",
       " 'appear',\n",
       " 'appears',\n",
       " 'appreciate',\n",
       " 'appropriate',\n",
       " 'area',\n",
       " 'areas',\n",
       " 'aren',\n",
       " 'arm',\n",
       " 'armholes',\n",
       " 'arms',\n",
       " 'arrived',\n",
       " 'athletic',\n",
       " 'attached',\n",
       " 'attention',\n",
       " 'attractive',\n",
       " 'available',\n",
       " 'average',\n",
       " 'away',\n",
       " 'awesome',\n",
       " 'awkward',\n",
       " 'baby',\n",
       " 'bad',\n",
       " 'bag',\n",
       " 'baggy',\n",
       " 'band',\n",
       " 'barely',\n",
       " 'based',\n",
       " 'basic',\n",
       " 'bathing',\n",
       " 'beach',\n",
       " 'beading',\n",
       " 'beautiful',\n",
       " 'beautifully',\n",
       " 'beauty',\n",
       " 'beige',\n",
       " 'believe',\n",
       " 'bell',\n",
       " 'belly',\n",
       " 'belt',\n",
       " 'best',\n",
       " 'better',\n",
       " 'beware',\n",
       " 'big',\n",
       " 'bigger',\n",
       " 'birthday',\n",
       " 'bit',\n",
       " 'black',\n",
       " 'blazer',\n",
       " 'blend',\n",
       " 'blouse',\n",
       " 'blue',\n",
       " 'bodice',\n",
       " 'body',\n",
       " 'booties',\n",
       " 'boots',\n",
       " 'bother',\n",
       " 'bottoms',\n",
       " 'bought',\n",
       " 'bow',\n",
       " 'boxy',\n",
       " 'boyfriend',\n",
       " 'bra',\n",
       " 'brand',\n",
       " 'breezy',\n",
       " 'bright',\n",
       " 'broad',\n",
       " 'brown',\n",
       " 'build',\n",
       " 'bulk',\n",
       " 'bulky',\n",
       " 'bum',\n",
       " 'bust',\n",
       " 'busted',\n",
       " 'busty',\n",
       " 'butt',\n",
       " 'button',\n",
       " 'buttoned',\n",
       " 'buttons',\n",
       " 'buy',\n",
       " 'buying',\n",
       " 'came',\n",
       " 'cami',\n",
       " 'cardigan',\n",
       " 'care',\n",
       " 'carry',\n",
       " 'case',\n",
       " 'casual',\n",
       " 'caught',\n",
       " 'chance',\n",
       " 'change',\n",
       " 'cheap',\n",
       " 'check',\n",
       " 'chest',\n",
       " 'chested',\n",
       " 'chic',\n",
       " 'chinos',\n",
       " 'choice',\n",
       " 'chose',\n",
       " 'christmas',\n",
       " 'classic',\n",
       " 'classy',\n",
       " 'clean',\n",
       " 'cleavage',\n",
       " 'clingy',\n",
       " 'close',\n",
       " 'closed',\n",
       " 'closet',\n",
       " 'closure',\n",
       " 'cloth',\n",
       " 'clothes',\n",
       " 'clothing',\n",
       " 'coat',\n",
       " 'cold',\n",
       " 'colder',\n",
       " 'collar',\n",
       " 'color',\n",
       " 'colored',\n",
       " 'colors',\n",
       " 'combo',\n",
       " 'come',\n",
       " 'comes',\n",
       " 'comfort',\n",
       " 'comfortable',\n",
       " 'comfortably',\n",
       " 'comfy',\n",
       " 'coming',\n",
       " 'comments',\n",
       " 'complaint',\n",
       " 'completely',\n",
       " 'compliments',\n",
       " 'consider',\n",
       " 'considering',\n",
       " 'cool',\n",
       " 'cooler',\n",
       " 'coral',\n",
       " 'cotton',\n",
       " 'couldn',\n",
       " 'couple',\n",
       " 'cover',\n",
       " 'coverage',\n",
       " 'covered',\n",
       " 'covers',\n",
       " 'cozy',\n",
       " 'crazy',\n",
       " 'cream',\n",
       " 'create',\n",
       " 'crop',\n",
       " 'cropped',\n",
       " 'cuff',\n",
       " 'cup',\n",
       " 'currently',\n",
       " 'curves',\n",
       " 'curvy',\n",
       " 'cut',\n",
       " 'cute',\n",
       " 'cuter',\n",
       " 'dark',\n",
       " 'darker',\n",
       " 'date',\n",
       " 'daughter',\n",
       " 'day',\n",
       " 'days',\n",
       " 'dd',\n",
       " 'deal',\n",
       " 'decided',\n",
       " 'deep',\n",
       " 'definitely',\n",
       " 'delicate',\n",
       " 'denim',\n",
       " 'depending',\n",
       " 'description',\n",
       " 'design',\n",
       " 'designer',\n",
       " 'despite',\n",
       " 'detailing',\n",
       " 'details',\n",
       " 'did',\n",
       " 'didn',\n",
       " 'difference',\n",
       " 'different',\n",
       " 'difficult',\n",
       " 'dinner',\n",
       " 'disappointed',\n",
       " 'disappointing',\n",
       " 'does',\n",
       " 'doesn',\n",
       " 'don',\n",
       " 'dots',\n",
       " 'drape',\n",
       " 'drapes',\n",
       " 'dress',\n",
       " 'dressed',\n",
       " 'dresses',\n",
       " 'dressing',\n",
       " 'dressy',\n",
       " 'dry',\n",
       " 'early',\n",
       " 'easily',\n",
       " 'easy',\n",
       " 'effect',\n",
       " 'elastic',\n",
       " 'elegant',\n",
       " 'embroidered',\n",
       " 'embroidery',\n",
       " 'end',\n",
       " 'ended',\n",
       " 'entire',\n",
       " 'especially',\n",
       " 'evening',\n",
       " 'event',\n",
       " 'everyday',\n",
       " 'exactly',\n",
       " 'excellent',\n",
       " 'exception',\n",
       " 'exchange',\n",
       " 'excited',\n",
       " 'expect',\n",
       " 'expected',\n",
       " 'expecting',\n",
       " 'expensive',\n",
       " 'exposed',\n",
       " 'extra',\n",
       " 'extremely',\n",
       " 'eye',\n",
       " 'fabric',\n",
       " 'fabulous',\n",
       " 'fact',\n",
       " 'faded',\n",
       " 'fairly',\n",
       " 'fall',\n",
       " 'falling',\n",
       " 'falls',\n",
       " 'fan',\n",
       " 'fantastic',\n",
       " 'far',\n",
       " 'faux',\n",
       " 'favorite',\n",
       " 'feel',\n",
       " 'feeling',\n",
       " 'feels',\n",
       " 'feet',\n",
       " 'fell',\n",
       " 'felt',\n",
       " 'feminine',\n",
       " 'fence',\n",
       " 'figure',\n",
       " 'finally',\n",
       " 'finding',\n",
       " 'fine',\n",
       " 'fit',\n",
       " 'fits',\n",
       " 'fitted',\n",
       " 'fitting',\n",
       " 'fix',\n",
       " 'flare',\n",
       " 'flared',\n",
       " 'flares',\n",
       " 'flat',\n",
       " 'flats',\n",
       " 'flatter',\n",
       " 'flattering',\n",
       " 'flirty',\n",
       " 'floral',\n",
       " 'flow',\n",
       " 'flower',\n",
       " 'flowers',\n",
       " 'flowing',\n",
       " 'flows',\n",
       " 'flowy',\n",
       " 'forgiving',\n",
       " 'form',\n",
       " 'forward',\n",
       " 'frame',\n",
       " 'free',\n",
       " 'fringe',\n",
       " 'frumpy',\n",
       " 'fun',\n",
       " 'gap',\n",
       " 'garment',\n",
       " 'gave',\n",
       " 'generally',\n",
       " 'gets',\n",
       " 'getting',\n",
       " 'girl',\n",
       " 'girls',\n",
       " 'given',\n",
       " 'gives',\n",
       " 'giving',\n",
       " 'glad',\n",
       " 'glove',\n",
       " 'goes',\n",
       " 'going',\n",
       " 'gold',\n",
       " 'gone',\n",
       " 'good',\n",
       " 'gorgeous',\n",
       " 'got',\n",
       " 'gotten',\n",
       " 'gray',\n",
       " 'great',\n",
       " 'green',\n",
       " 'grey',\n",
       " 'guess',\n",
       " 'half',\n",
       " 'hand',\n",
       " 'hang',\n",
       " 'hanger',\n",
       " 'hanging',\n",
       " 'hangs',\n",
       " 'happy',\n",
       " 'hard',\n",
       " 'hate',\n",
       " 'haven',\n",
       " 'having',\n",
       " 'head',\n",
       " 'heat',\n",
       " 'heavier',\n",
       " 'heavy',\n",
       " 'heel',\n",
       " 'heels',\n",
       " 'height',\n",
       " 'help',\n",
       " 'helps',\n",
       " 'hem',\n",
       " 'hesitant',\n",
       " 'hide',\n",
       " 'hides',\n",
       " 'high',\n",
       " 'higher',\n",
       " 'highly',\n",
       " 'hip',\n",
       " 'hips',\n",
       " 'hit',\n",
       " 'hits',\n",
       " 'hold',\n",
       " 'hole',\n",
       " 'holes',\n",
       " 'holiday',\n",
       " 'home',\n",
       " 'honestly',\n",
       " 'hope',\n",
       " 'hoped',\n",
       " 'hopes',\n",
       " 'hoping',\n",
       " 'hot',\n",
       " 'hour',\n",
       " 'hourglass',\n",
       " 'house',\n",
       " 'huge',\n",
       " 'hung',\n",
       " 'husband',\n",
       " 'idea',\n",
       " 'im',\n",
       " 'imagine',\n",
       " 'immediately',\n",
       " 'inch',\n",
       " 'inches',\n",
       " 'incredibly',\n",
       " 'initially',\n",
       " 'inseam',\n",
       " 'inside',\n",
       " 'instead',\n",
       " 'interesting',\n",
       " 'ish',\n",
       " 'isn',\n",
       " 'issue',\n",
       " 'issues',\n",
       " 'itchy',\n",
       " 'item',\n",
       " 'items',\n",
       " 'ivory',\n",
       " 'jacket',\n",
       " 'jackets',\n",
       " 'jean',\n",
       " 'jeans',\n",
       " 'jersey',\n",
       " 'jumpsuit',\n",
       " 'just',\n",
       " 'justice',\n",
       " 'keeper',\n",
       " 'keeping',\n",
       " 'keeps',\n",
       " 'kept',\n",
       " 'kimono',\n",
       " 'kind',\n",
       " 'knee',\n",
       " 'knees',\n",
       " 'knew',\n",
       " 'knit',\n",
       " 'know',\n",
       " 'lace',\n",
       " 'ladies',\n",
       " 'large',\n",
       " 'larger',\n",
       " 'later',\n",
       " 'lavender',\n",
       " 'lay',\n",
       " 'layer',\n",
       " 'layered',\n",
       " 'layering',\n",
       " 'layers',\n",
       " 'lays',\n",
       " 'lb',\n",
       " 'lbs',\n",
       " 'leather',\n",
       " 'left',\n",
       " 'leg',\n",
       " 'leggings',\n",
       " 'legs',\n",
       " 'length',\n",
       " 'let',\n",
       " 'life',\n",
       " 'light',\n",
       " 'lighter',\n",
       " 'lightweight',\n",
       " 'like',\n",
       " 'liked',\n",
       " 'line',\n",
       " 'lined',\n",
       " 'linen',\n",
       " 'lines',\n",
       " 'lining',\n",
       " 'literally',\n",
       " 'little',\n",
       " 'live',\n",
       " 'll',\n",
       " 'local',\n",
       " 'long',\n",
       " 'longer',\n",
       " 'look',\n",
       " 'looked',\n",
       " 'looking',\n",
       " 'looks',\n",
       " 'loose',\n",
       " 'looser',\n",
       " 'lost',\n",
       " 'lot',\n",
       " 'lots',\n",
       " 'lounge',\n",
       " 'love',\n",
       " 'loved',\n",
       " 'lovely',\n",
       " 'low',\n",
       " 'lower',\n",
       " 'machine',\n",
       " 'maeve',\n",
       " 'mail',\n",
       " 'make',\n",
       " 'makes',\n",
       " 'making',\n",
       " 'match',\n",
       " 'material',\n",
       " 'maternity',\n",
       " 'maxi',\n",
       " 'maybe',\n",
       " 'mean',\n",
       " 'means',\n",
       " 'meant',\n",
       " 'med',\n",
       " 'medium',\n",
       " 'mentioned',\n",
       " 'mid',\n",
       " 'middle',\n",
       " 'mind',\n",
       " 'mix',\n",
       " 'model',\n",
       " 'mom',\n",
       " 'moment',\n",
       " 'money',\n",
       " 'months',\n",
       " 'moss',\n",
       " 'motif',\n",
       " 'movement',\n",
       " 'multiple',\n",
       " 'muted',\n",
       " 'narrow',\n",
       " 'natural',\n",
       " 'navy',\n",
       " 'near',\n",
       " 'nearly',\n",
       " 'neck',\n",
       " 'necklace',\n",
       " 'neckline',\n",
       " 'need',\n",
       " 'needed',\n",
       " 'needs',\n",
       " 'neutral',\n",
       " 'new',\n",
       " 'nice',\n",
       " 'nicely',\n",
       " 'night',\n",
       " 'normal',\n",
       " 'normally',\n",
       " 'note',\n",
       " 'noted',\n",
       " 'notice',\n",
       " 'noticed',\n",
       " 'nude',\n",
       " 'number',\n",
       " 'occasions',\n",
       " 'odd',\n",
       " 'oddly',\n",
       " 'office',\n",
       " 'oh',\n",
       " 'ok',\n",
       " 'okay',\n",
       " 'old',\n",
       " 'online',\n",
       " 'open',\n",
       " 'opening',\n",
       " 'opinion',\n",
       " 'option',\n",
       " 'orange',\n",
       " 'order',\n",
       " 'ordered',\n",
       " 'ordering',\n",
       " 'originally',\n",
       " 'outfit',\n",
       " 'outside',\n",
       " 'overall',\n",
       " 'overly',\n",
       " 'oversized',\n",
       " 'overwhelming',\n",
       " 'package',\n",
       " 'paid',\n",
       " 'pair',\n",
       " 'paired',\n",
       " 'pairs',\n",
       " 'pale',\n",
       " 'pant',\n",
       " 'pants',\n",
       " 'particular',\n",
       " 'particularly',\n",
       " 'party',\n",
       " 'pass',\n",
       " 'past',\n",
       " 'pattern',\n",
       " 'patterns',\n",
       " 'pear',\n",
       " 'pencil',\n",
       " 'people',\n",
       " 'peplum',\n",
       " 'perfect',\n",
       " 'perfectly',\n",
       " 'person',\n",
       " 'petite',\n",
       " 'petites',\n",
       " 'photo',\n",
       " 'photos',\n",
       " 'pic',\n",
       " 'picture',\n",
       " 'pictured',\n",
       " 'pictures',\n",
       " 'piece',\n",
       " 'pieces',\n",
       " 'pilcro',\n",
       " 'pink',\n",
       " 'place',\n",
       " 'places',\n",
       " 'plaid',\n",
       " 'plain',\n",
       " 'plan',\n",
       " 'planning',\n",
       " 'pleasantly',\n",
       " 'pleased',\n",
       " 'pleats',\n",
       " 'plenty',\n",
       " 'plus',\n",
       " 'pocket',\n",
       " 'pockets',\n",
       " 'point',\n",
       " 'polyester',\n",
       " 'poncho',\n",
       " 'poor',\n",
       " 'portion',\n",
       " 'possibly',\n",
       " 'post',\n",
       " 'pounds',\n",
       " 'prefer',\n",
       " 'pregnancy',\n",
       " 'pregnant',\n",
       " 'prettier',\n",
       " 'pretty',\n",
       " 'previous',\n",
       " 'price',\n",
       " 'pricey',\n",
       " 'print',\n",
       " 'prints',\n",
       " 'probably',\n",
       " 'problem',\n",
       " 'problems',\n",
       " 'product',\n",
       " 'pull',\n",
       " 'pulled',\n",
       " 'pullover',\n",
       " 'purchase',\n",
       " 'purchased',\n",
       " 'purchasing',\n",
       " 'purple',\n",
       " 'quality',\n",
       " 'quickly',\n",
       " 'quite',\n",
       " 'rack',\n",
       " 'ran',\n",
       " 'rayon',\n",
       " 'read',\n",
       " 'reading',\n",
       " 'real',\n",
       " 'realized',\n",
       " 'really',\n",
       " 'rear',\n",
       " 'reason',\n",
       " 'receive',\n",
       " 'received',\n",
       " 'recently',\n",
       " 'recommend',\n",
       " 'red',\n",
       " 'reference',\n",
       " 'regular',\n",
       " 'relaxed',\n",
       " 'require',\n",
       " 'rest',\n",
       " 'retailer',\n",
       " 'return',\n",
       " 'returned',\n",
       " 'returning',\n",
       " 'review',\n",
       " 'reviewer',\n",
       " 'reviewers',\n",
       " 'reviews',\n",
       " 'rich',\n",
       " 'ridiculous',\n",
       " 'right',\n",
       " 'rise',\n",
       " 'roll',\n",
       " 'rolled',\n",
       " 'romantic',\n",
       " 'romper',\n",
       " 'room',\n",
       " 'roomy',\n",
       " 'rose',\n",
       " 'round',\n",
       " 'ruffle',\n",
       " 'ruffles',\n",
       " 'run',\n",
       " 'running',\n",
       " 'runs',\n",
       " 'sack',\n",
       " 'sad',\n",
       " 'sadly',\n",
       " 'said',\n",
       " 'sale',\n",
       " 'sandals',\n",
       " 'saw',\n",
       " 'say',\n",
       " 'says',\n",
       " 'scarf',\n",
       " 'scratchy',\n",
       " 'seam',\n",
       " 'seams',\n",
       " 'season',\n",
       " 'seasons',\n",
       " 'second',\n",
       " 'section',\n",
       " 'seen',\n",
       " 'send',\n",
       " 'sending',\n",
       " 'sent',\n",
       " 'seriously',\n",
       " 'set',\n",
       " 'sewn',\n",
       " 'sexy',\n",
       " 'shade',\n",
       " 'shape',\n",
       " 'shaped',\n",
       " 'shapeless',\n",
       " 'sheer',\n",
       " 'shirt',\n",
       " 'shirts',\n",
       " 'shoes',\n",
       " 'short',\n",
       " 'shorter',\n",
       " 'shorts',\n",
       " 'shoulder',\n",
       " 'shoulders',\n",
       " 'showing',\n",
       " 'shown',\n",
       " 'shows',\n",
       " 'shrink',\n",
       " 'shrunk',\n",
       " 'sides',\n",
       " 'silhouette',\n",
       " 'silk',\n",
       " 'silky',\n",
       " 'similar',\n",
       " 'simple',\n",
       " 'simply',\n",
       " 'sit',\n",
       " 'size',\n",
       " 'sized',\n",
       " 'sizes',\n",
       " 'sizing',\n",
       " 'skin',\n",
       " 'skinny',\n",
       " 'skirt',\n",
       " 'skirts',\n",
       " 'sleep',\n",
       " 'sleeve',\n",
       " 'sleeveless',\n",
       " 'sleeves',\n",
       " 'slender',\n",
       " 'slight',\n",
       " 'slightly',\n",
       " 'slim',\n",
       " 'slimming',\n",
       " 'slip',\n",
       " 'slit',\n",
       " 'slits',\n",
       " 'sloppy',\n",
       " 'small',\n",
       " 'smaller',\n",
       " 'smooth',\n",
       " 'snag',\n",
       " 'snug',\n",
       " 'soft',\n",
       " 'sold',\n",
       " 'solid',\n",
       " 'somewhat',\n",
       " 'soon',\n",
       " 'sort',\n",
       " 'special',\n",
       " 'spot',\n",
       " 'spring',\n",
       " 'stand',\n",
       " 'staple',\n",
       " 'star',\n",
       " 'stars',\n",
       " 'started',\n",
       " 'stated',\n",
       " 'statement',\n",
       " 'stay',\n",
       " 'stick',\n",
       " 'stiff',\n",
       " 'stitching',\n",
       " 'stock',\n",
       " 'stomach',\n",
       " 'stone',\n",
       " 'store',\n",
       " 'straight',\n",
       " 'strange',\n",
       " 'straps',\n",
       " 'stretch',\n",
       " 'stretched',\n",
       " 'stretchy',\n",
       " 'stripe',\n",
       " 'stripes',\n",
       " 'structured',\n",
       " 'stunning',\n",
       " 'sturdy',\n",
       " 'style',\n",
       " 'styles',\n",
       " 'styling',\n",
       " 'stylish',\n",
       " 'substantial',\n",
       " 'subtle',\n",
       " 'suit',\n",
       " 'summer',\n",
       " 'super',\n",
       " 'supposed',\n",
       " 'sure',\n",
       " 'surprise',\n",
       " 'surprised',\n",
       " 'surprisingly',\n",
       " 'sweater',\n",
       " 'sweaters',\n",
       " 'sweatshirt',\n",
       " 'sweet',\n",
       " 'swing',\n",
       " 'swingy',\n",
       " 'tad',\n",
       " 'tag',\n",
       " 'tailored',\n",
       " 'taking',\n",
       " 'tall',\n",
       " 'taller',\n",
       " 'tank',\n",
       " 'taupe',\n",
       " 'tee',\n",
       " 'tees',\n",
       " 'tell',\n",
       " 'tend',\n",
       " 'tent',\n",
       " 'texture',\n",
       " 'thank',\n",
       " 'thanks',\n",
       " 'thicker',\n",
       " 'thigh',\n",
       " 'thighs',\n",
       " 'thing',\n",
       " 'things',\n",
       " 'think',\n",
       " 'thinking',\n",
       " 'thinner',\n",
       " 'thought',\n",
       " 'threads',\n",
       " 'throw',\n",
       " 'tie',\n",
       " 'ties',\n",
       " 'tight',\n",
       " 'tighter',\n",
       " 'tights',\n",
       " 'time',\n",
       " 'timeless',\n",
       " 'times',\n",
       " 'tiny',\n",
       " 'today',\n",
       " 'tone',\n",
       " 'tons',\n",
       " 'took',\n",
       " 'tops',\n",
       " 'torso',\n",
       " 'totally',\n",
       " 'touch',\n",
       " 'transition',\n",
       " 'transitional',\n",
       " 'travel',\n",
       " 'trend',\n",
       " 'tried',\n",
       " 'trim',\n",
       " 'trouble',\n",
       " 'trousers',\n",
       " 'true',\n",
       " 'truly',\n",
       " 'try',\n",
       " 'trying',\n",
       " 'tts',\n",
       " 'tuck',\n",
       " 'tucked',\n",
       " 'tummy',\n",
       " 'tunic',\n",
       " 'turned',\n",
       " 'turquoise',\n",
       " 'turtleneck',\n",
       " 'twice',\n",
       " 'type',\n",
       " 'types',\n",
       " 'typical',\n",
       " 'typically',\n",
       " 'uncomfortable',\n",
       " 'underneath',\n",
       " 'unflattering',\n",
       " 'unfortunately',\n",
       " 'unique',\n",
       " 'unless',\n",
       " 'unusual',\n",
       " 'upper',\n",
       " 'use',\n",
       " 'used',\n",
       " 'usual',\n",
       " 'usually',\n",
       " 've',\n",
       " 'velvet',\n",
       " 'versatile',\n",
       " 'version',\n",
       " 'vest',\n",
       " 'vibe',\n",
       " 'vibrant',\n",
       " 'vintage',\n",
       " 'voluminous',\n",
       " 'waist',\n",
       " 'waistband',\n",
       " 'waisted',\n",
       " 'waistline',\n",
       " 'wait',\n",
       " 'waited',\n",
       " 'waiting',\n",
       " 'want',\n",
       " 'wanted',\n",
       " 'wardrobe',\n",
       " 'warm',\n",
       " 'warmer',\n",
       " 'wash',\n",
       " 'washed',\n",
       " 'washes',\n",
       " 'washing',\n",
       " 'wasn',\n",
       " 'water',\n",
       " 'way',\n",
       " 'ways',\n",
       " 'wear',\n",
       " 'wearing',\n",
       " 'wears',\n",
       " 'weather',\n",
       " 'weave',\n",
       " 'website',\n",
       " 'wedding',\n",
       " 'wedges',\n",
       " 'week',\n",
       " 'weekend',\n",
       " 'weeks',\n",
       " 'weigh',\n",
       " 'weight',\n",
       " 'weird',\n",
       " 'went',\n",
       " 'whim',\n",
       " 'white',\n",
       " 'wide',\n",
       " 'wider',\n",
       " 'winter',\n",
       " 'wish',\n",
       " 'woman',\n",
       " 'women',\n",
       " 'won',\n",
       " 'wonderful',\n",
       " 'wonderfully',\n",
       " 'wool',\n",
       " 'wore',\n",
       " 'work',\n",
       " 'worked',\n",
       " 'works',\n",
       " 'worn',\n",
       " 'worried',\n",
       " 'worth',\n",
       " 'wouldn',\n",
       " 'wow',\n",
       " 'wrap',\n",
       " 'wrinkle',\n",
       " 'wrinkles',\n",
       " 'wrong',\n",
       " 'xl',\n",
       " 'xs',\n",
       " 'xxs',\n",
       " 'year',\n",
       " 'years',\n",
       " 'yellow',\n",
       " 'yes',\n",
       " 'yesterday',\n",
       " 'yoga',\n",
       " 'zip',\n",
       " 'zipper']"
      ]
     },
     "execution_count": 117,
     "metadata": {},
     "output_type": "execute_result"
    }
   ],
   "source": [
    "from sklearn.feature_extraction.text import CountVectorizer\n",
    "\n",
    "vizer(max_featuect = CountVectorres=1000, stop_words=\"english\")\n",
    "vect.fit(df_train['review_text'])\n",
    "vect.get_feature_names()#[50:60]"
   ]
  },
  {
   "cell_type": "code",
   "execution_count": 118,
   "metadata": {},
   "outputs": [
    {
     "data": {
      "text/plain": [
       "array([[0, 1, 0, ..., 0, 0, 0],\n",
       "       [0, 0, 0, ..., 0, 0, 0],\n",
       "       [0, 0, 0, ..., 0, 0, 0],\n",
       "       ...,\n",
       "       [0, 0, 0, ..., 0, 0, 0],\n",
       "       [0, 0, 0, ..., 0, 0, 0],\n",
       "       [0, 0, 0, ..., 0, 0, 0]])"
      ]
     },
     "execution_count": 118,
     "metadata": {},
     "output_type": "execute_result"
    }
   ],
   "source": [
    "train_text_features = vect.transform(df_train['review_text'])\n",
    "train_text_features.toarray()"
   ]
  },
  {
   "cell_type": "code",
   "execution_count": 119,
   "metadata": {},
   "outputs": [
    {
     "data": {
      "text/plain": [
       "(4506, 1000)"
      ]
     },
     "execution_count": 119,
     "metadata": {},
     "output_type": "execute_result"
    }
   ],
   "source": [
    "train_text_features.shape"
   ]
  },
  {
   "cell_type": "code",
   "execution_count": 120,
   "metadata": {},
   "outputs": [
    {
     "data": {
      "text/plain": [
       "array([[0, 0, 0, ..., 0, 0, 0],\n",
       "       [0, 0, 0, ..., 0, 0, 0],\n",
       "       [0, 0, 0, ..., 0, 0, 0],\n",
       "       ...,\n",
       "       [0, 0, 0, ..., 0, 0, 0],\n",
       "       [0, 0, 0, ..., 0, 0, 0],\n",
       "       [0, 0, 0, ..., 0, 0, 0]])"
      ]
     },
     "execution_count": 120,
     "metadata": {},
     "output_type": "execute_result"
    }
   ],
   "source": [
    "test_text_features = vect.transform(df_test['review_text'])\n",
    "test_text_features.toarray()"
   ]
  },
  {
   "cell_type": "code",
   "execution_count": 121,
   "metadata": {},
   "outputs": [
    {
     "data": {
      "text/plain": [
       "(1127, 1000)"
      ]
     },
     "execution_count": 121,
     "metadata": {},
     "output_type": "execute_result"
    }
   ],
   "source": [
    "test_text_features.shape"
   ]
  },
  {
   "cell_type": "code",
   "execution_count": null,
   "metadata": {},
   "outputs": [],
   "source": []
  }
 ],
 "metadata": {
  "interpreter": {
   "hash": "aee8b7b246df8f9039afb4144a1f6fd8d2ca17a180786b69acc140d282b71a49"
  },
  "kernelspec": {
   "display_name": "Python 3.9.5 64-bit",
   "name": "python3"
  },
  "language_info": {
   "codemirror_mode": {
    "name": "ipython",
    "version": 3
   },
   "file_extension": ".py",
   "mimetype": "text/x-python",
   "name": "python",
   "nbconvert_exporter": "python",
   "pygments_lexer": "ipython3",
   "version": "3.9.5"
  },
  "orig_nbformat": 4
 },
 "nbformat": 4,
 "nbformat_minor": 2
}
